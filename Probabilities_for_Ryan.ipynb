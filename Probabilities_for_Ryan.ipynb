{
 "cells": [
  {
   "cell_type": "markdown",
   "metadata": {},
   "source": [
    "# Utility and Probability\n",
    "## Import data and utility matrices"
   ]
  },
  {
   "cell_type": "code",
   "execution_count": 9,
   "metadata": {},
   "outputs": [],
   "source": [
    "import pandas as pd\n",
    "import numpy as np\n",
    "import matplotlib.pyplot as plt"
   ]
  },
  {
   "cell_type": "code",
   "execution_count": 10,
   "metadata": {},
   "outputs": [
    {
     "name": "stderr",
     "output_type": "stream",
     "text": [
      "/var/folders/34/kt2mvxyx0lx0f3th233kk1200000gn/T/ipykernel_17851/2514421386.py:1: DtypeWarning: Columns (2) have mixed types. Specify dtype option on import or set low_memory=False.\n",
      "  data_2022 = pd.read_csv(\"Game_data/2022_LoL_esports_match_data_from_OraclesElixir_20221016.csv\")\n"
     ]
    }
   ],
   "source": [
    "data_2022 = pd.read_csv(\"Game_data/2022_LoL_esports_match_data_from_OraclesElixir_20221016.csv\")"
   ]
  },
  {
   "cell_type": "code",
   "execution_count": 11,
   "metadata": {},
   "outputs": [],
   "source": [
    "def utility(path):\n",
    "    util = pd.read_csv(path).T\n",
    "    util.columns = util.iloc[0]\n",
    "    util = util.drop(util.index[0])\n",
    "    return util"
   ]
  },
  {
   "cell_type": "code",
   "execution_count": 12,
   "metadata": {},
   "outputs": [
    {
     "data": {
      "text/plain": [
       "'Utility_matrices/files'"
      ]
     },
     "execution_count": 12,
     "metadata": {},
     "output_type": "execute_result"
    }
   ],
   "source": [
    "str('Utility_matrices/'+'files')"
   ]
  },
  {
   "cell_type": "code",
   "execution_count": 13,
   "metadata": {},
   "outputs": [],
   "source": [
    "# U_R = pd.read_csv(\"Utility/U_R.csv\").T and first row is a header \n",
    "U_R = pd.read_csv(\"Utility/U_R.csv\").T\n",
    "U_R.columns = U_R.iloc[0]\n",
    "U_R = U_R.drop(U_R.index[0])\n",
    "\n",
    "U_B = pd.read_csv(\"Utility/U_B.csv\").T\n",
    "U_B.columns = U_B.iloc[0]\n",
    "U_B = U_B.drop(U_B.index[0])"
   ]
  },
  {
   "cell_type": "code",
   "execution_count": 19,
   "metadata": {},
   "outputs": [
    {
     "data": {
      "text/html": [
       "<div>\n",
       "<style scoped>\n",
       "    .dataframe tbody tr th:only-of-type {\n",
       "        vertical-align: middle;\n",
       "    }\n",
       "\n",
       "    .dataframe tbody tr th {\n",
       "        vertical-align: top;\n",
       "    }\n",
       "\n",
       "    .dataframe thead th {\n",
       "        text-align: right;\n",
       "    }\n",
       "</style>\n",
       "<table border=\"1\" class=\"dataframe\">\n",
       "  <thead>\n",
       "    <tr style=\"text-align: right;\">\n",
       "      <th>Champion</th>\n",
       "      <th>Aatrox</th>\n",
       "      <th>Ahri</th>\n",
       "      <th>Akali</th>\n",
       "      <th>Akshan</th>\n",
       "      <th>Alistar</th>\n",
       "      <th>Amumu</th>\n",
       "      <th>Aphelios</th>\n",
       "      <th>Ashe</th>\n",
       "      <th>Azir</th>\n",
       "      <th>Bard</th>\n",
       "      <th>...</th>\n",
       "      <th>Xin Zhao</th>\n",
       "      <th>Yasuo</th>\n",
       "      <th>Yone</th>\n",
       "      <th>Yuumi</th>\n",
       "      <th>Zac</th>\n",
       "      <th>Zeri</th>\n",
       "      <th>Ziggs</th>\n",
       "      <th>Zilean</th>\n",
       "      <th>Zoe</th>\n",
       "      <th>Zyra</th>\n",
       "    </tr>\n",
       "  </thead>\n",
       "  <tbody>\n",
       "    <tr>\n",
       "      <th>bot</th>\n",
       "      <td>0.0</td>\n",
       "      <td>0.0</td>\n",
       "      <td>0.0</td>\n",
       "      <td>0.0</td>\n",
       "      <td>0.0</td>\n",
       "      <td>0.0</td>\n",
       "      <td>2.645751</td>\n",
       "      <td>0.0</td>\n",
       "      <td>0.0</td>\n",
       "      <td>0.0</td>\n",
       "      <td>...</td>\n",
       "      <td>0.0</td>\n",
       "      <td>0.0</td>\n",
       "      <td>0.0</td>\n",
       "      <td>0.0</td>\n",
       "      <td>0.0</td>\n",
       "      <td>2.828427</td>\n",
       "      <td>0.0</td>\n",
       "      <td>0.0</td>\n",
       "      <td>0.0</td>\n",
       "      <td>0.0</td>\n",
       "    </tr>\n",
       "    <tr>\n",
       "      <th>jng</th>\n",
       "      <td>0.0</td>\n",
       "      <td>0.0</td>\n",
       "      <td>0.0</td>\n",
       "      <td>0.0</td>\n",
       "      <td>0.0</td>\n",
       "      <td>0.0</td>\n",
       "      <td>0.0</td>\n",
       "      <td>0.0</td>\n",
       "      <td>0.0</td>\n",
       "      <td>0.0</td>\n",
       "      <td>...</td>\n",
       "      <td>1.0</td>\n",
       "      <td>0.0</td>\n",
       "      <td>0.0</td>\n",
       "      <td>0.0</td>\n",
       "      <td>0.0</td>\n",
       "      <td>0.0</td>\n",
       "      <td>0.0</td>\n",
       "      <td>0.0</td>\n",
       "      <td>0.0</td>\n",
       "      <td>0.0</td>\n",
       "    </tr>\n",
       "    <tr>\n",
       "      <th>mid</th>\n",
       "      <td>0.0</td>\n",
       "      <td>1.732051</td>\n",
       "      <td>0.0</td>\n",
       "      <td>0.0</td>\n",
       "      <td>0.0</td>\n",
       "      <td>0.0</td>\n",
       "      <td>0.0</td>\n",
       "      <td>0.0</td>\n",
       "      <td>0.0</td>\n",
       "      <td>0.0</td>\n",
       "      <td>...</td>\n",
       "      <td>0.0</td>\n",
       "      <td>1.414214</td>\n",
       "      <td>0.0</td>\n",
       "      <td>0.0</td>\n",
       "      <td>0.0</td>\n",
       "      <td>0.0</td>\n",
       "      <td>0.0</td>\n",
       "      <td>0.0</td>\n",
       "      <td>1.0</td>\n",
       "      <td>0.0</td>\n",
       "    </tr>\n",
       "    <tr>\n",
       "      <th>sup</th>\n",
       "      <td>0.0</td>\n",
       "      <td>0.0</td>\n",
       "      <td>0.0</td>\n",
       "      <td>0.0</td>\n",
       "      <td>1.414214</td>\n",
       "      <td>0.0</td>\n",
       "      <td>0.0</td>\n",
       "      <td>0.0</td>\n",
       "      <td>0.0</td>\n",
       "      <td>0.0</td>\n",
       "      <td>...</td>\n",
       "      <td>0.0</td>\n",
       "      <td>0.0</td>\n",
       "      <td>0.0</td>\n",
       "      <td>2.44949</td>\n",
       "      <td>0.0</td>\n",
       "      <td>0.0</td>\n",
       "      <td>0.0</td>\n",
       "      <td>1.0</td>\n",
       "      <td>0.0</td>\n",
       "      <td>0.0</td>\n",
       "    </tr>\n",
       "    <tr>\n",
       "      <th>top</th>\n",
       "      <td>2.645751</td>\n",
       "      <td>0.0</td>\n",
       "      <td>1.0</td>\n",
       "      <td>0.0</td>\n",
       "      <td>0.0</td>\n",
       "      <td>0.0</td>\n",
       "      <td>0.0</td>\n",
       "      <td>0.0</td>\n",
       "      <td>0.0</td>\n",
       "      <td>0.0</td>\n",
       "      <td>...</td>\n",
       "      <td>0.0</td>\n",
       "      <td>0.0</td>\n",
       "      <td>0.0</td>\n",
       "      <td>0.0</td>\n",
       "      <td>0.0</td>\n",
       "      <td>0.0</td>\n",
       "      <td>0.0</td>\n",
       "      <td>0.0</td>\n",
       "      <td>0.0</td>\n",
       "      <td>0.0</td>\n",
       "    </tr>\n",
       "  </tbody>\n",
       "</table>\n",
       "<p>5 rows × 119 columns</p>\n",
       "</div>"
      ],
      "text/plain": [
       "Champion    Aatrox      Ahri Akali Akshan   Alistar Amumu  Aphelios Ashe Azir  \\\n",
       "bot            0.0       0.0   0.0    0.0       0.0   0.0  2.645751  0.0  0.0   \n",
       "jng            0.0       0.0   0.0    0.0       0.0   0.0       0.0  0.0  0.0   \n",
       "mid            0.0  1.732051   0.0    0.0       0.0   0.0       0.0  0.0  0.0   \n",
       "sup            0.0       0.0   0.0    0.0  1.414214   0.0       0.0  0.0  0.0   \n",
       "top       2.645751       0.0   1.0    0.0       0.0   0.0       0.0  0.0  0.0   \n",
       "\n",
       "Champion Bard  ... Xin Zhao     Yasuo Yone    Yuumi  Zac      Zeri Ziggs  \\\n",
       "bot       0.0  ...      0.0       0.0  0.0      0.0  0.0  2.828427   0.0   \n",
       "jng       0.0  ...      1.0       0.0  0.0      0.0  0.0       0.0   0.0   \n",
       "mid       0.0  ...      0.0  1.414214  0.0      0.0  0.0       0.0   0.0   \n",
       "sup       0.0  ...      0.0       0.0  0.0  2.44949  0.0       0.0   0.0   \n",
       "top       0.0  ...      0.0       0.0  0.0      0.0  0.0       0.0   0.0   \n",
       "\n",
       "Champion Zilean  Zoe Zyra  \n",
       "bot         0.0  0.0  0.0  \n",
       "jng         0.0  0.0  0.0  \n",
       "mid         0.0  1.0  0.0  \n",
       "sup         1.0  0.0  0.0  \n",
       "top         0.0  0.0  0.0  \n",
       "\n",
       "[5 rows x 119 columns]"
      ]
     },
     "execution_count": 19,
     "metadata": {},
     "output_type": "execute_result"
    }
   ],
   "source": [
    "U = pd.read_csv(\"Utility_matrices/MAD Lions.csv\").T\n",
    "# only kepp last 6 rows \n",
    "U = U.iloc[-6:]\n",
    "# transform row 0 to column names\n",
    "U.columns = U.iloc[0]\n",
    "# drop row 0\n",
    "U = U.drop(U.index[0])\n",
    "U"
   ]
  },
  {
   "cell_type": "markdown",
   "metadata": {},
   "source": [
    "# Probability Matrices/Vectors of Picks and Bans"
   ]
  },
  {
   "cell_type": "markdown",
   "metadata": {},
   "source": [
    "We want to choose a team against which our optimization model will play. Lets pick the team which has played the most game in the dataset so that the data is the most represenative."
   ]
  },
  {
   "cell_type": "code",
   "execution_count": 20,
   "metadata": {},
   "outputs": [
    {
     "data": {
      "text/plain": [
       "array(['LCK CL', 'LPL', 'NLC', 'SL', 'Proving Grounds Circuit', 'UL',\n",
       "       'PRM', 'LCK', 'LFL', 'LEC', 'LCS', 'LFL2', 'GLL', 'HM', 'ESLOL',\n",
       "       'EBL', 'LPLOL', 'PGN', 'LCSA', 'LVP DDH', 'TRA', 'TCL', 'CBLOL',\n",
       "       'LCO', 'LHE', 'GL', 'EL', 'CBLOLA', 'LMF', 'VL', 'LLA', 'HC',\n",
       "       'LDL', 'LJL', 'PCS', 'VCS', 'UPL', 'LCL', 'NEXO', 'EM', 'LAS',\n",
       "       'MSI', 'LJLA', 'CT', 'WCS'], dtype=object)"
      ]
     },
     "execution_count": 20,
     "metadata": {},
     "output_type": "execute_result"
    }
   ],
   "source": [
    "# all unique league in data_2022 \n",
    "leagues = data_2022['league'].unique()\n",
    "leagues"
   ]
  },
  {
   "cell_type": "code",
   "execution_count": 21,
   "metadata": {},
   "outputs": [
    {
     "data": {
      "text/plain": [
       "array(['MAD Lions', 'Team Vitality', 'Rogue', 'SK Gaming',\n",
       "       'Excel Esports', 'G2 Esports', 'Astralis', 'Misfits Gaming',\n",
       "       'Fnatic', 'Team BDS'], dtype=object)"
      ]
     },
     "execution_count": 21,
     "metadata": {},
     "output_type": "execute_result"
    }
   ],
   "source": [
    "# all unique teams for LEC league \n",
    "LEC_teams = data_2022[data_2022['league'] == 'LEC']['teamname'].unique()\n",
    "LEC_teams"
   ]
  },
  {
   "cell_type": "code",
   "execution_count": 22,
   "metadata": {},
   "outputs": [
    {
     "data": {
      "text/plain": [
       "10"
      ]
     },
     "execution_count": 22,
     "metadata": {},
     "output_type": "execute_result"
    }
   ],
   "source": [
    "len(LEC_teams)"
   ]
  },
  {
   "cell_type": "code",
   "execution_count": 23,
   "metadata": {},
   "outputs": [],
   "source": [
    "# HERE WE CAN EASILY LOOP THROUGH THE DIFFERENT TEAMS AND GET THE DATA FOR EACH TEAM\n",
    "df_rngu = data_2022[data_2022['teamname'] == 'Royal Never Give Up']"
   ]
  },
  {
   "cell_type": "code",
   "execution_count": 24,
   "metadata": {},
   "outputs": [],
   "source": [
    "def pre_processing(df, U):\n",
    "    # how many unique champion in RNGU by alphabetical order\n",
    "    champions = list(U.columns)\n",
    "\n",
    "    # probability of chosing champion i in df_rngu\n",
    "    p_pick = df.groupby('champion').count()['gameid']/len(df)\n",
    "\n",
    "    # p_pick to dataframe\n",
    "    p_pick = pd.DataFrame(p_pick).T\n",
    "\n",
    "    # create empty dataframe with column name as champions\n",
    "    pick_vec = pd.DataFrame(columns=champions)\n",
    "    # add a row of 0s called probability\n",
    "    pick_vec.loc['probability'] = 0\n",
    "\n",
    "    for i in range(len(champions)):\n",
    "        if champions[i] in list(p_pick.columns):\n",
    "            pick_vec[champions[i]][0] = p_pick[champions[i]][0]\n",
    "        else:\n",
    "            pass\n",
    "\n",
    "    # scale pick_vec so that the sum of each row is 1\n",
    "    pick_vec = pick_vec.div(pick_vec.sum(axis=1), axis=0)\n",
    "    # Now lets transform it into a matrix of probabilities.\n",
    "    pick_mat = U.T.copy()\n",
    "    for i in range(pick_mat.shape[0]):\n",
    "        for j in range(pick_mat.shape[1]):\n",
    "            if pick_mat.iloc[i,j] > 0:\n",
    "                pick_mat.iloc[i,j] = pick_vec.iloc[:,i][0]\n",
    "\n",
    "    # get champion names as independant strings\n",
    "    df.iloc[4, 18:23].values.astype(str)\n",
    "\n",
    "    # for all dataset, create a list with ban1, ban2, ban3, ban4, ban5\n",
    "    ban_list = []\n",
    "    for i in range(len(data_2022)):\n",
    "        bans = data_2022.iloc[i, 18:23].values\n",
    "        for j in range(len(bans)):\n",
    "            ban_list.append(bans[j])\n",
    "    \n",
    "    # create empty dataframe with column name as champions\n",
    "    ban_vec = pd.DataFrame(columns=champions)\n",
    "    # add a row of 0s called probability\n",
    "    ban_vec.loc['probability'] = 0\n",
    "\n",
    "    # for every column, calculate the probability of being banned from ban_list\n",
    "    for i in range(len(champions)):\n",
    "        if champions[i] in ban_list:\n",
    "            ban_vec[champions[i]][0] = ban_list.count(champions[i])/len(ban_list)\n",
    "        else:\n",
    "            pass\n",
    "\n",
    "    # scale ban_vec so that the sum of each row is 1\n",
    "    ban_vec = ban_vec.div(ban_vec.sum(axis=1), axis=0)\n",
    "\n",
    "    # Now lets transform it into a matrix of probabilities.\n",
    "    ban_mat = U.T.copy()\n",
    "\n",
    "    for i in range(ban_mat.shape[0]):\n",
    "        for j in range(ban_mat.shape[1]):\n",
    "            if ban_mat.iloc[i,j] > 0:\n",
    "                ban_mat.iloc[i,j] = ban_vec.iloc[:,i][0]\n",
    "\n",
    "    return pick_mat, ban_mat, ban_vec\n"
   ]
  },
  {
   "cell_type": "code",
   "execution_count": 25,
   "metadata": {},
   "outputs": [],
   "source": [
    "# dataset for teamname is MAD Lions\n",
    "df_MadLions = data_2022[data_2022['teamname'] == 'MAD Lions']\n",
    "df_Vitality = data_2022[data_2022['teamname'] == 'Team Vitality']\n",
    "df_Rogue = data_2022[data_2022['teamname'] == 'Rogue']\n",
    "df_SK = data_2022[data_2022['teamname'] == 'SK Gaming']\n",
    "df_Excel = data_2022[data_2022['teamname'] == 'Excel Esports']\n",
    "df_G2 = data_2022[data_2022['teamname'] == 'G2 Esports']\n",
    "df_Astralis = data_2022[data_2022['teamname'] == 'Astralis']\n",
    "df_Misfits = data_2022[data_2022['teamname'] == 'Misfits Gaming']\n",
    "df_Fnatic = data_2022[data_2022['teamname'] == 'Fnatic']\n",
    "df_BDS = data_2022[data_2022['teamname'] == 'Team BDS']\n",
    "\n",
    "dfs = [df_MadLions, df_Vitality, df_Rogue, df_SK, df_Excel, df_G2, df_Astralis, df_Misfits, df_Fnatic,df_BDS]"
   ]
  },
  {
   "cell_type": "code",
   "execution_count": 26,
   "metadata": {},
   "outputs": [
    {
     "name": "stderr",
     "output_type": "stream",
     "text": [
      "/var/folders/34/kt2mvxyx0lx0f3th233kk1200000gn/T/ipykernel_17851/2036660141.py:18: SettingWithCopyWarning: \n",
      "A value is trying to be set on a copy of a slice from a DataFrame\n",
      "\n",
      "See the caveats in the documentation: https://pandas.pydata.org/pandas-docs/stable/user_guide/indexing.html#returning-a-view-versus-a-copy\n",
      "  pick_vec[champions[i]][0] = p_pick[champions[i]][0]\n",
      "/var/folders/34/kt2mvxyx0lx0f3th233kk1200000gn/T/ipykernel_17851/2036660141.py:49: SettingWithCopyWarning: \n",
      "A value is trying to be set on a copy of a slice from a DataFrame\n",
      "\n",
      "See the caveats in the documentation: https://pandas.pydata.org/pandas-docs/stable/user_guide/indexing.html#returning-a-view-versus-a-copy\n",
      "  ban_vec[champions[i]][0] = ban_list.count(champions[i])/len(ban_list)\n",
      "/var/folders/34/kt2mvxyx0lx0f3th233kk1200000gn/T/ipykernel_17851/2036660141.py:18: SettingWithCopyWarning: \n",
      "A value is trying to be set on a copy of a slice from a DataFrame\n",
      "\n",
      "See the caveats in the documentation: https://pandas.pydata.org/pandas-docs/stable/user_guide/indexing.html#returning-a-view-versus-a-copy\n",
      "  pick_vec[champions[i]][0] = p_pick[champions[i]][0]\n",
      "/var/folders/34/kt2mvxyx0lx0f3th233kk1200000gn/T/ipykernel_17851/2036660141.py:49: SettingWithCopyWarning: \n",
      "A value is trying to be set on a copy of a slice from a DataFrame\n",
      "\n",
      "See the caveats in the documentation: https://pandas.pydata.org/pandas-docs/stable/user_guide/indexing.html#returning-a-view-versus-a-copy\n",
      "  ban_vec[champions[i]][0] = ban_list.count(champions[i])/len(ban_list)\n",
      "/var/folders/34/kt2mvxyx0lx0f3th233kk1200000gn/T/ipykernel_17851/2036660141.py:18: SettingWithCopyWarning: \n",
      "A value is trying to be set on a copy of a slice from a DataFrame\n",
      "\n",
      "See the caveats in the documentation: https://pandas.pydata.org/pandas-docs/stable/user_guide/indexing.html#returning-a-view-versus-a-copy\n",
      "  pick_vec[champions[i]][0] = p_pick[champions[i]][0]\n",
      "/var/folders/34/kt2mvxyx0lx0f3th233kk1200000gn/T/ipykernel_17851/2036660141.py:49: SettingWithCopyWarning: \n",
      "A value is trying to be set on a copy of a slice from a DataFrame\n",
      "\n",
      "See the caveats in the documentation: https://pandas.pydata.org/pandas-docs/stable/user_guide/indexing.html#returning-a-view-versus-a-copy\n",
      "  ban_vec[champions[i]][0] = ban_list.count(champions[i])/len(ban_list)\n",
      "/var/folders/34/kt2mvxyx0lx0f3th233kk1200000gn/T/ipykernel_17851/2036660141.py:18: SettingWithCopyWarning: \n",
      "A value is trying to be set on a copy of a slice from a DataFrame\n",
      "\n",
      "See the caveats in the documentation: https://pandas.pydata.org/pandas-docs/stable/user_guide/indexing.html#returning-a-view-versus-a-copy\n",
      "  pick_vec[champions[i]][0] = p_pick[champions[i]][0]\n",
      "/var/folders/34/kt2mvxyx0lx0f3th233kk1200000gn/T/ipykernel_17851/2036660141.py:49: SettingWithCopyWarning: \n",
      "A value is trying to be set on a copy of a slice from a DataFrame\n",
      "\n",
      "See the caveats in the documentation: https://pandas.pydata.org/pandas-docs/stable/user_guide/indexing.html#returning-a-view-versus-a-copy\n",
      "  ban_vec[champions[i]][0] = ban_list.count(champions[i])/len(ban_list)\n",
      "/var/folders/34/kt2mvxyx0lx0f3th233kk1200000gn/T/ipykernel_17851/2036660141.py:18: SettingWithCopyWarning: \n",
      "A value is trying to be set on a copy of a slice from a DataFrame\n",
      "\n",
      "See the caveats in the documentation: https://pandas.pydata.org/pandas-docs/stable/user_guide/indexing.html#returning-a-view-versus-a-copy\n",
      "  pick_vec[champions[i]][0] = p_pick[champions[i]][0]\n",
      "/var/folders/34/kt2mvxyx0lx0f3th233kk1200000gn/T/ipykernel_17851/2036660141.py:49: SettingWithCopyWarning: \n",
      "A value is trying to be set on a copy of a slice from a DataFrame\n",
      "\n",
      "See the caveats in the documentation: https://pandas.pydata.org/pandas-docs/stable/user_guide/indexing.html#returning-a-view-versus-a-copy\n",
      "  ban_vec[champions[i]][0] = ban_list.count(champions[i])/len(ban_list)\n",
      "/var/folders/34/kt2mvxyx0lx0f3th233kk1200000gn/T/ipykernel_17851/2036660141.py:18: SettingWithCopyWarning: \n",
      "A value is trying to be set on a copy of a slice from a DataFrame\n",
      "\n",
      "See the caveats in the documentation: https://pandas.pydata.org/pandas-docs/stable/user_guide/indexing.html#returning-a-view-versus-a-copy\n",
      "  pick_vec[champions[i]][0] = p_pick[champions[i]][0]\n",
      "/var/folders/34/kt2mvxyx0lx0f3th233kk1200000gn/T/ipykernel_17851/2036660141.py:49: SettingWithCopyWarning: \n",
      "A value is trying to be set on a copy of a slice from a DataFrame\n",
      "\n",
      "See the caveats in the documentation: https://pandas.pydata.org/pandas-docs/stable/user_guide/indexing.html#returning-a-view-versus-a-copy\n",
      "  ban_vec[champions[i]][0] = ban_list.count(champions[i])/len(ban_list)\n",
      "/var/folders/34/kt2mvxyx0lx0f3th233kk1200000gn/T/ipykernel_17851/2036660141.py:18: SettingWithCopyWarning: \n",
      "A value is trying to be set on a copy of a slice from a DataFrame\n",
      "\n",
      "See the caveats in the documentation: https://pandas.pydata.org/pandas-docs/stable/user_guide/indexing.html#returning-a-view-versus-a-copy\n",
      "  pick_vec[champions[i]][0] = p_pick[champions[i]][0]\n",
      "/var/folders/34/kt2mvxyx0lx0f3th233kk1200000gn/T/ipykernel_17851/2036660141.py:49: SettingWithCopyWarning: \n",
      "A value is trying to be set on a copy of a slice from a DataFrame\n",
      "\n",
      "See the caveats in the documentation: https://pandas.pydata.org/pandas-docs/stable/user_guide/indexing.html#returning-a-view-versus-a-copy\n",
      "  ban_vec[champions[i]][0] = ban_list.count(champions[i])/len(ban_list)\n",
      "/var/folders/34/kt2mvxyx0lx0f3th233kk1200000gn/T/ipykernel_17851/2036660141.py:18: SettingWithCopyWarning: \n",
      "A value is trying to be set on a copy of a slice from a DataFrame\n",
      "\n",
      "See the caveats in the documentation: https://pandas.pydata.org/pandas-docs/stable/user_guide/indexing.html#returning-a-view-versus-a-copy\n",
      "  pick_vec[champions[i]][0] = p_pick[champions[i]][0]\n",
      "/var/folders/34/kt2mvxyx0lx0f3th233kk1200000gn/T/ipykernel_17851/2036660141.py:49: SettingWithCopyWarning: \n",
      "A value is trying to be set on a copy of a slice from a DataFrame\n",
      "\n",
      "See the caveats in the documentation: https://pandas.pydata.org/pandas-docs/stable/user_guide/indexing.html#returning-a-view-versus-a-copy\n",
      "  ban_vec[champions[i]][0] = ban_list.count(champions[i])/len(ban_list)\n",
      "/var/folders/34/kt2mvxyx0lx0f3th233kk1200000gn/T/ipykernel_17851/2036660141.py:18: SettingWithCopyWarning: \n",
      "A value is trying to be set on a copy of a slice from a DataFrame\n",
      "\n",
      "See the caveats in the documentation: https://pandas.pydata.org/pandas-docs/stable/user_guide/indexing.html#returning-a-view-versus-a-copy\n",
      "  pick_vec[champions[i]][0] = p_pick[champions[i]][0]\n",
      "/var/folders/34/kt2mvxyx0lx0f3th233kk1200000gn/T/ipykernel_17851/2036660141.py:49: SettingWithCopyWarning: \n",
      "A value is trying to be set on a copy of a slice from a DataFrame\n",
      "\n",
      "See the caveats in the documentation: https://pandas.pydata.org/pandas-docs/stable/user_guide/indexing.html#returning-a-view-versus-a-copy\n",
      "  ban_vec[champions[i]][0] = ban_list.count(champions[i])/len(ban_list)\n",
      "/var/folders/34/kt2mvxyx0lx0f3th233kk1200000gn/T/ipykernel_17851/2036660141.py:18: SettingWithCopyWarning: \n",
      "A value is trying to be set on a copy of a slice from a DataFrame\n",
      "\n",
      "See the caveats in the documentation: https://pandas.pydata.org/pandas-docs/stable/user_guide/indexing.html#returning-a-view-versus-a-copy\n",
      "  pick_vec[champions[i]][0] = p_pick[champions[i]][0]\n",
      "/var/folders/34/kt2mvxyx0lx0f3th233kk1200000gn/T/ipykernel_17851/2036660141.py:49: SettingWithCopyWarning: \n",
      "A value is trying to be set on a copy of a slice from a DataFrame\n",
      "\n",
      "See the caveats in the documentation: https://pandas.pydata.org/pandas-docs/stable/user_guide/indexing.html#returning-a-view-versus-a-copy\n",
      "  ban_vec[champions[i]][0] = ban_list.count(champions[i])/len(ban_list)\n"
     ]
    }
   ],
   "source": [
    "import os \n",
    "for df in dfs:\n",
    "    pick_mat, ban_mat, ban_vec = pre_processing(df, U)\n",
    "    # export pick_mat, ban_vec and ban_mat to csv files\n",
    "    path = 'Probabilities/' + df['teamname'].iloc[0]\n",
    "    # if path does not exist, create it\n",
    "    if not os.path.exists(path):\n",
    "        os.makedirs(path)\n",
    "    pick_mat.to_csv(path + '/pick_mat.csv')\n",
    "    ban_mat.to_csv(path + '/ban_mat.csv')\n",
    "    ban_vec.to_csv(path + '/ban_vec.csv')"
   ]
  },
  {
   "cell_type": "code",
   "execution_count": null,
   "metadata": {},
   "outputs": [],
   "source": []
  }
 ],
 "metadata": {
  "kernelspec": {
   "display_name": "Python 3.9.7 64-bit",
   "language": "python",
   "name": "python3"
  },
  "language_info": {
   "codemirror_mode": {
    "name": "ipython",
    "version": 3
   },
   "file_extension": ".py",
   "mimetype": "text/x-python",
   "name": "python",
   "nbconvert_exporter": "python",
   "pygments_lexer": "ipython3",
   "version": "3.9.15"
  },
  "orig_nbformat": 4,
  "vscode": {
   "interpreter": {
    "hash": "397704579725e15f5c7cb49fe5f0341eb7531c82d19f2c29d197e8b64ab5776b"
   }
  }
 },
 "nbformat": 4,
 "nbformat_minor": 2
}
