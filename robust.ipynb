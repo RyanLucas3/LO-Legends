{
 "cells": [
  {
   "cell_type": "code",
   "execution_count": 1,
   "metadata": {},
   "outputs": [],
   "source": [
    "using Gurobi, JuMP, CSV, DataFrames, Random, Distributions"
   ]
  },
  {
   "cell_type": "code",
   "execution_count": 2,
   "metadata": {},
   "outputs": [],
   "source": [
    "utility_B = CSV.read(\"U_B.csv\", DataFrame, pool=true);\n",
    "utility_R = CSV.read(\"U_R.csv\", DataFrame, pool=true);"
   ]
  },
  {
   "cell_type": "code",
   "execution_count": 3,
   "metadata": {},
   "outputs": [
    {
     "data": {
      "text/html": [
       "<div><div style = \"float: left;\"><span>62×6 DataFrame</span></div><div style = \"float: right;\"><span style = \"font-style: italic;\">37 rows omitted</span></div><div style = \"clear: both;\"></div></div><div class = \"data-frame\" style = \"overflow-x: scroll;\"><table class = \"data-frame\" style = \"margin-bottom: 6px;\"><thead><tr class = \"header\"><th class = \"rowNumber\" style = \"font-weight: bold; text-align: right;\">Row</th><th style = \"text-align: left;\">champion</th><th style = \"text-align: left;\">bot</th><th style = \"text-align: left;\">jng</th><th style = \"text-align: left;\">mid</th><th style = \"text-align: left;\">sup</th><th style = \"text-align: left;\">top</th></tr><tr class = \"subheader headerLastRow\"><th class = \"rowNumber\" style = \"font-weight: bold; text-align: right;\"></th><th title = \"String15\" style = \"text-align: left;\">String15</th><th title = \"Float64\" style = \"text-align: left;\">Float64</th><th title = \"Float64\" style = \"text-align: left;\">Float64</th><th title = \"Float64\" style = \"text-align: left;\">Float64</th><th title = \"Float64\" style = \"text-align: left;\">Float64</th><th title = \"Float64\" style = \"text-align: left;\">Float64</th></tr></thead><tbody><tr><td class = \"rowNumber\" style = \"font-weight: bold; text-align: right;\">1</td><td style = \"text-align: left;\">Aatrox</td><td style = \"text-align: right;\">0.0</td><td style = \"text-align: right;\">0.0</td><td style = \"text-align: right;\">0.0</td><td style = \"text-align: right;\">0.0</td><td style = \"text-align: right;\">1.0</td></tr><tr><td class = \"rowNumber\" style = \"font-weight: bold; text-align: right;\">2</td><td style = \"text-align: left;\">Ahri</td><td style = \"text-align: right;\">0.0</td><td style = \"text-align: right;\">0.0</td><td style = \"text-align: right;\">3.16228</td><td style = \"text-align: right;\">0.0</td><td style = \"text-align: right;\">0.0</td></tr><tr><td class = \"rowNumber\" style = \"font-weight: bold; text-align: right;\">3</td><td style = \"text-align: left;\">Akali</td><td style = \"text-align: right;\">0.0</td><td style = \"text-align: right;\">0.0</td><td style = \"text-align: right;\">1.0</td><td style = \"text-align: right;\">0.0</td><td style = \"text-align: right;\">1.41421</td></tr><tr><td class = \"rowNumber\" style = \"font-weight: bold; text-align: right;\">4</td><td style = \"text-align: left;\">Alistar</td><td style = \"text-align: right;\">0.0</td><td style = \"text-align: right;\">0.0</td><td style = \"text-align: right;\">0.0</td><td style = \"text-align: right;\">1.0</td><td style = \"text-align: right;\">0.0</td></tr><tr><td class = \"rowNumber\" style = \"font-weight: bold; text-align: right;\">5</td><td style = \"text-align: left;\">Amumu</td><td style = \"text-align: right;\">0.0</td><td style = \"text-align: right;\">0.0</td><td style = \"text-align: right;\">0.0</td><td style = \"text-align: right;\">2.0</td><td style = \"text-align: right;\">0.0</td></tr><tr><td class = \"rowNumber\" style = \"font-weight: bold; text-align: right;\">6</td><td style = \"text-align: left;\">Aphelios</td><td style = \"text-align: right;\">3.0</td><td style = \"text-align: right;\">0.0</td><td style = \"text-align: right;\">0.0</td><td style = \"text-align: right;\">0.0</td><td style = \"text-align: right;\">0.0</td></tr><tr><td class = \"rowNumber\" style = \"font-weight: bold; text-align: right;\">7</td><td style = \"text-align: left;\">Azir</td><td style = \"text-align: right;\">0.0</td><td style = \"text-align: right;\">0.0</td><td style = \"text-align: right;\">1.41421</td><td style = \"text-align: right;\">0.0</td><td style = \"text-align: right;\">0.0</td></tr><tr><td class = \"rowNumber\" style = \"font-weight: bold; text-align: right;\">8</td><td style = \"text-align: left;\">Braum</td><td style = \"text-align: right;\">0.0</td><td style = \"text-align: right;\">0.0</td><td style = \"text-align: right;\">0.0</td><td style = \"text-align: right;\">1.0</td><td style = \"text-align: right;\">0.0</td></tr><tr><td class = \"rowNumber\" style = \"font-weight: bold; text-align: right;\">9</td><td style = \"text-align: left;\">Corki</td><td style = \"text-align: right;\">0.0</td><td style = \"text-align: right;\">0.0</td><td style = \"text-align: right;\">1.0</td><td style = \"text-align: right;\">0.0</td><td style = \"text-align: right;\">0.0</td></tr><tr><td class = \"rowNumber\" style = \"font-weight: bold; text-align: right;\">10</td><td style = \"text-align: left;\">Diana</td><td style = \"text-align: right;\">0.0</td><td style = \"text-align: right;\">1.73205</td><td style = \"text-align: right;\">0.0</td><td style = \"text-align: right;\">0.0</td><td style = \"text-align: right;\">0.0</td></tr><tr><td class = \"rowNumber\" style = \"font-weight: bold; text-align: right;\">11</td><td style = \"text-align: left;\">Draven</td><td style = \"text-align: right;\">1.41421</td><td style = \"text-align: right;\">0.0</td><td style = \"text-align: right;\">0.0</td><td style = \"text-align: right;\">0.0</td><td style = \"text-align: right;\">0.0</td></tr><tr><td class = \"rowNumber\" style = \"font-weight: bold; text-align: right;\">12</td><td style = \"text-align: left;\">Ezreal</td><td style = \"text-align: right;\">1.73205</td><td style = \"text-align: right;\">0.0</td><td style = \"text-align: right;\">0.0</td><td style = \"text-align: right;\">0.0</td><td style = \"text-align: right;\">0.0</td></tr><tr><td class = \"rowNumber\" style = \"font-weight: bold; text-align: right;\">13</td><td style = \"text-align: left;\">Gangplank</td><td style = \"text-align: right;\">0.0</td><td style = \"text-align: right;\">0.0</td><td style = \"text-align: right;\">0.0</td><td style = \"text-align: right;\">0.0</td><td style = \"text-align: right;\">2.64575</td></tr><tr><td style = \"text-align: right;\">&vellip;</td><td style = \"text-align: right;\">&vellip;</td><td style = \"text-align: right;\">&vellip;</td><td style = \"text-align: right;\">&vellip;</td><td style = \"text-align: right;\">&vellip;</td><td style = \"text-align: right;\">&vellip;</td><td style = \"text-align: right;\">&vellip;</td></tr><tr><td class = \"rowNumber\" style = \"font-weight: bold; text-align: right;\">51</td><td style = \"text-align: left;\">Twisted Fate</td><td style = \"text-align: right;\">0.0</td><td style = \"text-align: right;\">0.0</td><td style = \"text-align: right;\">1.41421</td><td style = \"text-align: right;\">0.0</td><td style = \"text-align: right;\">0.0</td></tr><tr><td class = \"rowNumber\" style = \"font-weight: bold; text-align: right;\">52</td><td style = \"text-align: left;\">Vex</td><td style = \"text-align: right;\">0.0</td><td style = \"text-align: right;\">0.0</td><td style = \"text-align: right;\">2.82843</td><td style = \"text-align: right;\">0.0</td><td style = \"text-align: right;\">0.0</td></tr><tr><td class = \"rowNumber\" style = \"font-weight: bold; text-align: right;\">53</td><td style = \"text-align: left;\">Vi</td><td style = \"text-align: right;\">0.0</td><td style = \"text-align: right;\">1.0</td><td style = \"text-align: right;\">0.0</td><td style = \"text-align: right;\">0.0</td><td style = \"text-align: right;\">0.0</td></tr><tr><td class = \"rowNumber\" style = \"font-weight: bold; text-align: right;\">54</td><td style = \"text-align: left;\">Viego</td><td style = \"text-align: right;\">0.0</td><td style = \"text-align: right;\">3.16228</td><td style = \"text-align: right;\">0.0</td><td style = \"text-align: right;\">0.0</td><td style = \"text-align: right;\">0.0</td></tr><tr><td class = \"rowNumber\" style = \"font-weight: bold; text-align: right;\">55</td><td style = \"text-align: left;\">Viktor</td><td style = \"text-align: right;\">0.0</td><td style = \"text-align: right;\">0.0</td><td style = \"text-align: right;\">2.44949</td><td style = \"text-align: right;\">0.0</td><td style = \"text-align: right;\">0.0</td></tr><tr><td class = \"rowNumber\" style = \"font-weight: bold; text-align: right;\">56</td><td style = \"text-align: left;\">Volibear</td><td style = \"text-align: right;\">0.0</td><td style = \"text-align: right;\">1.73205</td><td style = \"text-align: right;\">0.0</td><td style = \"text-align: right;\">0.0</td><td style = \"text-align: right;\">0.0</td></tr><tr><td class = \"rowNumber\" style = \"font-weight: bold; text-align: right;\">57</td><td style = \"text-align: left;\">Wukong</td><td style = \"text-align: right;\">0.0</td><td style = \"text-align: right;\">2.0</td><td style = \"text-align: right;\">0.0</td><td style = \"text-align: right;\">0.0</td><td style = \"text-align: right;\">0.0</td></tr><tr><td class = \"rowNumber\" style = \"font-weight: bold; text-align: right;\">58</td><td style = \"text-align: left;\">Xayah</td><td style = \"text-align: right;\">1.73205</td><td style = \"text-align: right;\">0.0</td><td style = \"text-align: right;\">0.0</td><td style = \"text-align: right;\">0.0</td><td style = \"text-align: right;\">0.0</td></tr><tr><td class = \"rowNumber\" style = \"font-weight: bold; text-align: right;\">59</td><td style = \"text-align: left;\">Xin Zhao</td><td style = \"text-align: right;\">0.0</td><td style = \"text-align: right;\">3.74166</td><td style = \"text-align: right;\">0.0</td><td style = \"text-align: right;\">0.0</td><td style = \"text-align: right;\">0.0</td></tr><tr><td class = \"rowNumber\" style = \"font-weight: bold; text-align: right;\">60</td><td style = \"text-align: left;\">Yuumi</td><td style = \"text-align: right;\">0.0</td><td style = \"text-align: right;\">0.0</td><td style = \"text-align: right;\">0.0</td><td style = \"text-align: right;\">1.41421</td><td style = \"text-align: right;\">0.0</td></tr><tr><td class = \"rowNumber\" style = \"font-weight: bold; text-align: right;\">61</td><td style = \"text-align: left;\">Zeri</td><td style = \"text-align: right;\">3.4641</td><td style = \"text-align: right;\">0.0</td><td style = \"text-align: right;\">0.0</td><td style = \"text-align: right;\">0.0</td><td style = \"text-align: right;\">0.0</td></tr><tr><td class = \"rowNumber\" style = \"font-weight: bold; text-align: right;\">62</td><td style = \"text-align: left;\">Zoe</td><td style = \"text-align: right;\">0.0</td><td style = \"text-align: right;\">0.0</td><td style = \"text-align: right;\">2.23607</td><td style = \"text-align: right;\">0.0</td><td style = \"text-align: right;\">0.0</td></tr></tbody></table></div>"
      ],
      "text/latex": [
       "\\begin{tabular}{r|cccccc}\n",
       "\t& champion & bot & jng & mid & sup & top\\\\\n",
       "\t\\hline\n",
       "\t& String15 & Float64 & Float64 & Float64 & Float64 & Float64\\\\\n",
       "\t\\hline\n",
       "\t1 & Aatrox & 0.0 & 0.0 & 0.0 & 0.0 & 1.0 \\\\\n",
       "\t2 & Ahri & 0.0 & 0.0 & 3.16228 & 0.0 & 0.0 \\\\\n",
       "\t3 & Akali & 0.0 & 0.0 & 1.0 & 0.0 & 1.41421 \\\\\n",
       "\t4 & Alistar & 0.0 & 0.0 & 0.0 & 1.0 & 0.0 \\\\\n",
       "\t5 & Amumu & 0.0 & 0.0 & 0.0 & 2.0 & 0.0 \\\\\n",
       "\t6 & Aphelios & 3.0 & 0.0 & 0.0 & 0.0 & 0.0 \\\\\n",
       "\t7 & Azir & 0.0 & 0.0 & 1.41421 & 0.0 & 0.0 \\\\\n",
       "\t8 & Braum & 0.0 & 0.0 & 0.0 & 1.0 & 0.0 \\\\\n",
       "\t9 & Corki & 0.0 & 0.0 & 1.0 & 0.0 & 0.0 \\\\\n",
       "\t10 & Diana & 0.0 & 1.73205 & 0.0 & 0.0 & 0.0 \\\\\n",
       "\t11 & Draven & 1.41421 & 0.0 & 0.0 & 0.0 & 0.0 \\\\\n",
       "\t12 & Ezreal & 1.73205 & 0.0 & 0.0 & 0.0 & 0.0 \\\\\n",
       "\t13 & Gangplank & 0.0 & 0.0 & 0.0 & 0.0 & 2.64575 \\\\\n",
       "\t14 & Gnar & 0.0 & 0.0 & 0.0 & 0.0 & 2.82843 \\\\\n",
       "\t15 & Gragas & 0.0 & 0.0 & 0.0 & 0.0 & 2.0 \\\\\n",
       "\t16 & Graves & 0.0 & 0.0 & 0.0 & 0.0 & 2.64575 \\\\\n",
       "\t17 & Gwen & 0.0 & 0.0 & 0.0 & 0.0 & 3.31662 \\\\\n",
       "\t18 & Hecarim & 0.0 & 2.0 & 0.0 & 0.0 & 0.0 \\\\\n",
       "\t19 & Jarvan IV & 0.0 & 1.73205 & 0.0 & 0.0 & 0.0 \\\\\n",
       "\t20 & Jax & 0.0 & 0.0 & 0.0 & 0.0 & 1.0 \\\\\n",
       "\t21 & Jayce & 0.0 & 0.0 & 0.0 & 0.0 & 1.73205 \\\\\n",
       "\t22 & Jhin & 1.73205 & 0.0 & 0.0 & 0.0 & 0.0 \\\\\n",
       "\t23 & Jinx & 3.74166 & 0.0 & 0.0 & 0.0 & 0.0 \\\\\n",
       "\t24 & Kai'Sa & 1.0 & 0.0 & 0.0 & 0.0 & 0.0 \\\\\n",
       "\t25 & Kalista & 2.0 & 0.0 & 0.0 & 0.0 & 0.0 \\\\\n",
       "\t26 & Karma & 0.0 & 0.0 & 0.0 & 1.73205 & 0.0 \\\\\n",
       "\t27 & LeBlanc & 0.0 & 0.0 & 1.0 & 0.0 & 0.0 \\\\\n",
       "\t28 & Lee Sin & 0.0 & 3.0 & 0.0 & 0.0 & 0.0 \\\\\n",
       "\t29 & Leona & 0.0 & 0.0 & 0.0 & 2.23607 & 0.0 \\\\\n",
       "\t30 & Lissandra & 0.0 & 0.0 & 1.73205 & 0.0 & 0.0 \\\\\n",
       "\t$\\dots$ & $\\dots$ & $\\dots$ & $\\dots$ & $\\dots$ & $\\dots$ & $\\dots$ \\\\\n",
       "\\end{tabular}\n"
      ],
      "text/plain": [
       "\u001b[1m62×6 DataFrame\u001b[0m\n",
       "\u001b[1m Row \u001b[0m│\u001b[1m champion     \u001b[0m\u001b[1m bot     \u001b[0m\u001b[1m jng     \u001b[0m\u001b[1m mid     \u001b[0m\u001b[1m sup     \u001b[0m\u001b[1m top     \u001b[0m\n",
       "     │\u001b[90m String15     \u001b[0m\u001b[90m Float64 \u001b[0m\u001b[90m Float64 \u001b[0m\u001b[90m Float64 \u001b[0m\u001b[90m Float64 \u001b[0m\u001b[90m Float64 \u001b[0m\n",
       "─────┼───────────────────────────────────────────────────────────\n",
       "   1 │ Aatrox        0.0      0.0      0.0      0.0      1.0\n",
       "   2 │ Ahri          0.0      0.0      3.16228  0.0      0.0\n",
       "   3 │ Akali         0.0      0.0      1.0      0.0      1.41421\n",
       "   4 │ Alistar       0.0      0.0      0.0      1.0      0.0\n",
       "   5 │ Amumu         0.0      0.0      0.0      2.0      0.0\n",
       "   6 │ Aphelios      3.0      0.0      0.0      0.0      0.0\n",
       "   7 │ Azir          0.0      0.0      1.41421  0.0      0.0\n",
       "   8 │ Braum         0.0      0.0      0.0      1.0      0.0\n",
       "   9 │ Corki         0.0      0.0      1.0      0.0      0.0\n",
       "  10 │ Diana         0.0      1.73205  0.0      0.0      0.0\n",
       "  11 │ Draven        1.41421  0.0      0.0      0.0      0.0\n",
       "  ⋮  │      ⋮           ⋮        ⋮        ⋮        ⋮        ⋮\n",
       "  53 │ Vi            0.0      1.0      0.0      0.0      0.0\n",
       "  54 │ Viego         0.0      3.16228  0.0      0.0      0.0\n",
       "  55 │ Viktor        0.0      0.0      2.44949  0.0      0.0\n",
       "  56 │ Volibear      0.0      1.73205  0.0      0.0      0.0\n",
       "  57 │ Wukong        0.0      2.0      0.0      0.0      0.0\n",
       "  58 │ Xayah         1.73205  0.0      0.0      0.0      0.0\n",
       "  59 │ Xin Zhao      0.0      3.74166  0.0      0.0      0.0\n",
       "  60 │ Yuumi         0.0      0.0      0.0      1.41421  0.0\n",
       "  61 │ Zeri          3.4641   0.0      0.0      0.0      0.0\n",
       "  62 │ Zoe           0.0      0.0      2.23607  0.0      0.0\n",
       "\u001b[36m                                                  41 rows omitted\u001b[0m"
      ]
     },
     "execution_count": 3,
     "metadata": {},
     "output_type": "execute_result"
    }
   ],
   "source": [
    "utility_B"
   ]
  },
  {
   "cell_type": "code",
   "execution_count": 3,
   "metadata": {},
   "outputs": [],
   "source": [
    "Ban_B = CSV.read(\"B_B.csv\", DataFrame, pool=true);\n",
    "Ban_R = CSV.read(\"B_R.csv\", DataFrame, pool=true);"
   ]
  },
  {
   "cell_type": "code",
   "execution_count": 4,
   "metadata": {},
   "outputs": [],
   "source": [
    "using Gurobi, JuMP, CSV, DataFrames, Random, Distributions\n",
    "\n",
    "function robust_draft(U_B, U_R, B_B, B_R, sigma_RS, sigma_RB, gamma)\n",
    "    n = size(U_B, 1)\n",
    "    P = 5\n",
    "\n",
    "    model = Model(Gurobi.Optimizer)\n",
    "    set_optimizer_attribute(model, \"OutputFlag\", 0)\n",
    "\n",
    "   eps =0.0001\n",
    "    @variable(model, BS[1:n, 1:P], Bin) # Blue Select\n",
    "    @variable(model, RS[1:n, 1:P]) # Red Select\n",
    "    @variable(model, BB[1:n], Bin) # Blue Ban \n",
    "    @variable(model, RB[1:n]) # Red Ban\n",
    "    @variable(model, U_diff>=0)\n",
    "    @variable(model, pS[1:n, 1:P]>=0)\n",
    "    #@variable(model, qS[1:n, 1:P]>=0)\n",
    "    @variable(model, pB[1:n]>=0)\n",
    "    #@variable(model, qB[1:n]>=0)\n",
    "    #constraints: \n",
    "    \n",
    "    # Relaxation of Red team variables for robust\n",
    "    @constraint(model, [1:n], RB.>= 0)\n",
    "    @constraint(model, [1:n], RB.<= 1)\n",
    "    @constraint(model, [1:n, 1:P], RS.<= 1)\n",
    "    @constraint(model, [1:n, 1:P], RS.>= 0)\n",
    "\n",
    "    # Banning exatctly 5 champions for both teams\n",
    "    @constraint(model, sum(BB) <= 5)\n",
    "    @constraint(model, sum(RB) <= 5)\n",
    "\n",
    "\n",
    "   # Selection constraint per position for both teams\n",
    "    @constraint(model, [p= 1:P], sum(RS[i,p] for i = 1:n) == 1 )\n",
    "    @constraint(model, [p= 1:P], sum(BS[i,p] for i = 1:n) == 1 )\n",
    "\n",
    "    # A champion can be selected or banned at most once per both teams: \n",
    "    @constraint(model, [i= 1:n], sum(BS[i,p] for p = 1:P) +sum(RS[i,p] for p = 1:P) + BB[i] + RB[i] <= 1)\n",
    "\n",
    "\n",
    "\n",
    "    @constraint(model, [p=1:P], sum(RS[i, p]*U_R[i,p] for i=1:n) >= eps ) \n",
    "    #@constraint(model, [i= 1:n], sum(B_R[i]*RB[i] for i=1:n)>= eps)\n",
    "    \n",
    "    @constraint(model, [p=1:P], sum(BS[i, p]*U_B[i,p] for i=1:n) >= eps  ) \n",
    "    @constraint(model, [i= 1:n], sum(B_B[i]*BB[i] for i=1:n)>= eps)\n",
    "    # Robust constraints: \n",
    "    @constraint(model, U_diff <= \n",
    "         sum(sum(BS[i, p]*U_B[i,p] for i=1:n) for p= 1:P) + sum(B_R[i]*BB[i] for i=1:n)\n",
    "       + (sum(sum(RS[i, p]*U_R[i,p] for i=1:n) for p= 1:P) + sum(B_B[i]*RB[i] for i=1:n)) \n",
    "       - (sqrt(n)*gamma*sum((pS).*sigma_RS) + sqrt(n)*gamma*sum((pB).*sigma_RB))\n",
    "       )\n",
    "\n",
    "    @constraint(model, sum(sum(BS[i, p]*U_B[i,p] for i=1:n) for p= 1:P) + sum(B_R[i]*BB[i] for i=1:n) >= (sum(sum(RS[i, p]*U_R[i,p] for i=1:n) for p= 1:P) + sum(B_B[i]*RB[i] for i=1:n)) \n",
    "    - (sqrt(n)*gamma*sum((pS).*sigma_RS) + sqrt(n)*gamma*sum((pB).*sigma_RB)))\n",
    "    \n",
    "    @constraint(model, [i = 1:n, p = 1:P], pS[i,p] == RS[i,p])\n",
    "    @constraint(model, [i = 1:n], pB[i] == RB[i])\n",
    "\n",
    "\n",
    "    @objective(model, Max, U_diff)\n",
    "    \n",
    "\n",
    "\n",
    "    optimize!(model)\n",
    "\n",
    "    return model, value.(BS), value.(BB), value.(RS), value.(RB), value.(sum(sum(BS[i, p]*U_B[i,p] for i=1:n) for p= 1:P) + sum(B_R[i]*BB[i] for i=1:n)), value.((sum(sum(RS[i, p]*U_R[i,p] for i=1:n) for p= 1:P) + sum(B_B[i]*RB[i] for i=1:n))), objective_value(model)\n",
    "    end;\n"
   ]
  },
  {
   "cell_type": "code",
   "execution_count": 5,
   "metadata": {},
   "outputs": [],
   "source": [
    "\n",
    "\n",
    "\n",
    "U_B = Matrix(utility_B[:,2:end]);\n",
    "U_R = Matrix(utility_R[:,2:end]);\n",
    "\n",
    "B_B = Matrix(Ban_B[:,2:end]);\n",
    "B_R = Matrix(Ban_R[:,2:end]);\n",
    "\n",
    "\n",
    "Random.seed!(42);\n",
    "d = Normal(0,0.5);\n",
    "sigma_s = abs.(rand(d, 62*5));\n",
    "sigma_RS = reshape(sigma_s, 62, 5);\n",
    "d = Normal(0,0.5);\n",
    "sigma_RB = abs.(rand(d, 62));\n",
    "\n",
    "for i =1:62\n",
    "    for p = 1:5\n",
    "        if U_R[i,p] ==0\n",
    "            sigma_RS[i,p] = 0\n",
    "        end;\n",
    "    end;\n",
    "end;\n",
    "\n",
    "for i =1:62\n",
    "        if B_R[i] ==0\n",
    "            sigma_RB[i] = 0\n",
    "    end;\n",
    "end;\n",
    "        \n",
    "\n"
   ]
  },
  {
   "cell_type": "code",
   "execution_count": 6,
   "metadata": {},
   "outputs": [
    {
     "name": "stdout",
     "output_type": "stream",
     "text": [
      "Set parameter Username\n",
      "Academic license - for non-commercial use only - expires 2023-08-15\n"
     ]
    },
    {
     "data": {
      "text/plain": [
       "(A JuMP Model\n",
       "Maximization problem with:\n",
       "Variables: 1117\n",
       "Objective function type: VariableRef\n",
       "`AffExpr`-in-`MathOptInterface.EqualTo{Float64}`: 382 constraints\n",
       "`AffExpr`-in-`MathOptInterface.GreaterThan{Float64}`: 100017 constraints\n",
       "`AffExpr`-in-`MathOptInterface.LessThan{Float64}`: 100009 constraints\n",
       "`VariableRef`-in-`MathOptInterface.GreaterThan{Float64}`: 373 constraints\n",
       "`VariableRef`-in-`MathOptInterface.ZeroOne`: 372 constraints\n",
       "Model mode: AUTOMATIC\n",
       "CachingOptimizer state: ATTACHED_OPTIMIZER\n",
       "Solver name: Gurobi\n",
       "Names registered in the model: BB, BS, RB, RS, U_diff, pB, pS, [0.0 0.0 … 0.0 -0.0; 0.0 0.0 … 0.0 0.0; … ; -0.0 0.0 … 0.0 0.0; 0.0 0.0 … 0.0 0.0], [-0.0, -0.0, -0.0, -0.0, -0.0, -0.0, -0.0, -0.0, -0.0, -0.0  …  -0.0, 1.0, -0.0, -0.0, 1.0, -0.0, -0.0, -0.0, -0.0, -0.0], [0.0 0.0 … 0.0 0.0; 0.0 0.0 … 0.0 0.0; … ; 0.0 0.0 … 0.0 0.0; 0.0 0.0 … 0.0 0.0], [1.0, 0.0, 0.0, 0.0, 0.0, 0.0, 0.0, 0.0, 0.0, 0.0  …  0.0, 0.0, 0.0, 0.0, 0.0, 0.0, 0.0, 0.0, 0.0, 0.0], 37.760354233608425, 25.649959385787938, 52.45431965946961)"
      ]
     },
     "execution_count": 6,
     "metadata": {},
     "output_type": "execute_result"
    }
   ],
   "source": [
    "m, bs, bb, rs, rb, obj3 = robust_draft(U_B, U_R, B_B, B_R, sigma_RS, sigma_RB, 3)"
   ]
  },
  {
   "cell_type": "code",
   "execution_count": 7,
   "metadata": {},
   "outputs": [
    {
     "name": "stdout",
     "output_type": "stream",
     "text": [
      "Set parameter Username\n",
      "Academic license - for non-commercial use only - expires 2023-08-15\n"
     ]
    },
    {
     "data": {
      "text/plain": [
       "(A JuMP Model\n",
       "Maximization problem with:\n",
       "Variables: 1117\n",
       "Objective function type: VariableRef\n",
       "`AffExpr`-in-`MathOptInterface.EqualTo{Float64}`: 382 constraints\n",
       "`AffExpr`-in-`MathOptInterface.GreaterThan{Float64}`: 100017 constraints\n",
       "`AffExpr`-in-`MathOptInterface.LessThan{Float64}`: 100009 constraints\n",
       "`VariableRef`-in-`MathOptInterface.GreaterThan{Float64}`: 373 constraints\n",
       "`VariableRef`-in-`MathOptInterface.ZeroOne`: 372 constraints\n",
       "Model mode: AUTOMATIC\n",
       "CachingOptimizer state: ATTACHED_OPTIMIZER\n",
       "Solver name: Gurobi\n",
       "Names registered in the model: BB, BS, RB, RS, U_diff, pB, pS, [0.0 0.0 … 0.0 -0.0; 0.0 0.0 … 0.0 0.0; … ; 1.0 0.0 … 0.0 0.0; 0.0 0.0 … 0.0 0.0], [-0.0, -0.0, -0.0, -0.0, -0.0, -0.0, -0.0, -0.0, -0.0, -0.0  …  -0.0, 1.0, -0.0, -0.0, 1.0, -0.0, -0.0, -0.0, -0.0, -0.0], [0.0 0.0 … 0.0 0.0; 0.0 0.0 … 0.0 0.0; … ; 0.0 0.0 … 0.0 0.0; 0.0 0.0 … 0.0 0.0], [0.0, 0.0, 0.0, 0.0, 0.0, 0.0, 0.0, 0.0, 0.0, 0.0  …  0.0, 0.0, 0.0, 0.0, 0.0, 0.0, 0.0, 0.0, 0.0, 0.0], 37.527354683433465, 29.892500072907225, 56.69772125254406)"
      ]
     },
     "execution_count": 7,
     "metadata": {},
     "output_type": "execute_result"
    }
   ],
   "source": [
    "m, bs, bb, rs, rb, obj2 = robust_draft(U_B, U_R, B_B, B_R, sigma_RS, sigma_RB, 2)"
   ]
  },
  {
   "cell_type": "code",
   "execution_count": 8,
   "metadata": {},
   "outputs": [
    {
     "name": "stdout",
     "output_type": "stream",
     "text": [
      "Set parameter Username\n",
      "Academic license - for non-commercial use only - expires 2023-08-15\n"
     ]
    },
    {
     "data": {
      "text/plain": [
       "(A JuMP Model\n",
       "Maximization problem with:\n",
       "Variables: 1117\n",
       "Objective function type: VariableRef\n",
       "`AffExpr`-in-`MathOptInterface.EqualTo{Float64}`: 382 constraints\n",
       "`AffExpr`-in-`MathOptInterface.GreaterThan{Float64}`: 100017 constraints\n",
       "`AffExpr`-in-`MathOptInterface.LessThan{Float64}`: 100009 constraints\n",
       "`VariableRef`-in-`MathOptInterface.GreaterThan{Float64}`: 373 constraints\n",
       "`VariableRef`-in-`MathOptInterface.ZeroOne`: 372 constraints\n",
       "Model mode: AUTOMATIC\n",
       "CachingOptimizer state: ATTACHED_OPTIMIZER\n",
       "Solver name: Gurobi\n",
       "Names registered in the model: BB, BS, RB, RS, U_diff, pB, pS, [0.0 0.0 … 0.0 -0.0; 0.0 0.0 … 0.0 0.0; … ; 0.0 0.0 … 0.0 0.0; 0.0 0.0 … 0.0 0.0], [-0.0, 0.0, -0.0, -0.0, -0.0, -0.0, -0.0, -0.0, -0.0, -0.0  …  -0.0, 0.0, 1.0, -0.0, 1.0, -0.0, -0.0, -0.0, -0.0, -0.0], [0.0 0.0 … 0.0 0.0; 0.0 0.0 … 0.0 0.0; … ; 0.0 0.0 … 0.0 0.0; 0.0 0.0 … 0.0 0.0], [0.0, 0.0, 0.0, 0.0, 0.0, 0.0, 0.0, 0.0, 0.0, 0.0  …  0.0, 0.0, 0.0, 0.0, 0.0, 0.0, 0.0, 0.0, 1.0, 0.0], 36.277554644181905, 34.79291301305884, 63.032408724964576)"
      ]
     },
     "execution_count": 8,
     "metadata": {},
     "output_type": "execute_result"
    }
   ],
   "source": [
    "m, bs, bb, rs, rb, obj1 = robust_draft(U_B, U_R, B_B, B_R, sigma_RS, sigma_RB, 1)"
   ]
  },
  {
   "cell_type": "code",
   "execution_count": 9,
   "metadata": {},
   "outputs": [
    {
     "name": "stdout",
     "output_type": "stream",
     "text": [
      "Set parameter Username\n",
      "Academic license - for non-commercial use only - expires 2023-08-15\n"
     ]
    },
    {
     "data": {
      "text/plain": [
       "(A JuMP Model\n",
       "Maximization problem with:\n",
       "Variables: 1117\n",
       "Objective function type: VariableRef\n",
       "`AffExpr`-in-`MathOptInterface.EqualTo{Float64}`: 382 constraints\n",
       "`AffExpr`-in-`MathOptInterface.GreaterThan{Float64}`: 100017 constraints\n",
       "`AffExpr`-in-`MathOptInterface.LessThan{Float64}`: 100009 constraints\n",
       "`VariableRef`-in-`MathOptInterface.GreaterThan{Float64}`: 373 constraints\n",
       "`VariableRef`-in-`MathOptInterface.ZeroOne`: 372 constraints\n",
       "Model mode: AUTOMATIC\n",
       "CachingOptimizer state: ATTACHED_OPTIMIZER\n",
       "Solver name: Gurobi\n",
       "Names registered in the model: BB, BS, RB, RS, U_diff, pB, pS, [0.0 0.0 … 0.0 -0.0; 0.0 0.0 … 0.0 0.0; … ; 1.0 0.0 … 0.0 0.0; 0.0 0.0 … 0.0 0.0], [-0.0, 1.0, -0.0, -0.0, -0.0, -0.0, 1.0, -0.0, -0.0, -0.0  …  -0.0, 1.0, -0.0, -0.0, 0.0, -0.0, -0.0, -0.0, -0.0, -0.0], [0.0 0.0 … 0.0 0.0; 0.0 0.0 … 0.0 0.0; … ; 0.0 0.0 … 0.0 0.0; 0.0 0.0 … 0.0 0.0], [0.0, 0.0, 0.0, 0.0, 0.0, 0.0, 0.0, 0.0, 0.0, 0.0  …  0.0, 0.0, 0.0, 0.0, 0.0, 0.0, 0.0, 0.0, 0.0, 0.0], 37.45003313844286, 36.67826792792626, 74.1283010663691)"
      ]
     },
     "execution_count": 9,
     "metadata": {},
     "output_type": "execute_result"
    }
   ],
   "source": [
    "m, bs, bb, rs, rb, obj0 = robust_draft(U_B, U_R, B_B, B_R, sigma_RS, sigma_RB, 0)"
   ]
  },
  {
   "cell_type": "code",
   "execution_count": 13,
   "metadata": {},
   "outputs": [],
   "source": [
    "function get_selection(data)\n",
    "    selection = []\n",
    "    for j= 1:size(data,2)\n",
    "        append!(selection, findall(x->x==1, (data[:,j])))\n",
    "    end;\n",
    "    return selection;\n",
    "end;\n"
   ]
  },
  {
   "cell_type": "code",
   "execution_count": 14,
   "metadata": {},
   "outputs": [
    {
     "data": {
      "text/plain": [
       "5-element Vector{Any}:\n",
       " 61\n",
       " 49\n",
       " 52\n",
       " 34\n",
       " 17"
      ]
     },
     "execution_count": 14,
     "metadata": {},
     "output_type": "execute_result"
    }
   ],
   "source": [
    "blue_s = get_selection(bs)"
   ]
  },
  {
   "cell_type": "code",
   "execution_count": 15,
   "metadata": {},
   "outputs": [
    {
     "data": {
      "text/plain": [
       "5-element Vector{Any}:\n",
       "  6\n",
       " 54\n",
       "  2\n",
       " 29\n",
       " 36"
      ]
     },
     "execution_count": 15,
     "metadata": {},
     "output_type": "execute_result"
    }
   ],
   "source": [
    "red_s = get_selection(rs)"
   ]
  },
  {
   "cell_type": "code",
   "execution_count": 16,
   "metadata": {},
   "outputs": [
    {
     "data": {
      "text/plain": [
       "5-element Vector{Int64}:\n",
       "  7\n",
       " 16\n",
       " 43\n",
       " 55\n",
       " 57"
      ]
     },
     "execution_count": 16,
     "metadata": {},
     "output_type": "execute_result"
    }
   ],
   "source": [
    "blue_b = findall(x -> x == 1, bb)"
   ]
  },
  {
   "cell_type": "code",
   "execution_count": 17,
   "metadata": {},
   "outputs": [
    {
     "data": {
      "text/plain": [
       "5-element Vector{Int64}:\n",
       " 14\n",
       " 23\n",
       " 28\n",
       " 46\n",
       " 59"
      ]
     },
     "execution_count": 17,
     "metadata": {},
     "output_type": "execute_result"
    }
   ],
   "source": [
    "red_b = findall(x -> x == 1, rb)"
   ]
  },
  {
   "cell_type": "code",
   "execution_count": 18,
   "metadata": {},
   "outputs": [],
   "source": [
    "BS = utility_B[blue_s, :][:,1];\n",
    "RS = utility_R[red_s, :][:,1];\n",
    "BB = utility_B[blue_b, :][:,1];\n",
    "RB = utility_R[red_b, :][:,1];"
   ]
  },
  {
   "cell_type": "code",
   "execution_count": 19,
   "metadata": {},
   "outputs": [
    {
     "data": {
      "text/html": [
       "<div><div style = \"float: left;\"><span>5×6 DataFrame</span></div><div style = \"clear: both;\"></div></div><div class = \"data-frame\" style = \"overflow-x: scroll;\"><table class = \"data-frame\" style = \"margin-bottom: 6px;\"><thead><tr class = \"header\"><th class = \"rowNumber\" style = \"font-weight: bold; text-align: right;\">Row</th><th style = \"text-align: left;\">champion</th><th style = \"text-align: left;\">bot</th><th style = \"text-align: left;\">jng</th><th style = \"text-align: left;\">mid</th><th style = \"text-align: left;\">sup</th><th style = \"text-align: left;\">top</th></tr><tr class = \"subheader headerLastRow\"><th class = \"rowNumber\" style = \"font-weight: bold; text-align: right;\"></th><th title = \"String15\" style = \"text-align: left;\">String15</th><th title = \"Float64\" style = \"text-align: left;\">Float64</th><th title = \"Float64\" style = \"text-align: left;\">Float64</th><th title = \"Float64\" style = \"text-align: left;\">Float64</th><th title = \"Float64\" style = \"text-align: left;\">Float64</th><th title = \"Float64\" style = \"text-align: left;\">Float64</th></tr></thead><tbody><tr><td class = \"rowNumber\" style = \"font-weight: bold; text-align: right;\">1</td><td style = \"text-align: left;\">Aphelios</td><td style = \"text-align: right;\">5.56776</td><td style = \"text-align: right;\">0.0</td><td style = \"text-align: right;\">0.0</td><td style = \"text-align: right;\">0.0</td><td style = \"text-align: right;\">0.0</td></tr><tr><td class = \"rowNumber\" style = \"font-weight: bold; text-align: right;\">2</td><td style = \"text-align: left;\">Viego</td><td style = \"text-align: right;\">0.0</td><td style = \"text-align: right;\">4.58258</td><td style = \"text-align: right;\">0.0</td><td style = \"text-align: right;\">0.0</td><td style = \"text-align: right;\">0.0</td></tr><tr><td class = \"rowNumber\" style = \"font-weight: bold; text-align: right;\">3</td><td style = \"text-align: left;\">Ahri</td><td style = \"text-align: right;\">0.0</td><td style = \"text-align: right;\">0.0</td><td style = \"text-align: right;\">3.87298</td><td style = \"text-align: right;\">0.0</td><td style = \"text-align: right;\">0.0</td></tr><tr><td class = \"rowNumber\" style = \"font-weight: bold; text-align: right;\">4</td><td style = \"text-align: left;\">Leona</td><td style = \"text-align: right;\">0.0</td><td style = \"text-align: right;\">0.0</td><td style = \"text-align: right;\">0.0</td><td style = \"text-align: right;\">3.31662</td><td style = \"text-align: right;\">0.0</td></tr><tr><td class = \"rowNumber\" style = \"font-weight: bold; text-align: right;\">5</td><td style = \"text-align: left;\">Ornn</td><td style = \"text-align: right;\">0.0</td><td style = \"text-align: right;\">0.0</td><td style = \"text-align: right;\">0.0</td><td style = \"text-align: right;\">0.0</td><td style = \"text-align: right;\">3.87298</td></tr></tbody></table></div>"
      ],
      "text/latex": [
       "\\begin{tabular}{r|cccccc}\n",
       "\t& champion & bot & jng & mid & sup & top\\\\\n",
       "\t\\hline\n",
       "\t& String15 & Float64 & Float64 & Float64 & Float64 & Float64\\\\\n",
       "\t\\hline\n",
       "\t1 & Aphelios & 5.56776 & 0.0 & 0.0 & 0.0 & 0.0 \\\\\n",
       "\t2 & Viego & 0.0 & 4.58258 & 0.0 & 0.0 & 0.0 \\\\\n",
       "\t3 & Ahri & 0.0 & 0.0 & 3.87298 & 0.0 & 0.0 \\\\\n",
       "\t4 & Leona & 0.0 & 0.0 & 0.0 & 3.31662 & 0.0 \\\\\n",
       "\t5 & Ornn & 0.0 & 0.0 & 0.0 & 0.0 & 3.87298 \\\\\n",
       "\\end{tabular}\n"
      ],
      "text/plain": [
       "\u001b[1m5×6 DataFrame\u001b[0m\n",
       "\u001b[1m Row \u001b[0m│\u001b[1m champion \u001b[0m\u001b[1m bot     \u001b[0m\u001b[1m jng     \u001b[0m\u001b[1m mid     \u001b[0m\u001b[1m sup     \u001b[0m\u001b[1m top     \u001b[0m\n",
       "     │\u001b[90m String15 \u001b[0m\u001b[90m Float64 \u001b[0m\u001b[90m Float64 \u001b[0m\u001b[90m Float64 \u001b[0m\u001b[90m Float64 \u001b[0m\u001b[90m Float64 \u001b[0m\n",
       "─────┼───────────────────────────────────────────────────────\n",
       "   1 │ Aphelios  5.56776  0.0      0.0      0.0      0.0\n",
       "   2 │ Viego     0.0      4.58258  0.0      0.0      0.0\n",
       "   3 │ Ahri      0.0      0.0      3.87298  0.0      0.0\n",
       "   4 │ Leona     0.0      0.0      0.0      3.31662  0.0\n",
       "   5 │ Ornn      0.0      0.0      0.0      0.0      3.87298"
      ]
     },
     "execution_count": 19,
     "metadata": {},
     "output_type": "execute_result"
    }
   ],
   "source": [
    "utility_R[red_s, :]"
   ]
  },
  {
   "cell_type": "code",
   "execution_count": 20,
   "metadata": {},
   "outputs": [
    {
     "data": {
      "text/html": [
       "<div><div style = \"float: left;\"><span>5×6 DataFrame</span></div><div style = \"clear: both;\"></div></div><div class = \"data-frame\" style = \"overflow-x: scroll;\"><table class = \"data-frame\" style = \"margin-bottom: 6px;\"><thead><tr class = \"header\"><th class = \"rowNumber\" style = \"font-weight: bold; text-align: right;\">Row</th><th style = \"text-align: left;\">champion</th><th style = \"text-align: left;\">bot</th><th style = \"text-align: left;\">jng</th><th style = \"text-align: left;\">mid</th><th style = \"text-align: left;\">sup</th><th style = \"text-align: left;\">top</th></tr><tr class = \"subheader headerLastRow\"><th class = \"rowNumber\" style = \"font-weight: bold; text-align: right;\"></th><th title = \"String15\" style = \"text-align: left;\">String15</th><th title = \"Float64\" style = \"text-align: left;\">Float64</th><th title = \"Float64\" style = \"text-align: left;\">Float64</th><th title = \"Float64\" style = \"text-align: left;\">Float64</th><th title = \"Float64\" style = \"text-align: left;\">Float64</th><th title = \"Float64\" style = \"text-align: left;\">Float64</th></tr></thead><tbody><tr><td class = \"rowNumber\" style = \"font-weight: bold; text-align: right;\">1</td><td style = \"text-align: left;\">Zeri</td><td style = \"text-align: right;\">3.4641</td><td style = \"text-align: right;\">0.0</td><td style = \"text-align: right;\">0.0</td><td style = \"text-align: right;\">0.0</td><td style = \"text-align: right;\">0.0</td></tr><tr><td class = \"rowNumber\" style = \"font-weight: bold; text-align: right;\">2</td><td style = \"text-align: left;\">Trundle</td><td style = \"text-align: right;\">0.0</td><td style = \"text-align: right;\">2.82843</td><td style = \"text-align: right;\">0.0</td><td style = \"text-align: right;\">0.0</td><td style = \"text-align: right;\">0.0</td></tr><tr><td class = \"rowNumber\" style = \"font-weight: bold; text-align: right;\">3</td><td style = \"text-align: left;\">Vex</td><td style = \"text-align: right;\">0.0</td><td style = \"text-align: right;\">0.0</td><td style = \"text-align: right;\">2.82843</td><td style = \"text-align: right;\">0.0</td><td style = \"text-align: right;\">0.0</td></tr><tr><td class = \"rowNumber\" style = \"font-weight: bold; text-align: right;\">4</td><td style = \"text-align: left;\">Nautilus</td><td style = \"text-align: right;\">0.0</td><td style = \"text-align: right;\">0.0</td><td style = \"text-align: right;\">0.0</td><td style = \"text-align: right;\">4.12311</td><td style = \"text-align: right;\">0.0</td></tr><tr><td class = \"rowNumber\" style = \"font-weight: bold; text-align: right;\">5</td><td style = \"text-align: left;\">Gwen</td><td style = \"text-align: right;\">0.0</td><td style = \"text-align: right;\">0.0</td><td style = \"text-align: right;\">0.0</td><td style = \"text-align: right;\">0.0</td><td style = \"text-align: right;\">3.31662</td></tr></tbody></table></div>"
      ],
      "text/latex": [
       "\\begin{tabular}{r|cccccc}\n",
       "\t& champion & bot & jng & mid & sup & top\\\\\n",
       "\t\\hline\n",
       "\t& String15 & Float64 & Float64 & Float64 & Float64 & Float64\\\\\n",
       "\t\\hline\n",
       "\t1 & Zeri & 3.4641 & 0.0 & 0.0 & 0.0 & 0.0 \\\\\n",
       "\t2 & Trundle & 0.0 & 2.82843 & 0.0 & 0.0 & 0.0 \\\\\n",
       "\t3 & Vex & 0.0 & 0.0 & 2.82843 & 0.0 & 0.0 \\\\\n",
       "\t4 & Nautilus & 0.0 & 0.0 & 0.0 & 4.12311 & 0.0 \\\\\n",
       "\t5 & Gwen & 0.0 & 0.0 & 0.0 & 0.0 & 3.31662 \\\\\n",
       "\\end{tabular}\n"
      ],
      "text/plain": [
       "\u001b[1m5×6 DataFrame\u001b[0m\n",
       "\u001b[1m Row \u001b[0m│\u001b[1m champion \u001b[0m\u001b[1m bot     \u001b[0m\u001b[1m jng     \u001b[0m\u001b[1m mid     \u001b[0m\u001b[1m sup     \u001b[0m\u001b[1m top     \u001b[0m\n",
       "     │\u001b[90m String15 \u001b[0m\u001b[90m Float64 \u001b[0m\u001b[90m Float64 \u001b[0m\u001b[90m Float64 \u001b[0m\u001b[90m Float64 \u001b[0m\u001b[90m Float64 \u001b[0m\n",
       "─────┼───────────────────────────────────────────────────────\n",
       "   1 │ Zeri       3.4641  0.0      0.0      0.0      0.0\n",
       "   2 │ Trundle    0.0     2.82843  0.0      0.0      0.0\n",
       "   3 │ Vex        0.0     0.0      2.82843  0.0      0.0\n",
       "   4 │ Nautilus   0.0     0.0      0.0      4.12311  0.0\n",
       "   5 │ Gwen       0.0     0.0      0.0      0.0      3.31662"
      ]
     },
     "execution_count": 20,
     "metadata": {},
     "output_type": "execute_result"
    }
   ],
   "source": [
    "utility_B[blue_s, :]"
   ]
  },
  {
   "cell_type": "code",
   "execution_count": 21,
   "metadata": {},
   "outputs": [
    {
     "name": "stdout",
     "output_type": "stream",
     "text": [
      "Blue team picked: Zeri\n",
      "Blue team picked: Trundle\n",
      "Blue team picked: Vex\n",
      "Blue team picked: Nautilus\n",
      "Blue team picked: Gwen\n",
      "-----------------\n",
      "Red team picked: Aphelios\n",
      "Red team picked: Viego\n",
      "Red team picked: Ahri\n",
      "Red team picked: Leona\n",
      "Red team picked: Ornn\n"
     ]
    }
   ],
   "source": [
    "for bs in BS\n",
    "    println(\"Blue team picked: \", bs)\n",
    "end;\n",
    "println(\"-----------------\")\n",
    "for rs in RS\n",
    "    println(\"Red team picked: \", rs)\n",
    "end;\n"
   ]
  },
  {
   "cell_type": "code",
   "execution_count": 22,
   "metadata": {},
   "outputs": [
    {
     "name": "stdout",
     "output_type": "stream",
     "text": [
      "Blue team banned: Azir\n",
      "Blue team banned: Graves\n",
      "Blue team banned: Seraphine\n",
      "Blue team banned: Viktor\n",
      "Blue team banned: Wukong\n",
      "-----------------\n",
      "Red team banned: Gnar\n",
      "Red team banned: Jinx\n",
      "Red team banned: Lee Sin\n",
      "Red team banned: Tahm Kench\n",
      "Red team banned: Xin Zhao\n"
     ]
    }
   ],
   "source": [
    "for bb in BB\n",
    "    println(\"Blue team banned: \", bb)\n",
    "end;\n",
    "println(\"-----------------\")\n",
    "for rb in RB\n",
    "    println(\"Red team banned: \", rb)\n",
    "end;"
   ]
  },
  {
   "cell_type": "code",
   "execution_count": 29,
   "metadata": {},
   "outputs": [
    {
     "name": "stdout",
     "output_type": "stream",
     "text": [
      "Objective value for Gamma = 3: 37.760354233608425\n",
      "Objective value for Gamma = 2: 37.527354683433465\n",
      "Objective value for Gamma = 1: 36.277554644181905\n",
      "Objective value for Gamma = 0: 35.775200502772755\n"
     ]
    }
   ],
   "source": [
    "println(\"Objective value for Gamma = 3: \", obj3)\n",
    "println(\"Objective value for Gamma = 2: \", obj2)\n",
    "println(\"Objective value for Gamma = 1: \", obj1)\n",
    "println(\"Objective value for Gamma = 0: \", obj0)"
   ]
  },
  {
   "cell_type": "code",
   "execution_count": 30,
   "metadata": {},
   "outputs": [
    {
     "data": {
      "text/plain": [
       "1-element Vector{Int64}:\n",
       " 36"
      ]
     },
     "execution_count": 30,
     "metadata": {},
     "output_type": "execute_result"
    }
   ],
   "source": [
    "findall(x-> x==1 , rs[:,5])"
   ]
  },
  {
   "cell_type": "code",
   "execution_count": 1,
   "metadata": {},
   "outputs": [
    {
     "ename": "LoadError",
     "evalue": "LoadError: UndefVarError: @variable not defined\nin expression starting at In[1]:9",
     "output_type": "error",
     "traceback": [
      "LoadError: UndefVarError: @variable not defined\nin expression starting at In[1]:9",
      "",
      "Stacktrace:",
      " [1] top-level scope",
      "   @ :0",
      " [2] eval",
      "   @ ./boot.jl:368 [inlined]",
      " [3] include_string(mapexpr::typeof(REPL.softscope), mod::Module, code::String, filename::String)",
      "   @ Base ./loading.jl:1428"
     ]
    }
   ],
   "source": [
    "function robust_draft_sigma(U_B, U_R, B_B, B_R, sigma_RS, sigma_RB, gamma)\n",
    "    n = size(U_B, 1)\n",
    "    P = 5\n",
    "\n",
    "    model = Model(Gurobi.Optimizer)\n",
    "    set_optimizer_attribute(model, \"OutputFlag\", 0)\n",
    "\n",
    "   eps =0.0001\n",
    "    @variable(model, BS[1:n, 1:P], Bin) # Blue Select\n",
    "    @variable(model, RS[1:n, 1:P], Bin) # Red Select\n",
    "    @variable(model, BB[1:n], Bin) # Blue Ban \n",
    "    @variable(model, RB[1:n], Bin) # Red Ban\n",
    "    @variable(model, U_diff>=0)\n",
    "    @variable(model, pS[1:n, 1:P]>=0)\n",
    "    @variable(model, qS[1:n, 1:P]>=0)\n",
    "    @variable(model, pB[1:n]>=0)\n",
    "    @variable(model, qB[1:n]>=0)\n",
    "    #constraints: \n",
    "    # Banning exatctly 5 champions for both teams\n",
    "    @constraint(model, sum(BB) <= 5)\n",
    "    @constraint(model, sum(RB) <= 5)\n",
    "    # Selection constraint per champion for both teams\n",
    "    \n",
    "   # Selection constraint per position for both teams\n",
    "   \n",
    "    @constraint(model, [p= 1:P], sum(RS[i,p] for i = 1:n) == 1 )\n",
    "    @constraint(model, [p= 1:P], sum(BS[i,p] for i = 1:n) == 1 )\n",
    "\n",
    "    # A champion can be selected or banned at most once per both teams: \n",
    "    @constraint(model, [i= 1:n], sum(BS[i,p] for p = 1:P) +sum(RS[i,p] for p = 1:P) + BB[i] + RB[i] <= 1)\n",
    "\n",
    "\n",
    "\n",
    "    @constraint(model, [p=1:P], sum(RS[i, p]*U_R[i,p] for i=1:n) >= eps ) \n",
    "    #@constraint(model, [i= 1:n], sum(B_R[i]*RB[i] for i=1:n)>= eps)\n",
    "    \n",
    "    @constraint(model, [p=1:P], sum(BS[i, p]*U_B[i,p] for i=1:n) >= eps  ) \n",
    "    @constraint(model, [i= 1:n], sum(B_B[i]*BB[i] for i=1:n)>= eps)\n",
    "    # Robust constraints: \n",
    "    @constraint(model, U_diff <= \n",
    "         sum(sum(BS[i, p]*U_B[i,p] for i=1:n) for p= 1:P) + sum(B_B[i]*BB[i] for i=1:n)\n",
    "       + (sum(sum(RS[i, p]*U_R[i,p] for i=1:n) for p= 1:P) + sum(B_R[i]*RB[i] for i=1:n) \n",
    "       + sqrt(n)*gamma*sum((qS.-pS).*sigma_RS) + sqrt(n)*gamma*sum((qB.-pB).*sigma_RB)\n",
    "       ) )\n",
    "    \n",
    "    @constraint(model, [i = 1:n, p = 1:P], -pS[i,p]+ qS[i,p] == RS[i,p])\n",
    "    @constraint(model, [i = 1:n], -pB[i]+ qB[i] == RB[i])\n",
    "\n",
    "\n",
    "    @objective(model, Max, U_diff)\n",
    "    \n",
    "\n",
    "\n",
    "    optimize!(model)\n",
    "\n",
    "    return model, value.(BS), value.(BB), value.(RS), value.(RB), value.(sum(sum(BS[i, p]*U_B[i,p] for i=1:n) for p= 1:P) + sum(B_B[i]*BB[i] for i=1:n)), objective_value(model)\n",
    "    end;\n"
   ]
  },
  {
   "cell_type": "code",
   "execution_count": 57,
   "metadata": {},
   "outputs": [
    {
     "data": {
      "text/html": [
       "<div><div style = \"float: left;\"><span>62×6 DataFrame</span></div><div style = \"float: right;\"><span style = \"font-style: italic;\">37 rows omitted</span></div><div style = \"clear: both;\"></div></div><div class = \"data-frame\" style = \"overflow-x: scroll;\"><table class = \"data-frame\" style = \"margin-bottom: 6px;\"><thead><tr class = \"header\"><th class = \"rowNumber\" style = \"font-weight: bold; text-align: right;\">Row</th><th style = \"text-align: left;\">champion</th><th style = \"text-align: left;\">bot</th><th style = \"text-align: left;\">jng</th><th style = \"text-align: left;\">mid</th><th style = \"text-align: left;\">sup</th><th style = \"text-align: left;\">top</th></tr><tr class = \"subheader headerLastRow\"><th class = \"rowNumber\" style = \"font-weight: bold; text-align: right;\"></th><th title = \"String15\" style = \"text-align: left;\">String15</th><th title = \"Float64\" style = \"text-align: left;\">Float64</th><th title = \"Float64\" style = \"text-align: left;\">Float64</th><th title = \"Float64\" style = \"text-align: left;\">Float64</th><th title = \"Float64\" style = \"text-align: left;\">Float64</th><th title = \"Float64\" style = \"text-align: left;\">Float64</th></tr></thead><tbody><tr><td class = \"rowNumber\" style = \"font-weight: bold; text-align: right;\">1</td><td style = \"text-align: left;\">Aatrox</td><td style = \"text-align: right;\">0.0</td><td style = \"text-align: right;\">0.0</td><td style = \"text-align: right;\">0.0</td><td style = \"text-align: right;\">0.0</td><td style = \"text-align: right;\">1.73205</td></tr><tr><td class = \"rowNumber\" style = \"font-weight: bold; text-align: right;\">2</td><td style = \"text-align: left;\">Ahri</td><td style = \"text-align: right;\">0.0</td><td style = \"text-align: right;\">0.0</td><td style = \"text-align: right;\">3.87298</td><td style = \"text-align: right;\">0.0</td><td style = \"text-align: right;\">0.0</td></tr><tr><td class = \"rowNumber\" style = \"font-weight: bold; text-align: right;\">3</td><td style = \"text-align: left;\">Akali</td><td style = \"text-align: right;\">0.0</td><td style = \"text-align: right;\">0.0</td><td style = \"text-align: right;\">2.0</td><td style = \"text-align: right;\">0.0</td><td style = \"text-align: right;\">0.0</td></tr><tr><td class = \"rowNumber\" style = \"font-weight: bold; text-align: right;\">4</td><td style = \"text-align: left;\">Alistar</td><td style = \"text-align: right;\">0.0</td><td style = \"text-align: right;\">0.0</td><td style = \"text-align: right;\">0.0</td><td style = \"text-align: right;\">2.44949</td><td style = \"text-align: right;\">0.0</td></tr><tr><td class = \"rowNumber\" style = \"font-weight: bold; text-align: right;\">5</td><td style = \"text-align: left;\">Amumu</td><td style = \"text-align: right;\">0.0</td><td style = \"text-align: right;\">0.0</td><td style = \"text-align: right;\">0.0</td><td style = \"text-align: right;\">1.41421</td><td style = \"text-align: right;\">0.0</td></tr><tr><td class = \"rowNumber\" style = \"font-weight: bold; text-align: right;\">6</td><td style = \"text-align: left;\">Aphelios</td><td style = \"text-align: right;\">5.56776</td><td style = \"text-align: right;\">0.0</td><td style = \"text-align: right;\">0.0</td><td style = \"text-align: right;\">0.0</td><td style = \"text-align: right;\">0.0</td></tr><tr><td class = \"rowNumber\" style = \"font-weight: bold; text-align: right;\">7</td><td style = \"text-align: left;\">Azir</td><td style = \"text-align: right;\">0.0</td><td style = \"text-align: right;\">0.0</td><td style = \"text-align: right;\">3.31662</td><td style = \"text-align: right;\">0.0</td><td style = \"text-align: right;\">0.0</td></tr><tr><td class = \"rowNumber\" style = \"font-weight: bold; text-align: right;\">8</td><td style = \"text-align: left;\">Braum</td><td style = \"text-align: right;\">0.0</td><td style = \"text-align: right;\">0.0</td><td style = \"text-align: right;\">0.0</td><td style = \"text-align: right;\">2.44949</td><td style = \"text-align: right;\">0.0</td></tr><tr><td class = \"rowNumber\" style = \"font-weight: bold; text-align: right;\">9</td><td style = \"text-align: left;\">Corki</td><td style = \"text-align: right;\">0.0</td><td style = \"text-align: right;\">0.0</td><td style = \"text-align: right;\">3.31662</td><td style = \"text-align: right;\">0.0</td><td style = \"text-align: right;\">0.0</td></tr><tr><td class = \"rowNumber\" style = \"font-weight: bold; text-align: right;\">10</td><td style = \"text-align: left;\">Diana</td><td style = \"text-align: right;\">0.0</td><td style = \"text-align: right;\">1.41421</td><td style = \"text-align: right;\">0.0</td><td style = \"text-align: right;\">0.0</td><td style = \"text-align: right;\">0.0</td></tr><tr><td class = \"rowNumber\" style = \"font-weight: bold; text-align: right;\">11</td><td style = \"text-align: left;\">Draven</td><td style = \"text-align: right;\">1.0</td><td style = \"text-align: right;\">0.0</td><td style = \"text-align: right;\">0.0</td><td style = \"text-align: right;\">0.0</td><td style = \"text-align: right;\">0.0</td></tr><tr><td class = \"rowNumber\" style = \"font-weight: bold; text-align: right;\">12</td><td style = \"text-align: left;\">Ezreal</td><td style = \"text-align: right;\">2.44949</td><td style = \"text-align: right;\">0.0</td><td style = \"text-align: right;\">0.0</td><td style = \"text-align: right;\">0.0</td><td style = \"text-align: right;\">0.0</td></tr><tr><td class = \"rowNumber\" style = \"font-weight: bold; text-align: right;\">13</td><td style = \"text-align: left;\">Gangplank</td><td style = \"text-align: right;\">0.0</td><td style = \"text-align: right;\">0.0</td><td style = \"text-align: right;\">0.0</td><td style = \"text-align: right;\">0.0</td><td style = \"text-align: right;\">2.44949</td></tr><tr><td style = \"text-align: right;\">&vellip;</td><td style = \"text-align: right;\">&vellip;</td><td style = \"text-align: right;\">&vellip;</td><td style = \"text-align: right;\">&vellip;</td><td style = \"text-align: right;\">&vellip;</td><td style = \"text-align: right;\">&vellip;</td><td style = \"text-align: right;\">&vellip;</td></tr><tr><td class = \"rowNumber\" style = \"font-weight: bold; text-align: right;\">51</td><td style = \"text-align: left;\">Twisted Fate</td><td style = \"text-align: right;\">0.0</td><td style = \"text-align: right;\">0.0</td><td style = \"text-align: right;\">3.0</td><td style = \"text-align: right;\">0.0</td><td style = \"text-align: right;\">0.0</td></tr><tr><td class = \"rowNumber\" style = \"font-weight: bold; text-align: right;\">52</td><td style = \"text-align: left;\">Vex</td><td style = \"text-align: right;\">0.0</td><td style = \"text-align: right;\">0.0</td><td style = \"text-align: right;\">1.41421</td><td style = \"text-align: right;\">0.0</td><td style = \"text-align: right;\">0.0</td></tr><tr><td class = \"rowNumber\" style = \"font-weight: bold; text-align: right;\">53</td><td style = \"text-align: left;\">Vi</td><td style = \"text-align: right;\">0.0</td><td style = \"text-align: right;\">2.0</td><td style = \"text-align: right;\">0.0</td><td style = \"text-align: right;\">0.0</td><td style = \"text-align: right;\">0.0</td></tr><tr><td class = \"rowNumber\" style = \"font-weight: bold; text-align: right;\">54</td><td style = \"text-align: left;\">Viego</td><td style = \"text-align: right;\">0.0</td><td style = \"text-align: right;\">4.58258</td><td style = \"text-align: right;\">0.0</td><td style = \"text-align: right;\">0.0</td><td style = \"text-align: right;\">0.0</td></tr><tr><td class = \"rowNumber\" style = \"font-weight: bold; text-align: right;\">55</td><td style = \"text-align: left;\">Viktor</td><td style = \"text-align: right;\">0.0</td><td style = \"text-align: right;\">0.0</td><td style = \"text-align: right;\">3.4641</td><td style = \"text-align: right;\">0.0</td><td style = \"text-align: right;\">0.0</td></tr><tr><td class = \"rowNumber\" style = \"font-weight: bold; text-align: right;\">56</td><td style = \"text-align: left;\">Volibear</td><td style = \"text-align: right;\">0.0</td><td style = \"text-align: right;\">1.41421</td><td style = \"text-align: right;\">0.0</td><td style = \"text-align: right;\">0.0</td><td style = \"text-align: right;\">0.0</td></tr><tr><td class = \"rowNumber\" style = \"font-weight: bold; text-align: right;\">57</td><td style = \"text-align: left;\">Wukong</td><td style = \"text-align: right;\">0.0</td><td style = \"text-align: right;\">3.74166</td><td style = \"text-align: right;\">0.0</td><td style = \"text-align: right;\">0.0</td><td style = \"text-align: right;\">0.0</td></tr><tr><td class = \"rowNumber\" style = \"font-weight: bold; text-align: right;\">58</td><td style = \"text-align: left;\">Xayah</td><td style = \"text-align: right;\">2.44949</td><td style = \"text-align: right;\">0.0</td><td style = \"text-align: right;\">0.0</td><td style = \"text-align: right;\">0.0</td><td style = \"text-align: right;\">0.0</td></tr><tr><td class = \"rowNumber\" style = \"font-weight: bold; text-align: right;\">59</td><td style = \"text-align: left;\">Xin Zhao</td><td style = \"text-align: right;\">0.0</td><td style = \"text-align: right;\">3.0</td><td style = \"text-align: right;\">0.0</td><td style = \"text-align: right;\">0.0</td><td style = \"text-align: right;\">0.0</td></tr><tr><td class = \"rowNumber\" style = \"font-weight: bold; text-align: right;\">60</td><td style = \"text-align: left;\">Yuumi</td><td style = \"text-align: right;\">0.0</td><td style = \"text-align: right;\">0.0</td><td style = \"text-align: right;\">0.0</td><td style = \"text-align: right;\">2.44949</td><td style = \"text-align: right;\">0.0</td></tr><tr><td class = \"rowNumber\" style = \"font-weight: bold; text-align: right;\">61</td><td style = \"text-align: left;\">Zeri</td><td style = \"text-align: right;\">3.31662</td><td style = \"text-align: right;\">0.0</td><td style = \"text-align: right;\">0.0</td><td style = \"text-align: right;\">0.0</td><td style = \"text-align: right;\">0.0</td></tr><tr><td class = \"rowNumber\" style = \"font-weight: bold; text-align: right;\">62</td><td style = \"text-align: left;\">Zoe</td><td style = \"text-align: right;\">0.0</td><td style = \"text-align: right;\">0.0</td><td style = \"text-align: right;\">1.41421</td><td style = \"text-align: right;\">0.0</td><td style = \"text-align: right;\">0.0</td></tr></tbody></table></div>"
      ],
      "text/latex": [
       "\\begin{tabular}{r|cccccc}\n",
       "\t& champion & bot & jng & mid & sup & top\\\\\n",
       "\t\\hline\n",
       "\t& String15 & Float64 & Float64 & Float64 & Float64 & Float64\\\\\n",
       "\t\\hline\n",
       "\t1 & Aatrox & 0.0 & 0.0 & 0.0 & 0.0 & 1.73205 \\\\\n",
       "\t2 & Ahri & 0.0 & 0.0 & 3.87298 & 0.0 & 0.0 \\\\\n",
       "\t3 & Akali & 0.0 & 0.0 & 2.0 & 0.0 & 0.0 \\\\\n",
       "\t4 & Alistar & 0.0 & 0.0 & 0.0 & 2.44949 & 0.0 \\\\\n",
       "\t5 & Amumu & 0.0 & 0.0 & 0.0 & 1.41421 & 0.0 \\\\\n",
       "\t6 & Aphelios & 5.56776 & 0.0 & 0.0 & 0.0 & 0.0 \\\\\n",
       "\t7 & Azir & 0.0 & 0.0 & 3.31662 & 0.0 & 0.0 \\\\\n",
       "\t8 & Braum & 0.0 & 0.0 & 0.0 & 2.44949 & 0.0 \\\\\n",
       "\t9 & Corki & 0.0 & 0.0 & 3.31662 & 0.0 & 0.0 \\\\\n",
       "\t10 & Diana & 0.0 & 1.41421 & 0.0 & 0.0 & 0.0 \\\\\n",
       "\t11 & Draven & 1.0 & 0.0 & 0.0 & 0.0 & 0.0 \\\\\n",
       "\t12 & Ezreal & 2.44949 & 0.0 & 0.0 & 0.0 & 0.0 \\\\\n",
       "\t13 & Gangplank & 0.0 & 0.0 & 0.0 & 0.0 & 2.44949 \\\\\n",
       "\t14 & Gnar & 0.0 & 0.0 & 0.0 & 0.0 & 2.0 \\\\\n",
       "\t15 & Gragas & 0.0 & 0.0 & 0.0 & 0.0 & 2.64575 \\\\\n",
       "\t16 & Graves & 0.0 & 2.44949 & 0.0 & 0.0 & 2.82843 \\\\\n",
       "\t17 & Gwen & 0.0 & 0.0 & 0.0 & 0.0 & 3.4641 \\\\\n",
       "\t18 & Hecarim & 0.0 & 2.44949 & 0.0 & 0.0 & 0.0 \\\\\n",
       "\t19 & Jarvan IV & 0.0 & 1.73205 & 0.0 & 0.0 & 0.0 \\\\\n",
       "\t20 & Jax & 0.0 & 0.0 & 0.0 & 0.0 & 1.73205 \\\\\n",
       "\t21 & Jayce & 0.0 & 0.0 & 0.0 & 0.0 & 2.23607 \\\\\n",
       "\t22 & Jhin & 1.41421 & 0.0 & 0.0 & 0.0 & 0.0 \\\\\n",
       "\t23 & Jinx & 3.87298 & 0.0 & 0.0 & 0.0 & 0.0 \\\\\n",
       "\t24 & Kai'Sa & 1.73205 & 0.0 & 0.0 & 0.0 & 0.0 \\\\\n",
       "\t25 & Kalista & 1.73205 & 0.0 & 0.0 & 0.0 & 0.0 \\\\\n",
       "\t26 & Karma & 0.0 & 0.0 & 0.0 & 2.44949 & 0.0 \\\\\n",
       "\t27 & LeBlanc & 0.0 & 0.0 & 2.44949 & 0.0 & 0.0 \\\\\n",
       "\t28 & Lee Sin & 0.0 & 3.4641 & 0.0 & 0.0 & 0.0 \\\\\n",
       "\t29 & Leona & 0.0 & 0.0 & 0.0 & 3.31662 & 0.0 \\\\\n",
       "\t30 & Lissandra & 0.0 & 0.0 & 1.0 & 0.0 & 0.0 \\\\\n",
       "\t$\\dots$ & $\\dots$ & $\\dots$ & $\\dots$ & $\\dots$ & $\\dots$ & $\\dots$ \\\\\n",
       "\\end{tabular}\n"
      ],
      "text/plain": [
       "\u001b[1m62×6 DataFrame\u001b[0m\n",
       "\u001b[1m Row \u001b[0m│\u001b[1m champion     \u001b[0m\u001b[1m bot     \u001b[0m\u001b[1m jng     \u001b[0m\u001b[1m mid     \u001b[0m\u001b[1m sup     \u001b[0m\u001b[1m top     \u001b[0m\n",
       "     │\u001b[90m String15     \u001b[0m\u001b[90m Float64 \u001b[0m\u001b[90m Float64 \u001b[0m\u001b[90m Float64 \u001b[0m\u001b[90m Float64 \u001b[0m\u001b[90m Float64 \u001b[0m\n",
       "─────┼───────────────────────────────────────────────────────────\n",
       "   1 │ Aatrox        0.0      0.0      0.0      0.0      1.73205\n",
       "   2 │ Ahri          0.0      0.0      3.87298  0.0      0.0\n",
       "   3 │ Akali         0.0      0.0      2.0      0.0      0.0\n",
       "   4 │ Alistar       0.0      0.0      0.0      2.44949  0.0\n",
       "   5 │ Amumu         0.0      0.0      0.0      1.41421  0.0\n",
       "   6 │ Aphelios      5.56776  0.0      0.0      0.0      0.0\n",
       "   7 │ Azir          0.0      0.0      3.31662  0.0      0.0\n",
       "   8 │ Braum         0.0      0.0      0.0      2.44949  0.0\n",
       "   9 │ Corki         0.0      0.0      3.31662  0.0      0.0\n",
       "  10 │ Diana         0.0      1.41421  0.0      0.0      0.0\n",
       "  11 │ Draven        1.0      0.0      0.0      0.0      0.0\n",
       "  ⋮  │      ⋮           ⋮        ⋮        ⋮        ⋮        ⋮\n",
       "  53 │ Vi            0.0      2.0      0.0      0.0      0.0\n",
       "  54 │ Viego         0.0      4.58258  0.0      0.0      0.0\n",
       "  55 │ Viktor        0.0      0.0      3.4641   0.0      0.0\n",
       "  56 │ Volibear      0.0      1.41421  0.0      0.0      0.0\n",
       "  57 │ Wukong        0.0      3.74166  0.0      0.0      0.0\n",
       "  58 │ Xayah         2.44949  0.0      0.0      0.0      0.0\n",
       "  59 │ Xin Zhao      0.0      3.0      0.0      0.0      0.0\n",
       "  60 │ Yuumi         0.0      0.0      0.0      2.44949  0.0\n",
       "  61 │ Zeri          3.31662  0.0      0.0      0.0      0.0\n",
       "  62 │ Zoe           0.0      0.0      1.41421  0.0      0.0\n",
       "\u001b[36m                                                  41 rows omitted\u001b[0m"
      ]
     },
     "execution_count": 57,
     "metadata": {},
     "output_type": "execute_result"
    }
   ],
   "source": [
    "utility_R"
   ]
  },
  {
   "cell_type": "code",
   "execution_count": null,
   "metadata": {},
   "outputs": [],
   "source": []
  }
 ],
 "metadata": {
  "kernelspec": {
   "display_name": "Julia 1.8.2",
   "language": "julia",
   "name": "julia-1.8"
  },
  "language_info": {
   "file_extension": ".jl",
   "mimetype": "application/julia",
   "name": "julia",
   "version": "1.8.2"
  },
  "orig_nbformat": 4
 },
 "nbformat": 4,
 "nbformat_minor": 2
}
