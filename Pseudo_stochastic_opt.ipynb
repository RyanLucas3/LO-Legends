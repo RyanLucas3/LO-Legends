{
 "cells": [
  {
   "cell_type": "markdown",
   "metadata": {},
   "source": [
    "# Pseudo-stochastic optimization model\n",
    "## Imports"
   ]
  },
  {
   "cell_type": "code",
   "execution_count": 1,
   "metadata": {},
   "outputs": [],
   "source": [
    "# Import packages\n",
    "using MLDataUtils, CSV, DataFrames,Plots, Statistics, StatsBase\n",
    "using Gurobi, JuMP\n",
    "using Random "
   ]
  },
  {
   "cell_type": "code",
   "execution_count": 738,
   "metadata": {},
   "outputs": [],
   "source": [
    "# # Import data \n",
    "# df = DataFrame(CSV.read(\"Game_data/2022_LoL_esports_match_data_from_OraclesElixir_20221016.csv\", DataFrame, pool = true))\n",
    "# utility_B = DataFrame(CSV.read(\"Utility/U_B.csv\", DataFrame, pool = true))\n",
    "# utility_R = DataFrame(CSV.read(\"Utility/U_R.csv\", DataFrame, pool = true))\n",
    "# ban_vec = DataFrame(CSV.read(\"Utility/ban_vec.csv\", DataFrame, pool = true))\n",
    "# ban_mat = DataFrame(CSV.read(\"Utility/ban_mat.csv\", DataFrame, pool = true))\n",
    "# pick_mat = DataFrame(CSV.read(\"Utility/pick_mat.csv\", DataFrame, pool = true));"
   ]
  },
  {
   "cell_type": "markdown",
   "metadata": {},
   "source": [
    "## Implementation of the model\n",
    "### Gurobi model"
   ]
  },
  {
   "cell_type": "markdown",
   "metadata": {},
   "source": [
    "Model with only i for the bans, not implemented correctly"
   ]
  },
  {
   "cell_type": "code",
   "execution_count": 16,
   "metadata": {},
   "outputs": [
    {
     "data": {
      "text/plain": [
       "pseudo_stochastic (generic function with 1 method)"
      ]
     },
     "execution_count": 16,
     "metadata": {},
     "output_type": "execute_result"
    }
   ],
   "source": [
    "function pseudo_stochastic(df, ban_mat, pick_mat,z)\n",
    "\n",
    "    # Define model\n",
    "    model = Model(Gurobi.Optimizer)\n",
    "\n",
    "    # Define the sets \n",
    "    n = size(utility_B)[1] # number of champions\n",
    "    m = size(utility_B)[2] -1 # number of positions\n",
    "    # T = 1:20 # number of events\n",
    "\n",
    "\n",
    "    # Define the parameters\n",
    "    epsilon = 0.001 # small number\n",
    "\n",
    "    # Define the independant variables\n",
    "    UB = Array(utility_B[:,2:end]) # blue team utility\n",
    "    UR = Array(utility_R[:,2:end]) # red team utility\n",
    "    \n",
    "    global BU_T = 0 # total utility of blue team\n",
    "    global RU_T = 0 # total utility of red team\n",
    "\n",
    "    @variable(model, BB[1:n,1:m], Bin) # blue ban of champion i \n",
    "    @variable(model, BP[1:n,1:m], Bin) # blue pick of champion i at position j \n",
    "\n",
    "    @variable(model, z[1:T], Bin) # binary variable to determine if event t is a ban or a pick\n",
    "\n",
    "    # Define the constraints\n",
    "    # 1. Each champion can only be picked/banned at most once\n",
    "    @constraint(model, [i=1:n], sum(BB[i] + RB[i] + BP[i,j] + RP[i,j] for j = 1:m) <= 1)\n",
    "\n",
    "    # 2. Each team must ban at most 5 champions\n",
    "    @constraint(model, sum(BB[i] for i = 1:n)  <= 5)\n",
    "    @constraint(model, sum(RB[i] for i = 1:n)  <= 5)\n",
    "\n",
    "    # 3. Each team must pick 5 champions\n",
    "    @constraint(model, sum(sum(BP[i,j] for i = 1:n) for j = 1:m)  == 5)\n",
    "    @constraint(model, sum(sum(RP[i,j] for i = 1:n) for j = 1:m)  == 5)\n",
    "\n",
    "    # 4. Each team must pick 1 champion per position\n",
    "    @constraint(model, [j=1:m], sum(BP[i,j] for i = 1:n) == 1)\n",
    "    @constraint(model, [j=1:m], sum(RP[i,j] for i = 1:n) == 1)\n",
    "\n",
    "    # 5. The utility of a champion picked or banned must be greater than epsilon\n",
    "    @constraint(model, [i=1:n, j=1:m], UB[i,j] >= epsilon)\n",
    "    @constraint(model, [i=1:n, j=1:m], UR[i,j] >= epsilon)\n",
    "\n",
    "    # Define the objective\n",
    "    @objective(model, Max, z*(sum(UB[i] * RB[i] for i = 1:n) + sum(UB[i] * RB[i,j] for i = 1:n)) + (1-z)*(sum(sum(UB[i,j] * BP[i,j] for i = 1:n) for j = 1:m) + sum(sum(UR[i,j] * RP[i,j] for i = 1:n) for j = 1:m)))\n",
    "\n",
    "\n",
    "end"
   ]
  },
  {
   "cell_type": "markdown",
   "metadata": {},
   "source": [
    "Model for i,j"
   ]
  },
  {
   "cell_type": "code",
   "execution_count": 211,
   "metadata": {},
   "outputs": [
    {
     "data": {
      "text/plain": [
       "pseudo_stochastic (generic function with 3 methods)"
      ]
     },
     "execution_count": 211,
     "metadata": {},
     "output_type": "execute_result"
    }
   ],
   "source": [
    "function pseudo_stochastic(UB, UR, RB, RP, pool, z)\n",
    "\n",
    "    # Define model\n",
    "    model = Model(Gurobi.Optimizer)\n",
    "\n",
    "    # Define the sets \n",
    "    n = size(UB)[1] # number of champions\n",
    "    m = size(UB)[2] -1 # number of positions\n",
    "\n",
    "    # Define the parameters\n",
    "    epsilon = 0.001 # small number\n",
    "\n",
    "    # Define the dependant variables\n",
    "    @variable(model, BB[1:n,1:m], Bin) # blue ban of champion i \n",
    "    @variable(model, BP[1:n,1:m], Bin) # blue pick of champion i at position j \n",
    "\n",
    "    # Define the constraints\n",
    "    # 1. Each champion can only be picked/banned at most once\n",
    "    @constraint(model, [i=1:n], sum((BB[i,j] + RB[i,j]) + (BP[i,j] + RP[i,j]) for j = 1:m) <= 1)\n",
    "\n",
    "    # 2. Each team must ban at most 5 champions\n",
    "    @constraint(model, [j=1:m], sum(BB[i,j] for i = 1:n) <= 5)\n",
    "    @constraint(model, [j=1:m], sum(RB[i,j] for i = 1:n) <= 5)\n",
    "\n",
    "    # 3. Each team must pick 5 champions\n",
    "    @constraint(model, sum(sum(BP[i,j] for i = 1:n) for j = 1:m) == 5)\n",
    "    @constraint(model, sum(sum(RP[i,j] for i = 1:n) for j = 1:m) == 5)\n",
    "\n",
    "    # 4. Each team must pick 1 champion per position\n",
    "    @constraint(model, [j=1:m], sum(BP[i,j] for i = 1:n) == 1)\n",
    "    @constraint(model, [j=1:m], sum(RP[i,j] for i = 1:n) == 1)\n",
    "\n",
    "    # 5. The utility of a champion picked or banned must be greater than epsilon\n",
    "    @constraint(model, [i=1:n, j=1:m], UB[i,j] >= epsilon)\n",
    "    @constraint(model, [i=1:n, j=1:m], UR[i,j] >= epsilon)\n",
    "\n",
    "    # 6. The champion picked or banned must be in the pool of champions\n",
    "    @constraint(model, [i=1:n, j=1:m], BB[i,j] >= pool[i,j])\n",
    "    @constraint(model, [i=1:n, j=1:m], BP[i,j] >= pool[i,j])\n",
    " \n",
    "    # Define the objective\n",
    "    # @objective(model, Max, z*(sum(UB[i,j] * RB[i,j] for i = 1:n) + sum(RB[i,j] * UB[i,j] for i = 1:n)) + (1-z)*(sum(sum(UB[i,j] * BP[i,j] for i = 1:n) for j = 1:m) + sum(sum(UR[i,j] * RP[i,j] for i = 1:n) for j = 1:m)))\n",
    "    @objective(model, Max, z*(sum(UB[i,j] * RB for i = 1:n) + sum(RB[i,j] * UB[i,j] for i = 1:n)) + (1-z)*(sum(sum(UB[i,j] * BP[i,j] for i = 1:n) for j = 1:m) + sum(sum(UR[i,j] * RP[i,j] for i = 1:n) for j = 1:m)))\n",
    "\n",
    "    # Solve the model\n",
    "    optimize!(model)\n",
    "\n",
    "    # Get the solution\n",
    "    if JuMP.value.(z) == 1\n",
    "        return JuMP.value.(BB)\n",
    "    else\n",
    "        return JuMP.value.(BP)\n",
    "    end\n",
    "\n",
    "end"
   ]
  },
  {
   "cell_type": "markdown",
   "metadata": {},
   "source": [
    "### Heuristic model"
   ]
  },
  {
   "cell_type": "code",
   "execution_count": 762,
   "metadata": {},
   "outputs": [
    {
     "data": {
      "text/plain": [
       "proba_random (generic function with 1 method)"
      ]
     },
     "execution_count": 762,
     "metadata": {},
     "output_type": "execute_result"
    }
   ],
   "source": [
    "function proba_random(pool, df, type, n, pos)\n",
    "    # if type is \"ban\"\n",
    "    if type == \"ban\"\n",
    "        # transform the dataframe by removing champion name \n",
    "        # and update the possible choices of the ban_matrix with the current pool\n",
    "        df_proba = df[:,2:end] .* pool\n",
    "        # find the top n champions\n",
    "        top_n = sortperm(df_proba, rev=true)[1:n]\n",
    "        # randomly choose one of the top n champions\n",
    "        champion_row = rand(top_n)\n",
    "        # retrieve the champion name\n",
    "        champion_name = df[champion_row,1]\n",
    "        return champion_row, champion_name\n",
    "    # if type is \"pick\"\n",
    "    elseif type == \"pick\"\n",
    "        # transform the dataframe by removing champion name\n",
    "        # and update the possible choices of the ban_matrix with the current pool\n",
    "        df_proba = df[:,2:end]  .* pool\n",
    "        # find the top 5 champions\n",
    "        top_n = sortperm(df_proba[:,pos],rev=true )[1:n]\n",
    "        # randomly choose one of the top n champions\n",
    "        champion_row = rand(top_n)\n",
    "        # retrieve champion position\n",
    "        champion_col = pos\n",
    "        # retrieve the champion name\n",
    "        champion_name = df[champion_row,1] \n",
    "        return champion_row, champion_col, champion_name\n",
    "    end\n",
    "end"
   ]
  },
  {
   "cell_type": "code",
   "execution_count": 763,
   "metadata": {},
   "outputs": [
    {
     "data": {
      "text/plain": [
       "weighted_utility (generic function with 1 method)"
      ]
     },
     "execution_count": 763,
     "metadata": {},
     "output_type": "execute_result"
    }
   ],
   "source": [
    "function weighted_utility(pool, df, type, n, pos,utility)\n",
    "    # if type is \"ban\"\n",
    "    if type == \"ban\"\n",
    "        # transform the dataframe by removing champion name \n",
    "        # and update the possible choices of the ban_matrix with the current pool\n",
    "        df_proba = df[:,2:end] .* pool\n",
    "        # weighted utility \n",
    "        weighted_utility = df_proba .* utility\n",
    "        # find the top n champions\n",
    "        top_n = sortperm(weighted_utility, rev=true)[1:n]\n",
    "        # randomly choose one of the top n champions\n",
    "        champion_row = rand(top_n)\n",
    "        # retrieve the champion name\n",
    "        champion_name = df[champion_row,1]\n",
    "        return champion_row, champion_name\n",
    "    # if type is \"pick\"\n",
    "    elseif type == \"pick\"\n",
    "        # transform the dataframe by removing champion name\n",
    "        # and update the possible choices of the ban_matrix with the current pool\n",
    "        df_proba = df[:,2:end]  .* pool\n",
    "        # weighted utility \n",
    "        weighted_utility = df_proba .* utility\n",
    "        # find the top 5 champions\n",
    "        top_n = sortperm(weighted_utility[:,pos],rev=true )[1:n]\n",
    "        # randomly choose one of the top n champions\n",
    "        champion_row = rand(top_n)\n",
    "        # retrieve champion position\n",
    "        champion_col = pos\n",
    "        # retrieve the champion name\n",
    "        champion_name = df[champion_row,1] \n",
    "        return champion_row, champion_col, champion_name\n",
    "    end\n",
    "end"
   ]
  },
  {
   "cell_type": "code",
   "execution_count": 722,
   "metadata": {},
   "outputs": [
    {
     "data": {
      "text/plain": [
       "optimal_choice (generic function with 2 methods)"
      ]
     },
     "execution_count": 722,
     "metadata": {},
     "output_type": "execute_result"
    }
   ],
   "source": [
    "function optimal_choice(pool, utility, type, pos)\n",
    "\n",
    "    # transform the dataframe by removing champion name \n",
    "    # and update the possible choices of the ban_matrix with the current pool\n",
    "    utility = utility .* pool\n",
    "\n",
    "    # if type is \"ban\"\n",
    "    if type == \"ban\"\n",
    "        # find the top n champions\n",
    "        opt = findmax(utility)\n",
    "        # best utility\n",
    "        u_opt = opt[1]\n",
    "        # retrieve the champion row\n",
    "        champion_row = opt[2][1]\n",
    "        # retrieve the champion col\n",
    "        champion_col = opt[2][2]\n",
    "        return u_opt, champion_row, champion_col\n",
    "    # if type is \"pick\"\n",
    "    elseif type == \"pick\"\n",
    "        # find the top n champions\n",
    "        opt = findmax(utility[:,pos])\n",
    "        # best utility\n",
    "        u_opt = opt[1]\n",
    "        # retrieve the champion row\n",
    "        champion_row = opt[2][1]\n",
    "        # retrieve the champion col\n",
    "        champion_col = pos\n",
    "        return u_opt, champion_row, champion_col\n",
    "    end\n",
    "end"
   ]
  },
  {
   "cell_type": "markdown",
   "metadata": {},
   "source": [
    "we can add one more function that determines a similar top 5 but instead does it with utility which are weighted based on the probabilities"
   ]
  },
  {
   "cell_type": "code",
   "execution_count": 740,
   "metadata": {},
   "outputs": [],
   "source": [
    "# Dataframe for bans\n",
    "bans = DataFrame(Ban1 = String[], Ban2 = String[], Ban3 = String[], Ban4 = String[], Ban5 = String[]) # matrix of champions banned to understand order of choices\n",
    "push!(bans, [\" \", \" \", \" \", \" \", \" \"])\n",
    "push!(bans, [\" \", \" \", \" \", \" \", \" \"])\n",
    "# Dataframe for picks\n",
    "picks = DataFrame(Pick1 = String[], Pick2 = String[], Pick3 = String[], Pick4 = String[], Pick5 = String[]) # matrix of champions picked to understand order of choices\n",
    "push!(picks, [\" \", \" \", \" \", \" \", \" \"])\n",
    "push!(picks, [\" \", \" \", \" \", \" \", \" \"])\n",
    "push!(picks, [\" \", \" \", \" \", \" \", \" \"])\n",
    "push!(picks, [\" \", \" \", \" \", \" \", \" \"])\n",
    "\n",
    "# Define the sets\n",
    "tbb = [1,3,5,14,16] # blue team ban events\n",
    "trb = [2,4,6,13,15] # red team ban events\n",
    "tbp = [7,10,11,18,19] # blue team pick events\n",
    "trp = [8,9,12,17,20]; # red team pick events"
   ]
  },
  {
   "cell_type": "code",
   "execution_count": 764,
   "metadata": {},
   "outputs": [
    {
     "data": {
      "text/plain": [
       "baseline (generic function with 2 methods)"
      ]
     },
     "execution_count": 764,
     "metadata": {},
     "output_type": "execute_result"
    }
   ],
   "source": [
    "function baseline(r,model)\n",
    "    # Define decision variables\n",
    "    T = 20 # number of events\n",
    "    n = size(utility_B)[1] # number of champions\n",
    "    m = size(utility_B)[2] -1; # number of positions\n",
    "    global pool = ones(n,m) # matrix of champions in the pool\n",
    "\n",
    "    # Probability matrices\n",
    "    ban_proba = ban_mat[:,2:end]\n",
    "    pick_proba = pick_mat[:,2:end]\n",
    "\n",
    "    # Event vectors for picks\n",
    "    picks_red = [1,2,3,4,5]\n",
    "    picks_blue = [1,2,3,4,5]\n",
    "\n",
    "    global banned = []\n",
    "    # Set dummy variables\n",
    "    t1 = 0\n",
    "    t2 = 0\n",
    "    t3 = 0\n",
    "    t4 = 0\n",
    "\n",
    "    # Define the independant variables\n",
    "    UB = Array(utility_B[:,2:end]) # blue team utility\n",
    "    UR = Array(utility_R[:,2:end]) # red team utility\n",
    "\n",
    "    # Total utility\n",
    "    BU_T = 0 # total utility of blue team\n",
    "    RU_T = 0; # total utility of red team\n",
    "\n",
    "    for t in 1:T\n",
    "        if t in tbb\n",
    "            t1 += 1\n",
    "            # find champion with highest utility\n",
    "            fun = optimal_choice(pool,UR,\"ban\",0)\n",
    "            # retrieve the champion row\n",
    "            blue_ban = fun[2]\n",
    "            # push blue_ban to banned list\n",
    "            push!(banned, blue_ban)\n",
    "            # calculate utility of the red ban\n",
    "            BU_T += fun[1]\n",
    "            # update the pool\n",
    "            pool[blue_ban,:] .= 0\n",
    "            # add the red ban to the bans matrix row 2\n",
    "            bans[1,t1] = ban_mat[blue_ban,1]\n",
    "        \n",
    "        elseif t in trb\n",
    "            t2 += 1\n",
    "            # choose randomly the red ban from the top-5 most probable champions\n",
    "            if model == \"random\"\n",
    "                fun = proba_random(pool,ban_mat,\"ban\",r,0)\n",
    "            elseif model == \"weighted\"\n",
    "                fun = weighted_utility(pool,ban_mat,\"ban\",r,0,UB)\n",
    "            end\n",
    "            # fun = top_n_random(pool, ban_mat, \"ban\", r,0)\n",
    "            # fun = weighted_utility(pool, ban_mat, \"ban\", r,0, UB)\n",
    "            red_ban = fun[1]\n",
    "            # push red_ban to banned list\n",
    "            push!(banned, red_ban)\n",
    "            # calculate utility of the red ban\n",
    "            RU_T += maximum(UB[red_ban, :])\n",
    "            # update the pool\n",
    "            pool[red_ban,:] .= 0\n",
    "            # add the red ban to the bans matrix row 2\n",
    "            bans[2,t2] = fun[2]\n",
    "\n",
    "\n",
    "        elseif t in tbp\n",
    "            t3 += 1\n",
    "            # best possible pick\n",
    "            opt_pick_utility = 0 \n",
    "            blue_pick = 0\n",
    "            pos = 0 \n",
    "            # picks available\n",
    "            picks_available = picks_blue[picks_blue .> 0]\n",
    "            for i in picks_available \n",
    "                fun = optimal_choice(pool,UB,\"pick\",i)\n",
    "                if fun[1] > opt_pick_utility\n",
    "                    opt_pick_utility = fun[1]\n",
    "                    # champion row\n",
    "                    blue_pick = fun[2]\n",
    "                    # champion position\n",
    "                    pos = fun[3]\n",
    "                end\n",
    "            end\n",
    "            # push blue_pick to banned list\n",
    "            push!(banned, blue_pick)\n",
    "            # calculate utility of the blue pick\n",
    "            BU_T += opt_pick_utility\n",
    "            # update the pool\n",
    "            pool[blue_pick,:] .= 0\n",
    "            # add the red pick to the pick matrix row 1\n",
    "            picks[1,t3] = pick_mat[blue_pick,1]\n",
    "            # add the position of the pick in row 2\n",
    "            picks[2,t3] = names(pick_mat)[pos+1]\n",
    "            # remove the position from the picks_blue vector\n",
    "            picks_blue[pos] = 0\n",
    "\n",
    "\n",
    "        elseif t in trp\n",
    "            t4 += 1\n",
    "            # picks available\n",
    "            picks_available = picks_red[picks_red .> 0]\n",
    "            # randomly choose a number from picks_available (i.e. the position of the pick)\n",
    "            pos = rand(picks_available)\n",
    "            # run function\n",
    "            if model == \"random\"\n",
    "                fun = proba_random(pool,pick_mat,\"pick\",r,pos)\n",
    "            elseif model == \"weighted\"\n",
    "                fun = weighted_utility(pool,pick_mat,\"pick\",r,pos,UR)\n",
    "            end\n",
    "            # fun = top_n_random(pool, pick_mat, \"pick\", r, pos)\n",
    "            # fun = weighted_utility(pool, pick_mat, \"pick\", r,pos, UR)\n",
    "            # choose randomly the pick from the top-5 most probable champions at that position \n",
    "            red_pick = fun[1]\n",
    "            # push red_pick to banned list\n",
    "            push!(banned, red_pick)\n",
    "            # calculate utility of the red ban\n",
    "            RU_T += UR[red_pick, pos]\n",
    "            # update the pool\n",
    "            pool[red_pick,:] .= 0\n",
    "            # add the red pick to the picks matrix row 3\n",
    "            picks[3,t4] = fun[3]\n",
    "            # add the position of the pick in row 4\n",
    "            picks[4,t4] = names(pick_mat)[pos+1]\n",
    "            # remove the position from the picks_played vector\n",
    "            picks_red[pos] = 0\n",
    "\n",
    "        else \n",
    "            println(\"Error\")\n",
    "        end \n",
    "    end\n",
    "    return BU_T, RU_T, bans, picks\n",
    "end"
   ]
  },
  {
   "cell_type": "markdown",
   "metadata": {},
   "source": [
    "### Results for top-3 champions in a purely probabilistic model"
   ]
  },
  {
   "cell_type": "code",
   "execution_count": 773,
   "metadata": {},
   "outputs": [],
   "source": [
    "BU_T, RU_T, bans, picks = baseline(3,\"random\");"
   ]
  },
  {
   "cell_type": "code",
   "execution_count": 774,
   "metadata": {},
   "outputs": [
    {
     "data": {
      "text/plain": [
       "Any[]"
      ]
     },
     "execution_count": 774,
     "metadata": {},
     "output_type": "execute_result"
    }
   ],
   "source": [
    "# which elements appear more than once in the banned list\n",
    "unique([x for x in banned if count(isequal(x), banned) > 1])"
   ]
  },
  {
   "cell_type": "code",
   "execution_count": 775,
   "metadata": {},
   "outputs": [
    {
     "data": {
      "text/html": [
       "<div><div style = \"float: left;\"><span>4×5 DataFrame</span></div><div style = \"clear: both;\"></div></div><div class = \"data-frame\" style = \"overflow-x: scroll;\"><table class = \"data-frame\" style = \"margin-bottom: 6px;\"><thead><tr class = \"header\"><th class = \"rowNumber\" style = \"font-weight: bold; text-align: right;\">Row</th><th style = \"text-align: left;\">Pick1</th><th style = \"text-align: left;\">Pick2</th><th style = \"text-align: left;\">Pick3</th><th style = \"text-align: left;\">Pick4</th><th style = \"text-align: left;\">Pick5</th></tr><tr class = \"subheader headerLastRow\"><th class = \"rowNumber\" style = \"font-weight: bold; text-align: right;\"></th><th title = \"String\" style = \"text-align: left;\">String</th><th title = \"String\" style = \"text-align: left;\">String</th><th title = \"String\" style = \"text-align: left;\">String</th><th title = \"String\" style = \"text-align: left;\">String</th><th title = \"String\" style = \"text-align: left;\">String</th></tr></thead><tbody><tr><td class = \"rowNumber\" style = \"font-weight: bold; text-align: right;\">1</td><td style = \"text-align: left;\">Nautilus</td><td style = \"text-align: left;\">Xin Zhao</td><td style = \"text-align: left;\">Gwen</td><td style = \"text-align: left;\">Vex</td><td style = \"text-align: left;\">Jhin</td></tr><tr><td class = \"rowNumber\" style = \"font-weight: bold; text-align: right;\">2</td><td style = \"text-align: left;\">sup</td><td style = \"text-align: left;\">jng</td><td style = \"text-align: left;\">top</td><td style = \"text-align: left;\">mid</td><td style = \"text-align: left;\">bot</td></tr><tr><td class = \"rowNumber\" style = \"font-weight: bold; text-align: right;\">3</td><td style = \"text-align: left;\">Ezreal</td><td style = \"text-align: left;\">Lissandra</td><td style = \"text-align: left;\">Nami</td><td style = \"text-align: left;\">Jax</td><td style = \"text-align: left;\">Wukong</td></tr><tr><td class = \"rowNumber\" style = \"font-weight: bold; text-align: right;\">4</td><td style = \"text-align: left;\">bot</td><td style = \"text-align: left;\">mid</td><td style = \"text-align: left;\">sup</td><td style = \"text-align: left;\">top</td><td style = \"text-align: left;\">jng</td></tr></tbody></table></div>"
      ],
      "text/latex": [
       "\\begin{tabular}{r|ccccc}\n",
       "\t& Pick1 & Pick2 & Pick3 & Pick4 & Pick5\\\\\n",
       "\t\\hline\n",
       "\t& String & String & String & String & String\\\\\n",
       "\t\\hline\n",
       "\t1 & Nautilus & Xin Zhao & Gwen & Vex & Jhin \\\\\n",
       "\t2 & sup & jng & top & mid & bot \\\\\n",
       "\t3 & Ezreal & Lissandra & Nami & Jax & Wukong \\\\\n",
       "\t4 & bot & mid & sup & top & jng \\\\\n",
       "\\end{tabular}\n"
      ],
      "text/plain": [
       "\u001b[1m4×5 DataFrame\n",
       "\u001b[1m Row │\u001b[1m Pick1    \u001b[1m Pick2     \u001b[1m Pick3  \u001b[1m Pick4  \u001b[1m Pick5\n",
       "     │\u001b[90m String   \u001b[90m String    \u001b[90m String \u001b[90m String \u001b[90m String\n",
       "─────┼─────────────────────────────────────────────\n",
       "   1 │ Nautilus  Xin Zhao   Gwen    Vex     Jhin\n",
       "   2 │ sup       jng        top     mid     bot\n",
       "   3 │ Ezreal    Lissandra  Nami    Jax     Wukong\n",
       "   4 │ bot       mid        sup     top     jng"
      ]
     },
     "execution_count": 775,
     "metadata": {},
     "output_type": "execute_result"
    }
   ],
   "source": [
    "picks"
   ]
  },
  {
   "cell_type": "code",
   "execution_count": 776,
   "metadata": {},
   "outputs": [
    {
     "data": {
      "text/html": [
       "<div><div style = \"float: left;\"><span>2×5 DataFrame</span></div><div style = \"clear: both;\"></div></div><div class = \"data-frame\" style = \"overflow-x: scroll;\"><table class = \"data-frame\" style = \"margin-bottom: 6px;\"><thead><tr class = \"header\"><th class = \"rowNumber\" style = \"font-weight: bold; text-align: right;\">Row</th><th style = \"text-align: left;\">Ban1</th><th style = \"text-align: left;\">Ban2</th><th style = \"text-align: left;\">Ban3</th><th style = \"text-align: left;\">Ban4</th><th style = \"text-align: left;\">Ban5</th></tr><tr class = \"subheader headerLastRow\"><th class = \"rowNumber\" style = \"font-weight: bold; text-align: right;\"></th><th title = \"String\" style = \"text-align: left;\">String</th><th title = \"String\" style = \"text-align: left;\">String</th><th title = \"String\" style = \"text-align: left;\">String</th><th title = \"String\" style = \"text-align: left;\">String</th><th title = \"String\" style = \"text-align: left;\">String</th></tr></thead><tbody><tr><td class = \"rowNumber\" style = \"font-weight: bold; text-align: right;\">1</td><td style = \"text-align: left;\">Aphelios</td><td style = \"text-align: left;\">Viego</td><td style = \"text-align: left;\">Jinx</td><td style = \"text-align: left;\">Ahri</td><td style = \"text-align: left;\">Ornn</td></tr><tr><td class = \"rowNumber\" style = \"font-weight: bold; text-align: right;\">2</td><td style = \"text-align: left;\">Kalista</td><td style = \"text-align: left;\">Zeri</td><td style = \"text-align: left;\">Lucian</td><td style = \"text-align: left;\">Draven</td><td style = \"text-align: left;\">Xayah</td></tr></tbody></table></div>"
      ],
      "text/latex": [
       "\\begin{tabular}{r|ccccc}\n",
       "\t& Ban1 & Ban2 & Ban3 & Ban4 & Ban5\\\\\n",
       "\t\\hline\n",
       "\t& String & String & String & String & String\\\\\n",
       "\t\\hline\n",
       "\t1 & Aphelios & Viego & Jinx & Ahri & Ornn \\\\\n",
       "\t2 & Kalista & Zeri & Lucian & Draven & Xayah \\\\\n",
       "\\end{tabular}\n"
      ],
      "text/plain": [
       "\u001b[1m2×5 DataFrame\n",
       "\u001b[1m Row │\u001b[1m Ban1     \u001b[1m Ban2   \u001b[1m Ban3   \u001b[1m Ban4   \u001b[1m Ban5\n",
       "     │\u001b[90m String   \u001b[90m String \u001b[90m String \u001b[90m String \u001b[90m String\n",
       "─────┼──────────────────────────────────────────\n",
       "   1 │ Aphelios  Viego   Jinx    Ahri    Ornn\n",
       "   2 │ Kalista   Zeri    Lucian  Draven  Xayah"
      ]
     },
     "execution_count": 776,
     "metadata": {},
     "output_type": "execute_result"
    }
   ],
   "source": [
    "bans"
   ]
  },
  {
   "cell_type": "code",
   "execution_count": 777,
   "metadata": {},
   "outputs": [
    {
     "data": {
      "text/plain": [
       "37.51115583147018"
      ]
     },
     "execution_count": 777,
     "metadata": {},
     "output_type": "execute_result"
    }
   ],
   "source": [
    "BU_T"
   ]
  },
  {
   "cell_type": "code",
   "execution_count": 778,
   "metadata": {},
   "outputs": [
    {
     "data": {
      "text/plain": [
       "21.501682707274394"
      ]
     },
     "execution_count": 778,
     "metadata": {},
     "output_type": "execute_result"
    }
   ],
   "source": [
    "RU_T"
   ]
  },
  {
   "cell_type": "code",
   "execution_count": 779,
   "metadata": {},
   "outputs": [
    {
     "data": {
      "text/plain": [
       "20"
      ]
     },
     "execution_count": 779,
     "metadata": {},
     "output_type": "execute_result"
    }
   ],
   "source": [
    "# number of 1 in pool\n",
    "sum(pool[:,1] .== 0)"
   ]
  },
  {
   "cell_type": "markdown",
   "metadata": {},
   "source": [
    "### Results for top-3 champions in a weighted probabilistic model"
   ]
  },
  {
   "cell_type": "code",
   "execution_count": 787,
   "metadata": {},
   "outputs": [],
   "source": [
    "BU_T, RU_T, bans, picks = baseline(3,\"weighted\");"
   ]
  },
  {
   "cell_type": "code",
   "execution_count": 788,
   "metadata": {},
   "outputs": [
    {
     "data": {
      "text/plain": [
       "Any[]"
      ]
     },
     "execution_count": 788,
     "metadata": {},
     "output_type": "execute_result"
    }
   ],
   "source": [
    "# which elements appear more than once in the banned list\n",
    "unique([x for x in banned if count(isequal(x), banned) > 1])"
   ]
  },
  {
   "cell_type": "code",
   "execution_count": 789,
   "metadata": {},
   "outputs": [
    {
     "data": {
      "text/html": [
       "<div><div style = \"float: left;\"><span>4×5 DataFrame</span></div><div style = \"clear: both;\"></div></div><div class = \"data-frame\" style = \"overflow-x: scroll;\"><table class = \"data-frame\" style = \"margin-bottom: 6px;\"><thead><tr class = \"header\"><th class = \"rowNumber\" style = \"font-weight: bold; text-align: right;\">Row</th><th style = \"text-align: left;\">Pick1</th><th style = \"text-align: left;\">Pick2</th><th style = \"text-align: left;\">Pick3</th><th style = \"text-align: left;\">Pick4</th><th style = \"text-align: left;\">Pick5</th></tr><tr class = \"subheader headerLastRow\"><th class = \"rowNumber\" style = \"font-weight: bold; text-align: right;\"></th><th title = \"String\" style = \"text-align: left;\">String</th><th title = \"String\" style = \"text-align: left;\">String</th><th title = \"String\" style = \"text-align: left;\">String</th><th title = \"String\" style = \"text-align: left;\">String</th><th title = \"String\" style = \"text-align: left;\">String</th></tr></thead><tbody><tr><td class = \"rowNumber\" style = \"font-weight: bold; text-align: right;\">1</td><td style = \"text-align: left;\">Nautilus</td><td style = \"text-align: left;\">Xin Zhao</td><td style = \"text-align: left;\">Gwen</td><td style = \"text-align: left;\">Vex</td><td style = \"text-align: left;\">Ezreal</td></tr><tr><td class = \"rowNumber\" style = \"font-weight: bold; text-align: right;\">2</td><td style = \"text-align: left;\">sup</td><td style = \"text-align: left;\">jng</td><td style = \"text-align: left;\">top</td><td style = \"text-align: left;\">mid</td><td style = \"text-align: left;\">bot</td></tr><tr><td class = \"rowNumber\" style = \"font-weight: bold; text-align: right;\">3</td><td style = \"text-align: left;\">Corki</td><td style = \"text-align: left;\">Lee Sin</td><td style = \"text-align: left;\">Sivir</td><td style = \"text-align: left;\">Tahm Kench</td><td style = \"text-align: left;\">Gangplank</td></tr><tr><td class = \"rowNumber\" style = \"font-weight: bold; text-align: right;\">4</td><td style = \"text-align: left;\">mid</td><td style = \"text-align: left;\">jng</td><td style = \"text-align: left;\">bot</td><td style = \"text-align: left;\">sup</td><td style = \"text-align: left;\">top</td></tr></tbody></table></div>"
      ],
      "text/latex": [
       "\\begin{tabular}{r|ccccc}\n",
       "\t& Pick1 & Pick2 & Pick3 & Pick4 & Pick5\\\\\n",
       "\t\\hline\n",
       "\t& String & String & String & String & String\\\\\n",
       "\t\\hline\n",
       "\t1 & Nautilus & Xin Zhao & Gwen & Vex & Ezreal \\\\\n",
       "\t2 & sup & jng & top & mid & bot \\\\\n",
       "\t3 & Corki & Lee Sin & Sivir & Tahm Kench & Gangplank \\\\\n",
       "\t4 & mid & jng & bot & sup & top \\\\\n",
       "\\end{tabular}\n"
      ],
      "text/plain": [
       "\u001b[1m4×5 DataFrame\n",
       "\u001b[1m Row │\u001b[1m Pick1    \u001b[1m Pick2    \u001b[1m Pick3  \u001b[1m Pick4      \u001b[1m Pick5\n",
       "     │\u001b[90m String   \u001b[90m String   \u001b[90m String \u001b[90m String     \u001b[90m String\n",
       "─────┼───────────────────────────────────────────────────\n",
       "   1 │ Nautilus  Xin Zhao  Gwen    Vex         Ezreal\n",
       "   2 │ sup       jng       top     mid         bot\n",
       "   3 │ Corki     Lee Sin   Sivir   Tahm Kench  Gangplank\n",
       "   4 │ mid       jng       bot     sup         top"
      ]
     },
     "execution_count": 789,
     "metadata": {},
     "output_type": "execute_result"
    }
   ],
   "source": [
    "picks"
   ]
  },
  {
   "cell_type": "code",
   "execution_count": 790,
   "metadata": {},
   "outputs": [
    {
     "data": {
      "text/html": [
       "<div><div style = \"float: left;\"><span>2×5 DataFrame</span></div><div style = \"clear: both;\"></div></div><div class = \"data-frame\" style = \"overflow-x: scroll;\"><table class = \"data-frame\" style = \"margin-bottom: 6px;\"><thead><tr class = \"header\"><th class = \"rowNumber\" style = \"font-weight: bold; text-align: right;\">Row</th><th style = \"text-align: left;\">Ban1</th><th style = \"text-align: left;\">Ban2</th><th style = \"text-align: left;\">Ban3</th><th style = \"text-align: left;\">Ban4</th><th style = \"text-align: left;\">Ban5</th></tr><tr class = \"subheader headerLastRow\"><th class = \"rowNumber\" style = \"font-weight: bold; text-align: right;\"></th><th title = \"String\" style = \"text-align: left;\">String</th><th title = \"String\" style = \"text-align: left;\">String</th><th title = \"String\" style = \"text-align: left;\">String</th><th title = \"String\" style = \"text-align: left;\">String</th><th title = \"String\" style = \"text-align: left;\">String</th></tr></thead><tbody><tr><td class = \"rowNumber\" style = \"font-weight: bold; text-align: right;\">1</td><td style = \"text-align: left;\">Aphelios</td><td style = \"text-align: left;\">Viego</td><td style = \"text-align: left;\">Ahri</td><td style = \"text-align: left;\">Ornn</td><td style = \"text-align: left;\">Wukong</td></tr><tr><td class = \"rowNumber\" style = \"font-weight: bold; text-align: right;\">2</td><td style = \"text-align: left;\">Zeri</td><td style = \"text-align: left;\">Jinx</td><td style = \"text-align: left;\">Kalista</td><td style = \"text-align: left;\">Seraphine</td><td style = \"text-align: left;\">Draven</td></tr></tbody></table></div>"
      ],
      "text/latex": [
       "\\begin{tabular}{r|ccccc}\n",
       "\t& Ban1 & Ban2 & Ban3 & Ban4 & Ban5\\\\\n",
       "\t\\hline\n",
       "\t& String & String & String & String & String\\\\\n",
       "\t\\hline\n",
       "\t1 & Aphelios & Viego & Ahri & Ornn & Wukong \\\\\n",
       "\t2 & Zeri & Jinx & Kalista & Seraphine & Draven \\\\\n",
       "\\end{tabular}\n"
      ],
      "text/plain": [
       "\u001b[1m2×5 DataFrame\n",
       "\u001b[1m Row │\u001b[1m Ban1     \u001b[1m Ban2   \u001b[1m Ban3    \u001b[1m Ban4      \u001b[1m Ban5\n",
       "     │\u001b[90m String   \u001b[90m String \u001b[90m String  \u001b[90m String    \u001b[90m String\n",
       "─────┼──────────────────────────────────────────────\n",
       "   1 │ Aphelios  Viego   Ahri     Ornn       Wukong\n",
       "   2 │ Zeri      Jinx    Kalista  Seraphine  Draven"
      ]
     },
     "execution_count": 790,
     "metadata": {},
     "output_type": "execute_result"
    }
   ],
   "source": [
    "bans"
   ]
  },
  {
   "cell_type": "code",
   "execution_count": 791,
   "metadata": {},
   "outputs": [
    {
     "data": {
      "text/plain": [
       "37.3798298720367"
      ]
     },
     "execution_count": 791,
     "metadata": {},
     "output_type": "execute_result"
    }
   ],
   "source": [
    "BU_T"
   ]
  },
  {
   "cell_type": "code",
   "execution_count": 792,
   "metadata": {},
   "outputs": [
    {
     "data": {
      "text/plain": [
       "26.840893497475694"
      ]
     },
     "execution_count": 792,
     "metadata": {},
     "output_type": "execute_result"
    }
   ],
   "source": [
    "RU_T"
   ]
  },
  {
   "cell_type": "code",
   "execution_count": 793,
   "metadata": {},
   "outputs": [
    {
     "data": {
      "text/plain": [
       "20"
      ]
     },
     "execution_count": 793,
     "metadata": {},
     "output_type": "execute_result"
    }
   ],
   "source": [
    "# number of 1 in pool\n",
    "sum(pool[:,1] .== 0)"
   ]
  },
  {
   "cell_type": "markdown",
   "metadata": {},
   "source": [
    "### Plotting the probabilistic model"
   ]
  },
  {
   "cell_type": "code",
   "execution_count": 795,
   "metadata": {},
   "outputs": [
    {
     "data": {
      "image/svg+xml": "<?xml version=\"1.0\" encoding=\"utf-8\"?>\n<svg xmlns=\"http://www.w3.org/2000/svg\" xmlns:xlink=\"http://www.w3.org/1999/xlink\" width=\"600\" height=\"400\" viewBox=\"0 0 2400 1600\">\n<defs>\n  <clipPath id=\"clip250\">\n    <rect x=\"0\" y=\"0\" width=\"2400\" height=\"1600\"/>\n  </clipPath>\n</defs>\n<path clip-path=\"url(#clip250)\" d=\"\nM0 1600 L2400 1600 L2400 0 L0 0  Z\n  \" fill=\"#ffffff\" fill-rule=\"evenodd\" fill-opacity=\"1\"/>\n<defs>\n  <clipPath id=\"clip251\">\n    <rect x=\"480\" y=\"0\" width=\"1681\" height=\"1600\"/>\n  </clipPath>\n</defs>\n<path clip-path=\"url(#clip250)\" d=\"\nM205.121 1423.18 L2352.76 1423.18 L2352.76 47.2441 L205.121 47.2441  Z\n  \" fill=\"#ffffff\" fill-rule=\"evenodd\" fill-opacity=\"1\"/>\n<defs>\n  <clipPath id=\"clip252\">\n    <rect x=\"205\" y=\"47\" width=\"2149\" height=\"1377\"/>\n  </clipPath>\n</defs>\n<polyline clip-path=\"url(#clip252)\" style=\"stroke:#000000; stroke-linecap:round; stroke-linejoin:round; stroke-width:2; stroke-opacity:0.1; fill:none\" points=\"\n  410.622,1423.18 410.622,47.2441 \n  \"/>\n<polyline clip-path=\"url(#clip252)\" style=\"stroke:#000000; stroke-linecap:round; stroke-linejoin:round; stroke-width:2; stroke-opacity:0.1; fill:none\" points=\"\n  700.061,1423.18 700.061,47.2441 \n  \"/>\n<polyline clip-path=\"url(#clip252)\" style=\"stroke:#000000; stroke-linecap:round; stroke-linejoin:round; stroke-width:2; stroke-opacity:0.1; fill:none\" points=\"\n  989.5,1423.18 989.5,47.2441 \n  \"/>\n<polyline clip-path=\"url(#clip252)\" style=\"stroke:#000000; stroke-linecap:round; stroke-linejoin:round; stroke-width:2; stroke-opacity:0.1; fill:none\" points=\"\n  1278.94,1423.18 1278.94,47.2441 \n  \"/>\n<polyline clip-path=\"url(#clip252)\" style=\"stroke:#000000; stroke-linecap:round; stroke-linejoin:round; stroke-width:2; stroke-opacity:0.1; fill:none\" points=\"\n  1568.38,1423.18 1568.38,47.2441 \n  \"/>\n<polyline clip-path=\"url(#clip252)\" style=\"stroke:#000000; stroke-linecap:round; stroke-linejoin:round; stroke-width:2; stroke-opacity:0.1; fill:none\" points=\"\n  1857.82,1423.18 1857.82,47.2441 \n  \"/>\n<polyline clip-path=\"url(#clip252)\" style=\"stroke:#000000; stroke-linecap:round; stroke-linejoin:round; stroke-width:2; stroke-opacity:0.1; fill:none\" points=\"\n  2147.25,1423.18 2147.25,47.2441 \n  \"/>\n<polyline clip-path=\"url(#clip250)\" style=\"stroke:#000000; stroke-linecap:round; stroke-linejoin:round; stroke-width:4; stroke-opacity:1; fill:none\" points=\"\n  205.121,1423.18 2352.76,1423.18 \n  \"/>\n<polyline clip-path=\"url(#clip250)\" style=\"stroke:#000000; stroke-linecap:round; stroke-linejoin:round; stroke-width:4; stroke-opacity:1; fill:none\" points=\"\n  410.622,1423.18 410.622,1404.28 \n  \"/>\n<polyline clip-path=\"url(#clip250)\" style=\"stroke:#000000; stroke-linecap:round; stroke-linejoin:round; stroke-width:4; stroke-opacity:1; fill:none\" points=\"\n  700.061,1423.18 700.061,1404.28 \n  \"/>\n<polyline clip-path=\"url(#clip250)\" style=\"stroke:#000000; stroke-linecap:round; stroke-linejoin:round; stroke-width:4; stroke-opacity:1; fill:none\" points=\"\n  989.5,1423.18 989.5,1404.28 \n  \"/>\n<polyline clip-path=\"url(#clip250)\" style=\"stroke:#000000; stroke-linecap:round; stroke-linejoin:round; stroke-width:4; stroke-opacity:1; fill:none\" points=\"\n  1278.94,1423.18 1278.94,1404.28 \n  \"/>\n<polyline clip-path=\"url(#clip250)\" style=\"stroke:#000000; stroke-linecap:round; stroke-linejoin:round; stroke-width:4; stroke-opacity:1; fill:none\" points=\"\n  1568.38,1423.18 1568.38,1404.28 \n  \"/>\n<polyline clip-path=\"url(#clip250)\" style=\"stroke:#000000; stroke-linecap:round; stroke-linejoin:round; stroke-width:4; stroke-opacity:1; fill:none\" points=\"\n  1857.82,1423.18 1857.82,1404.28 \n  \"/>\n<polyline clip-path=\"url(#clip250)\" style=\"stroke:#000000; stroke-linecap:round; stroke-linejoin:round; stroke-width:4; stroke-opacity:1; fill:none\" points=\"\n  2147.25,1423.18 2147.25,1404.28 \n  \"/>\n<path clip-path=\"url(#clip250)\" d=\"M405.275 1481.64 L421.595 1481.64 L421.595 1485.58 L399.65 1485.58 L399.65 1481.64 Q402.312 1478.89 406.896 1474.26 Q411.502 1469.61 412.683 1468.27 Q414.928 1465.74 415.808 1464.01 Q416.71 1462.25 416.71 1460.56 Q416.71 1457.8 414.766 1456.07 Q412.845 1454.33 409.743 1454.33 Q407.544 1454.33 405.09 1455.09 Q402.66 1455.86 399.882 1457.41 L399.882 1452.69 Q402.706 1451.55 405.159 1450.97 Q407.613 1450.39 409.65 1450.39 Q415.021 1450.39 418.215 1453.08 Q421.409 1455.77 421.409 1460.26 Q421.409 1462.39 420.599 1464.31 Q419.812 1466.2 417.706 1468.8 Q417.127 1469.47 414.025 1472.69 Q410.923 1475.88 405.275 1481.64 Z\" fill=\"#000000\" fill-rule=\"evenodd\" fill-opacity=\"1\" /><path clip-path=\"url(#clip250)\" d=\"M703.07 1455.09 L691.265 1473.54 L703.07 1473.54 L703.07 1455.09 M701.843 1451.02 L707.723 1451.02 L707.723 1473.54 L712.654 1473.54 L712.654 1477.43 L707.723 1477.43 L707.723 1485.58 L703.07 1485.58 L703.07 1477.43 L687.469 1477.43 L687.469 1472.92 L701.843 1451.02 Z\" fill=\"#000000\" fill-rule=\"evenodd\" fill-opacity=\"1\" /><path clip-path=\"url(#clip250)\" d=\"M989.905 1466.44 Q986.757 1466.44 984.905 1468.59 Q983.076 1470.74 983.076 1474.49 Q983.076 1478.22 984.905 1480.39 Q986.757 1482.55 989.905 1482.55 Q993.053 1482.55 994.882 1480.39 Q996.734 1478.22 996.734 1474.49 Q996.734 1470.74 994.882 1468.59 Q993.053 1466.44 989.905 1466.44 M999.187 1451.78 L999.187 1456.04 Q997.428 1455.21 995.622 1454.77 Q993.84 1454.33 992.081 1454.33 Q987.451 1454.33 984.997 1457.45 Q982.567 1460.58 982.22 1466.9 Q983.585 1464.89 985.646 1463.82 Q987.706 1462.73 990.183 1462.73 Q995.391 1462.73 998.4 1465.9 Q1001.43 1469.05 1001.43 1474.49 Q1001.43 1479.82 998.284 1483.03 Q995.136 1486.25 989.905 1486.25 Q983.91 1486.25 980.738 1481.67 Q977.567 1477.06 977.567 1468.33 Q977.567 1460.14 981.456 1455.28 Q985.345 1450.39 991.896 1450.39 Q993.655 1450.39 995.437 1450.74 Q997.243 1451.09 999.187 1451.78 Z\" fill=\"#000000\" fill-rule=\"evenodd\" fill-opacity=\"1\" /><path clip-path=\"url(#clip250)\" d=\"M1278.94 1469.17 Q1275.61 1469.17 1273.68 1470.95 Q1271.79 1472.73 1271.79 1475.86 Q1271.79 1478.98 1273.68 1480.77 Q1275.61 1482.55 1278.94 1482.55 Q1282.27 1482.55 1284.19 1480.77 Q1286.11 1478.96 1286.11 1475.86 Q1286.11 1472.73 1284.19 1470.95 Q1282.29 1469.17 1278.94 1469.17 M1274.26 1467.18 Q1271.25 1466.44 1269.56 1464.38 Q1267.9 1462.32 1267.9 1459.35 Q1267.9 1455.21 1270.84 1452.8 Q1273.8 1450.39 1278.94 1450.39 Q1284.1 1450.39 1287.04 1452.8 Q1289.98 1455.21 1289.98 1459.35 Q1289.98 1462.32 1288.29 1464.38 Q1286.62 1466.44 1283.64 1467.18 Q1287.02 1467.96 1288.89 1470.26 Q1290.79 1472.55 1290.79 1475.86 Q1290.79 1480.88 1287.71 1483.57 Q1284.66 1486.25 1278.94 1486.25 Q1273.22 1486.25 1270.14 1483.57 Q1267.09 1480.88 1267.09 1475.86 Q1267.09 1472.55 1268.98 1470.26 Q1270.88 1467.96 1274.26 1467.18 M1272.55 1459.79 Q1272.55 1462.48 1274.22 1463.98 Q1275.91 1465.49 1278.94 1465.49 Q1281.95 1465.49 1283.64 1463.98 Q1285.35 1462.48 1285.35 1459.79 Q1285.35 1457.11 1283.64 1455.6 Q1281.95 1454.1 1278.94 1454.1 Q1275.91 1454.1 1274.22 1455.6 Q1272.55 1457.11 1272.55 1459.79 Z\" fill=\"#000000\" fill-rule=\"evenodd\" fill-opacity=\"1\" /><path clip-path=\"url(#clip250)\" d=\"M1543.06 1481.64 L1550.7 1481.64 L1550.7 1455.28 L1542.39 1456.95 L1542.39 1452.69 L1550.66 1451.02 L1555.33 1451.02 L1555.33 1481.64 L1562.97 1481.64 L1562.97 1485.58 L1543.06 1485.58 L1543.06 1481.64 Z\" fill=\"#000000\" fill-rule=\"evenodd\" fill-opacity=\"1\" /><path clip-path=\"url(#clip250)\" d=\"M1582.42 1454.1 Q1578.81 1454.1 1576.98 1457.66 Q1575.17 1461.2 1575.17 1468.33 Q1575.17 1475.44 1576.98 1479.01 Q1578.81 1482.55 1582.42 1482.55 Q1586.05 1482.55 1587.86 1479.01 Q1589.68 1475.44 1589.68 1468.33 Q1589.68 1461.2 1587.86 1457.66 Q1586.05 1454.1 1582.42 1454.1 M1582.42 1450.39 Q1588.23 1450.39 1591.28 1455 Q1594.36 1459.58 1594.36 1468.33 Q1594.36 1477.06 1591.28 1481.67 Q1588.23 1486.25 1582.42 1486.25 Q1576.61 1486.25 1573.53 1481.67 Q1570.47 1477.06 1570.47 1468.33 Q1570.47 1459.58 1573.53 1455 Q1576.61 1450.39 1582.42 1450.39 Z\" fill=\"#000000\" fill-rule=\"evenodd\" fill-opacity=\"1\" /><path clip-path=\"url(#clip250)\" d=\"M1833.3 1481.64 L1840.94 1481.64 L1840.94 1455.28 L1832.63 1456.95 L1832.63 1452.69 L1840.89 1451.02 L1845.57 1451.02 L1845.57 1481.64 L1853.21 1481.64 L1853.21 1485.58 L1833.3 1485.58 L1833.3 1481.64 Z\" fill=\"#000000\" fill-rule=\"evenodd\" fill-opacity=\"1\" /><path clip-path=\"url(#clip250)\" d=\"M1866.68 1481.64 L1883 1481.64 L1883 1485.58 L1861.06 1485.58 L1861.06 1481.64 Q1863.72 1478.89 1868.3 1474.26 Q1872.91 1469.61 1874.09 1468.27 Q1876.33 1465.74 1877.21 1464.01 Q1878.12 1462.25 1878.12 1460.56 Q1878.12 1457.8 1876.17 1456.07 Q1874.25 1454.33 1871.15 1454.33 Q1868.95 1454.33 1866.5 1455.09 Q1864.07 1455.86 1861.29 1457.41 L1861.29 1452.69 Q1864.11 1451.55 1866.57 1450.97 Q1869.02 1450.39 1871.06 1450.39 Q1876.43 1450.39 1879.62 1453.08 Q1882.82 1455.77 1882.82 1460.26 Q1882.82 1462.39 1882.01 1464.31 Q1881.22 1466.2 1879.11 1468.8 Q1878.53 1469.47 1875.43 1472.69 Q1872.33 1475.88 1866.68 1481.64 Z\" fill=\"#000000\" fill-rule=\"evenodd\" fill-opacity=\"1\" /><path clip-path=\"url(#clip250)\" d=\"M2121.7 1481.64 L2129.34 1481.64 L2129.34 1455.28 L2121.03 1456.95 L2121.03 1452.69 L2129.29 1451.02 L2133.97 1451.02 L2133.97 1481.64 L2141.61 1481.64 L2141.61 1485.58 L2121.7 1485.58 L2121.7 1481.64 Z\" fill=\"#000000\" fill-rule=\"evenodd\" fill-opacity=\"1\" /><path clip-path=\"url(#clip250)\" d=\"M2163.9 1455.09 L2152.09 1473.54 L2163.9 1473.54 L2163.9 1455.09 M2162.67 1451.02 L2168.55 1451.02 L2168.55 1473.54 L2173.48 1473.54 L2173.48 1477.43 L2168.55 1477.43 L2168.55 1485.58 L2163.9 1485.58 L2163.9 1477.43 L2148.3 1477.43 L2148.3 1472.92 L2162.67 1451.02 Z\" fill=\"#000000\" fill-rule=\"evenodd\" fill-opacity=\"1\" /><path clip-path=\"url(#clip250)\" d=\"M1005.04 1520.52 L1045.24 1520.52 L1045.24 1525.93 L1028.37 1525.93 L1028.37 1568.04 L1021.91 1568.04 L1021.91 1525.93 L1005.04 1525.93 L1005.04 1520.52 Z\" fill=\"#000000\" fill-rule=\"evenodd\" fill-opacity=\"1\" /><path clip-path=\"url(#clip250)\" d=\"M1053.93 1536.5 Q1049.22 1536.5 1046.48 1540.19 Q1043.74 1543.85 1043.74 1550.25 Q1043.74 1556.65 1046.45 1560.34 Q1049.18 1564 1053.93 1564 Q1058.61 1564 1061.34 1560.31 Q1064.08 1556.62 1064.08 1550.25 Q1064.08 1543.92 1061.34 1540.23 Q1058.61 1536.5 1053.93 1536.5 M1053.93 1531.54 Q1061.57 1531.54 1065.93 1536.5 Q1070.29 1541.47 1070.29 1550.25 Q1070.29 1559 1065.93 1564 Q1061.57 1568.97 1053.93 1568.97 Q1046.26 1568.97 1041.9 1564 Q1037.57 1559 1037.57 1550.25 Q1037.57 1541.47 1041.9 1536.5 Q1046.26 1531.54 1053.93 1531.54 Z\" fill=\"#000000\" fill-rule=\"evenodd\" fill-opacity=\"1\" /><path clip-path=\"url(#clip250)\" d=\"M1085.66 1562.7 L1085.66 1581.6 L1079.77 1581.6 L1079.77 1532.4 L1085.66 1532.4 L1085.66 1537.81 Q1087.51 1534.62 1090.31 1533.1 Q1093.14 1531.54 1097.05 1531.54 Q1103.55 1531.54 1107.59 1536.69 Q1111.66 1541.85 1111.66 1550.25 Q1111.66 1558.65 1107.59 1563.81 Q1103.55 1568.97 1097.05 1568.97 Q1093.14 1568.97 1090.31 1567.44 Q1087.51 1565.88 1085.66 1562.7 M1105.58 1550.25 Q1105.58 1543.79 1102.91 1540.13 Q1100.27 1536.44 1095.62 1536.44 Q1090.98 1536.44 1088.3 1540.13 Q1085.66 1543.79 1085.66 1550.25 Q1085.66 1556.71 1088.3 1560.4 Q1090.98 1564.07 1095.62 1564.07 Q1100.27 1564.07 1102.91 1560.4 Q1105.58 1556.71 1105.58 1550.25 Z\" fill=\"#000000\" fill-rule=\"evenodd\" fill-opacity=\"1\" /><path clip-path=\"url(#clip250)\" d=\"M1118.41 1547.58 L1135.57 1547.58 L1135.57 1552.8 L1118.41 1552.8 L1118.41 1547.58 Z\" fill=\"#000000\" fill-rule=\"evenodd\" fill-opacity=\"1\" /><path clip-path=\"url(#clip250)\" d=\"M1174.52 1546.53 L1174.52 1568.04 L1168.67 1568.04 L1168.67 1546.72 Q1168.67 1541.66 1166.7 1539.14 Q1164.72 1536.63 1160.78 1536.63 Q1156.03 1536.63 1153.3 1539.65 Q1150.56 1542.68 1150.56 1547.9 L1150.56 1568.04 L1144.67 1568.04 L1144.67 1532.4 L1150.56 1532.4 L1150.56 1537.93 Q1152.66 1534.72 1155.49 1533.13 Q1158.36 1531.54 1162.08 1531.54 Q1168.22 1531.54 1171.37 1535.36 Q1174.52 1539.14 1174.52 1546.53 Z\" fill=\"#000000\" fill-rule=\"evenodd\" fill-opacity=\"1\" /><path clip-path=\"url(#clip250)\" d=\"M1232.58 1533.76 L1232.58 1539.24 Q1230.1 1537.87 1227.58 1537.2 Q1225.1 1536.5 1222.55 1536.5 Q1216.86 1536.5 1213.71 1540.13 Q1210.55 1543.73 1210.55 1550.25 Q1210.55 1556.78 1213.71 1560.4 Q1216.86 1564 1222.55 1564 Q1225.1 1564 1227.58 1563.33 Q1230.1 1562.63 1232.58 1561.26 L1232.58 1566.68 Q1230.13 1567.82 1227.49 1568.39 Q1224.88 1568.97 1221.92 1568.97 Q1213.87 1568.97 1209.12 1563.91 Q1204.38 1558.85 1204.38 1550.25 Q1204.38 1541.53 1209.15 1536.53 Q1213.96 1531.54 1222.3 1531.54 Q1225 1531.54 1227.58 1532.11 Q1230.16 1532.65 1232.58 1533.76 Z\" fill=\"#000000\" fill-rule=\"evenodd\" fill-opacity=\"1\" /><path clip-path=\"url(#clip250)\" d=\"M1272.4 1546.53 L1272.4 1568.04 L1266.54 1568.04 L1266.54 1546.72 Q1266.54 1541.66 1264.57 1539.14 Q1262.59 1536.63 1258.65 1536.63 Q1253.91 1536.63 1251.17 1539.65 Q1248.43 1542.68 1248.43 1547.9 L1248.43 1568.04 L1242.54 1568.04 L1242.54 1518.52 L1248.43 1518.52 L1248.43 1537.93 Q1250.53 1534.72 1253.36 1533.13 Q1256.23 1531.54 1259.95 1531.54 Q1266.1 1531.54 1269.25 1535.36 Q1272.4 1539.14 1272.4 1546.53 Z\" fill=\"#000000\" fill-rule=\"evenodd\" fill-opacity=\"1\" /><path clip-path=\"url(#clip250)\" d=\"M1300.28 1550.12 Q1293.18 1550.12 1290.44 1551.75 Q1287.71 1553.37 1287.71 1557.29 Q1287.71 1560.4 1289.74 1562.25 Q1291.81 1564.07 1295.35 1564.07 Q1300.22 1564.07 1303.14 1560.63 Q1306.1 1557.16 1306.1 1551.43 L1306.1 1550.12 L1300.28 1550.12 M1311.96 1547.71 L1311.96 1568.04 L1306.1 1568.04 L1306.1 1562.63 Q1304.1 1565.88 1301.11 1567.44 Q1298.12 1568.97 1293.79 1568.97 Q1288.31 1568.97 1285.07 1565.91 Q1281.85 1562.82 1281.85 1557.67 Q1281.85 1551.65 1285.86 1548.6 Q1289.9 1545.54 1297.89 1545.54 L1306.1 1545.54 L1306.1 1544.97 Q1306.1 1540.93 1303.43 1538.73 Q1300.79 1536.5 1295.98 1536.5 Q1292.93 1536.5 1290.03 1537.23 Q1287.13 1537.97 1284.46 1539.43 L1284.46 1534.02 Q1287.68 1532.78 1290.7 1532.17 Q1293.72 1531.54 1296.59 1531.54 Q1304.32 1531.54 1308.14 1535.55 Q1311.96 1539.56 1311.96 1547.71 Z\" fill=\"#000000\" fill-rule=\"evenodd\" fill-opacity=\"1\" /><path clip-path=\"url(#clip250)\" d=\"M1351.78 1539.24 Q1353.97 1535.29 1357.03 1533.41 Q1360.09 1531.54 1364.22 1531.54 Q1369.79 1531.54 1372.82 1535.45 Q1375.84 1539.33 1375.84 1546.53 L1375.84 1568.04 L1369.95 1568.04 L1369.95 1546.72 Q1369.95 1541.59 1368.14 1539.11 Q1366.32 1536.63 1362.6 1536.63 Q1358.05 1536.63 1355.41 1539.65 Q1352.76 1542.68 1352.76 1547.9 L1352.76 1568.04 L1346.88 1568.04 L1346.88 1546.72 Q1346.88 1541.56 1345.06 1539.11 Q1343.25 1536.63 1339.46 1536.63 Q1334.97 1536.63 1332.33 1539.68 Q1329.69 1542.71 1329.69 1547.9 L1329.69 1568.04 L1323.8 1568.04 L1323.8 1532.4 L1329.69 1532.4 L1329.69 1537.93 Q1331.69 1534.66 1334.5 1533.1 Q1337.3 1531.54 1341.15 1531.54 Q1345.03 1531.54 1347.74 1533.51 Q1350.47 1535.48 1351.78 1539.24 Z\" fill=\"#000000\" fill-rule=\"evenodd\" fill-opacity=\"1\" /><path clip-path=\"url(#clip250)\" d=\"M1393.19 1562.7 L1393.19 1581.6 L1387.3 1581.6 L1387.3 1532.4 L1393.19 1532.4 L1393.19 1537.81 Q1395.03 1534.62 1397.83 1533.1 Q1400.67 1531.54 1404.58 1531.54 Q1411.07 1531.54 1415.12 1536.69 Q1419.19 1541.85 1419.19 1550.25 Q1419.19 1558.65 1415.12 1563.81 Q1411.07 1568.97 1404.58 1568.97 Q1400.67 1568.97 1397.83 1567.44 Q1395.03 1565.88 1393.19 1562.7 M1413.11 1550.25 Q1413.11 1543.79 1410.44 1540.13 Q1407.8 1536.44 1403.15 1536.44 Q1398.5 1536.44 1395.83 1540.13 Q1393.19 1543.79 1393.19 1550.25 Q1393.19 1556.71 1395.83 1560.4 Q1398.5 1564.07 1403.15 1564.07 Q1407.8 1564.07 1410.44 1560.4 Q1413.11 1556.71 1413.11 1550.25 Z\" fill=\"#000000\" fill-rule=\"evenodd\" fill-opacity=\"1\" /><path clip-path=\"url(#clip250)\" d=\"M1428.9 1532.4 L1434.76 1532.4 L1434.76 1568.04 L1428.9 1568.04 L1428.9 1532.4 M1428.9 1518.52 L1434.76 1518.52 L1434.76 1525.93 L1428.9 1525.93 L1428.9 1518.52 Z\" fill=\"#000000\" fill-rule=\"evenodd\" fill-opacity=\"1\" /><path clip-path=\"url(#clip250)\" d=\"M1460.82 1536.5 Q1456.11 1536.5 1453.37 1540.19 Q1450.64 1543.85 1450.64 1550.25 Q1450.64 1556.65 1453.34 1560.34 Q1456.08 1564 1460.82 1564 Q1465.5 1564 1468.24 1560.31 Q1470.98 1556.62 1470.98 1550.25 Q1470.98 1543.92 1468.24 1540.23 Q1465.5 1536.5 1460.82 1536.5 M1460.82 1531.54 Q1468.46 1531.54 1472.82 1536.5 Q1477.18 1541.47 1477.18 1550.25 Q1477.18 1559 1472.82 1564 Q1468.46 1568.97 1460.82 1568.97 Q1453.15 1568.97 1448.79 1564 Q1444.46 1559 1444.46 1550.25 Q1444.46 1541.47 1448.79 1536.5 Q1453.15 1531.54 1460.82 1531.54 Z\" fill=\"#000000\" fill-rule=\"evenodd\" fill-opacity=\"1\" /><path clip-path=\"url(#clip250)\" d=\"M1516.52 1546.53 L1516.52 1568.04 L1510.67 1568.04 L1510.67 1546.72 Q1510.67 1541.66 1508.69 1539.14 Q1506.72 1536.63 1502.77 1536.63 Q1498.03 1536.63 1495.29 1539.65 Q1492.56 1542.68 1492.56 1547.9 L1492.56 1568.04 L1486.67 1568.04 L1486.67 1532.4 L1492.56 1532.4 L1492.56 1537.93 Q1494.66 1534.72 1497.49 1533.13 Q1500.35 1531.54 1504.08 1531.54 Q1510.22 1531.54 1513.37 1535.36 Q1516.52 1539.14 1516.52 1546.53 Z\" fill=\"#000000\" fill-rule=\"evenodd\" fill-opacity=\"1\" /><path clip-path=\"url(#clip250)\" d=\"M1550.93 1533.45 L1550.93 1538.98 Q1548.45 1537.71 1545.77 1537.07 Q1543.1 1536.44 1540.23 1536.44 Q1535.87 1536.44 1533.68 1537.77 Q1531.51 1539.11 1531.51 1541.79 Q1531.51 1543.82 1533.07 1545 Q1534.63 1546.15 1539.34 1547.2 L1541.35 1547.64 Q1547.59 1548.98 1550.2 1551.43 Q1552.84 1553.85 1552.84 1558.21 Q1552.84 1563.17 1548.89 1566.07 Q1544.98 1568.97 1538.1 1568.97 Q1535.24 1568.97 1532.12 1568.39 Q1529.03 1567.85 1525.59 1566.74 L1525.59 1560.69 Q1528.84 1562.38 1531.99 1563.24 Q1535.14 1564.07 1538.23 1564.07 Q1542.37 1564.07 1544.6 1562.66 Q1546.82 1561.23 1546.82 1558.65 Q1546.82 1556.27 1545.2 1554.99 Q1543.61 1553.72 1538.17 1552.54 L1536.13 1552.07 Q1530.69 1550.92 1528.27 1548.56 Q1525.85 1546.18 1525.85 1542.04 Q1525.85 1537.01 1529.41 1534.27 Q1532.98 1531.54 1539.53 1531.54 Q1542.78 1531.54 1545.65 1532.01 Q1548.51 1532.49 1550.93 1533.45 Z\" fill=\"#000000\" fill-rule=\"evenodd\" fill-opacity=\"1\" /><polyline clip-path=\"url(#clip252)\" style=\"stroke:#000000; stroke-linecap:round; stroke-linejoin:round; stroke-width:2; stroke-opacity:0.1; fill:none\" points=\"\n  205.121,1217.39 2352.76,1217.39 \n  \"/>\n<polyline clip-path=\"url(#clip252)\" style=\"stroke:#000000; stroke-linecap:round; stroke-linejoin:round; stroke-width:2; stroke-opacity:0.1; fill:none\" points=\"\n  205.121,984.085 2352.76,984.085 \n  \"/>\n<polyline clip-path=\"url(#clip252)\" style=\"stroke:#000000; stroke-linecap:round; stroke-linejoin:round; stroke-width:2; stroke-opacity:0.1; fill:none\" points=\"\n  205.121,750.782 2352.76,750.782 \n  \"/>\n<polyline clip-path=\"url(#clip252)\" style=\"stroke:#000000; stroke-linecap:round; stroke-linejoin:round; stroke-width:2; stroke-opacity:0.1; fill:none\" points=\"\n  205.121,517.479 2352.76,517.479 \n  \"/>\n<polyline clip-path=\"url(#clip252)\" style=\"stroke:#000000; stroke-linecap:round; stroke-linejoin:round; stroke-width:2; stroke-opacity:0.1; fill:none\" points=\"\n  205.121,284.176 2352.76,284.176 \n  \"/>\n<polyline clip-path=\"url(#clip252)\" style=\"stroke:#000000; stroke-linecap:round; stroke-linejoin:round; stroke-width:2; stroke-opacity:0.1; fill:none\" points=\"\n  205.121,50.8732 2352.76,50.8732 \n  \"/>\n<polyline clip-path=\"url(#clip250)\" style=\"stroke:#000000; stroke-linecap:round; stroke-linejoin:round; stroke-width:4; stroke-opacity:1; fill:none\" points=\"\n  205.121,1423.18 205.121,47.2441 \n  \"/>\n<polyline clip-path=\"url(#clip250)\" style=\"stroke:#000000; stroke-linecap:round; stroke-linejoin:round; stroke-width:4; stroke-opacity:1; fill:none\" points=\"\n  205.121,1217.39 224.019,1217.39 \n  \"/>\n<polyline clip-path=\"url(#clip250)\" style=\"stroke:#000000; stroke-linecap:round; stroke-linejoin:round; stroke-width:4; stroke-opacity:1; fill:none\" points=\"\n  205.121,984.085 224.019,984.085 \n  \"/>\n<polyline clip-path=\"url(#clip250)\" style=\"stroke:#000000; stroke-linecap:round; stroke-linejoin:round; stroke-width:4; stroke-opacity:1; fill:none\" points=\"\n  205.121,750.782 224.019,750.782 \n  \"/>\n<polyline clip-path=\"url(#clip250)\" style=\"stroke:#000000; stroke-linecap:round; stroke-linejoin:round; stroke-width:4; stroke-opacity:1; fill:none\" points=\"\n  205.121,517.479 224.019,517.479 \n  \"/>\n<polyline clip-path=\"url(#clip250)\" style=\"stroke:#000000; stroke-linecap:round; stroke-linejoin:round; stroke-width:4; stroke-opacity:1; fill:none\" points=\"\n  205.121,284.176 224.019,284.176 \n  \"/>\n<polyline clip-path=\"url(#clip250)\" style=\"stroke:#000000; stroke-linecap:round; stroke-linejoin:round; stroke-width:4; stroke-opacity:1; fill:none\" points=\"\n  205.121,50.8732 224.019,50.8732 \n  \"/>\n<path clip-path=\"url(#clip250)\" d=\"M118.82 1230.73 L126.459 1230.73 L126.459 1204.37 L118.149 1206.03 L118.149 1201.78 L126.413 1200.11 L131.089 1200.11 L131.089 1230.73 L138.728 1230.73 L138.728 1234.67 L118.82 1234.67 L118.82 1230.73 Z\" fill=\"#000000\" fill-rule=\"evenodd\" fill-opacity=\"1\" /><path clip-path=\"url(#clip250)\" d=\"M148.218 1200.11 L166.575 1200.11 L166.575 1204.04 L152.501 1204.04 L152.501 1212.52 Q153.519 1212.17 154.538 1212.01 Q155.556 1211.82 156.575 1211.82 Q162.362 1211.82 165.741 1214.99 Q169.121 1218.16 169.121 1223.58 Q169.121 1229.16 165.649 1232.26 Q162.177 1235.34 155.857 1235.34 Q153.681 1235.34 151.413 1234.97 Q149.167 1234.6 146.76 1233.86 L146.76 1229.16 Q148.843 1230.29 151.066 1230.85 Q153.288 1231.4 155.765 1231.4 Q159.769 1231.4 162.107 1229.3 Q164.445 1227.19 164.445 1223.58 Q164.445 1219.97 162.107 1217.86 Q159.769 1215.76 155.765 1215.76 Q153.89 1215.76 152.015 1216.17 Q150.163 1216.59 148.218 1217.47 L148.218 1200.11 Z\" fill=\"#000000\" fill-rule=\"evenodd\" fill-opacity=\"1\" /><path clip-path=\"url(#clip250)\" d=\"M121.043 997.43 L137.362 997.43 L137.362 1001.37 L115.418 1001.37 L115.418 997.43 Q118.08 994.676 122.663 990.046 Q127.269 985.393 128.45 984.051 Q130.695 981.528 131.575 979.791 Q132.478 978.032 132.478 976.342 Q132.478 973.588 130.533 971.852 Q128.612 970.116 125.51 970.116 Q123.311 970.116 120.857 970.879 Q118.427 971.643 115.649 973.194 L115.649 968.472 Q118.473 967.338 120.927 966.759 Q123.38 966.18 125.418 966.18 Q130.788 966.18 133.982 968.866 Q137.177 971.551 137.177 976.041 Q137.177 978.171 136.367 980.092 Q135.579 981.99 133.473 984.583 Q132.894 985.254 129.792 988.472 Q126.691 991.666 121.043 997.43 Z\" fill=\"#000000\" fill-rule=\"evenodd\" fill-opacity=\"1\" /><path clip-path=\"url(#clip250)\" d=\"M157.177 969.884 Q153.566 969.884 151.737 973.449 Q149.931 976.99 149.931 984.12 Q149.931 991.227 151.737 994.791 Q153.566 998.333 157.177 998.333 Q160.811 998.333 162.616 994.791 Q164.445 991.227 164.445 984.12 Q164.445 976.99 162.616 973.449 Q160.811 969.884 157.177 969.884 M157.177 966.18 Q162.987 966.18 166.042 970.787 Q169.121 975.37 169.121 984.12 Q169.121 992.847 166.042 997.453 Q162.987 1002.04 157.177 1002.04 Q151.366 1002.04 148.288 997.453 Q145.232 992.847 145.232 984.12 Q145.232 975.37 148.288 970.787 Q151.366 966.18 157.177 966.18 Z\" fill=\"#000000\" fill-rule=\"evenodd\" fill-opacity=\"1\" /><path clip-path=\"url(#clip250)\" d=\"M122.038 764.127 L138.357 764.127 L138.357 768.062 L116.413 768.062 L116.413 764.127 Q119.075 761.373 123.658 756.743 Q128.265 752.09 129.445 750.748 Q131.691 748.224 132.57 746.488 Q133.473 744.729 133.473 743.039 Q133.473 740.285 131.529 738.549 Q129.607 736.812 126.505 736.812 Q124.306 736.812 121.853 737.576 Q119.422 738.34 116.644 739.891 L116.644 735.169 Q119.468 734.035 121.922 733.456 Q124.376 732.877 126.413 732.877 Q131.783 732.877 134.978 735.563 Q138.172 738.248 138.172 742.738 Q138.172 744.868 137.362 746.789 Q136.575 748.687 134.468 751.28 Q133.89 751.951 130.788 755.169 Q127.686 758.363 122.038 764.127 Z\" fill=\"#000000\" fill-rule=\"evenodd\" fill-opacity=\"1\" /><path clip-path=\"url(#clip250)\" d=\"M148.218 733.502 L166.575 733.502 L166.575 737.437 L152.501 737.437 L152.501 745.91 Q153.519 745.562 154.538 745.4 Q155.556 745.215 156.575 745.215 Q162.362 745.215 165.741 748.387 Q169.121 751.558 169.121 756.974 Q169.121 762.553 165.649 765.655 Q162.177 768.734 155.857 768.734 Q153.681 768.734 151.413 768.363 Q149.167 767.993 146.76 767.252 L146.76 762.553 Q148.843 763.687 151.066 764.243 Q153.288 764.798 155.765 764.798 Q159.769 764.798 162.107 762.692 Q164.445 760.586 164.445 756.974 Q164.445 753.363 162.107 751.257 Q159.769 749.15 155.765 749.15 Q153.89 749.15 152.015 749.567 Q150.163 749.984 148.218 750.863 L148.218 733.502 Z\" fill=\"#000000\" fill-rule=\"evenodd\" fill-opacity=\"1\" /><path clip-path=\"url(#clip250)\" d=\"M131.181 516.125 Q134.538 516.843 136.413 519.111 Q138.311 521.38 138.311 524.713 Q138.311 529.829 134.792 532.63 Q131.274 535.431 124.793 535.431 Q122.617 535.431 120.302 534.991 Q118.01 534.574 115.556 533.718 L115.556 529.204 Q117.501 530.338 119.816 530.917 Q122.13 531.495 124.654 531.495 Q129.052 531.495 131.343 529.759 Q133.658 528.023 133.658 524.713 Q133.658 521.658 131.505 519.945 Q129.376 518.208 125.556 518.208 L121.529 518.208 L121.529 514.366 L125.742 514.366 Q129.191 514.366 131.019 513 Q132.848 511.611 132.848 509.019 Q132.848 506.357 130.95 504.945 Q129.075 503.509 125.556 503.509 Q123.635 503.509 121.436 503.926 Q119.237 504.343 116.598 505.222 L116.598 501.056 Q119.26 500.315 121.575 499.945 Q123.913 499.574 125.973 499.574 Q131.297 499.574 134.399 502.005 Q137.501 504.412 137.501 508.533 Q137.501 511.403 135.857 513.394 Q134.214 515.361 131.181 516.125 Z\" fill=\"#000000\" fill-rule=\"evenodd\" fill-opacity=\"1\" /><path clip-path=\"url(#clip250)\" d=\"M157.177 503.278 Q153.566 503.278 151.737 506.843 Q149.931 510.384 149.931 517.514 Q149.931 524.62 151.737 528.185 Q153.566 531.727 157.177 531.727 Q160.811 531.727 162.616 528.185 Q164.445 524.62 164.445 517.514 Q164.445 510.384 162.616 506.843 Q160.811 503.278 157.177 503.278 M157.177 499.574 Q162.987 499.574 166.042 504.181 Q169.121 508.764 169.121 517.514 Q169.121 526.241 166.042 530.847 Q162.987 535.431 157.177 535.431 Q151.366 535.431 148.288 530.847 Q145.232 526.241 145.232 517.514 Q145.232 508.764 148.288 504.181 Q151.366 499.574 157.177 499.574 Z\" fill=\"#000000\" fill-rule=\"evenodd\" fill-opacity=\"1\" /><path clip-path=\"url(#clip250)\" d=\"M132.177 282.822 Q135.533 283.54 137.408 285.808 Q139.306 288.077 139.306 291.41 Q139.306 296.526 135.788 299.327 Q132.269 302.128 125.788 302.128 Q123.612 302.128 121.297 301.688 Q119.006 301.271 116.552 300.415 L116.552 295.901 Q118.496 297.035 120.811 297.614 Q123.126 298.192 125.649 298.192 Q130.047 298.192 132.339 296.456 Q134.654 294.72 134.654 291.41 Q134.654 288.354 132.501 286.642 Q130.371 284.905 126.552 284.905 L122.524 284.905 L122.524 281.063 L126.737 281.063 Q130.186 281.063 132.015 279.697 Q133.843 278.308 133.843 275.716 Q133.843 273.054 131.945 271.642 Q130.07 270.206 126.552 270.206 Q124.63 270.206 122.431 270.623 Q120.232 271.04 117.593 271.919 L117.593 267.753 Q120.255 267.012 122.57 266.642 Q124.908 266.271 126.968 266.271 Q132.292 266.271 135.394 268.702 Q138.496 271.109 138.496 275.23 Q138.496 278.1 136.853 280.091 Q135.209 282.058 132.177 282.822 Z\" fill=\"#000000\" fill-rule=\"evenodd\" fill-opacity=\"1\" /><path clip-path=\"url(#clip250)\" d=\"M148.218 266.896 L166.575 266.896 L166.575 270.831 L152.501 270.831 L152.501 279.304 Q153.519 278.956 154.538 278.794 Q155.556 278.609 156.575 278.609 Q162.362 278.609 165.741 281.78 Q169.121 284.952 169.121 290.368 Q169.121 295.947 165.649 299.049 Q162.177 302.128 155.857 302.128 Q153.681 302.128 151.413 301.757 Q149.167 301.387 146.76 300.646 L146.76 295.947 Q148.843 297.081 151.066 297.637 Q153.288 298.192 155.765 298.192 Q159.769 298.192 162.107 296.086 Q164.445 293.979 164.445 290.368 Q164.445 286.757 162.107 284.651 Q159.769 282.544 155.765 282.544 Q153.89 282.544 152.015 282.961 Q150.163 283.378 148.218 284.257 L148.218 266.896 Z\" fill=\"#000000\" fill-rule=\"evenodd\" fill-opacity=\"1\" /><path clip-path=\"url(#clip250)\" d=\"M129.862 37.6673 L118.056 56.1163 L129.862 56.1163 L129.862 37.6673 M128.635 33.5932 L134.515 33.5932 L134.515 56.1163 L139.445 56.1163 L139.445 60.0051 L134.515 60.0051 L134.515 68.1532 L129.862 68.1532 L129.862 60.0051 L114.26 60.0051 L114.26 55.4913 L128.635 33.5932 Z\" fill=\"#000000\" fill-rule=\"evenodd\" fill-opacity=\"1\" /><path clip-path=\"url(#clip250)\" d=\"M157.177 36.6719 Q153.566 36.6719 151.737 40.2367 Q149.931 43.7784 149.931 50.908 Q149.931 58.0144 151.737 61.5792 Q153.566 65.1208 157.177 65.1208 Q160.811 65.1208 162.616 61.5792 Q164.445 58.0144 164.445 50.908 Q164.445 43.7784 162.616 40.2367 Q160.811 36.6719 157.177 36.6719 M157.177 32.9682 Q162.987 32.9682 166.042 37.5747 Q169.121 42.158 169.121 50.908 Q169.121 59.6348 166.042 64.2412 Q162.987 68.8245 157.177 68.8245 Q151.366 68.8245 148.288 64.2412 Q145.232 59.6348 145.232 50.908 Q145.232 42.158 148.288 37.5747 Q151.366 32.9682 157.177 32.9682 Z\" fill=\"#000000\" fill-rule=\"evenodd\" fill-opacity=\"1\" /><path clip-path=\"url(#clip250)\" d=\"M16.4842 827.276 L16.4842 820.815 L45.3526 820.815 Q52.9915 820.815 56.3653 818.046 Q59.7073 815.277 59.7073 809.07 Q59.7073 802.895 56.3653 800.126 Q52.9915 797.357 45.3526 797.357 L16.4842 797.357 L16.4842 790.896 L46.1484 790.896 Q55.4423 790.896 60.1847 795.511 Q64.9272 800.094 64.9272 809.07 Q64.9272 818.078 60.1847 822.693 Q55.4423 827.276 46.1484 827.276 L16.4842 827.276 Z\" fill=\"#000000\" fill-rule=\"evenodd\" fill-opacity=\"1\" /><path clip-path=\"url(#clip250)\" d=\"M18.2347 773.295 L28.3562 773.295 L28.3562 761.232 L32.9077 761.232 L32.9077 773.295 L52.2594 773.295 Q56.6199 773.295 57.8613 772.117 Q59.1026 770.908 59.1026 767.247 L59.1026 761.232 L64.0042 761.232 L64.0042 767.247 Q64.0042 774.027 61.4897 776.605 Q58.9434 779.183 52.2594 779.183 L32.9077 779.183 L32.9077 783.48 L28.3562 783.48 L28.3562 779.183 L18.2347 779.183 L18.2347 773.295 Z\" fill=\"#000000\" fill-rule=\"evenodd\" fill-opacity=\"1\" /><path clip-path=\"url(#clip250)\" d=\"M28.3562 753.529 L28.3562 747.673 L64.0042 747.673 L64.0042 753.529 L28.3562 753.529 M14.479 753.529 L14.479 747.673 L21.895 747.673 L21.895 753.529 L14.479 753.529 Z\" fill=\"#000000\" fill-rule=\"evenodd\" fill-opacity=\"1\" /><path clip-path=\"url(#clip250)\" d=\"M14.479 735.419 L14.479 729.562 L64.0042 729.562 L64.0042 735.419 L14.479 735.419 Z\" fill=\"#000000\" fill-rule=\"evenodd\" fill-opacity=\"1\" /><path clip-path=\"url(#clip250)\" d=\"M28.3562 717.308 L28.3562 711.452 L64.0042 711.452 L64.0042 717.308 L28.3562 717.308 M14.479 717.308 L14.479 711.452 L21.895 711.452 L21.895 717.308 L14.479 717.308 Z\" fill=\"#000000\" fill-rule=\"evenodd\" fill-opacity=\"1\" /><path clip-path=\"url(#clip250)\" d=\"M18.2347 693.405 L28.3562 693.405 L28.3562 681.342 L32.9077 681.342 L32.9077 693.405 L52.2594 693.405 Q56.6199 693.405 57.8613 692.228 Q59.1026 691.018 59.1026 687.358 L59.1026 681.342 L64.0042 681.342 L64.0042 687.358 Q64.0042 694.137 61.4897 696.715 Q58.9434 699.293 52.2594 699.293 L32.9077 699.293 L32.9077 703.59 L28.3562 703.59 L28.3562 699.293 L18.2347 699.293 L18.2347 693.405 Z\" fill=\"#000000\" fill-rule=\"evenodd\" fill-opacity=\"1\" /><path clip-path=\"url(#clip250)\" d=\"M67.3143 658.808 Q73.68 661.29 75.6216 663.646 Q77.5631 666.001 77.5631 669.948 L77.5631 674.626 L72.6615 674.626 L72.6615 671.189 Q72.6615 668.77 71.5157 667.433 Q70.3699 666.096 66.1048 664.473 L63.4312 663.423 L28.3562 677.841 L28.3562 671.634 L56.238 660.494 L28.3562 649.355 L28.3562 643.148 L67.3143 658.808 Z\" fill=\"#000000\" fill-rule=\"evenodd\" fill-opacity=\"1\" /><polyline clip-path=\"url(#clip252)\" style=\"stroke:#009af9; stroke-linecap:round; stroke-linejoin:round; stroke-width:4; stroke-opacity:1; fill:none\" points=\"\n  265.903,195.912 410.622,167.004 555.342,167.004 700.061,173.132 844.78,86.1857 989.5,86.1857 1134.22,120.792 1278.94,86.1857 1423.66,109.995 1568.38,92.3134 \n  1713.1,120.792 1857.82,86.1857 2002.54,105.264 2147.25,92.3134 2291.97,92.3134 \n  \"/>\n<polyline clip-path=\"url(#clip252)\" style=\"stroke:#e26f46; stroke-linecap:round; stroke-linejoin:round; stroke-width:4; stroke-opacity:1; fill:none\" points=\"\n  265.903,695.832 410.622,898.203 555.342,1029.44 700.061,853.207 844.78,1040.69 989.5,931.912 1134.22,906.676 1278.94,1152.42 1423.66,1118.03 1568.38,1014.55 \n  1713.1,914.698 1857.82,919.57 2002.54,1189.59 2147.25,775.265 2291.97,1384.24 \n  \"/>\n<path clip-path=\"url(#clip250)\" d=\"\nM276.709 1377.32 L631.121 1377.32 L631.121 1221.8 L276.709 1221.8  Z\n  \" fill=\"#ffffff\" fill-rule=\"evenodd\" fill-opacity=\"1\"/>\n<polyline clip-path=\"url(#clip250)\" style=\"stroke:#000000; stroke-linecap:round; stroke-linejoin:round; stroke-width:4; stroke-opacity:1; fill:none\" points=\"\n  276.709,1377.32 631.121,1377.32 631.121,1221.8 276.709,1221.8 276.709,1377.32 \n  \"/>\n<polyline clip-path=\"url(#clip250)\" style=\"stroke:#009af9; stroke-linecap:round; stroke-linejoin:round; stroke-width:4; stroke-opacity:1; fill:none\" points=\"\n  300.571,1273.64 443.747,1273.64 \n  \"/>\n<path clip-path=\"url(#clip250)\" d=\"M472.286 1274.41 L472.286 1287.07 L479.786 1287.07 Q483.559 1287.07 485.364 1285.52 Q487.193 1283.95 487.193 1280.73 Q487.193 1277.49 485.364 1275.96 Q483.559 1274.41 479.786 1274.41 L472.286 1274.41 M472.286 1260.2 L472.286 1270.61 L479.207 1270.61 Q482.633 1270.61 484.299 1269.34 Q485.989 1268.05 485.989 1265.41 Q485.989 1262.79 484.299 1261.49 Q482.633 1260.2 479.207 1260.2 L472.286 1260.2 M467.61 1256.36 L479.554 1256.36 Q484.901 1256.36 487.795 1258.58 Q490.688 1260.8 490.688 1264.9 Q490.688 1268.07 489.207 1269.94 Q487.725 1271.82 484.855 1272.28 Q488.304 1273.02 490.202 1275.38 Q492.123 1277.72 492.123 1281.24 Q492.123 1285.87 488.975 1288.39 Q485.827 1290.92 480.017 1290.92 L467.61 1290.92 L467.61 1256.36 Z\" fill=\"#000000\" fill-rule=\"evenodd\" fill-opacity=\"1\" /><path clip-path=\"url(#clip250)\" d=\"M499.6 1256.36 L504.299 1256.36 L504.299 1277.35 Q504.299 1282.91 506.313 1285.36 Q508.327 1287.79 512.841 1287.79 Q517.332 1287.79 519.346 1285.36 Q521.359 1282.91 521.359 1277.35 L521.359 1256.36 L526.058 1256.36 L526.058 1277.93 Q526.058 1284.69 522.702 1288.14 Q519.369 1291.59 512.841 1291.59 Q506.29 1291.59 502.934 1288.14 Q499.6 1284.69 499.6 1277.93 L499.6 1256.36 Z\" fill=\"#000000\" fill-rule=\"evenodd\" fill-opacity=\"1\" /><path clip-path=\"url(#clip250)\" d=\"M554.345 1298.79 L554.345 1302.1 L529.716 1302.1 L529.716 1298.79 L554.345 1298.79 Z\" fill=\"#000000\" fill-rule=\"evenodd\" fill-opacity=\"1\" /><path clip-path=\"url(#clip250)\" d=\"M553.743 1256.36 L582.979 1256.36 L582.979 1260.29 L570.711 1260.29 L570.711 1290.92 L566.012 1290.92 L566.012 1260.29 L553.743 1260.29 L553.743 1256.36 Z\" fill=\"#000000\" fill-rule=\"evenodd\" fill-opacity=\"1\" /><polyline clip-path=\"url(#clip250)\" style=\"stroke:#e26f46; stroke-linecap:round; stroke-linejoin:round; stroke-width:4; stroke-opacity:1; fill:none\" points=\"\n  300.571,1325.48 443.747,1325.48 \n  \"/>\n<path clip-path=\"url(#clip250)\" d=\"M483.998 1326.55 Q485.503 1327.06 486.915 1328.73 Q488.35 1330.39 489.785 1333.31 L494.531 1342.76 L489.508 1342.76 L485.086 1333.89 Q483.373 1330.42 481.753 1329.28 Q480.156 1328.15 477.378 1328.15 L472.286 1328.15 L472.286 1342.76 L467.61 1342.76 L467.61 1308.2 L478.165 1308.2 Q484.091 1308.2 487.008 1310.67 Q489.924 1313.15 489.924 1318.15 Q489.924 1321.41 488.397 1323.57 Q486.892 1325.72 483.998 1326.55 M472.286 1312.04 L472.286 1324.31 L478.165 1324.31 Q481.545 1324.31 483.258 1322.76 Q484.994 1321.18 484.994 1318.15 Q484.994 1315.12 483.258 1313.59 Q481.545 1312.04 478.165 1312.04 L472.286 1312.04 Z\" fill=\"#000000\" fill-rule=\"evenodd\" fill-opacity=\"1\" /><path clip-path=\"url(#clip250)\" d=\"M500.017 1308.2 L504.716 1308.2 L504.716 1329.19 Q504.716 1334.75 506.73 1337.2 Q508.744 1339.63 513.258 1339.63 Q517.748 1339.63 519.762 1337.2 Q521.776 1334.75 521.776 1329.19 L521.776 1308.2 L526.475 1308.2 L526.475 1329.77 Q526.475 1336.53 523.119 1339.98 Q519.785 1343.43 513.258 1343.43 Q506.707 1343.43 503.35 1339.98 Q500.017 1336.53 500.017 1329.77 L500.017 1308.2 Z\" fill=\"#000000\" fill-rule=\"evenodd\" fill-opacity=\"1\" /><path clip-path=\"url(#clip250)\" d=\"M554.762 1350.63 L554.762 1353.94 L530.133 1353.94 L530.133 1350.63 L554.762 1350.63 Z\" fill=\"#000000\" fill-rule=\"evenodd\" fill-opacity=\"1\" /><path clip-path=\"url(#clip250)\" d=\"M554.16 1308.2 L583.396 1308.2 L583.396 1312.13 L571.128 1312.13 L571.128 1342.76 L566.429 1342.76 L566.429 1312.13 L554.16 1312.13 L554.16 1308.2 Z\" fill=\"#000000\" fill-rule=\"evenodd\" fill-opacity=\"1\" /></svg>\n"
     },
     "execution_count": 795,
     "metadata": {},
     "output_type": "execute_result"
    }
   ],
   "source": [
    "# plot BU_T and RU_T for different values of r\n",
    "r = 1:15\n",
    "BU_T = zeros(15)\n",
    "RU_T = zeros(15)\n",
    "for i in r\n",
    "    BU_T[i], RU_T[i], bans, picks = baseline(i,\"random\")\n",
    "end\n",
    "plot(r, BU_T, label = \"BU_T\")\n",
    "plot!(r, RU_T, label = \"RU_T\")\n",
    "# legend on bottom left \n",
    "plot!(legend = :bottomleft)\n",
    "# y axis label as \"Utility\"\n",
    "plot!(ylabel = \"Utility\")\n",
    "# x axis label as \"r\"\n",
    "plot!(xlabel = \"Top-n champions\")\n"
   ]
  },
  {
   "cell_type": "markdown",
   "metadata": {},
   "source": [
    "### Plotting the weighted probabilistic model"
   ]
  },
  {
   "cell_type": "code",
   "execution_count": 796,
   "metadata": {},
   "outputs": [
    {
     "data": {
      "image/svg+xml": "<?xml version=\"1.0\" encoding=\"utf-8\"?>\n<svg xmlns=\"http://www.w3.org/2000/svg\" xmlns:xlink=\"http://www.w3.org/1999/xlink\" width=\"600\" height=\"400\" viewBox=\"0 0 2400 1600\">\n<defs>\n  <clipPath id=\"clip290\">\n    <rect x=\"0\" y=\"0\" width=\"2400\" height=\"1600\"/>\n  </clipPath>\n</defs>\n<path clip-path=\"url(#clip290)\" d=\"\nM0 1600 L2400 1600 L2400 0 L0 0  Z\n  \" fill=\"#ffffff\" fill-rule=\"evenodd\" fill-opacity=\"1\"/>\n<defs>\n  <clipPath id=\"clip291\">\n    <rect x=\"480\" y=\"0\" width=\"1681\" height=\"1600\"/>\n  </clipPath>\n</defs>\n<path clip-path=\"url(#clip290)\" d=\"\nM203.964 1423.18 L2352.76 1423.18 L2352.76 47.2441 L203.964 47.2441  Z\n  \" fill=\"#ffffff\" fill-rule=\"evenodd\" fill-opacity=\"1\"/>\n<defs>\n  <clipPath id=\"clip292\">\n    <rect x=\"203\" y=\"47\" width=\"2150\" height=\"1377\"/>\n  </clipPath>\n</defs>\n<polyline clip-path=\"url(#clip292)\" style=\"stroke:#000000; stroke-linecap:round; stroke-linejoin:round; stroke-width:2; stroke-opacity:0.1; fill:none\" points=\"\n  409.576,1423.18 409.576,47.2441 \n  \"/>\n<polyline clip-path=\"url(#clip292)\" style=\"stroke:#000000; stroke-linecap:round; stroke-linejoin:round; stroke-width:2; stroke-opacity:0.1; fill:none\" points=\"\n  699.17,1423.18 699.17,47.2441 \n  \"/>\n<polyline clip-path=\"url(#clip292)\" style=\"stroke:#000000; stroke-linecap:round; stroke-linejoin:round; stroke-width:2; stroke-opacity:0.1; fill:none\" points=\"\n  988.765,1423.18 988.765,47.2441 \n  \"/>\n<polyline clip-path=\"url(#clip292)\" style=\"stroke:#000000; stroke-linecap:round; stroke-linejoin:round; stroke-width:2; stroke-opacity:0.1; fill:none\" points=\"\n  1278.36,1423.18 1278.36,47.2441 \n  \"/>\n<polyline clip-path=\"url(#clip292)\" style=\"stroke:#000000; stroke-linecap:round; stroke-linejoin:round; stroke-width:2; stroke-opacity:0.1; fill:none\" points=\"\n  1567.95,1423.18 1567.95,47.2441 \n  \"/>\n<polyline clip-path=\"url(#clip292)\" style=\"stroke:#000000; stroke-linecap:round; stroke-linejoin:round; stroke-width:2; stroke-opacity:0.1; fill:none\" points=\"\n  1857.55,1423.18 1857.55,47.2441 \n  \"/>\n<polyline clip-path=\"url(#clip292)\" style=\"stroke:#000000; stroke-linecap:round; stroke-linejoin:round; stroke-width:2; stroke-opacity:0.1; fill:none\" points=\"\n  2147.14,1423.18 2147.14,47.2441 \n  \"/>\n<polyline clip-path=\"url(#clip290)\" style=\"stroke:#000000; stroke-linecap:round; stroke-linejoin:round; stroke-width:4; stroke-opacity:1; fill:none\" points=\"\n  203.964,1423.18 2352.76,1423.18 \n  \"/>\n<polyline clip-path=\"url(#clip290)\" style=\"stroke:#000000; stroke-linecap:round; stroke-linejoin:round; stroke-width:4; stroke-opacity:1; fill:none\" points=\"\n  409.576,1423.18 409.576,1404.28 \n  \"/>\n<polyline clip-path=\"url(#clip290)\" style=\"stroke:#000000; stroke-linecap:round; stroke-linejoin:round; stroke-width:4; stroke-opacity:1; fill:none\" points=\"\n  699.17,1423.18 699.17,1404.28 \n  \"/>\n<polyline clip-path=\"url(#clip290)\" style=\"stroke:#000000; stroke-linecap:round; stroke-linejoin:round; stroke-width:4; stroke-opacity:1; fill:none\" points=\"\n  988.765,1423.18 988.765,1404.28 \n  \"/>\n<polyline clip-path=\"url(#clip290)\" style=\"stroke:#000000; stroke-linecap:round; stroke-linejoin:round; stroke-width:4; stroke-opacity:1; fill:none\" points=\"\n  1278.36,1423.18 1278.36,1404.28 \n  \"/>\n<polyline clip-path=\"url(#clip290)\" style=\"stroke:#000000; stroke-linecap:round; stroke-linejoin:round; stroke-width:4; stroke-opacity:1; fill:none\" points=\"\n  1567.95,1423.18 1567.95,1404.28 \n  \"/>\n<polyline clip-path=\"url(#clip290)\" style=\"stroke:#000000; stroke-linecap:round; stroke-linejoin:round; stroke-width:4; stroke-opacity:1; fill:none\" points=\"\n  1857.55,1423.18 1857.55,1404.28 \n  \"/>\n<polyline clip-path=\"url(#clip290)\" style=\"stroke:#000000; stroke-linecap:round; stroke-linejoin:round; stroke-width:4; stroke-opacity:1; fill:none\" points=\"\n  2147.14,1423.18 2147.14,1404.28 \n  \"/>\n<path clip-path=\"url(#clip290)\" d=\"M404.229 1481.64 L420.548 1481.64 L420.548 1485.58 L398.604 1485.58 L398.604 1481.64 Q401.266 1478.89 405.849 1474.26 Q410.455 1469.61 411.636 1468.27 Q413.881 1465.74 414.761 1464.01 Q415.664 1462.25 415.664 1460.56 Q415.664 1457.8 413.719 1456.07 Q411.798 1454.33 408.696 1454.33 Q406.497 1454.33 404.043 1455.09 Q401.613 1455.86 398.835 1457.41 L398.835 1452.69 Q401.659 1451.55 404.113 1450.97 Q406.567 1450.39 408.604 1450.39 Q413.974 1450.39 417.168 1453.08 Q420.363 1455.77 420.363 1460.26 Q420.363 1462.39 419.553 1464.31 Q418.766 1466.2 416.659 1468.8 Q416.08 1469.47 412.979 1472.69 Q409.877 1475.88 404.229 1481.64 Z\" fill=\"#000000\" fill-rule=\"evenodd\" fill-opacity=\"1\" /><path clip-path=\"url(#clip290)\" d=\"M702.18 1455.09 L690.374 1473.54 L702.18 1473.54 L702.18 1455.09 M700.953 1451.02 L706.832 1451.02 L706.832 1473.54 L711.763 1473.54 L711.763 1477.43 L706.832 1477.43 L706.832 1485.58 L702.18 1485.58 L702.18 1477.43 L686.578 1477.43 L686.578 1472.92 L700.953 1451.02 Z\" fill=\"#000000\" fill-rule=\"evenodd\" fill-opacity=\"1\" /><path clip-path=\"url(#clip290)\" d=\"M989.17 1466.44 Q986.022 1466.44 984.17 1468.59 Q982.342 1470.74 982.342 1474.49 Q982.342 1478.22 984.17 1480.39 Q986.022 1482.55 989.17 1482.55 Q992.318 1482.55 994.147 1480.39 Q995.999 1478.22 995.999 1474.49 Q995.999 1470.74 994.147 1468.59 Q992.318 1466.44 989.17 1466.44 M998.453 1451.78 L998.453 1456.04 Q996.693 1455.21 994.888 1454.77 Q993.105 1454.33 991.346 1454.33 Q986.716 1454.33 984.263 1457.45 Q981.832 1460.58 981.485 1466.9 Q982.851 1464.89 984.911 1463.82 Q986.971 1462.73 989.448 1462.73 Q994.656 1462.73 997.666 1465.9 Q1000.7 1469.05 1000.7 1474.49 Q1000.7 1479.82 997.55 1483.03 Q994.402 1486.25 989.17 1486.25 Q983.175 1486.25 980.004 1481.67 Q976.832 1477.06 976.832 1468.33 Q976.832 1460.14 980.721 1455.28 Q984.61 1450.39 991.161 1450.39 Q992.92 1450.39 994.703 1450.74 Q996.508 1451.09 998.453 1451.78 Z\" fill=\"#000000\" fill-rule=\"evenodd\" fill-opacity=\"1\" /><path clip-path=\"url(#clip290)\" d=\"M1278.36 1469.17 Q1275.03 1469.17 1273.11 1470.95 Q1271.21 1472.73 1271.21 1475.86 Q1271.21 1478.98 1273.11 1480.77 Q1275.03 1482.55 1278.36 1482.55 Q1281.69 1482.55 1283.61 1480.77 Q1285.54 1478.96 1285.54 1475.86 Q1285.54 1472.73 1283.61 1470.95 Q1281.72 1469.17 1278.36 1469.17 M1273.68 1467.18 Q1270.67 1466.44 1268.98 1464.38 Q1267.32 1462.32 1267.32 1459.35 Q1267.32 1455.21 1270.26 1452.8 Q1273.22 1450.39 1278.36 1450.39 Q1283.52 1450.39 1286.46 1452.8 Q1289.4 1455.21 1289.4 1459.35 Q1289.4 1462.32 1287.71 1464.38 Q1286.04 1466.44 1283.06 1467.18 Q1286.44 1467.96 1288.31 1470.26 Q1290.21 1472.55 1290.21 1475.86 Q1290.21 1480.88 1287.13 1483.57 Q1284.08 1486.25 1278.36 1486.25 Q1272.64 1486.25 1269.56 1483.57 Q1266.51 1480.88 1266.51 1475.86 Q1266.51 1472.55 1268.41 1470.26 Q1270.3 1467.96 1273.68 1467.18 M1271.97 1459.79 Q1271.97 1462.48 1273.64 1463.98 Q1275.33 1465.49 1278.36 1465.49 Q1281.37 1465.49 1283.06 1463.98 Q1284.77 1462.48 1284.77 1459.79 Q1284.77 1457.11 1283.06 1455.6 Q1281.37 1454.1 1278.36 1454.1 Q1275.33 1454.1 1273.64 1455.6 Q1271.97 1457.11 1271.97 1459.79 Z\" fill=\"#000000\" fill-rule=\"evenodd\" fill-opacity=\"1\" /><path clip-path=\"url(#clip290)\" d=\"M1542.64 1481.64 L1550.28 1481.64 L1550.28 1455.28 L1541.97 1456.95 L1541.97 1452.69 L1550.23 1451.02 L1554.91 1451.02 L1554.91 1481.64 L1562.55 1481.64 L1562.55 1485.58 L1542.64 1485.58 L1542.64 1481.64 Z\" fill=\"#000000\" fill-rule=\"evenodd\" fill-opacity=\"1\" /><path clip-path=\"url(#clip290)\" d=\"M1581.99 1454.1 Q1578.38 1454.1 1576.55 1457.66 Q1574.75 1461.2 1574.75 1468.33 Q1574.75 1475.44 1576.55 1479.01 Q1578.38 1482.55 1581.99 1482.55 Q1585.63 1482.55 1587.43 1479.01 Q1589.26 1475.44 1589.26 1468.33 Q1589.26 1461.2 1587.43 1457.66 Q1585.63 1454.1 1581.99 1454.1 M1581.99 1450.39 Q1587.8 1450.39 1590.86 1455 Q1593.94 1459.58 1593.94 1468.33 Q1593.94 1477.06 1590.86 1481.67 Q1587.8 1486.25 1581.99 1486.25 Q1576.18 1486.25 1573.1 1481.67 Q1570.05 1477.06 1570.05 1468.33 Q1570.05 1459.58 1573.1 1455 Q1576.18 1450.39 1581.99 1450.39 Z\" fill=\"#000000\" fill-rule=\"evenodd\" fill-opacity=\"1\" /><path clip-path=\"url(#clip290)\" d=\"M1833.04 1481.64 L1840.67 1481.64 L1840.67 1455.28 L1832.36 1456.95 L1832.36 1452.69 L1840.63 1451.02 L1845.3 1451.02 L1845.3 1481.64 L1852.94 1481.64 L1852.94 1485.58 L1833.04 1485.58 L1833.04 1481.64 Z\" fill=\"#000000\" fill-rule=\"evenodd\" fill-opacity=\"1\" /><path clip-path=\"url(#clip290)\" d=\"M1866.41 1481.64 L1882.73 1481.64 L1882.73 1485.58 L1860.79 1485.58 L1860.79 1481.64 Q1863.45 1478.89 1868.04 1474.26 Q1872.64 1469.61 1873.82 1468.27 Q1876.07 1465.74 1876.95 1464.01 Q1877.85 1462.25 1877.85 1460.56 Q1877.85 1457.8 1875.91 1456.07 Q1873.98 1454.33 1870.88 1454.33 Q1868.68 1454.33 1866.23 1455.09 Q1863.8 1455.86 1861.02 1457.41 L1861.02 1452.69 Q1863.85 1451.55 1866.3 1450.97 Q1868.75 1450.39 1870.79 1450.39 Q1876.16 1450.39 1879.35 1453.08 Q1882.55 1455.77 1882.55 1460.26 Q1882.55 1462.39 1881.74 1464.31 Q1880.95 1466.2 1878.85 1468.8 Q1878.27 1469.47 1875.16 1472.69 Q1872.06 1475.88 1866.41 1481.64 Z\" fill=\"#000000\" fill-rule=\"evenodd\" fill-opacity=\"1\" /><path clip-path=\"url(#clip290)\" d=\"M2121.59 1481.64 L2129.23 1481.64 L2129.23 1455.28 L2120.92 1456.95 L2120.92 1452.69 L2129.18 1451.02 L2133.86 1451.02 L2133.86 1481.64 L2141.5 1481.64 L2141.5 1485.58 L2121.59 1485.58 L2121.59 1481.64 Z\" fill=\"#000000\" fill-rule=\"evenodd\" fill-opacity=\"1\" /><path clip-path=\"url(#clip290)\" d=\"M2163.79 1455.09 L2151.98 1473.54 L2163.79 1473.54 L2163.79 1455.09 M2162.56 1451.02 L2168.44 1451.02 L2168.44 1473.54 L2173.37 1473.54 L2173.37 1477.43 L2168.44 1477.43 L2168.44 1485.58 L2163.79 1485.58 L2163.79 1477.43 L2148.19 1477.43 L2148.19 1472.92 L2162.56 1451.02 Z\" fill=\"#000000\" fill-rule=\"evenodd\" fill-opacity=\"1\" /><path clip-path=\"url(#clip290)\" d=\"M1004.46 1520.52 L1044.66 1520.52 L1044.66 1525.93 L1027.79 1525.93 L1027.79 1568.04 L1021.33 1568.04 L1021.33 1525.93 L1004.46 1525.93 L1004.46 1520.52 Z\" fill=\"#000000\" fill-rule=\"evenodd\" fill-opacity=\"1\" /><path clip-path=\"url(#clip290)\" d=\"M1053.35 1536.5 Q1048.64 1536.5 1045.9 1540.19 Q1043.16 1543.85 1043.16 1550.25 Q1043.16 1556.65 1045.87 1560.34 Q1048.61 1564 1053.35 1564 Q1058.03 1564 1060.76 1560.31 Q1063.5 1556.62 1063.5 1550.25 Q1063.5 1543.92 1060.76 1540.23 Q1058.03 1536.5 1053.35 1536.5 M1053.35 1531.54 Q1060.99 1531.54 1065.35 1536.5 Q1069.71 1541.47 1069.71 1550.25 Q1069.71 1559 1065.35 1564 Q1060.99 1568.97 1053.35 1568.97 Q1045.68 1568.97 1041.32 1564 Q1036.99 1559 1036.99 1550.25 Q1036.99 1541.47 1041.32 1536.5 Q1045.68 1531.54 1053.35 1531.54 Z\" fill=\"#000000\" fill-rule=\"evenodd\" fill-opacity=\"1\" /><path clip-path=\"url(#clip290)\" d=\"M1085.08 1562.7 L1085.08 1581.6 L1079.19 1581.6 L1079.19 1532.4 L1085.08 1532.4 L1085.08 1537.81 Q1086.93 1534.62 1089.73 1533.1 Q1092.56 1531.54 1096.48 1531.54 Q1102.97 1531.54 1107.01 1536.69 Q1111.08 1541.85 1111.08 1550.25 Q1111.08 1558.65 1107.01 1563.81 Q1102.97 1568.97 1096.48 1568.97 Q1092.56 1568.97 1089.73 1567.44 Q1086.93 1565.88 1085.08 1562.7 M1105.01 1550.25 Q1105.01 1543.79 1102.33 1540.13 Q1099.69 1536.44 1095.04 1536.44 Q1090.4 1536.44 1087.72 1540.13 Q1085.08 1543.79 1085.08 1550.25 Q1085.08 1556.71 1087.72 1560.4 Q1090.4 1564.07 1095.04 1564.07 Q1099.69 1564.07 1102.33 1560.4 Q1105.01 1556.71 1105.01 1550.25 Z\" fill=\"#000000\" fill-rule=\"evenodd\" fill-opacity=\"1\" /><path clip-path=\"url(#clip290)\" d=\"M1117.83 1547.58 L1134.99 1547.58 L1134.99 1552.8 L1117.83 1552.8 L1117.83 1547.58 Z\" fill=\"#000000\" fill-rule=\"evenodd\" fill-opacity=\"1\" /><path clip-path=\"url(#clip290)\" d=\"M1173.95 1546.53 L1173.95 1568.04 L1168.09 1568.04 L1168.09 1546.72 Q1168.09 1541.66 1166.12 1539.14 Q1164.14 1536.63 1160.2 1536.63 Q1155.45 1536.63 1152.72 1539.65 Q1149.98 1542.68 1149.98 1547.9 L1149.98 1568.04 L1144.09 1568.04 L1144.09 1532.4 L1149.98 1532.4 L1149.98 1537.93 Q1152.08 1534.72 1154.91 1533.13 Q1157.78 1531.54 1161.5 1531.54 Q1167.64 1531.54 1170.8 1535.36 Q1173.95 1539.14 1173.95 1546.53 Z\" fill=\"#000000\" fill-rule=\"evenodd\" fill-opacity=\"1\" /><path clip-path=\"url(#clip290)\" d=\"M1232 1533.76 L1232 1539.24 Q1229.52 1537.87 1227 1537.2 Q1224.52 1536.5 1221.98 1536.5 Q1216.28 1536.5 1213.13 1540.13 Q1209.98 1543.73 1209.98 1550.25 Q1209.98 1556.78 1213.13 1560.4 Q1216.28 1564 1221.98 1564 Q1224.52 1564 1227 1563.33 Q1229.52 1562.63 1232 1561.26 L1232 1566.68 Q1229.55 1567.82 1226.91 1568.39 Q1224.3 1568.97 1221.34 1568.97 Q1213.29 1568.97 1208.54 1563.91 Q1203.8 1558.85 1203.8 1550.25 Q1203.8 1541.53 1208.58 1536.53 Q1213.38 1531.54 1221.72 1531.54 Q1224.43 1531.54 1227 1532.11 Q1229.58 1532.65 1232 1533.76 Z\" fill=\"#000000\" fill-rule=\"evenodd\" fill-opacity=\"1\" /><path clip-path=\"url(#clip290)\" d=\"M1271.82 1546.53 L1271.82 1568.04 L1265.96 1568.04 L1265.96 1546.72 Q1265.96 1541.66 1263.99 1539.14 Q1262.02 1536.63 1258.07 1536.63 Q1253.33 1536.63 1250.59 1539.65 Q1247.85 1542.68 1247.85 1547.9 L1247.85 1568.04 L1241.96 1568.04 L1241.96 1518.52 L1247.85 1518.52 L1247.85 1537.93 Q1249.95 1534.72 1252.79 1533.13 Q1255.65 1531.54 1259.37 1531.54 Q1265.52 1531.54 1268.67 1535.36 Q1271.82 1539.14 1271.82 1546.53 Z\" fill=\"#000000\" fill-rule=\"evenodd\" fill-opacity=\"1\" /><path clip-path=\"url(#clip290)\" d=\"M1299.7 1550.12 Q1292.6 1550.12 1289.87 1551.75 Q1287.13 1553.37 1287.13 1557.29 Q1287.13 1560.4 1289.17 1562.25 Q1291.23 1564.07 1294.77 1564.07 Q1299.64 1564.07 1302.57 1560.63 Q1305.53 1557.16 1305.53 1551.43 L1305.53 1550.12 L1299.7 1550.12 M1311.38 1547.71 L1311.38 1568.04 L1305.53 1568.04 L1305.53 1562.63 Q1303.52 1565.88 1300.53 1567.44 Q1297.54 1568.97 1293.21 1568.97 Q1287.73 1568.97 1284.49 1565.91 Q1281.27 1562.82 1281.27 1557.67 Q1281.27 1551.65 1285.28 1548.6 Q1289.32 1545.54 1297.31 1545.54 L1305.53 1545.54 L1305.53 1544.97 Q1305.53 1540.93 1302.85 1538.73 Q1300.21 1536.5 1295.4 1536.5 Q1292.35 1536.5 1289.45 1537.23 Q1286.56 1537.97 1283.88 1539.43 L1283.88 1534.02 Q1287.1 1532.78 1290.12 1532.17 Q1293.14 1531.54 1296.01 1531.54 Q1303.74 1531.54 1307.56 1535.55 Q1311.38 1539.56 1311.38 1547.71 Z\" fill=\"#000000\" fill-rule=\"evenodd\" fill-opacity=\"1\" /><path clip-path=\"url(#clip290)\" d=\"M1351.2 1539.24 Q1353.4 1535.29 1356.45 1533.41 Q1359.51 1531.54 1363.64 1531.54 Q1369.21 1531.54 1372.24 1535.45 Q1375.26 1539.33 1375.26 1546.53 L1375.26 1568.04 L1369.37 1568.04 L1369.37 1546.72 Q1369.37 1541.59 1367.56 1539.11 Q1365.74 1536.63 1362.02 1536.63 Q1357.47 1536.63 1354.83 1539.65 Q1352.19 1542.68 1352.19 1547.9 L1352.19 1568.04 L1346.3 1568.04 L1346.3 1546.72 Q1346.3 1541.56 1344.48 1539.11 Q1342.67 1536.63 1338.88 1536.63 Q1334.39 1536.63 1331.75 1539.68 Q1329.11 1542.71 1329.11 1547.9 L1329.11 1568.04 L1323.22 1568.04 L1323.22 1532.4 L1329.11 1532.4 L1329.11 1537.93 Q1331.12 1534.66 1333.92 1533.1 Q1336.72 1531.54 1340.57 1531.54 Q1344.45 1531.54 1347.16 1533.51 Q1349.89 1535.48 1351.2 1539.24 Z\" fill=\"#000000\" fill-rule=\"evenodd\" fill-opacity=\"1\" /><path clip-path=\"url(#clip290)\" d=\"M1392.61 1562.7 L1392.61 1581.6 L1386.72 1581.6 L1386.72 1532.4 L1392.61 1532.4 L1392.61 1537.81 Q1394.45 1534.62 1397.26 1533.1 Q1400.09 1531.54 1404 1531.54 Q1410.5 1531.54 1414.54 1536.69 Q1418.61 1541.85 1418.61 1550.25 Q1418.61 1558.65 1414.54 1563.81 Q1410.5 1568.97 1404 1568.97 Q1400.09 1568.97 1397.26 1567.44 Q1394.45 1565.88 1392.61 1562.7 M1412.53 1550.25 Q1412.53 1543.79 1409.86 1540.13 Q1407.22 1536.44 1402.57 1536.44 Q1397.92 1536.44 1395.25 1540.13 Q1392.61 1543.79 1392.61 1550.25 Q1392.61 1556.71 1395.25 1560.4 Q1397.92 1564.07 1402.57 1564.07 Q1407.22 1564.07 1409.86 1560.4 Q1412.53 1556.71 1412.53 1550.25 Z\" fill=\"#000000\" fill-rule=\"evenodd\" fill-opacity=\"1\" /><path clip-path=\"url(#clip290)\" d=\"M1428.32 1532.4 L1434.18 1532.4 L1434.18 1568.04 L1428.32 1568.04 L1428.32 1532.4 M1428.32 1518.52 L1434.18 1518.52 L1434.18 1525.93 L1428.32 1525.93 L1428.32 1518.52 Z\" fill=\"#000000\" fill-rule=\"evenodd\" fill-opacity=\"1\" /><path clip-path=\"url(#clip290)\" d=\"M1460.24 1536.5 Q1455.53 1536.5 1452.8 1540.19 Q1450.06 1543.85 1450.06 1550.25 Q1450.06 1556.65 1452.76 1560.34 Q1455.5 1564 1460.24 1564 Q1464.92 1564 1467.66 1560.31 Q1470.4 1556.62 1470.4 1550.25 Q1470.4 1543.92 1467.66 1540.23 Q1464.92 1536.5 1460.24 1536.5 M1460.24 1531.54 Q1467.88 1531.54 1472.24 1536.5 Q1476.6 1541.47 1476.6 1550.25 Q1476.6 1559 1472.24 1564 Q1467.88 1568.97 1460.24 1568.97 Q1452.57 1568.97 1448.21 1564 Q1443.88 1559 1443.88 1550.25 Q1443.88 1541.47 1448.21 1536.5 Q1452.57 1531.54 1460.24 1531.54 Z\" fill=\"#000000\" fill-rule=\"evenodd\" fill-opacity=\"1\" /><path clip-path=\"url(#clip290)\" d=\"M1515.94 1546.53 L1515.94 1568.04 L1510.09 1568.04 L1510.09 1546.72 Q1510.09 1541.66 1508.11 1539.14 Q1506.14 1536.63 1502.19 1536.63 Q1497.45 1536.63 1494.71 1539.65 Q1491.98 1542.68 1491.98 1547.9 L1491.98 1568.04 L1486.09 1568.04 L1486.09 1532.4 L1491.98 1532.4 L1491.98 1537.93 Q1494.08 1534.72 1496.91 1533.13 Q1499.77 1531.54 1503.5 1531.54 Q1509.64 1531.54 1512.79 1535.36 Q1515.94 1539.14 1515.94 1546.53 Z\" fill=\"#000000\" fill-rule=\"evenodd\" fill-opacity=\"1\" /><path clip-path=\"url(#clip290)\" d=\"M1550.35 1533.45 L1550.35 1538.98 Q1547.87 1537.71 1545.19 1537.07 Q1542.52 1536.44 1539.66 1536.44 Q1535.3 1536.44 1533.1 1537.77 Q1530.94 1539.11 1530.94 1541.79 Q1530.94 1543.82 1532.49 1545 Q1534.05 1546.15 1538.76 1547.2 L1540.77 1547.64 Q1547.01 1548.98 1549.62 1551.43 Q1552.26 1553.85 1552.26 1558.21 Q1552.26 1563.17 1548.31 1566.07 Q1544.4 1568.97 1537.52 1568.97 Q1534.66 1568.97 1531.54 1568.39 Q1528.45 1567.85 1525.01 1566.74 L1525.01 1560.69 Q1528.26 1562.38 1531.41 1563.24 Q1534.56 1564.07 1537.65 1564.07 Q1541.79 1564.07 1544.02 1562.66 Q1546.24 1561.23 1546.24 1558.65 Q1546.24 1556.27 1544.62 1554.99 Q1543.03 1553.72 1537.59 1552.54 L1535.55 1552.07 Q1530.11 1550.92 1527.69 1548.56 Q1525.27 1546.18 1525.27 1542.04 Q1525.27 1537.01 1528.83 1534.27 Q1532.4 1531.54 1538.96 1531.54 Q1542.2 1531.54 1545.07 1532.01 Q1547.93 1532.49 1550.35 1533.45 Z\" fill=\"#000000\" fill-rule=\"evenodd\" fill-opacity=\"1\" /><polyline clip-path=\"url(#clip292)\" style=\"stroke:#000000; stroke-linecap:round; stroke-linejoin:round; stroke-width:2; stroke-opacity:0.1; fill:none\" points=\"\n  203.964,1399.48 2352.76,1399.48 \n  \"/>\n<polyline clip-path=\"url(#clip292)\" style=\"stroke:#000000; stroke-linecap:round; stroke-linejoin:round; stroke-width:2; stroke-opacity:0.1; fill:none\" points=\"\n  203.964,1128.62 2352.76,1128.62 \n  \"/>\n<polyline clip-path=\"url(#clip292)\" style=\"stroke:#000000; stroke-linecap:round; stroke-linejoin:round; stroke-width:2; stroke-opacity:0.1; fill:none\" points=\"\n  203.964,857.762 2352.76,857.762 \n  \"/>\n<polyline clip-path=\"url(#clip292)\" style=\"stroke:#000000; stroke-linecap:round; stroke-linejoin:round; stroke-width:2; stroke-opacity:0.1; fill:none\" points=\"\n  203.964,586.904 2352.76,586.904 \n  \"/>\n<polyline clip-path=\"url(#clip292)\" style=\"stroke:#000000; stroke-linecap:round; stroke-linejoin:round; stroke-width:2; stroke-opacity:0.1; fill:none\" points=\"\n  203.964,316.047 2352.76,316.047 \n  \"/>\n<polyline clip-path=\"url(#clip290)\" style=\"stroke:#000000; stroke-linecap:round; stroke-linejoin:round; stroke-width:4; stroke-opacity:1; fill:none\" points=\"\n  203.964,1423.18 203.964,47.2441 \n  \"/>\n<polyline clip-path=\"url(#clip290)\" style=\"stroke:#000000; stroke-linecap:round; stroke-linejoin:round; stroke-width:4; stroke-opacity:1; fill:none\" points=\"\n  203.964,1399.48 222.861,1399.48 \n  \"/>\n<polyline clip-path=\"url(#clip290)\" style=\"stroke:#000000; stroke-linecap:round; stroke-linejoin:round; stroke-width:4; stroke-opacity:1; fill:none\" points=\"\n  203.964,1128.62 222.861,1128.62 \n  \"/>\n<polyline clip-path=\"url(#clip290)\" style=\"stroke:#000000; stroke-linecap:round; stroke-linejoin:round; stroke-width:4; stroke-opacity:1; fill:none\" points=\"\n  203.964,857.762 222.861,857.762 \n  \"/>\n<polyline clip-path=\"url(#clip290)\" style=\"stroke:#000000; stroke-linecap:round; stroke-linejoin:round; stroke-width:4; stroke-opacity:1; fill:none\" points=\"\n  203.964,586.904 222.861,586.904 \n  \"/>\n<polyline clip-path=\"url(#clip290)\" style=\"stroke:#000000; stroke-linecap:round; stroke-linejoin:round; stroke-width:4; stroke-opacity:1; fill:none\" points=\"\n  203.964,316.047 222.861,316.047 \n  \"/>\n<path clip-path=\"url(#clip290)\" d=\"M117.663 1412.82 L125.302 1412.82 L125.302 1386.46 L116.992 1388.12 L116.992 1383.86 L125.255 1382.2 L129.931 1382.2 L129.931 1412.82 L137.57 1412.82 L137.57 1416.76 L117.663 1416.76 L117.663 1412.82 Z\" fill=\"#000000\" fill-rule=\"evenodd\" fill-opacity=\"1\" /><path clip-path=\"url(#clip290)\" d=\"M147.061 1382.2 L165.417 1382.2 L165.417 1386.13 L151.343 1386.13 L151.343 1394.6 Q152.362 1394.26 153.38 1394.1 Q154.399 1393.91 155.417 1393.91 Q161.204 1393.91 164.584 1397.08 Q167.964 1400.25 167.964 1405.67 Q167.964 1411.25 164.491 1414.35 Q161.019 1417.43 154.7 1417.43 Q152.524 1417.43 150.255 1417.06 Q148.01 1416.69 145.603 1415.95 L145.603 1411.25 Q147.686 1412.38 149.908 1412.94 Q152.13 1413.49 154.607 1413.49 Q158.612 1413.49 160.95 1411.39 Q163.288 1409.28 163.288 1405.67 Q163.288 1402.06 160.95 1399.95 Q158.612 1397.85 154.607 1397.85 Q152.732 1397.85 150.857 1398.26 Q149.005 1398.68 147.061 1399.56 L147.061 1382.2 Z\" fill=\"#000000\" fill-rule=\"evenodd\" fill-opacity=\"1\" /><path clip-path=\"url(#clip290)\" d=\"M119.885 1141.96 L136.204 1141.96 L136.204 1145.9 L114.26 1145.9 L114.26 1141.96 Q116.922 1139.21 121.505 1134.58 Q126.112 1129.93 127.292 1128.58 Q129.538 1126.06 130.417 1124.33 Q131.32 1122.57 131.32 1120.88 Q131.32 1118.12 129.376 1116.39 Q127.455 1114.65 124.353 1114.65 Q122.154 1114.65 119.7 1115.41 Q117.269 1116.18 114.492 1117.73 L114.492 1113.01 Q117.316 1111.87 119.769 1111.29 Q122.223 1110.71 124.26 1110.71 Q129.63 1110.71 132.825 1113.4 Q136.019 1116.09 136.019 1120.58 Q136.019 1122.71 135.209 1124.63 Q134.422 1126.52 132.316 1129.12 Q131.737 1129.79 128.635 1133.01 Q125.533 1136.2 119.885 1141.96 Z\" fill=\"#000000\" fill-rule=\"evenodd\" fill-opacity=\"1\" /><path clip-path=\"url(#clip290)\" d=\"M156.019 1114.42 Q152.408 1114.42 150.579 1117.98 Q148.774 1121.52 148.774 1128.65 Q148.774 1135.76 150.579 1139.33 Q152.408 1142.87 156.019 1142.87 Q159.653 1142.87 161.459 1139.33 Q163.288 1135.76 163.288 1128.65 Q163.288 1121.52 161.459 1117.98 Q159.653 1114.42 156.019 1114.42 M156.019 1110.71 Q161.829 1110.71 164.885 1115.32 Q167.964 1119.9 167.964 1128.65 Q167.964 1137.38 164.885 1141.99 Q161.829 1146.57 156.019 1146.57 Q150.209 1146.57 147.13 1141.99 Q144.075 1137.38 144.075 1128.65 Q144.075 1119.9 147.13 1115.32 Q150.209 1110.71 156.019 1110.71 Z\" fill=\"#000000\" fill-rule=\"evenodd\" fill-opacity=\"1\" /><path clip-path=\"url(#clip290)\" d=\"M120.88 871.107 L137.2 871.107 L137.2 875.042 L115.256 875.042 L115.256 871.107 Q117.918 868.352 122.501 863.723 Q127.107 859.07 128.288 857.727 Q130.533 855.204 131.413 853.468 Q132.316 851.709 132.316 850.019 Q132.316 847.264 130.371 845.528 Q128.45 843.792 125.348 843.792 Q123.149 843.792 120.695 844.556 Q118.265 845.32 115.487 846.871 L115.487 842.149 Q118.311 841.014 120.765 840.436 Q123.218 839.857 125.255 839.857 Q130.626 839.857 133.82 842.542 Q137.015 845.227 137.015 849.718 Q137.015 851.848 136.204 853.769 Q135.417 855.667 133.311 858.26 Q132.732 858.931 129.63 862.149 Q126.529 865.343 120.88 871.107 Z\" fill=\"#000000\" fill-rule=\"evenodd\" fill-opacity=\"1\" /><path clip-path=\"url(#clip290)\" d=\"M147.061 840.482 L165.417 840.482 L165.417 844.417 L151.343 844.417 L151.343 852.889 Q152.362 852.542 153.38 852.38 Q154.399 852.195 155.417 852.195 Q161.204 852.195 164.584 855.366 Q167.964 858.537 167.964 863.954 Q167.964 869.533 164.491 872.635 Q161.019 875.713 154.7 875.713 Q152.524 875.713 150.255 875.343 Q148.01 874.973 145.603 874.232 L145.603 869.533 Q147.686 870.667 149.908 871.223 Q152.13 871.778 154.607 871.778 Q158.612 871.778 160.95 869.672 Q163.288 867.565 163.288 863.954 Q163.288 860.343 160.95 858.237 Q158.612 856.13 154.607 856.13 Q152.732 856.13 150.857 856.547 Q149.005 856.963 147.061 857.843 L147.061 840.482 Z\" fill=\"#000000\" fill-rule=\"evenodd\" fill-opacity=\"1\" /><path clip-path=\"url(#clip290)\" d=\"M130.024 585.55 Q133.38 586.268 135.255 588.536 Q137.154 590.805 137.154 594.138 Q137.154 599.254 133.635 602.055 Q130.117 604.856 123.635 604.856 Q121.459 604.856 119.144 604.416 Q116.853 603.999 114.399 603.143 L114.399 598.629 Q116.343 599.763 118.658 600.342 Q120.973 600.92 123.496 600.92 Q127.894 600.92 130.186 599.184 Q132.501 597.448 132.501 594.138 Q132.501 591.083 130.348 589.37 Q128.218 587.634 124.399 587.634 L120.371 587.634 L120.371 583.791 L124.584 583.791 Q128.033 583.791 129.862 582.425 Q131.691 581.036 131.691 578.444 Q131.691 575.782 129.792 574.37 Q127.917 572.935 124.399 572.935 Q122.478 572.935 120.279 573.351 Q118.08 573.768 115.441 574.647 L115.441 570.481 Q118.103 569.74 120.418 569.37 Q122.755 568.999 124.816 568.999 Q130.14 568.999 133.242 571.43 Q136.343 573.837 136.343 577.958 Q136.343 580.828 134.7 582.819 Q133.056 584.786 130.024 585.55 Z\" fill=\"#000000\" fill-rule=\"evenodd\" fill-opacity=\"1\" /><path clip-path=\"url(#clip290)\" d=\"M156.019 572.703 Q152.408 572.703 150.579 576.268 Q148.774 579.809 148.774 586.939 Q148.774 594.046 150.579 597.61 Q152.408 601.152 156.019 601.152 Q159.653 601.152 161.459 597.61 Q163.288 594.046 163.288 586.939 Q163.288 579.809 161.459 576.268 Q159.653 572.703 156.019 572.703 M156.019 568.999 Q161.829 568.999 164.885 573.606 Q167.964 578.189 167.964 586.939 Q167.964 595.666 164.885 600.272 Q161.829 604.856 156.019 604.856 Q150.209 604.856 147.13 600.272 Q144.075 595.666 144.075 586.939 Q144.075 578.189 147.13 573.606 Q150.209 568.999 156.019 568.999 Z\" fill=\"#000000\" fill-rule=\"evenodd\" fill-opacity=\"1\" /><path clip-path=\"url(#clip290)\" d=\"M131.019 314.693 Q134.376 315.41 136.251 317.679 Q138.149 319.947 138.149 323.28 Q138.149 328.396 134.63 331.197 Q131.112 333.998 124.63 333.998 Q122.455 333.998 120.14 333.558 Q117.848 333.141 115.394 332.285 L115.394 327.771 Q117.339 328.905 119.654 329.484 Q121.968 330.063 124.492 330.063 Q128.89 330.063 131.181 328.327 Q133.496 326.591 133.496 323.28 Q133.496 320.225 131.343 318.512 Q129.214 316.776 125.394 316.776 L121.367 316.776 L121.367 312.933 L125.58 312.933 Q129.029 312.933 130.857 311.568 Q132.686 310.179 132.686 307.586 Q132.686 304.924 130.788 303.512 Q128.913 302.077 125.394 302.077 Q123.473 302.077 121.274 302.494 Q119.075 302.91 116.436 303.79 L116.436 299.623 Q119.098 298.882 121.413 298.512 Q123.751 298.142 125.811 298.142 Q131.135 298.142 134.237 300.572 Q137.339 302.98 137.339 307.1 Q137.339 309.97 135.695 311.961 Q134.052 313.929 131.019 314.693 Z\" fill=\"#000000\" fill-rule=\"evenodd\" fill-opacity=\"1\" /><path clip-path=\"url(#clip290)\" d=\"M147.061 298.767 L165.417 298.767 L165.417 302.702 L151.343 302.702 L151.343 311.174 Q152.362 310.827 153.38 310.665 Q154.399 310.48 155.417 310.48 Q161.204 310.48 164.584 313.651 Q167.964 316.822 167.964 322.239 Q167.964 327.817 164.491 330.919 Q161.019 333.998 154.7 333.998 Q152.524 333.998 150.255 333.628 Q148.01 333.257 145.603 332.517 L145.603 327.817 Q147.686 328.952 149.908 329.507 Q152.13 330.063 154.607 330.063 Q158.612 330.063 160.95 327.956 Q163.288 325.85 163.288 322.239 Q163.288 318.628 160.95 316.521 Q158.612 314.415 154.607 314.415 Q152.732 314.415 150.857 314.831 Q149.005 315.248 147.061 316.128 L147.061 298.767 Z\" fill=\"#000000\" fill-rule=\"evenodd\" fill-opacity=\"1\" /><path clip-path=\"url(#clip290)\" d=\"M16.4842 827.276 L16.4842 820.815 L45.3526 820.815 Q52.9915 820.815 56.3653 818.046 Q59.7073 815.277 59.7073 809.07 Q59.7073 802.895 56.3653 800.126 Q52.9915 797.357 45.3526 797.357 L16.4842 797.357 L16.4842 790.896 L46.1484 790.896 Q55.4423 790.896 60.1847 795.511 Q64.9272 800.094 64.9272 809.07 Q64.9272 818.078 60.1847 822.693 Q55.4423 827.276 46.1484 827.276 L16.4842 827.276 Z\" fill=\"#000000\" fill-rule=\"evenodd\" fill-opacity=\"1\" /><path clip-path=\"url(#clip290)\" d=\"M18.2347 773.295 L28.3562 773.295 L28.3562 761.232 L32.9077 761.232 L32.9077 773.295 L52.2594 773.295 Q56.6199 773.295 57.8613 772.117 Q59.1026 770.908 59.1026 767.247 L59.1026 761.232 L64.0042 761.232 L64.0042 767.247 Q64.0042 774.027 61.4897 776.605 Q58.9434 779.183 52.2594 779.183 L32.9077 779.183 L32.9077 783.48 L28.3562 783.48 L28.3562 779.183 L18.2347 779.183 L18.2347 773.295 Z\" fill=\"#000000\" fill-rule=\"evenodd\" fill-opacity=\"1\" /><path clip-path=\"url(#clip290)\" d=\"M28.3562 753.529 L28.3562 747.673 L64.0042 747.673 L64.0042 753.529 L28.3562 753.529 M14.479 753.529 L14.479 747.673 L21.895 747.673 L21.895 753.529 L14.479 753.529 Z\" fill=\"#000000\" fill-rule=\"evenodd\" fill-opacity=\"1\" /><path clip-path=\"url(#clip290)\" d=\"M14.479 735.419 L14.479 729.562 L64.0042 729.562 L64.0042 735.419 L14.479 735.419 Z\" fill=\"#000000\" fill-rule=\"evenodd\" fill-opacity=\"1\" /><path clip-path=\"url(#clip290)\" d=\"M28.3562 717.308 L28.3562 711.452 L64.0042 711.452 L64.0042 717.308 L28.3562 717.308 M14.479 717.308 L14.479 711.452 L21.895 711.452 L21.895 717.308 L14.479 717.308 Z\" fill=\"#000000\" fill-rule=\"evenodd\" fill-opacity=\"1\" /><path clip-path=\"url(#clip290)\" d=\"M18.2347 693.405 L28.3562 693.405 L28.3562 681.342 L32.9077 681.342 L32.9077 693.405 L52.2594 693.405 Q56.6199 693.405 57.8613 692.228 Q59.1026 691.018 59.1026 687.358 L59.1026 681.342 L64.0042 681.342 L64.0042 687.358 Q64.0042 694.137 61.4897 696.715 Q58.9434 699.293 52.2594 699.293 L32.9077 699.293 L32.9077 703.59 L28.3562 703.59 L28.3562 699.293 L18.2347 699.293 L18.2347 693.405 Z\" fill=\"#000000\" fill-rule=\"evenodd\" fill-opacity=\"1\" /><path clip-path=\"url(#clip290)\" d=\"M67.3143 658.808 Q73.68 661.29 75.6216 663.646 Q77.5631 666.001 77.5631 669.948 L77.5631 674.626 L72.6615 674.626 L72.6615 671.189 Q72.6615 668.77 71.5157 667.433 Q70.3699 666.096 66.1048 664.473 L63.4312 663.423 L28.3562 677.841 L28.3562 671.634 L56.238 660.494 L28.3562 649.355 L28.3562 643.148 L67.3143 658.808 Z\" fill=\"#000000\" fill-rule=\"evenodd\" fill-opacity=\"1\" /><polyline clip-path=\"url(#clip292)\" style=\"stroke:#009af9; stroke-linecap:round; stroke-linejoin:round; stroke-width:4; stroke-opacity:1; fill:none\" points=\"\n  264.778,187.128 409.576,180.014 554.373,187.128 699.17,86.1857 843.968,180.014 988.765,165.498 1133.56,180.014 1278.36,172.612 1423.16,165.498 1567.95,93.2998 \n  1712.75,180.014 1857.55,86.1857 2002.35,86.1857 2147.14,126.362 2291.94,86.1857 \n  \"/>\n<polyline clip-path=\"url(#clip292)\" style=\"stroke:#e26f46; stroke-linecap:round; stroke-linejoin:round; stroke-width:4; stroke-opacity:1; fill:none\" points=\"\n  264.778,716.285 409.576,905.514 554.373,853.545 699.17,1094.13 843.968,996.388 988.765,1129.27 1133.56,974.989 1278.36,1025.29 1423.16,1339.36 1567.95,1155.61 \n  1712.75,803.051 1857.55,1357.37 2002.35,1296.07 2147.14,1170.56 2291.94,1384.24 \n  \"/>\n<path clip-path=\"url(#clip290)\" d=\"\nM275.59 1377.32 L630.131 1377.32 L630.131 1221.8 L275.59 1221.8  Z\n  \" fill=\"#ffffff\" fill-rule=\"evenodd\" fill-opacity=\"1\"/>\n<polyline clip-path=\"url(#clip290)\" style=\"stroke:#000000; stroke-linecap:round; stroke-linejoin:round; stroke-width:4; stroke-opacity:1; fill:none\" points=\"\n  275.59,1377.32 630.131,1377.32 630.131,1221.8 275.59,1221.8 275.59,1377.32 \n  \"/>\n<polyline clip-path=\"url(#clip290)\" style=\"stroke:#009af9; stroke-linecap:round; stroke-linejoin:round; stroke-width:4; stroke-opacity:1; fill:none\" points=\"\n  299.465,1273.64 442.718,1273.64 \n  \"/>\n<path clip-path=\"url(#clip290)\" d=\"M471.27 1274.41 L471.27 1287.07 L478.77 1287.07 Q482.543 1287.07 484.348 1285.52 Q486.177 1283.95 486.177 1280.73 Q486.177 1277.49 484.348 1275.96 Q482.543 1274.41 478.77 1274.41 L471.27 1274.41 M471.27 1260.2 L471.27 1270.61 L478.191 1270.61 Q481.617 1270.61 483.283 1269.34 Q484.973 1268.05 484.973 1265.41 Q484.973 1262.79 483.283 1261.49 Q481.617 1260.2 478.191 1260.2 L471.27 1260.2 M466.594 1256.36 L478.538 1256.36 Q483.885 1256.36 486.779 1258.58 Q489.672 1260.8 489.672 1264.9 Q489.672 1268.07 488.191 1269.94 Q486.709 1271.82 483.839 1272.28 Q487.288 1273.02 489.186 1275.38 Q491.108 1277.72 491.108 1281.24 Q491.108 1285.87 487.959 1288.39 Q484.811 1290.92 479.001 1290.92 L466.594 1290.92 L466.594 1256.36 Z\" fill=\"#000000\" fill-rule=\"evenodd\" fill-opacity=\"1\" /><path clip-path=\"url(#clip290)\" d=\"M498.584 1256.36 L503.283 1256.36 L503.283 1277.35 Q503.283 1282.91 505.297 1285.36 Q507.311 1287.79 511.825 1287.79 Q516.316 1287.79 518.33 1285.36 Q520.343 1282.91 520.343 1277.35 L520.343 1256.36 L525.043 1256.36 L525.043 1277.93 Q525.043 1284.69 521.686 1288.14 Q518.353 1291.59 511.825 1291.59 Q505.274 1291.59 501.918 1288.14 Q498.584 1284.69 498.584 1277.93 L498.584 1256.36 Z\" fill=\"#000000\" fill-rule=\"evenodd\" fill-opacity=\"1\" /><path clip-path=\"url(#clip290)\" d=\"M553.329 1298.79 L553.329 1302.1 L528.7 1302.1 L528.7 1298.79 L553.329 1298.79 Z\" fill=\"#000000\" fill-rule=\"evenodd\" fill-opacity=\"1\" /><path clip-path=\"url(#clip290)\" d=\"M552.728 1256.36 L581.963 1256.36 L581.963 1260.29 L569.695 1260.29 L569.695 1290.92 L564.996 1290.92 L564.996 1260.29 L552.728 1260.29 L552.728 1256.36 Z\" fill=\"#000000\" fill-rule=\"evenodd\" fill-opacity=\"1\" /><polyline clip-path=\"url(#clip290)\" style=\"stroke:#e26f46; stroke-linecap:round; stroke-linejoin:round; stroke-width:4; stroke-opacity:1; fill:none\" points=\"\n  299.465,1325.48 442.718,1325.48 \n  \"/>\n<path clip-path=\"url(#clip290)\" d=\"M482.983 1326.55 Q484.487 1327.06 485.899 1328.73 Q487.334 1330.39 488.77 1333.31 L493.515 1342.76 L488.492 1342.76 L484.071 1333.89 Q482.358 1330.42 480.737 1329.28 Q479.14 1328.15 476.362 1328.15 L471.27 1328.15 L471.27 1342.76 L466.594 1342.76 L466.594 1308.2 L477.149 1308.2 Q483.075 1308.2 485.992 1310.67 Q488.908 1313.15 488.908 1318.15 Q488.908 1321.41 487.381 1323.57 Q485.876 1325.72 482.983 1326.55 M471.27 1312.04 L471.27 1324.31 L477.149 1324.31 Q480.529 1324.31 482.242 1322.76 Q483.978 1321.18 483.978 1318.15 Q483.978 1315.12 482.242 1313.59 Q480.529 1312.04 477.149 1312.04 L471.27 1312.04 Z\" fill=\"#000000\" fill-rule=\"evenodd\" fill-opacity=\"1\" /><path clip-path=\"url(#clip290)\" d=\"M499.001 1308.2 L503.7 1308.2 L503.7 1329.19 Q503.7 1334.75 505.714 1337.2 Q507.728 1339.63 512.242 1339.63 Q516.732 1339.63 518.746 1337.2 Q520.76 1334.75 520.76 1329.19 L520.76 1308.2 L525.459 1308.2 L525.459 1329.77 Q525.459 1336.53 522.103 1339.98 Q518.769 1343.43 512.242 1343.43 Q505.691 1343.43 502.334 1339.98 Q499.001 1336.53 499.001 1329.77 L499.001 1308.2 Z\" fill=\"#000000\" fill-rule=\"evenodd\" fill-opacity=\"1\" /><path clip-path=\"url(#clip290)\" d=\"M553.746 1350.63 L553.746 1353.94 L529.117 1353.94 L529.117 1350.63 L553.746 1350.63 Z\" fill=\"#000000\" fill-rule=\"evenodd\" fill-opacity=\"1\" /><path clip-path=\"url(#clip290)\" d=\"M553.144 1308.2 L582.38 1308.2 L582.38 1312.13 L570.112 1312.13 L570.112 1342.76 L565.413 1342.76 L565.413 1312.13 L553.144 1312.13 L553.144 1308.2 Z\" fill=\"#000000\" fill-rule=\"evenodd\" fill-opacity=\"1\" /></svg>\n"
     },
     "execution_count": 796,
     "metadata": {},
     "output_type": "execute_result"
    }
   ],
   "source": [
    "# plot BU_T and RU_T for different values of r\n",
    "r = 1:15\n",
    "BU_T = zeros(15)\n",
    "RU_T = zeros(15)\n",
    "for i in r\n",
    "    BU_T[i], RU_T[i], bans, picks = baseline(i,\"weighted\")\n",
    "end\n",
    "plot(r, BU_T, label = \"BU_T\")\n",
    "plot!(r, RU_T, label = \"RU_T\")\n",
    "# legend on bottom left \n",
    "plot!(legend = :bottomleft)\n",
    "# y axis label as \"Utility\"\n",
    "plot!(ylabel = \"Utility\")\n",
    "# x axis label as \"r\"\n",
    "plot!(xlabel = \"Top-n champions\")\n"
   ]
  },
  {
   "cell_type": "markdown",
   "metadata": {},
   "source": [
    "### Plot both on same plot"
   ]
  },
  {
   "cell_type": "code",
   "execution_count": 801,
   "metadata": {},
   "outputs": [
    {
     "data": {
      "image/svg+xml": "<?xml version=\"1.0\" encoding=\"utf-8\"?>\n<svg xmlns=\"http://www.w3.org/2000/svg\" xmlns:xlink=\"http://www.w3.org/1999/xlink\" width=\"800\" height=\"600\" viewBox=\"0 0 3200 2400\">\n<defs>\n  <clipPath id=\"clip490\">\n    <rect x=\"0\" y=\"0\" width=\"3200\" height=\"2400\"/>\n  </clipPath>\n</defs>\n<path clip-path=\"url(#clip490)\" d=\"\nM0 2400 L3200 2400 L3200 0 L0 0  Z\n  \" fill=\"#ffffff\" fill-rule=\"evenodd\" fill-opacity=\"1\"/>\n<defs>\n  <clipPath id=\"clip491\">\n    <rect x=\"640\" y=\"0\" width=\"2241\" height=\"2241\"/>\n  </clipPath>\n</defs>\n<path clip-path=\"url(#clip490)\" d=\"\nM217.904 2204.92 L3152.76 2204.92 L3152.76 47.2441 L217.904 47.2441  Z\n  \" fill=\"#ffffff\" fill-rule=\"evenodd\" fill-opacity=\"1\"/>\n<defs>\n  <clipPath id=\"clip492\">\n    <rect x=\"217\" y=\"47\" width=\"2936\" height=\"2159\"/>\n  </clipPath>\n</defs>\n<polyline clip-path=\"url(#clip492)\" style=\"stroke:#000000; stroke-linecap:round; stroke-linejoin:round; stroke-width:2; stroke-opacity:0.1; fill:none\" points=\"\n  498.732,2204.92 498.732,47.2441 \n  \"/>\n<polyline clip-path=\"url(#clip492)\" style=\"stroke:#000000; stroke-linecap:round; stroke-linejoin:round; stroke-width:2; stroke-opacity:0.1; fill:none\" points=\"\n  894.264,2204.92 894.264,47.2441 \n  \"/>\n<polyline clip-path=\"url(#clip492)\" style=\"stroke:#000000; stroke-linecap:round; stroke-linejoin:round; stroke-width:2; stroke-opacity:0.1; fill:none\" points=\"\n  1289.8,2204.92 1289.8,47.2441 \n  \"/>\n<polyline clip-path=\"url(#clip492)\" style=\"stroke:#000000; stroke-linecap:round; stroke-linejoin:round; stroke-width:2; stroke-opacity:0.1; fill:none\" points=\"\n  1685.33,2204.92 1685.33,47.2441 \n  \"/>\n<polyline clip-path=\"url(#clip492)\" style=\"stroke:#000000; stroke-linecap:round; stroke-linejoin:round; stroke-width:2; stroke-opacity:0.1; fill:none\" points=\"\n  2080.86,2204.92 2080.86,47.2441 \n  \"/>\n<polyline clip-path=\"url(#clip492)\" style=\"stroke:#000000; stroke-linecap:round; stroke-linejoin:round; stroke-width:2; stroke-opacity:0.1; fill:none\" points=\"\n  2476.4,2204.92 2476.4,47.2441 \n  \"/>\n<polyline clip-path=\"url(#clip492)\" style=\"stroke:#000000; stroke-linecap:round; stroke-linejoin:round; stroke-width:2; stroke-opacity:0.1; fill:none\" points=\"\n  2871.93,2204.92 2871.93,47.2441 \n  \"/>\n<polyline clip-path=\"url(#clip490)\" style=\"stroke:#000000; stroke-linecap:round; stroke-linejoin:round; stroke-width:4; stroke-opacity:1; fill:none\" points=\"\n  217.904,2204.92 3152.76,2204.92 \n  \"/>\n<polyline clip-path=\"url(#clip490)\" style=\"stroke:#000000; stroke-linecap:round; stroke-linejoin:round; stroke-width:4; stroke-opacity:1; fill:none\" points=\"\n  498.732,2204.92 498.732,2186.02 \n  \"/>\n<polyline clip-path=\"url(#clip490)\" style=\"stroke:#000000; stroke-linecap:round; stroke-linejoin:round; stroke-width:4; stroke-opacity:1; fill:none\" points=\"\n  894.264,2204.92 894.264,2186.02 \n  \"/>\n<polyline clip-path=\"url(#clip490)\" style=\"stroke:#000000; stroke-linecap:round; stroke-linejoin:round; stroke-width:4; stroke-opacity:1; fill:none\" points=\"\n  1289.8,2204.92 1289.8,2186.02 \n  \"/>\n<polyline clip-path=\"url(#clip490)\" style=\"stroke:#000000; stroke-linecap:round; stroke-linejoin:round; stroke-width:4; stroke-opacity:1; fill:none\" points=\"\n  1685.33,2204.92 1685.33,2186.02 \n  \"/>\n<polyline clip-path=\"url(#clip490)\" style=\"stroke:#000000; stroke-linecap:round; stroke-linejoin:round; stroke-width:4; stroke-opacity:1; fill:none\" points=\"\n  2080.86,2204.92 2080.86,2186.02 \n  \"/>\n<polyline clip-path=\"url(#clip490)\" style=\"stroke:#000000; stroke-linecap:round; stroke-linejoin:round; stroke-width:4; stroke-opacity:1; fill:none\" points=\"\n  2476.4,2204.92 2476.4,2186.02 \n  \"/>\n<polyline clip-path=\"url(#clip490)\" style=\"stroke:#000000; stroke-linecap:round; stroke-linejoin:round; stroke-width:4; stroke-opacity:1; fill:none\" points=\"\n  2871.93,2204.92 2871.93,2186.02 \n  \"/>\n<path clip-path=\"url(#clip490)\" d=\"M493.385 2269.78 L509.704 2269.78 L509.704 2273.72 L487.76 2273.72 L487.76 2269.78 Q490.422 2267.03 495.005 2262.4 Q499.611 2257.75 500.792 2256.41 Q503.037 2253.88 503.917 2252.15 Q504.82 2250.39 504.82 2248.7 Q504.82 2245.94 502.875 2244.21 Q500.954 2242.47 497.852 2242.47 Q495.653 2242.47 493.199 2243.23 Q490.769 2244 487.991 2245.55 L487.991 2240.83 Q490.815 2239.69 493.269 2239.11 Q495.723 2238.53 497.76 2238.53 Q503.13 2238.53 506.324 2241.22 Q509.519 2243.91 509.519 2248.4 Q509.519 2250.53 508.709 2252.45 Q507.922 2254.34 505.815 2256.94 Q505.236 2257.61 502.135 2260.83 Q499.033 2264.02 493.385 2269.78 Z\" fill=\"#000000\" fill-rule=\"evenodd\" fill-opacity=\"1\" /><path clip-path=\"url(#clip490)\" d=\"M897.274 2243.23 L885.468 2261.68 L897.274 2261.68 L897.274 2243.23 M896.047 2239.16 L901.926 2239.16 L901.926 2261.68 L906.857 2261.68 L906.857 2265.57 L901.926 2265.57 L901.926 2273.72 L897.274 2273.72 L897.274 2265.57 L881.672 2265.57 L881.672 2261.06 L896.047 2239.16 Z\" fill=\"#000000\" fill-rule=\"evenodd\" fill-opacity=\"1\" /><path clip-path=\"url(#clip490)\" d=\"M1290.2 2254.58 Q1287.05 2254.58 1285.2 2256.73 Q1283.37 2258.88 1283.37 2262.63 Q1283.37 2266.36 1285.2 2268.53 Q1287.05 2270.69 1290.2 2270.69 Q1293.35 2270.69 1295.18 2268.53 Q1297.03 2266.36 1297.03 2262.63 Q1297.03 2258.88 1295.18 2256.73 Q1293.35 2254.58 1290.2 2254.58 M1299.48 2239.92 L1299.48 2244.18 Q1297.73 2243.35 1295.92 2242.91 Q1294.14 2242.47 1292.38 2242.47 Q1287.75 2242.47 1285.29 2245.59 Q1282.86 2248.72 1282.52 2255.04 Q1283.88 2253.03 1285.94 2251.96 Q1288 2250.87 1290.48 2250.87 Q1295.69 2250.87 1298.7 2254.04 Q1301.73 2257.19 1301.73 2262.63 Q1301.73 2267.96 1298.58 2271.17 Q1295.43 2274.39 1290.2 2274.39 Q1284.21 2274.39 1281.04 2269.81 Q1277.86 2265.2 1277.86 2256.47 Q1277.86 2248.28 1281.75 2243.42 Q1285.64 2238.53 1292.19 2238.53 Q1293.95 2238.53 1295.73 2238.88 Q1297.54 2239.23 1299.48 2239.92 Z\" fill=\"#000000\" fill-rule=\"evenodd\" fill-opacity=\"1\" /><path clip-path=\"url(#clip490)\" d=\"M1685.33 2257.31 Q1682 2257.31 1680.08 2259.09 Q1678.18 2260.87 1678.18 2264 Q1678.18 2267.12 1680.08 2268.91 Q1682 2270.69 1685.33 2270.69 Q1688.66 2270.69 1690.58 2268.91 Q1692.51 2267.1 1692.51 2264 Q1692.51 2260.87 1690.58 2259.09 Q1688.69 2257.31 1685.33 2257.31 M1680.65 2255.32 Q1677.64 2254.58 1675.95 2252.52 Q1674.29 2250.46 1674.29 2247.49 Q1674.29 2243.35 1677.23 2240.94 Q1680.19 2238.53 1685.33 2238.53 Q1690.49 2238.53 1693.43 2240.94 Q1696.37 2243.35 1696.37 2247.49 Q1696.37 2250.46 1694.68 2252.52 Q1693.01 2254.58 1690.03 2255.32 Q1693.41 2256.1 1695.28 2258.4 Q1697.18 2260.69 1697.18 2264 Q1697.18 2269.02 1694.1 2271.71 Q1691.05 2274.39 1685.33 2274.39 Q1679.61 2274.39 1676.53 2271.71 Q1673.48 2269.02 1673.48 2264 Q1673.48 2260.69 1675.38 2258.4 Q1677.27 2256.1 1680.65 2255.32 M1678.94 2247.93 Q1678.94 2250.62 1680.61 2252.12 Q1682.3 2253.63 1685.33 2253.63 Q1688.34 2253.63 1690.03 2252.12 Q1691.74 2250.62 1691.74 2247.93 Q1691.74 2245.25 1690.03 2243.74 Q1688.34 2242.24 1685.33 2242.24 Q1682.3 2242.24 1680.61 2243.74 Q1678.94 2245.25 1678.94 2247.93 Z\" fill=\"#000000\" fill-rule=\"evenodd\" fill-opacity=\"1\" /><path clip-path=\"url(#clip490)\" d=\"M2055.55 2269.78 L2063.19 2269.78 L2063.19 2243.42 L2054.88 2245.09 L2054.88 2240.83 L2063.14 2239.16 L2067.82 2239.16 L2067.82 2269.78 L2075.46 2269.78 L2075.46 2273.72 L2055.55 2273.72 L2055.55 2269.78 Z\" fill=\"#000000\" fill-rule=\"evenodd\" fill-opacity=\"1\" /><path clip-path=\"url(#clip490)\" d=\"M2094.9 2242.24 Q2091.29 2242.24 2089.46 2245.8 Q2087.66 2249.34 2087.66 2256.47 Q2087.66 2263.58 2089.46 2267.15 Q2091.29 2270.69 2094.9 2270.69 Q2098.54 2270.69 2100.34 2267.15 Q2102.17 2263.58 2102.17 2256.47 Q2102.17 2249.34 2100.34 2245.8 Q2098.54 2242.24 2094.9 2242.24 M2094.9 2238.53 Q2100.71 2238.53 2103.77 2243.14 Q2106.85 2247.72 2106.85 2256.47 Q2106.85 2265.2 2103.77 2269.81 Q2100.71 2274.39 2094.9 2274.39 Q2089.09 2274.39 2086.01 2269.81 Q2082.96 2265.2 2082.96 2256.47 Q2082.96 2247.72 2086.01 2243.14 Q2089.09 2238.53 2094.9 2238.53 Z\" fill=\"#000000\" fill-rule=\"evenodd\" fill-opacity=\"1\" /><path clip-path=\"url(#clip490)\" d=\"M2451.88 2269.78 L2459.52 2269.78 L2459.52 2243.42 L2451.21 2245.09 L2451.21 2240.83 L2459.47 2239.16 L2464.15 2239.16 L2464.15 2269.78 L2471.79 2269.78 L2471.79 2273.72 L2451.88 2273.72 L2451.88 2269.78 Z\" fill=\"#000000\" fill-rule=\"evenodd\" fill-opacity=\"1\" /><path clip-path=\"url(#clip490)\" d=\"M2485.26 2269.78 L2501.58 2269.78 L2501.58 2273.72 L2479.64 2273.72 L2479.64 2269.78 Q2482.3 2267.03 2486.88 2262.4 Q2491.49 2257.75 2492.67 2256.41 Q2494.91 2253.88 2495.79 2252.15 Q2496.7 2250.39 2496.7 2248.7 Q2496.7 2245.94 2494.75 2244.21 Q2492.83 2242.47 2489.73 2242.47 Q2487.53 2242.47 2485.08 2243.23 Q2482.65 2244 2479.87 2245.55 L2479.87 2240.83 Q2482.69 2239.69 2485.15 2239.11 Q2487.6 2238.53 2489.64 2238.53 Q2495.01 2238.53 2498.2 2241.22 Q2501.39 2243.91 2501.39 2248.4 Q2501.39 2250.53 2500.58 2252.45 Q2499.8 2254.34 2497.69 2256.94 Q2497.11 2257.61 2494.01 2260.83 Q2490.91 2264.02 2485.26 2269.78 Z\" fill=\"#000000\" fill-rule=\"evenodd\" fill-opacity=\"1\" /><path clip-path=\"url(#clip490)\" d=\"M2846.37 2269.78 L2854.01 2269.78 L2854.01 2243.42 L2845.7 2245.09 L2845.7 2240.83 L2853.96 2239.16 L2858.64 2239.16 L2858.64 2269.78 L2866.28 2269.78 L2866.28 2273.72 L2846.37 2273.72 L2846.37 2269.78 Z\" fill=\"#000000\" fill-rule=\"evenodd\" fill-opacity=\"1\" /><path clip-path=\"url(#clip490)\" d=\"M2888.57 2243.23 L2876.77 2261.68 L2888.57 2261.68 L2888.57 2243.23 M2887.34 2239.16 L2893.22 2239.16 L2893.22 2261.68 L2898.15 2261.68 L2898.15 2265.57 L2893.22 2265.57 L2893.22 2273.72 L2888.57 2273.72 L2888.57 2265.57 L2872.97 2265.57 L2872.97 2261.06 L2887.34 2239.16 Z\" fill=\"#000000\" fill-rule=\"evenodd\" fill-opacity=\"1\" /><path clip-path=\"url(#clip490)\" d=\"M1411.43 2314.26 L1451.63 2314.26 L1451.63 2319.67 L1434.76 2319.67 L1434.76 2361.78 L1428.3 2361.78 L1428.3 2319.67 L1411.43 2319.67 L1411.43 2314.26 Z\" fill=\"#000000\" fill-rule=\"evenodd\" fill-opacity=\"1\" /><path clip-path=\"url(#clip490)\" d=\"M1460.32 2330.24 Q1455.61 2330.24 1452.87 2333.93 Q1450.13 2337.59 1450.13 2343.99 Q1450.13 2350.39 1452.84 2354.08 Q1455.58 2357.74 1460.32 2357.74 Q1465 2357.74 1467.73 2354.05 Q1470.47 2350.36 1470.47 2343.99 Q1470.47 2337.66 1467.73 2333.97 Q1465 2330.24 1460.32 2330.24 M1460.32 2325.28 Q1467.96 2325.28 1472.32 2330.24 Q1476.68 2335.21 1476.68 2343.99 Q1476.68 2352.74 1472.32 2357.74 Q1467.96 2362.71 1460.32 2362.71 Q1452.65 2362.71 1448.29 2357.74 Q1443.96 2352.74 1443.96 2343.99 Q1443.96 2335.21 1448.29 2330.24 Q1452.65 2325.28 1460.32 2325.28 Z\" fill=\"#000000\" fill-rule=\"evenodd\" fill-opacity=\"1\" /><path clip-path=\"url(#clip490)\" d=\"M1492.05 2356.44 L1492.05 2375.34 L1486.16 2375.34 L1486.16 2326.14 L1492.05 2326.14 L1492.05 2331.55 Q1493.9 2328.36 1496.7 2326.84 Q1499.53 2325.28 1503.45 2325.28 Q1509.94 2325.28 1513.98 2330.43 Q1518.05 2335.59 1518.05 2343.99 Q1518.05 2352.39 1513.98 2357.55 Q1509.94 2362.71 1503.45 2362.71 Q1499.53 2362.71 1496.7 2361.18 Q1493.9 2359.62 1492.05 2356.44 M1511.98 2343.99 Q1511.98 2337.53 1509.3 2333.87 Q1506.66 2330.18 1502.01 2330.18 Q1497.37 2330.18 1494.69 2333.87 Q1492.05 2337.53 1492.05 2343.99 Q1492.05 2350.45 1494.69 2354.14 Q1497.37 2357.81 1502.01 2357.81 Q1506.66 2357.81 1509.3 2354.14 Q1511.98 2350.45 1511.98 2343.99 Z\" fill=\"#000000\" fill-rule=\"evenodd\" fill-opacity=\"1\" /><path clip-path=\"url(#clip490)\" d=\"M1524.8 2341.32 L1541.96 2341.32 L1541.96 2346.54 L1524.8 2346.54 L1524.8 2341.32 Z\" fill=\"#000000\" fill-rule=\"evenodd\" fill-opacity=\"1\" /><path clip-path=\"url(#clip490)\" d=\"M1580.92 2340.27 L1580.92 2361.78 L1575.06 2361.78 L1575.06 2340.46 Q1575.06 2335.4 1573.09 2332.88 Q1571.11 2330.37 1567.17 2330.37 Q1562.42 2330.37 1559.69 2333.39 Q1556.95 2336.42 1556.95 2341.64 L1556.95 2361.78 L1551.06 2361.78 L1551.06 2326.14 L1556.95 2326.14 L1556.95 2331.67 Q1559.05 2328.46 1561.88 2326.87 Q1564.75 2325.28 1568.47 2325.28 Q1574.61 2325.28 1577.77 2329.1 Q1580.92 2332.88 1580.92 2340.27 Z\" fill=\"#000000\" fill-rule=\"evenodd\" fill-opacity=\"1\" /><path clip-path=\"url(#clip490)\" d=\"M1638.97 2327.5 L1638.97 2332.98 Q1636.49 2331.61 1633.97 2330.94 Q1631.49 2330.24 1628.95 2330.24 Q1623.25 2330.24 1620.1 2333.87 Q1616.95 2337.47 1616.95 2343.99 Q1616.95 2350.52 1620.1 2354.14 Q1623.25 2357.74 1628.95 2357.74 Q1631.49 2357.74 1633.97 2357.07 Q1636.49 2356.37 1638.97 2355 L1638.97 2360.42 Q1636.52 2361.56 1633.88 2362.13 Q1631.27 2362.71 1628.31 2362.71 Q1620.26 2362.71 1615.51 2357.65 Q1610.77 2352.59 1610.77 2343.99 Q1610.77 2335.27 1615.55 2330.27 Q1620.35 2325.28 1628.69 2325.28 Q1631.4 2325.28 1633.97 2325.85 Q1636.55 2326.39 1638.97 2327.5 Z\" fill=\"#000000\" fill-rule=\"evenodd\" fill-opacity=\"1\" /><path clip-path=\"url(#clip490)\" d=\"M1678.79 2340.27 L1678.79 2361.78 L1672.93 2361.78 L1672.93 2340.46 Q1672.93 2335.4 1670.96 2332.88 Q1668.99 2330.37 1665.04 2330.37 Q1660.3 2330.37 1657.56 2333.39 Q1654.82 2336.42 1654.82 2341.64 L1654.82 2361.78 L1648.93 2361.78 L1648.93 2312.26 L1654.82 2312.26 L1654.82 2331.67 Q1656.92 2328.46 1659.76 2326.87 Q1662.62 2325.28 1666.34 2325.28 Q1672.49 2325.28 1675.64 2329.1 Q1678.79 2332.88 1678.79 2340.27 Z\" fill=\"#000000\" fill-rule=\"evenodd\" fill-opacity=\"1\" /><path clip-path=\"url(#clip490)\" d=\"M1706.67 2343.86 Q1699.57 2343.86 1696.84 2345.49 Q1694.1 2347.11 1694.1 2351.03 Q1694.1 2354.14 1696.14 2355.99 Q1698.2 2357.81 1701.74 2357.81 Q1706.61 2357.81 1709.54 2354.37 Q1712.5 2350.9 1712.5 2345.17 L1712.5 2343.86 L1706.67 2343.86 M1718.35 2341.45 L1718.35 2361.78 L1712.5 2361.78 L1712.5 2356.37 Q1710.49 2359.62 1707.5 2361.18 Q1704.51 2362.71 1700.18 2362.71 Q1694.7 2362.71 1691.46 2359.65 Q1688.24 2356.56 1688.24 2351.41 Q1688.24 2345.39 1692.25 2342.34 Q1696.29 2339.28 1704.28 2339.28 L1712.5 2339.28 L1712.5 2338.71 Q1712.5 2334.67 1709.82 2332.47 Q1707.18 2330.24 1702.37 2330.24 Q1699.32 2330.24 1696.42 2330.97 Q1693.53 2331.71 1690.85 2333.17 L1690.85 2327.76 Q1694.07 2326.52 1697.09 2325.91 Q1700.11 2325.28 1702.98 2325.28 Q1710.71 2325.28 1714.53 2329.29 Q1718.35 2333.3 1718.35 2341.45 Z\" fill=\"#000000\" fill-rule=\"evenodd\" fill-opacity=\"1\" /><path clip-path=\"url(#clip490)\" d=\"M1758.17 2332.98 Q1760.37 2329.03 1763.42 2327.15 Q1766.48 2325.28 1770.61 2325.28 Q1776.18 2325.28 1779.21 2329.19 Q1782.23 2333.07 1782.23 2340.27 L1782.23 2361.78 L1776.34 2361.78 L1776.34 2340.46 Q1776.34 2335.33 1774.53 2332.85 Q1772.71 2330.37 1768.99 2330.37 Q1764.44 2330.37 1761.8 2333.39 Q1759.16 2336.42 1759.16 2341.64 L1759.16 2361.78 L1753.27 2361.78 L1753.27 2340.46 Q1753.27 2335.3 1751.45 2332.85 Q1749.64 2330.37 1745.85 2330.37 Q1741.36 2330.37 1738.72 2333.42 Q1736.08 2336.45 1736.08 2341.64 L1736.08 2361.78 L1730.19 2361.78 L1730.19 2326.14 L1736.08 2326.14 L1736.08 2331.67 Q1738.09 2328.4 1740.89 2326.84 Q1743.69 2325.28 1747.54 2325.28 Q1751.42 2325.28 1754.13 2327.25 Q1756.86 2329.22 1758.17 2332.98 Z\" fill=\"#000000\" fill-rule=\"evenodd\" fill-opacity=\"1\" /><path clip-path=\"url(#clip490)\" d=\"M1799.58 2356.44 L1799.58 2375.34 L1793.69 2375.34 L1793.69 2326.14 L1799.58 2326.14 L1799.58 2331.55 Q1801.42 2328.36 1804.23 2326.84 Q1807.06 2325.28 1810.97 2325.28 Q1817.47 2325.28 1821.51 2330.43 Q1825.58 2335.59 1825.58 2343.99 Q1825.58 2352.39 1821.51 2357.55 Q1817.47 2362.71 1810.97 2362.71 Q1807.06 2362.71 1804.23 2361.18 Q1801.42 2359.62 1799.58 2356.44 M1819.5 2343.99 Q1819.5 2337.53 1816.83 2333.87 Q1814.19 2330.18 1809.54 2330.18 Q1804.89 2330.18 1802.22 2333.87 Q1799.58 2337.53 1799.58 2343.99 Q1799.58 2350.45 1802.22 2354.14 Q1804.89 2357.81 1809.54 2357.81 Q1814.19 2357.81 1816.83 2354.14 Q1819.5 2350.45 1819.5 2343.99 Z\" fill=\"#000000\" fill-rule=\"evenodd\" fill-opacity=\"1\" /><path clip-path=\"url(#clip490)\" d=\"M1835.29 2326.14 L1841.15 2326.14 L1841.15 2361.78 L1835.29 2361.78 L1835.29 2326.14 M1835.29 2312.26 L1841.15 2312.26 L1841.15 2319.67 L1835.29 2319.67 L1835.29 2312.26 Z\" fill=\"#000000\" fill-rule=\"evenodd\" fill-opacity=\"1\" /><path clip-path=\"url(#clip490)\" d=\"M1867.21 2330.24 Q1862.5 2330.24 1859.77 2333.93 Q1857.03 2337.59 1857.03 2343.99 Q1857.03 2350.39 1859.73 2354.08 Q1862.47 2357.74 1867.21 2357.74 Q1871.89 2357.74 1874.63 2354.05 Q1877.37 2350.36 1877.37 2343.99 Q1877.37 2337.66 1874.63 2333.97 Q1871.89 2330.24 1867.21 2330.24 M1867.21 2325.28 Q1874.85 2325.28 1879.21 2330.24 Q1883.57 2335.21 1883.57 2343.99 Q1883.57 2352.74 1879.21 2357.74 Q1874.85 2362.71 1867.21 2362.71 Q1859.54 2362.71 1855.18 2357.74 Q1850.85 2352.74 1850.85 2343.99 Q1850.85 2335.21 1855.18 2330.24 Q1859.54 2325.28 1867.21 2325.28 Z\" fill=\"#000000\" fill-rule=\"evenodd\" fill-opacity=\"1\" /><path clip-path=\"url(#clip490)\" d=\"M1922.91 2340.27 L1922.91 2361.78 L1917.06 2361.78 L1917.06 2340.46 Q1917.06 2335.4 1915.08 2332.88 Q1913.11 2330.37 1909.16 2330.37 Q1904.42 2330.37 1901.68 2333.39 Q1898.95 2336.42 1898.95 2341.64 L1898.95 2361.78 L1893.06 2361.78 L1893.06 2326.14 L1898.95 2326.14 L1898.95 2331.67 Q1901.05 2328.46 1903.88 2326.87 Q1906.74 2325.28 1910.47 2325.28 Q1916.61 2325.28 1919.76 2329.1 Q1922.91 2332.88 1922.91 2340.27 Z\" fill=\"#000000\" fill-rule=\"evenodd\" fill-opacity=\"1\" /><path clip-path=\"url(#clip490)\" d=\"M1957.32 2327.19 L1957.32 2332.72 Q1954.84 2331.45 1952.16 2330.81 Q1949.49 2330.18 1946.63 2330.18 Q1942.27 2330.18 1940.07 2331.51 Q1937.91 2332.85 1937.91 2335.53 Q1937.91 2337.56 1939.46 2338.74 Q1941.02 2339.89 1945.73 2340.94 L1947.74 2341.38 Q1953.98 2342.72 1956.59 2345.17 Q1959.23 2347.59 1959.23 2351.95 Q1959.23 2356.91 1955.28 2359.81 Q1951.37 2362.71 1944.49 2362.71 Q1941.63 2362.71 1938.51 2362.13 Q1935.42 2361.59 1931.98 2360.48 L1931.98 2354.43 Q1935.23 2356.12 1938.38 2356.98 Q1941.53 2357.81 1944.62 2357.81 Q1948.76 2357.81 1950.99 2356.4 Q1953.21 2354.97 1953.21 2352.39 Q1953.21 2350.01 1951.59 2348.73 Q1950 2347.46 1944.56 2346.28 L1942.52 2345.81 Q1937.08 2344.66 1934.66 2342.3 Q1932.24 2339.92 1932.24 2335.78 Q1932.24 2330.75 1935.8 2328.01 Q1939.37 2325.28 1945.93 2325.28 Q1949.17 2325.28 1952.04 2325.75 Q1954.9 2326.23 1957.32 2327.19 Z\" fill=\"#000000\" fill-rule=\"evenodd\" fill-opacity=\"1\" /><polyline clip-path=\"url(#clip492)\" style=\"stroke:#000000; stroke-linecap:round; stroke-linejoin:round; stroke-width:2; stroke-opacity:0.1; fill:none\" points=\"\n  217.904,2157.06 3152.76,2157.06 \n  \"/>\n<polyline clip-path=\"url(#clip492)\" style=\"stroke:#000000; stroke-linecap:round; stroke-linejoin:round; stroke-width:2; stroke-opacity:0.1; fill:none\" points=\"\n  217.904,1734.52 3152.76,1734.52 \n  \"/>\n<polyline clip-path=\"url(#clip492)\" style=\"stroke:#000000; stroke-linecap:round; stroke-linejoin:round; stroke-width:2; stroke-opacity:0.1; fill:none\" points=\"\n  217.904,1311.98 3152.76,1311.98 \n  \"/>\n<polyline clip-path=\"url(#clip492)\" style=\"stroke:#000000; stroke-linecap:round; stroke-linejoin:round; stroke-width:2; stroke-opacity:0.1; fill:none\" points=\"\n  217.904,889.436 3152.76,889.436 \n  \"/>\n<polyline clip-path=\"url(#clip492)\" style=\"stroke:#000000; stroke-linecap:round; stroke-linejoin:round; stroke-width:2; stroke-opacity:0.1; fill:none\" points=\"\n  217.904,466.895 3152.76,466.895 \n  \"/>\n<polyline clip-path=\"url(#clip490)\" style=\"stroke:#000000; stroke-linecap:round; stroke-linejoin:round; stroke-width:4; stroke-opacity:1; fill:none\" points=\"\n  217.904,2204.92 217.904,47.2441 \n  \"/>\n<polyline clip-path=\"url(#clip490)\" style=\"stroke:#000000; stroke-linecap:round; stroke-linejoin:round; stroke-width:4; stroke-opacity:1; fill:none\" points=\"\n  217.904,2157.06 236.801,2157.06 \n  \"/>\n<polyline clip-path=\"url(#clip490)\" style=\"stroke:#000000; stroke-linecap:round; stroke-linejoin:round; stroke-width:4; stroke-opacity:1; fill:none\" points=\"\n  217.904,1734.52 236.801,1734.52 \n  \"/>\n<polyline clip-path=\"url(#clip490)\" style=\"stroke:#000000; stroke-linecap:round; stroke-linejoin:round; stroke-width:4; stroke-opacity:1; fill:none\" points=\"\n  217.904,1311.98 236.801,1311.98 \n  \"/>\n<polyline clip-path=\"url(#clip490)\" style=\"stroke:#000000; stroke-linecap:round; stroke-linejoin:round; stroke-width:4; stroke-opacity:1; fill:none\" points=\"\n  217.904,889.436 236.801,889.436 \n  \"/>\n<polyline clip-path=\"url(#clip490)\" style=\"stroke:#000000; stroke-linecap:round; stroke-linejoin:round; stroke-width:4; stroke-opacity:1; fill:none\" points=\"\n  217.904,466.895 236.801,466.895 \n  \"/>\n<path clip-path=\"url(#clip490)\" d=\"M119.603 2170.4 L127.242 2170.4 L127.242 2144.04 L118.932 2145.7 L118.932 2141.44 L127.195 2139.78 L131.871 2139.78 L131.871 2170.4 L139.51 2170.4 L139.51 2174.34 L119.603 2174.34 L119.603 2170.4 Z\" fill=\"#000000\" fill-rule=\"evenodd\" fill-opacity=\"1\" /><path clip-path=\"url(#clip490)\" d=\"M149.001 2139.78 L167.357 2139.78 L167.357 2143.71 L153.283 2143.71 L153.283 2152.18 Q154.302 2151.84 155.32 2151.67 Q156.339 2151.49 157.357 2151.49 Q163.144 2151.49 166.524 2154.66 Q169.904 2157.83 169.904 2163.25 Q169.904 2168.83 166.431 2171.93 Q162.959 2175.01 156.64 2175.01 Q154.464 2175.01 152.195 2174.64 Q149.95 2174.27 147.543 2173.53 L147.543 2168.83 Q149.626 2169.96 151.848 2170.52 Q154.07 2171.07 156.547 2171.07 Q160.552 2171.07 162.89 2168.97 Q165.228 2166.86 165.228 2163.25 Q165.228 2159.64 162.89 2157.53 Q160.552 2155.42 156.547 2155.42 Q154.672 2155.42 152.797 2155.84 Q150.945 2156.26 149.001 2157.14 L149.001 2139.78 Z\" fill=\"#000000\" fill-rule=\"evenodd\" fill-opacity=\"1\" /><path clip-path=\"url(#clip490)\" d=\"M121.825 1747.86 L138.144 1747.86 L138.144 1751.8 L116.2 1751.8 L116.2 1747.86 Q118.862 1745.11 123.445 1740.48 Q128.052 1735.82 129.232 1734.48 Q131.478 1731.96 132.357 1730.22 Q133.26 1728.46 133.26 1726.77 Q133.26 1724.02 131.316 1722.28 Q129.395 1720.55 126.293 1720.55 Q124.094 1720.55 121.64 1721.31 Q119.209 1722.07 116.432 1723.63 L116.432 1718.9 Q119.256 1717.77 121.709 1717.19 Q124.163 1716.61 126.2 1716.61 Q131.57 1716.61 134.765 1719.3 Q137.959 1721.98 137.959 1726.47 Q137.959 1728.6 137.149 1730.52 Q136.362 1732.42 134.256 1735.01 Q133.677 1735.69 130.575 1738.9 Q127.473 1742.1 121.825 1747.86 Z\" fill=\"#000000\" fill-rule=\"evenodd\" fill-opacity=\"1\" /><path clip-path=\"url(#clip490)\" d=\"M157.959 1720.31 Q154.348 1720.31 152.519 1723.88 Q150.714 1727.42 150.714 1734.55 Q150.714 1741.66 152.519 1745.22 Q154.348 1748.76 157.959 1748.76 Q161.593 1748.76 163.399 1745.22 Q165.228 1741.66 165.228 1734.55 Q165.228 1727.42 163.399 1723.88 Q161.593 1720.31 157.959 1720.31 M157.959 1716.61 Q163.769 1716.61 166.825 1721.22 Q169.904 1725.8 169.904 1734.55 Q169.904 1743.28 166.825 1747.88 Q163.769 1752.47 157.959 1752.47 Q152.149 1752.47 149.07 1747.88 Q146.015 1743.28 146.015 1734.55 Q146.015 1725.8 149.07 1721.22 Q152.149 1716.61 157.959 1716.61 Z\" fill=\"#000000\" fill-rule=\"evenodd\" fill-opacity=\"1\" /><path clip-path=\"url(#clip490)\" d=\"M122.82 1325.32 L139.14 1325.32 L139.14 1329.26 L117.196 1329.26 L117.196 1325.32 Q119.858 1322.57 124.441 1317.94 Q129.047 1313.28 130.228 1311.94 Q132.473 1309.42 133.353 1307.68 Q134.256 1305.92 134.256 1304.23 Q134.256 1301.48 132.311 1299.74 Q130.39 1298.01 127.288 1298.01 Q125.089 1298.01 122.635 1298.77 Q120.205 1299.53 117.427 1301.08 L117.427 1296.36 Q120.251 1295.23 122.705 1294.65 Q125.158 1294.07 127.195 1294.07 Q132.566 1294.07 135.76 1296.76 Q138.955 1299.44 138.955 1303.93 Q138.955 1306.06 138.144 1307.98 Q137.357 1309.88 135.251 1312.47 Q134.672 1313.14 131.57 1316.36 Q128.469 1319.56 122.82 1325.32 Z\" fill=\"#000000\" fill-rule=\"evenodd\" fill-opacity=\"1\" /><path clip-path=\"url(#clip490)\" d=\"M149.001 1294.7 L167.357 1294.7 L167.357 1298.63 L153.283 1298.63 L153.283 1307.1 Q154.302 1306.76 155.32 1306.59 Q156.339 1306.41 157.357 1306.41 Q163.144 1306.41 166.524 1309.58 Q169.904 1312.75 169.904 1318.17 Q169.904 1323.75 166.431 1326.85 Q162.959 1329.93 156.64 1329.93 Q154.464 1329.93 152.195 1329.56 Q149.95 1329.19 147.543 1328.45 L147.543 1323.75 Q149.626 1324.88 151.848 1325.44 Q154.07 1325.99 156.547 1325.99 Q160.552 1325.99 162.89 1323.89 Q165.228 1321.78 165.228 1318.17 Q165.228 1314.56 162.89 1312.45 Q160.552 1310.34 156.547 1310.34 Q154.672 1310.34 152.797 1310.76 Q150.945 1311.18 149.001 1312.06 L149.001 1294.7 Z\" fill=\"#000000\" fill-rule=\"evenodd\" fill-opacity=\"1\" /><path clip-path=\"url(#clip490)\" d=\"M131.964 888.082 Q135.32 888.799 137.195 891.068 Q139.094 893.336 139.094 896.669 Q139.094 901.785 135.575 904.586 Q132.057 907.387 125.575 907.387 Q123.399 907.387 121.084 906.947 Q118.793 906.531 116.339 905.674 L116.339 901.16 Q118.283 902.294 120.598 902.873 Q122.913 903.452 125.436 903.452 Q129.834 903.452 132.126 901.716 Q134.441 899.98 134.441 896.669 Q134.441 893.614 132.288 891.901 Q130.158 890.165 126.339 890.165 L122.311 890.165 L122.311 886.322 L126.524 886.322 Q129.973 886.322 131.802 884.957 Q133.631 883.568 133.631 880.975 Q133.631 878.313 131.732 876.901 Q129.857 875.466 126.339 875.466 Q124.418 875.466 122.219 875.883 Q120.02 876.299 117.381 877.179 L117.381 873.012 Q120.043 872.271 122.358 871.901 Q124.695 871.531 126.756 871.531 Q132.08 871.531 135.182 873.961 Q138.283 876.369 138.283 880.489 Q138.283 883.359 136.64 885.35 Q134.996 887.318 131.964 888.082 Z\" fill=\"#000000\" fill-rule=\"evenodd\" fill-opacity=\"1\" /><path clip-path=\"url(#clip490)\" d=\"M157.959 875.234 Q154.348 875.234 152.519 878.799 Q150.714 882.341 150.714 889.47 Q150.714 896.577 152.519 900.142 Q154.348 903.683 157.959 903.683 Q161.593 903.683 163.399 900.142 Q165.228 896.577 165.228 889.47 Q165.228 882.341 163.399 878.799 Q161.593 875.234 157.959 875.234 M157.959 871.531 Q163.769 871.531 166.825 876.137 Q169.904 880.72 169.904 889.47 Q169.904 898.197 166.825 902.804 Q163.769 907.387 157.959 907.387 Q152.149 907.387 149.07 902.804 Q146.015 898.197 146.015 889.47 Q146.015 880.72 149.07 876.137 Q152.149 871.531 157.959 871.531 Z\" fill=\"#000000\" fill-rule=\"evenodd\" fill-opacity=\"1\" /><path clip-path=\"url(#clip490)\" d=\"M132.959 465.541 Q136.316 466.259 138.191 468.527 Q140.089 470.796 140.089 474.129 Q140.089 479.245 136.57 482.046 Q133.052 484.847 126.57 484.847 Q124.395 484.847 122.08 484.407 Q119.788 483.99 117.334 483.134 L117.334 478.62 Q119.279 479.754 121.594 480.333 Q123.908 480.912 126.432 480.912 Q130.83 480.912 133.121 479.176 Q135.436 477.439 135.436 474.129 Q135.436 471.074 133.283 469.361 Q131.154 467.625 127.334 467.625 L123.307 467.625 L123.307 463.782 L127.52 463.782 Q130.969 463.782 132.797 462.416 Q134.626 461.027 134.626 458.435 Q134.626 455.773 132.728 454.361 Q130.853 452.926 127.334 452.926 Q125.413 452.926 123.214 453.342 Q121.015 453.759 118.376 454.639 L118.376 450.472 Q121.038 449.731 123.353 449.361 Q125.691 448.99 127.751 448.99 Q133.075 448.99 136.177 451.421 Q139.279 453.828 139.279 457.949 Q139.279 460.819 137.635 462.81 Q135.992 464.777 132.959 465.541 Z\" fill=\"#000000\" fill-rule=\"evenodd\" fill-opacity=\"1\" /><path clip-path=\"url(#clip490)\" d=\"M149.001 449.615 L167.357 449.615 L167.357 453.551 L153.283 453.551 L153.283 462.023 Q154.302 461.676 155.32 461.514 Q156.339 461.328 157.357 461.328 Q163.144 461.328 166.524 464.5 Q169.904 467.671 169.904 473.088 Q169.904 478.666 166.431 481.768 Q162.959 484.847 156.64 484.847 Q154.464 484.847 152.195 484.476 Q149.95 484.106 147.543 483.365 L147.543 478.666 Q149.626 479.801 151.848 480.356 Q154.07 480.912 156.547 480.912 Q160.552 480.912 162.89 478.805 Q165.228 476.699 165.228 473.088 Q165.228 469.476 162.89 467.37 Q160.552 465.264 156.547 465.264 Q154.672 465.264 152.797 465.68 Q150.945 466.097 149.001 466.977 L149.001 449.615 Z\" fill=\"#000000\" fill-rule=\"evenodd\" fill-opacity=\"1\" /><path clip-path=\"url(#clip490)\" d=\"M6.42416 1218.15 L6.42416 1211.68 L35.2926 1211.68 Q42.9315 1211.68 46.3053 1208.92 Q49.6473 1206.15 49.6473 1199.94 Q49.6473 1193.77 46.3053 1191 Q42.9315 1188.23 35.2926 1188.23 L6.42416 1188.23 L6.42416 1181.77 L36.0884 1181.77 Q45.3823 1181.77 50.1247 1186.38 Q54.8672 1190.96 54.8672 1199.94 Q54.8672 1208.95 50.1247 1213.56 Q45.3823 1218.15 36.0884 1218.15 L6.42416 1218.15 Z\" fill=\"#000000\" fill-rule=\"evenodd\" fill-opacity=\"1\" /><path clip-path=\"url(#clip490)\" d=\"M8.17473 1164.16 L18.2962 1164.16 L18.2962 1152.1 L22.8477 1152.1 L22.8477 1164.16 L42.1994 1164.16 Q46.5599 1164.16 47.8013 1162.99 Q49.0426 1161.78 49.0426 1158.12 L49.0426 1152.1 L53.9442 1152.1 L53.9442 1158.12 Q53.9442 1164.9 51.4297 1167.47 Q48.8834 1170.05 42.1994 1170.05 L22.8477 1170.05 L22.8477 1174.35 L18.2962 1174.35 L18.2962 1170.05 L8.17473 1170.05 L8.17473 1164.16 Z\" fill=\"#000000\" fill-rule=\"evenodd\" fill-opacity=\"1\" /><path clip-path=\"url(#clip490)\" d=\"M18.2962 1144.4 L18.2962 1138.54 L53.9442 1138.54 L53.9442 1144.4 L18.2962 1144.4 M4.41896 1144.4 L4.41896 1138.54 L11.835 1138.54 L11.835 1144.4 L4.41896 1144.4 Z\" fill=\"#000000\" fill-rule=\"evenodd\" fill-opacity=\"1\" /><path clip-path=\"url(#clip490)\" d=\"M4.41896 1126.29 L4.41896 1120.43 L53.9442 1120.43 L53.9442 1126.29 L4.41896 1126.29 Z\" fill=\"#000000\" fill-rule=\"evenodd\" fill-opacity=\"1\" /><path clip-path=\"url(#clip490)\" d=\"M18.2962 1108.18 L18.2962 1102.32 L53.9442 1102.32 L53.9442 1108.18 L18.2962 1108.18 M4.41896 1108.18 L4.41896 1102.32 L11.835 1102.32 L11.835 1108.18 L4.41896 1108.18 Z\" fill=\"#000000\" fill-rule=\"evenodd\" fill-opacity=\"1\" /><path clip-path=\"url(#clip490)\" d=\"M8.17473 1084.28 L18.2962 1084.28 L18.2962 1072.21 L22.8477 1072.21 L22.8477 1084.28 L42.1994 1084.28 Q46.5599 1084.28 47.8013 1083.1 Q49.0426 1081.89 49.0426 1078.23 L49.0426 1072.21 L53.9442 1072.21 L53.9442 1078.23 Q53.9442 1085.01 51.4297 1087.59 Q48.8834 1090.16 42.1994 1090.16 L22.8477 1090.16 L22.8477 1094.46 L18.2962 1094.46 L18.2962 1090.16 L8.17473 1090.16 L8.17473 1084.28 Z\" fill=\"#000000\" fill-rule=\"evenodd\" fill-opacity=\"1\" /><path clip-path=\"url(#clip490)\" d=\"M57.2543 1049.68 Q63.62 1052.16 65.5616 1054.52 Q67.5031 1056.87 67.5031 1060.82 L67.5031 1065.5 L62.6015 1065.5 L62.6015 1062.06 Q62.6015 1059.64 61.4557 1058.3 Q60.3099 1056.97 56.0448 1055.34 L53.3712 1054.29 L18.2962 1068.71 L18.2962 1062.5 L46.178 1051.36 L18.2962 1040.22 L18.2962 1034.02 L57.2543 1049.68 Z\" fill=\"#000000\" fill-rule=\"evenodd\" fill-opacity=\"1\" /><polyline clip-path=\"url(#clip492)\" style=\"stroke:#009af9; stroke-linecap:round; stroke-linejoin:round; stroke-width:4; stroke-opacity:1; fill:none\" points=\"\n  300.965,265.781 498.732,108.31 696.498,108.31 894.264,277.6 1092.03,170.986 1289.8,108.31 1487.56,108.31 1685.33,149.567 1883.1,140.334 2080.86,119.408 \n  2278.63,232.039 2476.4,108.31 2674.16,232.039 2871.93,108.31 3069.69,108.31 \n  \"/>\n<polyline clip-path=\"url(#clip492)\" style=\"stroke:#e26f46; stroke-linecap:round; stroke-linejoin:round; stroke-width:4; stroke-opacity:1; fill:none\" points=\"\n  300.965,1336.18 498.732,1705.97 696.498,1877.71 894.264,1386.86 1092.03,2017.99 1289.8,1832.5 1487.56,1679.21 1685.33,1616.11 1883.1,2143.85 2080.86,1663.77 \n  2278.63,1669.44 2476.4,1639.98 2674.16,1874.6 2871.93,1507.6 3069.69,2102.6 \n  \"/>\n<polyline clip-path=\"url(#clip492)\" style=\"stroke:#3da44d; stroke-linecap:round; stroke-linejoin:round; stroke-width:4; stroke-opacity:1; fill:none\" points=\"\n  300.965,265.781 498.732,254.683 696.498,142.864 894.264,243.137 1092.03,119.408 1289.8,265.781 1487.56,108.31 1685.33,119.408 1883.1,119.408 2080.86,119.408 \n  2278.63,254.683 2476.4,292.099 2674.16,140.334 2871.93,185.486 3069.69,108.31 \n  \"/>\n<polyline clip-path=\"url(#clip492)\" style=\"stroke:#c271d2; stroke-linecap:round; stroke-linejoin:round; stroke-width:4; stroke-opacity:1; fill:none\" points=\"\n  300.965,1091.27 498.732,1334.38 696.498,1390.01 894.264,1327.91 1092.03,1426.6 1289.8,1502.89 1487.56,1927.18 1685.33,1526.76 1883.1,1845.79 2080.86,1667.86 \n  2278.63,1657.93 2476.4,1787.75 2674.16,1677.59 2871.93,1351.11 3069.69,1887.35 \n  \"/>\n<path clip-path=\"url(#clip490)\" d=\"\nM315.732 2133 L1354.07 2133 L1354.07 1873.8 L315.732 1873.8  Z\n  \" fill=\"#ffffff\" fill-rule=\"evenodd\" fill-opacity=\"1\"/>\n<polyline clip-path=\"url(#clip490)\" style=\"stroke:#000000; stroke-linecap:round; stroke-linejoin:round; stroke-width:4; stroke-opacity:1; fill:none\" points=\"\n  315.732,2133 1354.07,2133 1354.07,1873.8 315.732,1873.8 315.732,2133 \n  \"/>\n<polyline clip-path=\"url(#clip490)\" style=\"stroke:#009af9; stroke-linecap:round; stroke-linejoin:round; stroke-width:4; stroke-opacity:1; fill:none\" points=\"\n  348.341,1925.64 543.998,1925.64 \n  \"/>\n<path clip-path=\"url(#clip490)\" d=\"M581.284 1926.41 L581.284 1939.07 L588.784 1939.07 Q592.557 1939.07 594.362 1937.52 Q596.191 1935.95 596.191 1932.73 Q596.191 1929.49 594.362 1927.96 Q592.557 1926.41 588.784 1926.41 L581.284 1926.41 M581.284 1912.2 L581.284 1922.62 L588.205 1922.62 Q591.631 1922.62 593.297 1921.34 Q594.987 1920.05 594.987 1917.41 Q594.987 1914.79 593.297 1913.5 Q591.631 1912.2 588.205 1912.2 L581.284 1912.2 M576.608 1908.36 L588.552 1908.36 Q593.899 1908.36 596.793 1910.58 Q599.686 1912.8 599.686 1916.9 Q599.686 1920.07 598.205 1921.95 Q596.723 1923.82 593.853 1924.28 Q597.302 1925.02 599.2 1927.38 Q601.122 1929.72 601.122 1933.24 Q601.122 1937.87 597.973 1940.39 Q594.825 1942.92 589.015 1942.92 L576.608 1942.92 L576.608 1908.36 Z\" fill=\"#000000\" fill-rule=\"evenodd\" fill-opacity=\"1\" /><path clip-path=\"url(#clip490)\" d=\"M608.946 1906.9 L613.205 1906.9 L613.205 1942.92 L608.946 1942.92 L608.946 1906.9 Z\" fill=\"#000000\" fill-rule=\"evenodd\" fill-opacity=\"1\" /><path clip-path=\"url(#clip490)\" d=\"M621.677 1932.69 L621.677 1916.99 L625.936 1916.99 L625.936 1932.52 Q625.936 1936.2 627.371 1938.06 Q628.807 1939.88 631.677 1939.88 Q635.126 1939.88 637.117 1937.69 Q639.131 1935.49 639.131 1931.69 L639.131 1916.99 L643.39 1916.99 L643.39 1942.92 L639.131 1942.92 L639.131 1938.94 Q637.58 1941.3 635.519 1942.45 Q633.482 1943.59 630.774 1943.59 Q626.307 1943.59 623.992 1940.81 Q621.677 1938.03 621.677 1932.69 M632.394 1916.37 L632.394 1916.37 Z\" fill=\"#000000\" fill-rule=\"evenodd\" fill-opacity=\"1\" /><path clip-path=\"url(#clip490)\" d=\"M674.339 1928.89 L674.339 1930.97 L654.755 1930.97 Q655.033 1935.37 657.394 1937.69 Q659.779 1939.98 664.015 1939.98 Q666.468 1939.98 668.76 1939.38 Q671.075 1938.77 673.343 1937.57 L673.343 1941.6 Q671.052 1942.57 668.644 1943.08 Q666.237 1943.59 663.76 1943.59 Q657.556 1943.59 653.922 1939.98 Q650.311 1936.37 650.311 1930.21 Q650.311 1923.84 653.737 1920.12 Q657.186 1916.37 663.019 1916.37 Q668.251 1916.37 671.283 1919.75 Q674.339 1923.1 674.339 1928.89 M670.079 1927.64 Q670.033 1924.14 668.112 1922.06 Q666.214 1919.98 663.066 1919.98 Q659.501 1919.98 657.348 1921.99 Q655.218 1924.01 654.894 1927.66 L670.079 1927.64 Z\" fill=\"#000000\" fill-rule=\"evenodd\" fill-opacity=\"1\" /><path clip-path=\"url(#clip490)\" d=\"M695.959 1932.69 L695.959 1916.99 L700.218 1916.99 L700.218 1932.52 Q700.218 1936.2 701.653 1938.06 Q703.089 1939.88 705.959 1939.88 Q709.408 1939.88 711.399 1937.69 Q713.413 1935.49 713.413 1931.69 L713.413 1916.99 L717.672 1916.99 L717.672 1942.92 L713.413 1942.92 L713.413 1938.94 Q711.862 1941.3 709.801 1942.45 Q707.764 1943.59 705.056 1943.59 Q700.589 1943.59 698.274 1940.81 Q695.959 1938.03 695.959 1932.69 M706.676 1916.37 L706.676 1916.37 Z\" fill=\"#000000\" fill-rule=\"evenodd\" fill-opacity=\"1\" /><path clip-path=\"url(#clip490)\" d=\"M730.658 1909.63 L730.658 1916.99 L739.431 1916.99 L739.431 1920.3 L730.658 1920.3 L730.658 1934.38 Q730.658 1937.55 731.514 1938.45 Q732.394 1939.35 735.056 1939.35 L739.431 1939.35 L739.431 1942.92 L735.056 1942.92 Q730.125 1942.92 728.25 1941.09 Q726.375 1939.24 726.375 1934.38 L726.375 1920.3 L723.25 1920.3 L723.25 1916.99 L726.375 1916.99 L726.375 1909.63 L730.658 1909.63 Z\" fill=\"#000000\" fill-rule=\"evenodd\" fill-opacity=\"1\" /><path clip-path=\"url(#clip490)\" d=\"M745.033 1916.99 L749.292 1916.99 L749.292 1942.92 L745.033 1942.92 L745.033 1916.99 M745.033 1906.9 L749.292 1906.9 L749.292 1912.29 L745.033 1912.29 L745.033 1906.9 Z\" fill=\"#000000\" fill-rule=\"evenodd\" fill-opacity=\"1\" /><path clip-path=\"url(#clip490)\" d=\"M758.204 1906.9 L762.463 1906.9 L762.463 1942.92 L758.204 1942.92 L758.204 1906.9 Z\" fill=\"#000000\" fill-rule=\"evenodd\" fill-opacity=\"1\" /><path clip-path=\"url(#clip490)\" d=\"M771.375 1916.99 L775.634 1916.99 L775.634 1942.92 L771.375 1942.92 L771.375 1916.99 M771.375 1906.9 L775.634 1906.9 L775.634 1912.29 L771.375 1912.29 L771.375 1906.9 Z\" fill=\"#000000\" fill-rule=\"evenodd\" fill-opacity=\"1\" /><path clip-path=\"url(#clip490)\" d=\"M788.759 1909.63 L788.759 1916.99 L797.532 1916.99 L797.532 1920.3 L788.759 1920.3 L788.759 1934.38 Q788.759 1937.55 789.616 1938.45 Q790.495 1939.35 793.158 1939.35 L797.532 1939.35 L797.532 1942.92 L793.158 1942.92 Q788.227 1942.92 786.352 1941.09 Q784.477 1939.24 784.477 1934.38 L784.477 1920.3 L781.352 1920.3 L781.352 1916.99 L784.477 1916.99 L784.477 1909.63 L788.759 1909.63 Z\" fill=\"#000000\" fill-rule=\"evenodd\" fill-opacity=\"1\" /><path clip-path=\"url(#clip490)\" d=\"M813.921 1945.32 Q812.116 1949.95 810.403 1951.37 Q808.69 1952.78 805.819 1952.78 L802.417 1952.78 L802.417 1949.21 L804.917 1949.21 Q806.676 1949.21 807.648 1948.38 Q808.62 1947.55 809.801 1944.45 L810.565 1942.5 L800.079 1916.99 L804.593 1916.99 L812.694 1937.27 L820.796 1916.99 L825.31 1916.99 L813.921 1945.32 Z\" fill=\"#000000\" fill-rule=\"evenodd\" fill-opacity=\"1\" /><path clip-path=\"url(#clip490)\" d=\"M850.379 1939.03 L850.379 1952.78 L846.097 1952.78 L846.097 1916.99 L850.379 1916.99 L850.379 1920.93 Q851.722 1918.61 853.759 1917.5 Q855.819 1916.37 858.666 1916.37 Q863.389 1916.37 866.328 1920.12 Q869.291 1923.87 869.291 1929.98 Q869.291 1936.09 866.328 1939.84 Q863.389 1943.59 858.666 1943.59 Q855.819 1943.59 853.759 1942.48 Q851.722 1941.34 850.379 1939.03 M864.87 1929.98 Q864.87 1925.28 862.926 1922.62 Q861.004 1919.93 857.625 1919.93 Q854.245 1919.93 852.301 1922.62 Q850.379 1925.28 850.379 1929.98 Q850.379 1934.68 852.301 1937.36 Q854.245 1940.02 857.625 1940.02 Q861.004 1940.02 862.926 1937.36 Q864.87 1934.68 864.87 1929.98 Z\" fill=\"#000000\" fill-rule=\"evenodd\" fill-opacity=\"1\" /><path clip-path=\"url(#clip490)\" d=\"M891.375 1920.97 Q890.657 1920.56 889.801 1920.37 Q888.967 1920.16 887.949 1920.16 Q884.338 1920.16 882.393 1922.52 Q880.472 1924.86 880.472 1929.26 L880.472 1942.92 L876.189 1942.92 L876.189 1916.99 L880.472 1916.99 L880.472 1921.02 Q881.814 1918.66 883.967 1917.52 Q886.12 1916.37 889.199 1916.37 Q889.638 1916.37 890.171 1916.44 Q890.703 1916.48 891.351 1916.6 L891.375 1920.97 Z\" fill=\"#000000\" fill-rule=\"evenodd\" fill-opacity=\"1\" /><path clip-path=\"url(#clip490)\" d=\"M904.847 1919.98 Q901.421 1919.98 899.43 1922.66 Q897.439 1925.32 897.439 1929.98 Q897.439 1934.63 899.407 1937.32 Q901.398 1939.98 904.847 1939.98 Q908.249 1939.98 910.24 1937.29 Q912.231 1934.61 912.231 1929.98 Q912.231 1925.37 910.24 1922.69 Q908.249 1919.98 904.847 1919.98 M904.847 1916.37 Q910.402 1916.37 913.574 1919.98 Q916.745 1923.59 916.745 1929.98 Q916.745 1936.34 913.574 1939.98 Q910.402 1943.59 904.847 1943.59 Q899.268 1943.59 896.097 1939.98 Q892.949 1936.34 892.949 1929.98 Q892.949 1923.59 896.097 1919.98 Q899.268 1916.37 904.847 1916.37 Z\" fill=\"#000000\" fill-rule=\"evenodd\" fill-opacity=\"1\" /><path clip-path=\"url(#clip490)\" d=\"M942.416 1929.98 Q942.416 1925.28 940.472 1922.62 Q938.55 1919.93 935.171 1919.93 Q931.791 1919.93 929.847 1922.62 Q927.925 1925.28 927.925 1929.98 Q927.925 1934.68 929.847 1937.36 Q931.791 1940.02 935.171 1940.02 Q938.55 1940.02 940.472 1937.36 Q942.416 1934.68 942.416 1929.98 M927.925 1920.93 Q929.268 1918.61 931.305 1917.5 Q933.365 1916.37 936.212 1916.37 Q940.934 1916.37 943.874 1920.12 Q946.837 1923.87 946.837 1929.98 Q946.837 1936.09 943.874 1939.84 Q940.934 1943.59 936.212 1943.59 Q933.365 1943.59 931.305 1942.48 Q929.268 1941.34 927.925 1939.03 L927.925 1942.92 L923.643 1942.92 L923.643 1906.9 L927.925 1906.9 L927.925 1920.93 Z\" fill=\"#000000\" fill-rule=\"evenodd\" fill-opacity=\"1\" /><path clip-path=\"url(#clip490)\" d=\"M965.68 1929.88 Q960.518 1929.88 958.527 1931.07 Q956.536 1932.25 956.536 1935.09 Q956.536 1937.36 958.018 1938.7 Q959.522 1940.02 962.092 1940.02 Q965.633 1940.02 967.763 1937.52 Q969.916 1935 969.916 1930.83 L969.916 1929.88 L965.68 1929.88 M974.175 1928.13 L974.175 1942.92 L969.916 1942.92 L969.916 1938.98 Q968.457 1941.34 966.282 1942.48 Q964.106 1943.59 960.958 1943.59 Q956.976 1943.59 954.615 1941.37 Q952.277 1939.12 952.277 1935.37 Q952.277 1931 955.194 1928.77 Q958.133 1926.55 963.944 1926.55 L969.916 1926.55 L969.916 1926.14 Q969.916 1923.2 967.971 1921.6 Q966.05 1919.98 962.555 1919.98 Q960.333 1919.98 958.226 1920.51 Q956.12 1921.04 954.175 1922.11 L954.175 1918.17 Q956.513 1917.27 958.712 1916.83 Q960.911 1916.37 962.995 1916.37 Q968.62 1916.37 971.397 1919.28 Q974.175 1922.2 974.175 1928.13 Z\" fill=\"#000000\" fill-rule=\"evenodd\" fill-opacity=\"1\" /><path clip-path=\"url(#clip490)\" d=\"M1001.56 1929.98 Q1001.56 1925.28 999.615 1922.62 Q997.693 1919.93 994.314 1919.93 Q990.934 1919.93 988.99 1922.62 Q987.069 1925.28 987.069 1929.98 Q987.069 1934.68 988.99 1937.36 Q990.934 1940.02 994.314 1940.02 Q997.693 1940.02 999.615 1937.36 Q1001.56 1934.68 1001.56 1929.98 M987.069 1920.93 Q988.411 1918.61 990.448 1917.5 Q992.508 1916.37 995.356 1916.37 Q1000.08 1916.37 1003.02 1920.12 Q1005.98 1923.87 1005.98 1929.98 Q1005.98 1936.09 1003.02 1939.84 Q1000.08 1943.59 995.356 1943.59 Q992.508 1943.59 990.448 1942.48 Q988.411 1941.34 987.069 1939.03 L987.069 1942.92 L982.786 1942.92 L982.786 1906.9 L987.069 1906.9 L987.069 1920.93 Z\" fill=\"#000000\" fill-rule=\"evenodd\" fill-opacity=\"1\" /><path clip-path=\"url(#clip490)\" d=\"M1013.04 1916.99 L1017.3 1916.99 L1017.3 1942.92 L1013.04 1942.92 L1013.04 1916.99 M1013.04 1906.9 L1017.3 1906.9 L1017.3 1912.29 L1013.04 1912.29 L1013.04 1906.9 Z\" fill=\"#000000\" fill-rule=\"evenodd\" fill-opacity=\"1\" /><path clip-path=\"url(#clip490)\" d=\"M1026.21 1906.9 L1030.47 1906.9 L1030.47 1942.92 L1026.21 1942.92 L1026.21 1906.9 Z\" fill=\"#000000\" fill-rule=\"evenodd\" fill-opacity=\"1\" /><path clip-path=\"url(#clip490)\" d=\"M1039.38 1916.99 L1043.64 1916.99 L1043.64 1942.92 L1039.38 1942.92 L1039.38 1916.99 M1039.38 1906.9 L1043.64 1906.9 L1043.64 1912.29 L1039.38 1912.29 L1039.38 1906.9 Z\" fill=\"#000000\" fill-rule=\"evenodd\" fill-opacity=\"1\" /><path clip-path=\"url(#clip490)\" d=\"M1069.08 1917.76 L1069.08 1921.78 Q1067.28 1920.86 1065.33 1920.39 Q1063.39 1919.93 1061.3 1919.93 Q1058.13 1919.93 1056.54 1920.9 Q1054.96 1921.88 1054.96 1923.82 Q1054.96 1925.3 1056.1 1926.16 Q1057.23 1926.99 1060.66 1927.76 L1062.11 1928.08 Q1066.65 1929.05 1068.55 1930.83 Q1070.47 1932.59 1070.47 1935.76 Q1070.47 1939.38 1067.6 1941.48 Q1064.75 1943.59 1059.75 1943.59 Q1057.67 1943.59 1055.4 1943.17 Q1053.16 1942.78 1050.66 1941.97 L1050.66 1937.57 Q1053.02 1938.8 1055.31 1939.42 Q1057.6 1940.02 1059.85 1940.02 Q1062.86 1940.02 1064.48 1939.01 Q1066.1 1937.96 1066.1 1936.09 Q1066.1 1934.35 1064.92 1933.43 Q1063.76 1932.5 1059.8 1931.64 L1058.32 1931.3 Q1054.36 1930.46 1052.6 1928.75 Q1050.84 1927.01 1050.84 1924.01 Q1050.84 1920.35 1053.43 1918.36 Q1056.03 1916.37 1060.79 1916.37 Q1063.16 1916.37 1065.24 1916.71 Q1067.32 1917.06 1069.08 1917.76 Z\" fill=\"#000000\" fill-rule=\"evenodd\" fill-opacity=\"1\" /><path clip-path=\"url(#clip490)\" d=\"M1081.47 1909.63 L1081.47 1916.99 L1090.24 1916.99 L1090.24 1920.3 L1081.47 1920.3 L1081.47 1934.38 Q1081.47 1937.55 1082.32 1938.45 Q1083.2 1939.35 1085.86 1939.35 L1090.24 1939.35 L1090.24 1942.92 L1085.86 1942.92 Q1080.93 1942.92 1079.06 1941.09 Q1077.18 1939.24 1077.18 1934.38 L1077.18 1920.3 L1074.06 1920.3 L1074.06 1916.99 L1077.18 1916.99 L1077.18 1909.63 L1081.47 1909.63 Z\" fill=\"#000000\" fill-rule=\"evenodd\" fill-opacity=\"1\" /><path clip-path=\"url(#clip490)\" d=\"M1095.84 1916.99 L1100.1 1916.99 L1100.1 1942.92 L1095.84 1942.92 L1095.84 1916.99 M1095.84 1906.9 L1100.1 1906.9 L1100.1 1912.29 L1095.84 1912.29 L1095.84 1906.9 Z\" fill=\"#000000\" fill-rule=\"evenodd\" fill-opacity=\"1\" /><path clip-path=\"url(#clip490)\" d=\"M1127.67 1917.99 L1127.67 1921.97 Q1125.86 1920.97 1124.04 1920.49 Q1122.23 1919.98 1120.38 1919.98 Q1116.23 1919.98 1113.94 1922.62 Q1111.65 1925.23 1111.65 1929.98 Q1111.65 1934.72 1113.94 1937.36 Q1116.23 1939.98 1120.38 1939.98 Q1122.23 1939.98 1124.04 1939.49 Q1125.86 1938.98 1127.67 1937.99 L1127.67 1941.92 Q1125.89 1942.76 1123.97 1943.17 Q1122.07 1943.59 1119.92 1943.59 Q1114.06 1943.59 1110.61 1939.91 Q1107.16 1936.23 1107.16 1929.98 Q1107.16 1923.64 1110.63 1920 Q1114.13 1916.37 1120.19 1916.37 Q1122.16 1916.37 1124.04 1916.78 Q1125.91 1917.18 1127.67 1917.99 Z\" fill=\"#000000\" fill-rule=\"evenodd\" fill-opacity=\"1\" /><path clip-path=\"url(#clip490)\" d=\"M1170.33 1921.97 Q1171.93 1919.1 1174.15 1917.73 Q1176.37 1916.37 1179.38 1916.37 Q1183.43 1916.37 1185.63 1919.21 Q1187.83 1922.04 1187.83 1927.27 L1187.83 1942.92 L1183.55 1942.92 L1183.55 1927.41 Q1183.55 1923.68 1182.23 1921.88 Q1180.91 1920.07 1178.2 1920.07 Q1174.89 1920.07 1172.97 1922.27 Q1171.05 1924.47 1171.05 1928.26 L1171.05 1942.92 L1166.77 1942.92 L1166.77 1927.41 Q1166.77 1923.66 1165.45 1921.88 Q1164.13 1920.07 1161.37 1920.07 Q1158.11 1920.07 1156.19 1922.29 Q1154.27 1924.49 1154.27 1928.26 L1154.27 1942.92 L1149.98 1942.92 L1149.98 1916.99 L1154.27 1916.99 L1154.27 1921.02 Q1155.73 1918.64 1157.76 1917.5 Q1159.8 1916.37 1162.6 1916.37 Q1165.42 1916.37 1167.39 1917.8 Q1169.38 1919.24 1170.33 1921.97 Z\" fill=\"#000000\" fill-rule=\"evenodd\" fill-opacity=\"1\" /><path clip-path=\"url(#clip490)\" d=\"M1206.37 1919.98 Q1202.95 1919.98 1200.96 1922.66 Q1198.97 1925.32 1198.97 1929.98 Q1198.97 1934.63 1200.93 1937.32 Q1202.92 1939.98 1206.37 1939.98 Q1209.78 1939.98 1211.77 1937.29 Q1213.76 1934.61 1213.76 1929.98 Q1213.76 1925.37 1211.77 1922.69 Q1209.78 1919.98 1206.37 1919.98 M1206.37 1916.37 Q1211.93 1916.37 1215.1 1919.98 Q1218.27 1923.59 1218.27 1929.98 Q1218.27 1936.34 1215.1 1939.98 Q1211.93 1943.59 1206.37 1943.59 Q1200.79 1943.59 1197.62 1939.98 Q1194.47 1936.34 1194.47 1929.98 Q1194.47 1923.59 1197.62 1919.98 Q1200.79 1916.37 1206.37 1916.37 Z\" fill=\"#000000\" fill-rule=\"evenodd\" fill-opacity=\"1\" /><path clip-path=\"url(#clip490)\" d=\"M1242.39 1920.93 L1242.39 1906.9 L1246.65 1906.9 L1246.65 1942.92 L1242.39 1942.92 L1242.39 1939.03 Q1241.05 1941.34 1238.99 1942.48 Q1236.95 1943.59 1234.08 1943.59 Q1229.38 1943.59 1226.42 1939.84 Q1223.48 1936.09 1223.48 1929.98 Q1223.48 1923.87 1226.42 1920.12 Q1229.38 1916.37 1234.08 1916.37 Q1236.95 1916.37 1238.99 1917.5 Q1241.05 1918.61 1242.39 1920.93 M1227.88 1929.98 Q1227.88 1934.68 1229.8 1937.36 Q1231.74 1940.02 1235.12 1940.02 Q1238.5 1940.02 1240.45 1937.36 Q1242.39 1934.68 1242.39 1929.98 Q1242.39 1925.28 1240.45 1922.62 Q1238.5 1919.93 1235.12 1919.93 Q1231.74 1919.93 1229.8 1922.62 Q1227.88 1925.28 1227.88 1929.98 Z\" fill=\"#000000\" fill-rule=\"evenodd\" fill-opacity=\"1\" /><path clip-path=\"url(#clip490)\" d=\"M1277.6 1928.89 L1277.6 1930.97 L1258.02 1930.97 Q1258.29 1935.37 1260.66 1937.69 Q1263.04 1939.98 1267.28 1939.98 Q1269.73 1939.98 1272.02 1939.38 Q1274.34 1938.77 1276.6 1937.57 L1276.6 1941.6 Q1274.31 1942.57 1271.9 1943.08 Q1269.5 1943.59 1267.02 1943.59 Q1260.82 1943.59 1257.18 1939.98 Q1253.57 1936.37 1253.57 1930.21 Q1253.57 1923.84 1257 1920.12 Q1260.45 1916.37 1266.28 1916.37 Q1271.51 1916.37 1274.54 1919.75 Q1277.6 1923.1 1277.6 1928.89 M1273.34 1927.64 Q1273.29 1924.14 1271.37 1922.06 Q1269.47 1919.98 1266.33 1919.98 Q1262.76 1919.98 1260.61 1921.99 Q1258.48 1924.01 1258.16 1927.66 L1273.34 1927.64 Z\" fill=\"#000000\" fill-rule=\"evenodd\" fill-opacity=\"1\" /><path clip-path=\"url(#clip490)\" d=\"M1284.59 1906.9 L1288.85 1906.9 L1288.85 1942.92 L1284.59 1942.92 L1284.59 1906.9 Z\" fill=\"#000000\" fill-rule=\"evenodd\" fill-opacity=\"1\" /><polyline clip-path=\"url(#clip490)\" style=\"stroke:#e26f46; stroke-linecap:round; stroke-linejoin:round; stroke-width:4; stroke-opacity:1; fill:none\" points=\"\n  348.341,1977.48 543.998,1977.48 \n  \"/>\n<path clip-path=\"url(#clip490)\" d=\"M592.997 1978.55 Q594.501 1979.06 595.913 1980.73 Q597.348 1982.4 598.784 1985.31 L603.529 1994.76 L598.506 1994.76 L594.085 1985.89 Q592.372 1982.42 590.751 1981.29 Q589.154 1980.15 586.376 1980.15 L581.284 1980.15 L581.284 1994.76 L576.608 1994.76 L576.608 1960.2 L587.163 1960.2 Q593.089 1960.2 596.006 1962.67 Q598.922 1965.15 598.922 1970.15 Q598.922 1973.41 597.395 1975.57 Q595.89 1977.72 592.997 1978.55 M581.284 1964.04 L581.284 1976.31 L587.163 1976.31 Q590.543 1976.31 592.256 1974.76 Q593.992 1973.18 593.992 1970.15 Q593.992 1967.12 592.256 1965.59 Q590.543 1964.04 587.163 1964.04 L581.284 1964.04 Z\" fill=\"#000000\" fill-rule=\"evenodd\" fill-opacity=\"1\" /><path clip-path=\"url(#clip490)\" d=\"M629.408 1980.73 L629.408 1982.81 L609.825 1982.81 Q610.103 1987.21 612.464 1989.53 Q614.848 1991.82 619.084 1991.82 Q621.538 1991.82 623.83 1991.22 Q626.145 1990.61 628.413 1989.41 L628.413 1993.44 Q626.121 1994.41 623.714 1994.92 Q621.307 1995.43 618.83 1995.43 Q612.626 1995.43 608.992 1991.82 Q605.381 1988.21 605.381 1982.05 Q605.381 1975.68 608.807 1971.96 Q612.256 1968.21 618.089 1968.21 Q623.32 1968.21 626.353 1971.59 Q629.408 1974.94 629.408 1980.73 M625.149 1979.48 Q625.103 1975.98 623.182 1973.9 Q621.283 1971.82 618.135 1971.82 Q614.571 1971.82 612.418 1973.83 Q610.288 1975.85 609.964 1979.5 L625.149 1979.48 Z\" fill=\"#000000\" fill-rule=\"evenodd\" fill-opacity=\"1\" /><path clip-path=\"url(#clip490)\" d=\"M653.459 1972.77 L653.459 1958.74 L657.718 1958.74 L657.718 1994.76 L653.459 1994.76 L653.459 1990.87 Q652.117 1993.18 650.056 1994.32 Q648.019 1995.43 645.149 1995.43 Q640.45 1995.43 637.487 1991.68 Q634.547 1987.93 634.547 1981.82 Q634.547 1975.71 637.487 1971.96 Q640.45 1968.21 645.149 1968.21 Q648.019 1968.21 650.056 1969.34 Q652.117 1970.45 653.459 1972.77 M638.945 1981.82 Q638.945 1986.52 640.867 1989.2 Q642.811 1991.86 646.191 1991.86 Q649.57 1991.86 651.515 1989.2 Q653.459 1986.52 653.459 1981.82 Q653.459 1977.12 651.515 1974.46 Q649.57 1971.77 646.191 1971.77 Q642.811 1971.77 640.867 1974.46 Q638.945 1977.12 638.945 1981.82 Z\" fill=\"#000000\" fill-rule=\"evenodd\" fill-opacity=\"1\" /><path clip-path=\"url(#clip490)\" d=\"M681.121 1984.53 L681.121 1968.83 L685.38 1968.83 L685.38 1984.36 Q685.38 1988.04 686.815 1989.9 Q688.251 1991.72 691.121 1991.72 Q694.57 1991.72 696.561 1989.53 Q698.575 1987.33 698.575 1983.53 L698.575 1968.83 L702.834 1968.83 L702.834 1994.76 L698.575 1994.76 L698.575 1990.78 Q697.024 1993.14 694.964 1994.29 Q692.927 1995.43 690.218 1995.43 Q685.751 1995.43 683.436 1992.65 Q681.121 1989.87 681.121 1984.53 M691.839 1968.21 L691.839 1968.21 Z\" fill=\"#000000\" fill-rule=\"evenodd\" fill-opacity=\"1\" /><path clip-path=\"url(#clip490)\" d=\"M715.82 1961.47 L715.82 1968.83 L724.593 1968.83 L724.593 1972.14 L715.82 1972.14 L715.82 1986.22 Q715.82 1989.39 716.676 1990.29 Q717.556 1991.19 720.218 1991.19 L724.593 1991.19 L724.593 1994.76 L720.218 1994.76 Q715.288 1994.76 713.413 1992.93 Q711.538 1991.08 711.538 1986.22 L711.538 1972.14 L708.413 1972.14 L708.413 1968.83 L711.538 1968.83 L711.538 1961.47 L715.82 1961.47 Z\" fill=\"#000000\" fill-rule=\"evenodd\" fill-opacity=\"1\" /><path clip-path=\"url(#clip490)\" d=\"M730.195 1968.83 L734.454 1968.83 L734.454 1994.76 L730.195 1994.76 L730.195 1968.83 M730.195 1958.74 L734.454 1958.74 L734.454 1964.13 L730.195 1964.13 L730.195 1958.74 Z\" fill=\"#000000\" fill-rule=\"evenodd\" fill-opacity=\"1\" /><path clip-path=\"url(#clip490)\" d=\"M743.366 1958.74 L747.625 1958.74 L747.625 1994.76 L743.366 1994.76 L743.366 1958.74 Z\" fill=\"#000000\" fill-rule=\"evenodd\" fill-opacity=\"1\" /><path clip-path=\"url(#clip490)\" d=\"M756.537 1968.83 L760.797 1968.83 L760.797 1994.76 L756.537 1994.76 L756.537 1968.83 M756.537 1958.74 L760.797 1958.74 L760.797 1964.13 L756.537 1964.13 L756.537 1958.74 Z\" fill=\"#000000\" fill-rule=\"evenodd\" fill-opacity=\"1\" /><path clip-path=\"url(#clip490)\" d=\"M773.922 1961.47 L773.922 1968.83 L782.695 1968.83 L782.695 1972.14 L773.922 1972.14 L773.922 1986.22 Q773.922 1989.39 774.778 1990.29 Q775.658 1991.19 778.32 1991.19 L782.695 1991.19 L782.695 1994.76 L778.32 1994.76 Q773.389 1994.76 771.514 1992.93 Q769.639 1991.08 769.639 1986.22 L769.639 1972.14 L766.514 1972.14 L766.514 1968.83 L769.639 1968.83 L769.639 1961.47 L773.922 1961.47 Z\" fill=\"#000000\" fill-rule=\"evenodd\" fill-opacity=\"1\" /><path clip-path=\"url(#clip490)\" d=\"M799.083 1997.16 Q797.278 2001.79 795.565 2003.21 Q793.852 2004.62 790.982 2004.62 L787.579 2004.62 L787.579 2001.05 L790.079 2001.05 Q791.838 2001.05 792.81 2000.22 Q793.783 1999.39 794.963 1996.29 L795.727 1994.34 L785.241 1968.83 L789.755 1968.83 L797.857 1989.11 L805.958 1968.83 L810.472 1968.83 L799.083 1997.16 Z\" fill=\"#000000\" fill-rule=\"evenodd\" fill-opacity=\"1\" /><path clip-path=\"url(#clip490)\" d=\"M835.542 1990.87 L835.542 2004.62 L831.259 2004.62 L831.259 1968.83 L835.542 1968.83 L835.542 1972.77 Q836.884 1970.45 838.921 1969.34 Q840.981 1968.21 843.829 1968.21 Q848.551 1968.21 851.491 1971.96 Q854.453 1975.71 854.453 1981.82 Q854.453 1987.93 851.491 1991.68 Q848.551 1995.43 843.829 1995.43 Q840.981 1995.43 838.921 1994.32 Q836.884 1993.18 835.542 1990.87 M850.032 1981.82 Q850.032 1977.12 848.088 1974.46 Q846.166 1971.77 842.787 1971.77 Q839.407 1971.77 837.463 1974.46 Q835.542 1977.12 835.542 1981.82 Q835.542 1986.52 837.463 1989.2 Q839.407 1991.86 842.787 1991.86 Q846.166 1991.86 848.088 1989.2 Q850.032 1986.52 850.032 1981.82 Z\" fill=\"#000000\" fill-rule=\"evenodd\" fill-opacity=\"1\" /><path clip-path=\"url(#clip490)\" d=\"M876.537 1972.81 Q875.819 1972.4 874.963 1972.21 Q874.129 1972 873.111 1972 Q869.5 1972 867.555 1974.36 Q865.634 1976.7 865.634 1981.1 L865.634 1994.76 L861.352 1994.76 L861.352 1968.83 L865.634 1968.83 L865.634 1972.86 Q866.977 1970.5 869.129 1969.36 Q871.282 1968.21 874.361 1968.21 Q874.801 1968.21 875.333 1968.28 Q875.865 1968.32 876.514 1968.44 L876.537 1972.81 Z\" fill=\"#000000\" fill-rule=\"evenodd\" fill-opacity=\"1\" /><path clip-path=\"url(#clip490)\" d=\"M890.009 1971.82 Q886.583 1971.82 884.592 1974.5 Q882.601 1977.16 882.601 1981.82 Q882.601 1986.47 884.569 1989.16 Q886.56 1991.82 890.009 1991.82 Q893.412 1991.82 895.402 1989.13 Q897.393 1986.45 897.393 1981.82 Q897.393 1977.21 895.402 1974.53 Q893.412 1971.82 890.009 1971.82 M890.009 1968.21 Q895.564 1968.21 898.736 1971.82 Q901.907 1975.43 901.907 1981.82 Q901.907 1988.18 898.736 1991.82 Q895.564 1995.43 890.009 1995.43 Q884.43 1995.43 881.259 1991.82 Q878.111 1988.18 878.111 1981.82 Q878.111 1975.43 881.259 1971.82 Q884.43 1968.21 890.009 1968.21 Z\" fill=\"#000000\" fill-rule=\"evenodd\" fill-opacity=\"1\" /><path clip-path=\"url(#clip490)\" d=\"M927.578 1981.82 Q927.578 1977.12 925.634 1974.46 Q923.712 1971.77 920.333 1971.77 Q916.953 1971.77 915.009 1974.46 Q913.087 1977.12 913.087 1981.82 Q913.087 1986.52 915.009 1989.2 Q916.953 1991.86 920.333 1991.86 Q923.712 1991.86 925.634 1989.2 Q927.578 1986.52 927.578 1981.82 M913.087 1972.77 Q914.43 1970.45 916.467 1969.34 Q918.527 1968.21 921.374 1968.21 Q926.097 1968.21 929.036 1971.96 Q931.999 1975.71 931.999 1981.82 Q931.999 1987.93 929.036 1991.68 Q926.097 1995.43 921.374 1995.43 Q918.527 1995.43 916.467 1994.32 Q914.43 1993.18 913.087 1990.87 L913.087 1994.76 L908.805 1994.76 L908.805 1958.74 L913.087 1958.74 L913.087 1972.77 Z\" fill=\"#000000\" fill-rule=\"evenodd\" fill-opacity=\"1\" /><path clip-path=\"url(#clip490)\" d=\"M950.842 1981.72 Q945.68 1981.72 943.689 1982.91 Q941.698 1984.09 941.698 1986.93 Q941.698 1989.2 943.18 1990.54 Q944.684 1991.86 947.254 1991.86 Q950.796 1991.86 952.925 1989.36 Q955.078 1986.84 955.078 1982.67 L955.078 1981.72 L950.842 1981.72 M959.337 1979.97 L959.337 1994.76 L955.078 1994.76 L955.078 1990.82 Q953.62 1993.18 951.444 1994.32 Q949.268 1995.43 946.12 1995.43 Q942.138 1995.43 939.777 1993.21 Q937.439 1990.96 937.439 1987.21 Q937.439 1982.84 940.356 1980.61 Q943.296 1978.39 949.106 1978.39 L955.078 1978.39 L955.078 1977.98 Q955.078 1975.04 953.134 1973.44 Q951.212 1971.82 947.717 1971.82 Q945.495 1971.82 943.388 1972.35 Q941.282 1972.88 939.337 1973.95 L939.337 1970.01 Q941.675 1969.11 943.874 1968.67 Q946.073 1968.21 948.157 1968.21 Q953.782 1968.21 956.559 1971.12 Q959.337 1974.04 959.337 1979.97 Z\" fill=\"#000000\" fill-rule=\"evenodd\" fill-opacity=\"1\" /><path clip-path=\"url(#clip490)\" d=\"M986.721 1981.82 Q986.721 1977.12 984.777 1974.46 Q982.856 1971.77 979.476 1971.77 Q976.096 1971.77 974.152 1974.46 Q972.231 1977.12 972.231 1981.82 Q972.231 1986.52 974.152 1989.2 Q976.096 1991.86 979.476 1991.86 Q982.856 1991.86 984.777 1989.2 Q986.721 1986.52 986.721 1981.82 M972.231 1972.77 Q973.573 1970.45 975.61 1969.34 Q977.67 1968.21 980.518 1968.21 Q985.24 1968.21 988.18 1971.96 Q991.143 1975.71 991.143 1981.82 Q991.143 1987.93 988.18 1991.68 Q985.24 1995.43 980.518 1995.43 Q977.67 1995.43 975.61 1994.32 Q973.573 1993.18 972.231 1990.87 L972.231 1994.76 L967.948 1994.76 L967.948 1958.74 L972.231 1958.74 L972.231 1972.77 Z\" fill=\"#000000\" fill-rule=\"evenodd\" fill-opacity=\"1\" /><path clip-path=\"url(#clip490)\" d=\"M998.203 1968.83 L1002.46 1968.83 L1002.46 1994.76 L998.203 1994.76 L998.203 1968.83 M998.203 1958.74 L1002.46 1958.74 L1002.46 1964.13 L998.203 1964.13 L998.203 1958.74 Z\" fill=\"#000000\" fill-rule=\"evenodd\" fill-opacity=\"1\" /><path clip-path=\"url(#clip490)\" d=\"M1011.37 1958.74 L1015.63 1958.74 L1015.63 1994.76 L1011.37 1994.76 L1011.37 1958.74 Z\" fill=\"#000000\" fill-rule=\"evenodd\" fill-opacity=\"1\" /><path clip-path=\"url(#clip490)\" d=\"M1024.55 1968.83 L1028.8 1968.83 L1028.8 1994.76 L1024.55 1994.76 L1024.55 1968.83 M1024.55 1958.74 L1028.8 1958.74 L1028.8 1964.13 L1024.55 1964.13 L1024.55 1958.74 Z\" fill=\"#000000\" fill-rule=\"evenodd\" fill-opacity=\"1\" /><path clip-path=\"url(#clip490)\" d=\"M1054.24 1969.6 L1054.24 1973.62 Q1052.44 1972.7 1050.49 1972.23 Q1048.55 1971.77 1046.47 1971.77 Q1043.3 1971.77 1041.7 1972.74 Q1040.12 1973.72 1040.12 1975.66 Q1040.12 1977.14 1041.26 1978 Q1042.39 1978.83 1045.82 1979.6 L1047.28 1979.92 Q1051.81 1980.89 1053.71 1982.67 Q1055.63 1984.43 1055.63 1987.6 Q1055.63 1991.22 1052.76 1993.32 Q1049.92 1995.43 1044.92 1995.43 Q1042.83 1995.43 1040.56 1995.01 Q1038.32 1994.62 1035.82 1993.81 L1035.82 1989.41 Q1038.18 1990.64 1040.47 1991.26 Q1042.76 1991.86 1045.01 1991.86 Q1048.02 1991.86 1049.64 1990.85 Q1051.26 1989.8 1051.26 1987.93 Q1051.26 1986.19 1050.08 1985.27 Q1048.92 1984.34 1044.96 1983.48 L1043.48 1983.14 Q1039.52 1982.3 1037.76 1980.59 Q1036 1978.85 1036 1975.85 Q1036 1972.19 1038.6 1970.2 Q1041.19 1968.21 1045.96 1968.21 Q1048.32 1968.21 1050.4 1968.55 Q1052.48 1968.9 1054.24 1969.6 Z\" fill=\"#000000\" fill-rule=\"evenodd\" fill-opacity=\"1\" /><path clip-path=\"url(#clip490)\" d=\"M1066.63 1961.47 L1066.63 1968.83 L1075.4 1968.83 L1075.4 1972.14 L1066.63 1972.14 L1066.63 1986.22 Q1066.63 1989.39 1067.48 1990.29 Q1068.36 1991.19 1071.03 1991.19 L1075.4 1991.19 L1075.4 1994.76 L1071.03 1994.76 Q1066.1 1994.76 1064.22 1992.93 Q1062.35 1991.08 1062.35 1986.22 L1062.35 1972.14 L1059.22 1972.14 L1059.22 1968.83 L1062.35 1968.83 L1062.35 1961.47 L1066.63 1961.47 Z\" fill=\"#000000\" fill-rule=\"evenodd\" fill-opacity=\"1\" /><path clip-path=\"url(#clip490)\" d=\"M1081 1968.83 L1085.26 1968.83 L1085.26 1994.76 L1081 1994.76 L1081 1968.83 M1081 1958.74 L1085.26 1958.74 L1085.26 1964.13 L1081 1964.13 L1081 1958.74 Z\" fill=\"#000000\" fill-rule=\"evenodd\" fill-opacity=\"1\" /><path clip-path=\"url(#clip490)\" d=\"M1112.83 1969.83 L1112.83 1973.81 Q1111.03 1972.81 1109.2 1972.33 Q1107.39 1971.82 1105.54 1971.82 Q1101.4 1971.82 1099.1 1974.46 Q1096.81 1977.07 1096.81 1981.82 Q1096.81 1986.56 1099.1 1989.2 Q1101.4 1991.82 1105.54 1991.82 Q1107.39 1991.82 1109.2 1991.33 Q1111.03 1990.82 1112.83 1989.83 L1112.83 1993.76 Q1111.05 1994.6 1109.13 1995.01 Q1107.23 1995.43 1105.08 1995.43 Q1099.22 1995.43 1095.77 1991.75 Q1092.32 1988.07 1092.32 1981.82 Q1092.32 1975.48 1095.79 1971.84 Q1099.29 1968.21 1105.35 1968.21 Q1107.32 1968.21 1109.2 1968.62 Q1111.07 1969.02 1112.83 1969.83 Z\" fill=\"#000000\" fill-rule=\"evenodd\" fill-opacity=\"1\" /><path clip-path=\"url(#clip490)\" d=\"M1155.49 1973.81 Q1157.09 1970.94 1159.31 1969.57 Q1161.54 1968.21 1164.54 1968.21 Q1168.6 1968.21 1170.79 1971.05 Q1172.99 1973.88 1172.99 1979.11 L1172.99 1994.76 L1168.71 1994.76 L1168.71 1979.25 Q1168.71 1975.52 1167.39 1973.72 Q1166.07 1971.91 1163.36 1971.91 Q1160.05 1971.91 1158.13 1974.11 Q1156.21 1976.31 1156.21 1980.1 L1156.21 1994.76 L1151.93 1994.76 L1151.93 1979.25 Q1151.93 1975.5 1150.61 1973.72 Q1149.29 1971.91 1146.54 1971.91 Q1143.27 1971.91 1141.35 1974.13 Q1139.43 1976.33 1139.43 1980.1 L1139.43 1994.76 L1135.15 1994.76 L1135.15 1968.83 L1139.43 1968.83 L1139.43 1972.86 Q1140.89 1970.48 1142.92 1969.34 Q1144.96 1968.21 1147.76 1968.21 Q1150.59 1968.21 1152.55 1969.64 Q1154.54 1971.08 1155.49 1973.81 Z\" fill=\"#000000\" fill-rule=\"evenodd\" fill-opacity=\"1\" /><path clip-path=\"url(#clip490)\" d=\"M1191.54 1971.82 Q1188.11 1971.82 1186.12 1974.5 Q1184.13 1977.16 1184.13 1981.82 Q1184.13 1986.47 1186.1 1989.16 Q1188.09 1991.82 1191.54 1991.82 Q1194.94 1991.82 1196.93 1989.13 Q1198.92 1986.45 1198.92 1981.82 Q1198.92 1977.21 1196.93 1974.53 Q1194.94 1971.82 1191.54 1971.82 M1191.54 1968.21 Q1197.09 1968.21 1200.26 1971.82 Q1203.43 1975.43 1203.43 1981.82 Q1203.43 1988.18 1200.26 1991.82 Q1197.09 1995.43 1191.54 1995.43 Q1185.96 1995.43 1182.79 1991.82 Q1179.64 1988.18 1179.64 1981.82 Q1179.64 1975.43 1182.79 1971.82 Q1185.96 1968.21 1191.54 1968.21 Z\" fill=\"#000000\" fill-rule=\"evenodd\" fill-opacity=\"1\" /><path clip-path=\"url(#clip490)\" d=\"M1227.55 1972.77 L1227.55 1958.74 L1231.81 1958.74 L1231.81 1994.76 L1227.55 1994.76 L1227.55 1990.87 Q1226.21 1993.18 1224.15 1994.32 Q1222.11 1995.43 1219.24 1995.43 Q1214.54 1995.43 1211.58 1991.68 Q1208.64 1987.93 1208.64 1981.82 Q1208.64 1975.71 1211.58 1971.96 Q1214.54 1968.21 1219.24 1968.21 Q1222.11 1968.21 1224.15 1969.34 Q1226.21 1970.45 1227.55 1972.77 M1213.04 1981.82 Q1213.04 1986.52 1214.96 1989.2 Q1216.91 1991.86 1220.28 1991.86 Q1223.66 1991.86 1225.61 1989.2 Q1227.55 1986.52 1227.55 1981.82 Q1227.55 1977.12 1225.61 1974.46 Q1223.66 1971.77 1220.28 1971.77 Q1216.91 1971.77 1214.96 1974.46 Q1213.04 1977.12 1213.04 1981.82 Z\" fill=\"#000000\" fill-rule=\"evenodd\" fill-opacity=\"1\" /><path clip-path=\"url(#clip490)\" d=\"M1262.76 1980.73 L1262.76 1982.81 L1243.18 1982.81 Q1243.46 1987.21 1245.82 1989.53 Q1248.2 1991.82 1252.44 1991.82 Q1254.89 1991.82 1257.18 1991.22 Q1259.5 1990.61 1261.77 1989.41 L1261.77 1993.44 Q1259.47 1994.41 1257.07 1994.92 Q1254.66 1995.43 1252.18 1995.43 Q1245.98 1995.43 1242.34 1991.82 Q1238.73 1988.21 1238.73 1982.05 Q1238.73 1975.68 1242.16 1971.96 Q1245.61 1968.21 1251.44 1968.21 Q1256.67 1968.21 1259.71 1971.59 Q1262.76 1974.94 1262.76 1980.73 M1258.5 1979.48 Q1258.46 1975.98 1256.53 1973.9 Q1254.64 1971.82 1251.49 1971.82 Q1247.92 1971.82 1245.77 1973.83 Q1243.64 1975.85 1243.32 1979.5 L1258.5 1979.48 Z\" fill=\"#000000\" fill-rule=\"evenodd\" fill-opacity=\"1\" /><path clip-path=\"url(#clip490)\" d=\"M1269.75 1958.74 L1274.01 1958.74 L1274.01 1994.76 L1269.75 1994.76 L1269.75 1958.74 Z\" fill=\"#000000\" fill-rule=\"evenodd\" fill-opacity=\"1\" /><polyline clip-path=\"url(#clip490)\" style=\"stroke:#3da44d; stroke-linecap:round; stroke-linejoin:round; stroke-width:4; stroke-opacity:1; fill:none\" points=\"\n  348.341,2029.32 543.998,2029.32 \n  \"/>\n<path clip-path=\"url(#clip490)\" d=\"M581.284 2030.09 L581.284 2042.75 L588.784 2042.75 Q592.557 2042.75 594.362 2041.2 Q596.191 2039.63 596.191 2036.41 Q596.191 2033.17 594.362 2031.64 Q592.557 2030.09 588.784 2030.09 L581.284 2030.09 M581.284 2015.88 L581.284 2026.3 L588.205 2026.3 Q591.631 2026.3 593.297 2025.02 Q594.987 2023.73 594.987 2021.09 Q594.987 2018.47 593.297 2017.18 Q591.631 2015.88 588.205 2015.88 L581.284 2015.88 M576.608 2012.04 L588.552 2012.04 Q593.899 2012.04 596.793 2014.26 Q599.686 2016.48 599.686 2020.58 Q599.686 2023.75 598.205 2025.63 Q596.723 2027.5 593.853 2027.96 Q597.302 2028.7 599.2 2031.06 Q601.122 2033.4 601.122 2036.92 Q601.122 2041.55 597.973 2044.07 Q594.825 2046.6 589.015 2046.6 L576.608 2046.6 L576.608 2012.04 Z\" fill=\"#000000\" fill-rule=\"evenodd\" fill-opacity=\"1\" /><path clip-path=\"url(#clip490)\" d=\"M608.946 2010.58 L613.205 2010.58 L613.205 2046.6 L608.946 2046.6 L608.946 2010.58 Z\" fill=\"#000000\" fill-rule=\"evenodd\" fill-opacity=\"1\" /><path clip-path=\"url(#clip490)\" d=\"M621.677 2036.37 L621.677 2020.67 L625.936 2020.67 L625.936 2036.2 Q625.936 2039.88 627.371 2041.74 Q628.807 2043.56 631.677 2043.56 Q635.126 2043.56 637.117 2041.37 Q639.131 2039.17 639.131 2035.37 L639.131 2020.67 L643.39 2020.67 L643.39 2046.6 L639.131 2046.6 L639.131 2042.62 Q637.58 2044.98 635.519 2046.13 Q633.482 2047.27 630.774 2047.27 Q626.307 2047.27 623.992 2044.49 Q621.677 2041.71 621.677 2036.37 M632.394 2020.05 L632.394 2020.05 Z\" fill=\"#000000\" fill-rule=\"evenodd\" fill-opacity=\"1\" /><path clip-path=\"url(#clip490)\" d=\"M674.339 2032.57 L674.339 2034.65 L654.755 2034.65 Q655.033 2039.05 657.394 2041.37 Q659.779 2043.66 664.015 2043.66 Q666.468 2043.66 668.76 2043.06 Q671.075 2042.45 673.343 2041.25 L673.343 2045.28 Q671.052 2046.25 668.644 2046.76 Q666.237 2047.27 663.76 2047.27 Q657.556 2047.27 653.922 2043.66 Q650.311 2040.05 650.311 2033.89 Q650.311 2027.52 653.737 2023.8 Q657.186 2020.05 663.019 2020.05 Q668.251 2020.05 671.283 2023.43 Q674.339 2026.78 674.339 2032.57 M670.079 2031.32 Q670.033 2027.82 668.112 2025.74 Q666.214 2023.66 663.066 2023.66 Q659.501 2023.66 657.348 2025.67 Q655.218 2027.69 654.894 2031.34 L670.079 2031.32 Z\" fill=\"#000000\" fill-rule=\"evenodd\" fill-opacity=\"1\" /><path clip-path=\"url(#clip490)\" d=\"M695.959 2036.37 L695.959 2020.67 L700.218 2020.67 L700.218 2036.2 Q700.218 2039.88 701.653 2041.74 Q703.089 2043.56 705.959 2043.56 Q709.408 2043.56 711.399 2041.37 Q713.413 2039.17 713.413 2035.37 L713.413 2020.67 L717.672 2020.67 L717.672 2046.6 L713.413 2046.6 L713.413 2042.62 Q711.862 2044.98 709.801 2046.13 Q707.764 2047.27 705.056 2047.27 Q700.589 2047.27 698.274 2044.49 Q695.959 2041.71 695.959 2036.37 M706.676 2020.05 L706.676 2020.05 Z\" fill=\"#000000\" fill-rule=\"evenodd\" fill-opacity=\"1\" /><path clip-path=\"url(#clip490)\" d=\"M730.658 2013.31 L730.658 2020.67 L739.431 2020.67 L739.431 2023.98 L730.658 2023.98 L730.658 2038.06 Q730.658 2041.23 731.514 2042.13 Q732.394 2043.03 735.056 2043.03 L739.431 2043.03 L739.431 2046.6 L735.056 2046.6 Q730.125 2046.6 728.25 2044.77 Q726.375 2042.92 726.375 2038.06 L726.375 2023.98 L723.25 2023.98 L723.25 2020.67 L726.375 2020.67 L726.375 2013.31 L730.658 2013.31 Z\" fill=\"#000000\" fill-rule=\"evenodd\" fill-opacity=\"1\" /><path clip-path=\"url(#clip490)\" d=\"M745.033 2020.67 L749.292 2020.67 L749.292 2046.6 L745.033 2046.6 L745.033 2020.67 M745.033 2010.58 L749.292 2010.58 L749.292 2015.97 L745.033 2015.97 L745.033 2010.58 Z\" fill=\"#000000\" fill-rule=\"evenodd\" fill-opacity=\"1\" /><path clip-path=\"url(#clip490)\" d=\"M758.204 2010.58 L762.463 2010.58 L762.463 2046.6 L758.204 2046.6 L758.204 2010.58 Z\" fill=\"#000000\" fill-rule=\"evenodd\" fill-opacity=\"1\" /><path clip-path=\"url(#clip490)\" d=\"M771.375 2020.67 L775.634 2020.67 L775.634 2046.6 L771.375 2046.6 L771.375 2020.67 M771.375 2010.58 L775.634 2010.58 L775.634 2015.97 L771.375 2015.97 L771.375 2010.58 Z\" fill=\"#000000\" fill-rule=\"evenodd\" fill-opacity=\"1\" /><path clip-path=\"url(#clip490)\" d=\"M788.759 2013.31 L788.759 2020.67 L797.532 2020.67 L797.532 2023.98 L788.759 2023.98 L788.759 2038.06 Q788.759 2041.23 789.616 2042.13 Q790.495 2043.03 793.158 2043.03 L797.532 2043.03 L797.532 2046.6 L793.158 2046.6 Q788.227 2046.6 786.352 2044.77 Q784.477 2042.92 784.477 2038.06 L784.477 2023.98 L781.352 2023.98 L781.352 2020.67 L784.477 2020.67 L784.477 2013.31 L788.759 2013.31 Z\" fill=\"#000000\" fill-rule=\"evenodd\" fill-opacity=\"1\" /><path clip-path=\"url(#clip490)\" d=\"M813.921 2049 Q812.116 2053.63 810.403 2055.05 Q808.69 2056.46 805.819 2056.46 L802.417 2056.46 L802.417 2052.89 L804.917 2052.89 Q806.676 2052.89 807.648 2052.06 Q808.62 2051.23 809.801 2048.13 L810.565 2046.18 L800.079 2020.67 L804.593 2020.67 L812.694 2040.95 L820.796 2020.67 L825.31 2020.67 L813.921 2049 Z\" fill=\"#000000\" fill-rule=\"evenodd\" fill-opacity=\"1\" /><path clip-path=\"url(#clip490)\" d=\"M843.782 2020.67 L848.041 2020.67 L853.366 2040.9 L858.666 2020.67 L863.69 2020.67 L869.014 2040.9 L874.314 2020.67 L878.574 2020.67 L871.791 2046.6 L866.768 2046.6 L861.19 2025.35 L855.588 2046.6 L850.565 2046.6 L843.782 2020.67 Z\" fill=\"#000000\" fill-rule=\"evenodd\" fill-opacity=\"1\" /><path clip-path=\"url(#clip490)\" d=\"M907.208 2032.57 L907.208 2034.65 L887.625 2034.65 Q887.902 2039.05 890.263 2041.37 Q892.648 2043.66 896.884 2043.66 Q899.337 2043.66 901.629 2043.06 Q903.944 2042.45 906.212 2041.25 L906.212 2045.28 Q903.921 2046.25 901.513 2046.76 Q899.106 2047.27 896.629 2047.27 Q890.426 2047.27 886.791 2043.66 Q883.18 2040.05 883.18 2033.89 Q883.18 2027.52 886.606 2023.8 Q890.055 2020.05 895.888 2020.05 Q901.12 2020.05 904.152 2023.43 Q907.208 2026.78 907.208 2032.57 M902.949 2031.32 Q902.902 2027.82 900.981 2025.74 Q899.083 2023.66 895.935 2023.66 Q892.37 2023.66 890.217 2025.67 Q888.088 2027.69 887.763 2031.34 L902.949 2031.32 Z\" fill=\"#000000\" fill-rule=\"evenodd\" fill-opacity=\"1\" /><path clip-path=\"url(#clip490)\" d=\"M914.199 2020.67 L918.458 2020.67 L918.458 2046.6 L914.199 2046.6 L914.199 2020.67 M914.199 2010.58 L918.458 2010.58 L918.458 2015.97 L914.199 2015.97 L914.199 2010.58 Z\" fill=\"#000000\" fill-rule=\"evenodd\" fill-opacity=\"1\" /><path clip-path=\"url(#clip490)\" d=\"M944.43 2033.33 Q944.43 2028.7 942.509 2026.16 Q940.61 2023.61 937.161 2023.61 Q933.735 2023.61 931.814 2026.16 Q929.916 2028.7 929.916 2033.33 Q929.916 2037.94 931.814 2040.49 Q933.735 2043.03 937.161 2043.03 Q940.61 2043.03 942.509 2040.49 Q944.43 2037.94 944.43 2033.33 M948.689 2043.38 Q948.689 2050 945.749 2053.22 Q942.809 2056.46 936.745 2056.46 Q934.499 2056.46 932.509 2056.11 Q930.518 2055.79 928.643 2055.09 L928.643 2050.95 Q930.518 2051.97 932.347 2052.45 Q934.175 2052.94 936.073 2052.94 Q940.263 2052.94 942.347 2050.74 Q944.43 2048.56 944.43 2044.14 L944.43 2042.04 Q943.11 2044.33 941.05 2045.46 Q938.99 2046.6 936.12 2046.6 Q931.351 2046.6 928.435 2042.96 Q925.518 2039.33 925.518 2033.33 Q925.518 2027.32 928.435 2023.68 Q931.351 2020.05 936.12 2020.05 Q938.99 2020.05 941.05 2021.18 Q943.11 2022.32 944.43 2024.61 L944.43 2020.67 L948.689 2020.67 L948.689 2043.38 Z\" fill=\"#000000\" fill-rule=\"evenodd\" fill-opacity=\"1\" /><path clip-path=\"url(#clip490)\" d=\"M979.013 2030.95 L979.013 2046.6 L974.754 2046.6 L974.754 2031.09 Q974.754 2027.41 973.319 2025.58 Q971.883 2023.75 969.013 2023.75 Q965.564 2023.75 963.573 2025.95 Q961.583 2028.15 961.583 2031.94 L961.583 2046.6 L957.3 2046.6 L957.3 2010.58 L961.583 2010.58 L961.583 2024.7 Q963.11 2022.36 965.17 2021.2 Q967.254 2020.05 969.962 2020.05 Q974.43 2020.05 976.721 2022.82 Q979.013 2025.58 979.013 2030.95 Z\" fill=\"#000000\" fill-rule=\"evenodd\" fill-opacity=\"1\" /><path clip-path=\"url(#clip490)\" d=\"M991.721 2013.31 L991.721 2020.67 L1000.49 2020.67 L1000.49 2023.98 L991.721 2023.98 L991.721 2038.06 Q991.721 2041.23 992.578 2042.13 Q993.457 2043.03 996.119 2043.03 L1000.49 2043.03 L1000.49 2046.6 L996.119 2046.6 Q991.189 2046.6 989.314 2044.77 Q987.439 2042.92 987.439 2038.06 L987.439 2023.98 L984.314 2023.98 L984.314 2020.67 L987.439 2020.67 L987.439 2013.31 L991.721 2013.31 Z\" fill=\"#000000\" fill-rule=\"evenodd\" fill-opacity=\"1\" /><path clip-path=\"url(#clip490)\" d=\"M1028.27 2032.57 L1028.27 2034.65 L1008.69 2034.65 Q1008.97 2039.05 1011.33 2041.37 Q1013.71 2043.66 1017.95 2043.66 Q1020.4 2043.66 1022.69 2043.06 Q1025.01 2042.45 1027.28 2041.25 L1027.28 2045.28 Q1024.98 2046.25 1022.58 2046.76 Q1020.17 2047.27 1017.69 2047.27 Q1011.49 2047.27 1007.86 2043.66 Q1004.24 2040.05 1004.24 2033.89 Q1004.24 2027.52 1007.67 2023.8 Q1011.12 2020.05 1016.95 2020.05 Q1022.18 2020.05 1025.22 2023.43 Q1028.27 2026.78 1028.27 2032.57 M1024.01 2031.32 Q1023.97 2027.82 1022.05 2025.74 Q1020.15 2023.66 1017 2023.66 Q1013.43 2023.66 1011.28 2025.67 Q1009.15 2027.69 1008.83 2031.34 L1024.01 2031.32 Z\" fill=\"#000000\" fill-rule=\"evenodd\" fill-opacity=\"1\" /><path clip-path=\"url(#clip490)\" d=\"M1052.32 2024.61 L1052.32 2010.58 L1056.58 2010.58 L1056.58 2046.6 L1052.32 2046.6 L1052.32 2042.71 Q1050.98 2045.02 1048.92 2046.16 Q1046.88 2047.27 1044.01 2047.27 Q1039.31 2047.27 1036.35 2043.52 Q1033.41 2039.77 1033.41 2033.66 Q1033.41 2027.55 1036.35 2023.8 Q1039.31 2020.05 1044.01 2020.05 Q1046.88 2020.05 1048.92 2021.18 Q1050.98 2022.29 1052.32 2024.61 M1037.81 2033.66 Q1037.81 2038.36 1039.73 2041.04 Q1041.67 2043.7 1045.05 2043.7 Q1048.43 2043.7 1050.38 2041.04 Q1052.32 2038.36 1052.32 2033.66 Q1052.32 2028.96 1050.38 2026.3 Q1048.43 2023.61 1045.05 2023.61 Q1041.67 2023.61 1039.73 2026.3 Q1037.81 2028.96 1037.81 2033.66 Z\" fill=\"#000000\" fill-rule=\"evenodd\" fill-opacity=\"1\" /><path clip-path=\"url(#clip490)\" d=\"M1100.61 2025.65 Q1102.21 2022.78 1104.43 2021.41 Q1106.65 2020.05 1109.66 2020.05 Q1113.71 2020.05 1115.91 2022.89 Q1118.11 2025.72 1118.11 2030.95 L1118.11 2046.6 L1113.83 2046.6 L1113.83 2031.09 Q1113.83 2027.36 1112.51 2025.56 Q1111.19 2023.75 1108.48 2023.75 Q1105.17 2023.75 1103.25 2025.95 Q1101.33 2028.15 1101.33 2031.94 L1101.33 2046.6 L1097.04 2046.6 L1097.04 2031.09 Q1097.04 2027.34 1095.73 2025.56 Q1094.41 2023.75 1091.65 2023.75 Q1088.39 2023.75 1086.47 2025.97 Q1084.54 2028.17 1084.54 2031.94 L1084.54 2046.6 L1080.26 2046.6 L1080.26 2020.67 L1084.54 2020.67 L1084.54 2024.7 Q1086 2022.32 1088.04 2021.18 Q1090.08 2020.05 1092.88 2020.05 Q1095.7 2020.05 1097.67 2021.48 Q1099.66 2022.92 1100.61 2025.65 Z\" fill=\"#000000\" fill-rule=\"evenodd\" fill-opacity=\"1\" /><path clip-path=\"url(#clip490)\" d=\"M1136.65 2023.66 Q1133.23 2023.66 1131.23 2026.34 Q1129.24 2029 1129.24 2033.66 Q1129.24 2038.31 1131.21 2041 Q1133.2 2043.66 1136.65 2043.66 Q1140.05 2043.66 1142.04 2040.97 Q1144.04 2038.29 1144.04 2033.66 Q1144.04 2029.05 1142.04 2026.37 Q1140.05 2023.66 1136.65 2023.66 M1136.65 2020.05 Q1142.21 2020.05 1145.38 2023.66 Q1148.55 2027.27 1148.55 2033.66 Q1148.55 2040.02 1145.38 2043.66 Q1142.21 2047.27 1136.65 2047.27 Q1131.07 2047.27 1127.9 2043.66 Q1124.75 2040.02 1124.75 2033.66 Q1124.75 2027.27 1127.9 2023.66 Q1131.07 2020.05 1136.65 2020.05 Z\" fill=\"#000000\" fill-rule=\"evenodd\" fill-opacity=\"1\" /><path clip-path=\"url(#clip490)\" d=\"M1172.67 2024.61 L1172.67 2010.58 L1176.93 2010.58 L1176.93 2046.6 L1172.67 2046.6 L1172.67 2042.71 Q1171.33 2045.02 1169.27 2046.16 Q1167.23 2047.27 1164.36 2047.27 Q1159.66 2047.27 1156.7 2043.52 Q1153.76 2039.77 1153.76 2033.66 Q1153.76 2027.55 1156.7 2023.8 Q1159.66 2020.05 1164.36 2020.05 Q1167.23 2020.05 1169.27 2021.18 Q1171.33 2022.29 1172.67 2024.61 M1158.16 2033.66 Q1158.16 2038.36 1160.08 2041.04 Q1162.02 2043.7 1165.4 2043.7 Q1168.78 2043.7 1170.72 2041.04 Q1172.67 2038.36 1172.67 2033.66 Q1172.67 2028.96 1170.72 2026.3 Q1168.78 2023.61 1165.4 2023.61 Q1162.02 2023.61 1160.08 2026.3 Q1158.16 2028.96 1158.16 2033.66 Z\" fill=\"#000000\" fill-rule=\"evenodd\" fill-opacity=\"1\" /><path clip-path=\"url(#clip490)\" d=\"M1207.88 2032.57 L1207.88 2034.65 L1188.29 2034.65 Q1188.57 2039.05 1190.93 2041.37 Q1193.32 2043.66 1197.55 2043.66 Q1200.01 2043.66 1202.3 2043.06 Q1204.61 2042.45 1206.88 2041.25 L1206.88 2045.28 Q1204.59 2046.25 1202.18 2046.76 Q1199.78 2047.27 1197.3 2047.27 Q1191.1 2047.27 1187.46 2043.66 Q1183.85 2040.05 1183.85 2033.89 Q1183.85 2027.52 1187.28 2023.8 Q1190.72 2020.05 1196.56 2020.05 Q1201.79 2020.05 1204.82 2023.43 Q1207.88 2026.78 1207.88 2032.57 M1203.62 2031.32 Q1203.57 2027.82 1201.65 2025.74 Q1199.75 2023.66 1196.6 2023.66 Q1193.04 2023.66 1190.89 2025.67 Q1188.76 2027.69 1188.43 2031.34 L1203.62 2031.32 Z\" fill=\"#000000\" fill-rule=\"evenodd\" fill-opacity=\"1\" /><path clip-path=\"url(#clip490)\" d=\"M1214.87 2010.58 L1219.13 2010.58 L1219.13 2046.6 L1214.87 2046.6 L1214.87 2010.58 Z\" fill=\"#000000\" fill-rule=\"evenodd\" fill-opacity=\"1\" /><polyline clip-path=\"url(#clip490)\" style=\"stroke:#c271d2; stroke-linecap:round; stroke-linejoin:round; stroke-width:4; stroke-opacity:1; fill:none\" points=\"\n  348.341,2081.16 543.998,2081.16 \n  \"/>\n<path clip-path=\"url(#clip490)\" d=\"M592.997 2082.23 Q594.501 2082.74 595.913 2084.41 Q597.348 2086.08 598.784 2088.99 L603.529 2098.44 L598.506 2098.44 L594.085 2089.57 Q592.372 2086.1 590.751 2084.97 Q589.154 2083.83 586.376 2083.83 L581.284 2083.83 L581.284 2098.44 L576.608 2098.44 L576.608 2063.88 L587.163 2063.88 Q593.089 2063.88 596.006 2066.35 Q598.922 2068.83 598.922 2073.83 Q598.922 2077.09 597.395 2079.25 Q595.89 2081.4 592.997 2082.23 M581.284 2067.72 L581.284 2079.99 L587.163 2079.99 Q590.543 2079.99 592.256 2078.44 Q593.992 2076.86 593.992 2073.83 Q593.992 2070.8 592.256 2069.27 Q590.543 2067.72 587.163 2067.72 L581.284 2067.72 Z\" fill=\"#000000\" fill-rule=\"evenodd\" fill-opacity=\"1\" /><path clip-path=\"url(#clip490)\" d=\"M629.408 2084.41 L629.408 2086.49 L609.825 2086.49 Q610.103 2090.89 612.464 2093.21 Q614.848 2095.5 619.084 2095.5 Q621.538 2095.5 623.83 2094.9 Q626.145 2094.29 628.413 2093.09 L628.413 2097.12 Q626.121 2098.09 623.714 2098.6 Q621.307 2099.11 618.83 2099.11 Q612.626 2099.11 608.992 2095.5 Q605.381 2091.89 605.381 2085.73 Q605.381 2079.36 608.807 2075.64 Q612.256 2071.89 618.089 2071.89 Q623.32 2071.89 626.353 2075.27 Q629.408 2078.62 629.408 2084.41 M625.149 2083.16 Q625.103 2079.66 623.182 2077.58 Q621.283 2075.5 618.135 2075.5 Q614.571 2075.5 612.418 2077.51 Q610.288 2079.53 609.964 2083.18 L625.149 2083.16 Z\" fill=\"#000000\" fill-rule=\"evenodd\" fill-opacity=\"1\" /><path clip-path=\"url(#clip490)\" d=\"M653.459 2076.45 L653.459 2062.42 L657.718 2062.42 L657.718 2098.44 L653.459 2098.44 L653.459 2094.55 Q652.117 2096.86 650.056 2098 Q648.019 2099.11 645.149 2099.11 Q640.45 2099.11 637.487 2095.36 Q634.547 2091.61 634.547 2085.5 Q634.547 2079.39 637.487 2075.64 Q640.45 2071.89 645.149 2071.89 Q648.019 2071.89 650.056 2073.02 Q652.117 2074.13 653.459 2076.45 M638.945 2085.5 Q638.945 2090.2 640.867 2092.88 Q642.811 2095.54 646.191 2095.54 Q649.57 2095.54 651.515 2092.88 Q653.459 2090.2 653.459 2085.5 Q653.459 2080.8 651.515 2078.14 Q649.57 2075.45 646.191 2075.45 Q642.811 2075.45 640.867 2078.14 Q638.945 2080.8 638.945 2085.5 Z\" fill=\"#000000\" fill-rule=\"evenodd\" fill-opacity=\"1\" /><path clip-path=\"url(#clip490)\" d=\"M681.121 2088.21 L681.121 2072.51 L685.38 2072.51 L685.38 2088.04 Q685.38 2091.72 686.815 2093.58 Q688.251 2095.4 691.121 2095.4 Q694.57 2095.4 696.561 2093.21 Q698.575 2091.01 698.575 2087.21 L698.575 2072.51 L702.834 2072.51 L702.834 2098.44 L698.575 2098.44 L698.575 2094.46 Q697.024 2096.82 694.964 2097.97 Q692.927 2099.11 690.218 2099.11 Q685.751 2099.11 683.436 2096.33 Q681.121 2093.55 681.121 2088.21 M691.839 2071.89 L691.839 2071.89 Z\" fill=\"#000000\" fill-rule=\"evenodd\" fill-opacity=\"1\" /><path clip-path=\"url(#clip490)\" d=\"M715.82 2065.15 L715.82 2072.51 L724.593 2072.51 L724.593 2075.82 L715.82 2075.82 L715.82 2089.9 Q715.82 2093.07 716.676 2093.97 Q717.556 2094.87 720.218 2094.87 L724.593 2094.87 L724.593 2098.44 L720.218 2098.44 Q715.288 2098.44 713.413 2096.61 Q711.538 2094.76 711.538 2089.9 L711.538 2075.82 L708.413 2075.82 L708.413 2072.51 L711.538 2072.51 L711.538 2065.15 L715.82 2065.15 Z\" fill=\"#000000\" fill-rule=\"evenodd\" fill-opacity=\"1\" /><path clip-path=\"url(#clip490)\" d=\"M730.195 2072.51 L734.454 2072.51 L734.454 2098.44 L730.195 2098.44 L730.195 2072.51 M730.195 2062.42 L734.454 2062.42 L734.454 2067.81 L730.195 2067.81 L730.195 2062.42 Z\" fill=\"#000000\" fill-rule=\"evenodd\" fill-opacity=\"1\" /><path clip-path=\"url(#clip490)\" d=\"M743.366 2062.42 L747.625 2062.42 L747.625 2098.44 L743.366 2098.44 L743.366 2062.42 Z\" fill=\"#000000\" fill-rule=\"evenodd\" fill-opacity=\"1\" /><path clip-path=\"url(#clip490)\" d=\"M756.537 2072.51 L760.797 2072.51 L760.797 2098.44 L756.537 2098.44 L756.537 2072.51 M756.537 2062.42 L760.797 2062.42 L760.797 2067.81 L756.537 2067.81 L756.537 2062.42 Z\" fill=\"#000000\" fill-rule=\"evenodd\" fill-opacity=\"1\" /><path clip-path=\"url(#clip490)\" d=\"M773.922 2065.15 L773.922 2072.51 L782.695 2072.51 L782.695 2075.82 L773.922 2075.82 L773.922 2089.9 Q773.922 2093.07 774.778 2093.97 Q775.658 2094.87 778.32 2094.87 L782.695 2094.87 L782.695 2098.44 L778.32 2098.44 Q773.389 2098.44 771.514 2096.61 Q769.639 2094.76 769.639 2089.9 L769.639 2075.82 L766.514 2075.82 L766.514 2072.51 L769.639 2072.51 L769.639 2065.15 L773.922 2065.15 Z\" fill=\"#000000\" fill-rule=\"evenodd\" fill-opacity=\"1\" /><path clip-path=\"url(#clip490)\" d=\"M799.083 2100.84 Q797.278 2105.47 795.565 2106.89 Q793.852 2108.3 790.982 2108.3 L787.579 2108.3 L787.579 2104.73 L790.079 2104.73 Q791.838 2104.73 792.81 2103.9 Q793.783 2103.07 794.963 2099.97 L795.727 2098.02 L785.241 2072.51 L789.755 2072.51 L797.857 2092.79 L805.958 2072.51 L810.472 2072.51 L799.083 2100.84 Z\" fill=\"#000000\" fill-rule=\"evenodd\" fill-opacity=\"1\" /><path clip-path=\"url(#clip490)\" d=\"M828.944 2072.51 L833.204 2072.51 L838.528 2092.74 L843.829 2072.51 L848.852 2072.51 L854.176 2092.74 L859.477 2072.51 L863.736 2072.51 L856.953 2098.44 L851.93 2098.44 L846.352 2077.19 L840.75 2098.44 L835.727 2098.44 L828.944 2072.51 Z\" fill=\"#000000\" fill-rule=\"evenodd\" fill-opacity=\"1\" /><path clip-path=\"url(#clip490)\" d=\"M892.37 2084.41 L892.37 2086.49 L872.787 2086.49 Q873.064 2090.89 875.426 2093.21 Q877.81 2095.5 882.046 2095.5 Q884.5 2095.5 886.791 2094.9 Q889.106 2094.29 891.375 2093.09 L891.375 2097.12 Q889.083 2098.09 886.676 2098.6 Q884.268 2099.11 881.791 2099.11 Q875.588 2099.11 871.953 2095.5 Q868.342 2091.89 868.342 2085.73 Q868.342 2079.36 871.768 2075.64 Q875.217 2071.89 881.051 2071.89 Q886.282 2071.89 889.314 2075.27 Q892.37 2078.62 892.37 2084.41 M888.111 2083.16 Q888.064 2079.66 886.143 2077.58 Q884.245 2075.5 881.097 2075.5 Q877.532 2075.5 875.379 2077.51 Q873.25 2079.53 872.926 2083.18 L888.111 2083.16 Z\" fill=\"#000000\" fill-rule=\"evenodd\" fill-opacity=\"1\" /><path clip-path=\"url(#clip490)\" d=\"M899.361 2072.51 L903.62 2072.51 L903.62 2098.44 L899.361 2098.44 L899.361 2072.51 M899.361 2062.42 L903.62 2062.42 L903.62 2067.81 L899.361 2067.81 L899.361 2062.42 Z\" fill=\"#000000\" fill-rule=\"evenodd\" fill-opacity=\"1\" /><path clip-path=\"url(#clip490)\" d=\"M929.592 2085.17 Q929.592 2080.54 927.671 2078 Q925.773 2075.45 922.323 2075.45 Q918.898 2075.45 916.976 2078 Q915.078 2080.54 915.078 2085.17 Q915.078 2089.78 916.976 2092.33 Q918.898 2094.87 922.323 2094.87 Q925.773 2094.87 927.671 2092.33 Q929.592 2089.78 929.592 2085.17 M933.851 2095.22 Q933.851 2101.84 930.911 2105.06 Q927.972 2108.3 921.907 2108.3 Q919.661 2108.3 917.671 2107.95 Q915.68 2107.63 913.805 2106.93 L913.805 2102.79 Q915.68 2103.81 917.509 2104.29 Q919.337 2104.78 921.236 2104.78 Q925.425 2104.78 927.509 2102.58 Q929.592 2100.4 929.592 2095.98 L929.592 2093.88 Q928.273 2096.17 926.212 2097.3 Q924.152 2098.44 921.282 2098.44 Q916.513 2098.44 913.597 2094.8 Q910.68 2091.17 910.68 2085.17 Q910.68 2079.16 913.597 2075.52 Q916.513 2071.89 921.282 2071.89 Q924.152 2071.89 926.212 2073.02 Q928.273 2074.16 929.592 2076.45 L929.592 2072.51 L933.851 2072.51 L933.851 2095.22 Z\" fill=\"#000000\" fill-rule=\"evenodd\" fill-opacity=\"1\" /><path clip-path=\"url(#clip490)\" d=\"M964.175 2082.79 L964.175 2098.44 L959.916 2098.44 L959.916 2082.93 Q959.916 2079.25 958.481 2077.42 Q957.046 2075.59 954.175 2075.59 Q950.726 2075.59 948.735 2077.79 Q946.745 2079.99 946.745 2083.78 L946.745 2098.44 L942.462 2098.44 L942.462 2062.42 L946.745 2062.42 L946.745 2076.54 Q948.272 2074.2 950.333 2073.04 Q952.416 2071.89 955.124 2071.89 Q959.592 2071.89 961.883 2074.66 Q964.175 2077.42 964.175 2082.79 Z\" fill=\"#000000\" fill-rule=\"evenodd\" fill-opacity=\"1\" /><path clip-path=\"url(#clip490)\" d=\"M976.883 2065.15 L976.883 2072.51 L985.656 2072.51 L985.656 2075.82 L976.883 2075.82 L976.883 2089.9 Q976.883 2093.07 977.74 2093.97 Q978.619 2094.87 981.282 2094.87 L985.656 2094.87 L985.656 2098.44 L981.282 2098.44 Q976.351 2098.44 974.476 2096.61 Q972.601 2094.76 972.601 2089.9 L972.601 2075.82 L969.476 2075.82 L969.476 2072.51 L972.601 2072.51 L972.601 2065.15 L976.883 2065.15 Z\" fill=\"#000000\" fill-rule=\"evenodd\" fill-opacity=\"1\" /><path clip-path=\"url(#clip490)\" d=\"M1013.43 2084.41 L1013.43 2086.49 L993.851 2086.49 Q994.129 2090.89 996.49 2093.21 Q998.874 2095.5 1003.11 2095.5 Q1005.56 2095.5 1007.86 2094.9 Q1010.17 2094.29 1012.44 2093.09 L1012.44 2097.12 Q1010.15 2098.09 1007.74 2098.6 Q1005.33 2099.11 1002.86 2099.11 Q996.652 2099.11 993.018 2095.5 Q989.406 2091.89 989.406 2085.73 Q989.406 2079.36 992.832 2075.64 Q996.281 2071.89 1002.11 2071.89 Q1007.35 2071.89 1010.38 2075.27 Q1013.43 2078.62 1013.43 2084.41 M1009.17 2083.16 Q1009.13 2079.66 1007.21 2077.58 Q1005.31 2075.5 1002.16 2075.5 Q998.596 2075.5 996.443 2077.51 Q994.314 2079.53 993.99 2083.18 L1009.17 2083.16 Z\" fill=\"#000000\" fill-rule=\"evenodd\" fill-opacity=\"1\" /><path clip-path=\"url(#clip490)\" d=\"M1037.48 2076.45 L1037.48 2062.42 L1041.74 2062.42 L1041.74 2098.44 L1037.48 2098.44 L1037.48 2094.55 Q1036.14 2096.86 1034.08 2098 Q1032.05 2099.11 1029.17 2099.11 Q1024.48 2099.11 1021.51 2095.36 Q1018.57 2091.61 1018.57 2085.5 Q1018.57 2079.39 1021.51 2075.64 Q1024.48 2071.89 1029.17 2071.89 Q1032.05 2071.89 1034.08 2073.02 Q1036.14 2074.13 1037.48 2076.45 M1022.97 2085.5 Q1022.97 2090.2 1024.89 2092.88 Q1026.84 2095.54 1030.22 2095.54 Q1033.6 2095.54 1035.54 2092.88 Q1037.48 2090.2 1037.48 2085.5 Q1037.48 2080.8 1035.54 2078.14 Q1033.6 2075.45 1030.22 2075.45 Q1026.84 2075.45 1024.89 2078.14 Q1022.97 2080.8 1022.97 2085.5 Z\" fill=\"#000000\" fill-rule=\"evenodd\" fill-opacity=\"1\" /><path clip-path=\"url(#clip490)\" d=\"M1085.77 2077.49 Q1087.37 2074.62 1089.59 2073.25 Q1091.81 2071.89 1094.82 2071.89 Q1098.87 2071.89 1101.07 2074.73 Q1103.27 2077.56 1103.27 2082.79 L1103.27 2098.44 L1098.99 2098.44 L1098.99 2082.93 Q1098.99 2079.2 1097.67 2077.4 Q1096.35 2075.59 1093.64 2075.59 Q1090.33 2075.59 1088.41 2077.79 Q1086.49 2079.99 1086.49 2083.78 L1086.49 2098.44 L1082.21 2098.44 L1082.21 2082.93 Q1082.21 2079.18 1080.89 2077.4 Q1079.57 2075.59 1076.81 2075.59 Q1073.55 2075.59 1071.63 2077.81 Q1069.71 2080.01 1069.71 2083.78 L1069.71 2098.44 L1065.42 2098.44 L1065.42 2072.51 L1069.71 2072.51 L1069.71 2076.54 Q1071.17 2074.16 1073.2 2073.02 Q1075.24 2071.89 1078.04 2071.89 Q1080.86 2071.89 1082.83 2073.32 Q1084.82 2074.76 1085.77 2077.49 Z\" fill=\"#000000\" fill-rule=\"evenodd\" fill-opacity=\"1\" /><path clip-path=\"url(#clip490)\" d=\"M1121.81 2075.5 Q1118.39 2075.5 1116.4 2078.18 Q1114.41 2080.84 1114.41 2085.5 Q1114.41 2090.15 1116.37 2092.84 Q1118.36 2095.5 1121.81 2095.5 Q1125.22 2095.5 1127.21 2092.81 Q1129.2 2090.13 1129.2 2085.5 Q1129.2 2080.89 1127.21 2078.21 Q1125.22 2075.5 1121.81 2075.5 M1121.81 2071.89 Q1127.37 2071.89 1130.54 2075.5 Q1133.71 2079.11 1133.71 2085.5 Q1133.71 2091.86 1130.54 2095.5 Q1127.37 2099.11 1121.81 2099.11 Q1116.23 2099.11 1113.06 2095.5 Q1109.92 2091.86 1109.92 2085.5 Q1109.92 2079.11 1113.06 2075.5 Q1116.23 2071.89 1121.81 2071.89 Z\" fill=\"#000000\" fill-rule=\"evenodd\" fill-opacity=\"1\" /><path clip-path=\"url(#clip490)\" d=\"M1157.83 2076.45 L1157.83 2062.42 L1162.09 2062.42 L1162.09 2098.44 L1157.83 2098.44 L1157.83 2094.55 Q1156.49 2096.86 1154.43 2098 Q1152.39 2099.11 1149.52 2099.11 Q1144.82 2099.11 1141.86 2095.36 Q1138.92 2091.61 1138.92 2085.5 Q1138.92 2079.39 1141.86 2075.64 Q1144.82 2071.89 1149.52 2071.89 Q1152.39 2071.89 1154.43 2073.02 Q1156.49 2074.13 1157.83 2076.45 M1143.32 2085.5 Q1143.32 2090.2 1145.24 2092.88 Q1147.18 2095.54 1150.56 2095.54 Q1153.94 2095.54 1155.89 2092.88 Q1157.83 2090.2 1157.83 2085.5 Q1157.83 2080.8 1155.89 2078.14 Q1153.94 2075.45 1150.56 2075.45 Q1147.18 2075.45 1145.24 2078.14 Q1143.32 2080.8 1143.32 2085.5 Z\" fill=\"#000000\" fill-rule=\"evenodd\" fill-opacity=\"1\" /><path clip-path=\"url(#clip490)\" d=\"M1193.04 2084.41 L1193.04 2086.49 L1173.46 2086.49 Q1173.73 2090.89 1176.1 2093.21 Q1178.48 2095.5 1182.72 2095.5 Q1185.17 2095.5 1187.46 2094.9 Q1189.78 2094.29 1192.04 2093.09 L1192.04 2097.12 Q1189.75 2098.09 1187.35 2098.6 Q1184.94 2099.11 1182.46 2099.11 Q1176.26 2099.11 1172.62 2095.5 Q1169.01 2091.89 1169.01 2085.73 Q1169.01 2079.36 1172.44 2075.64 Q1175.89 2071.89 1181.72 2071.89 Q1186.95 2071.89 1189.98 2075.27 Q1193.04 2078.62 1193.04 2084.41 M1188.78 2083.16 Q1188.73 2079.66 1186.81 2077.58 Q1184.91 2075.5 1181.77 2075.5 Q1178.2 2075.5 1176.05 2077.51 Q1173.92 2079.53 1173.6 2083.18 L1188.78 2083.16 Z\" fill=\"#000000\" fill-rule=\"evenodd\" fill-opacity=\"1\" /><path clip-path=\"url(#clip490)\" d=\"M1200.03 2062.42 L1204.29 2062.42 L1204.29 2098.44 L1200.03 2098.44 L1200.03 2062.42 Z\" fill=\"#000000\" fill-rule=\"evenodd\" fill-opacity=\"1\" /></svg>\n"
     },
     "execution_count": 801,
     "metadata": {},
     "output_type": "execute_result"
    }
   ],
   "source": [
    "# plot BU_T and RU_T for different values of r and for both models\n",
    "r = 1:15\n",
    "BU_T = zeros(15)\n",
    "RU_T = zeros(15)\n",
    "BU_T2 = zeros(15)\n",
    "RU_T2 = zeros(15)\n",
    "for i in r\n",
    "    BU_T[i], RU_T[i], bans, picks = baseline(i,\"random\")\n",
    "    BU_T2[i], RU_T2[i], bans, picks = baseline(i,\"weighted\")\n",
    "end\n",
    "\n",
    "plot(r, BU_T, label = \"Blue utility probabilistic model\")\n",
    "plot!(r, RU_T, label = \"Red utility probabilistic model\")\n",
    "plot!(r, BU_T2, label = \"Blue utility weighted model\")\n",
    "plot!(r, RU_T2, label = \"Red utility weighted model\")\n",
    "\n",
    "# legend on bottom left\n",
    "plot!(legend = :bottomleft)\n",
    "\n",
    "# y axis label as \"Utility\"\n",
    "plot!(ylabel = \"Utility\")\n",
    "\n",
    "# x axis label as \"r\"\n",
    "plot!(xlabel = \"Top-n champions\")\n",
    "\n",
    "# increase size of plot \n",
    "plot!(size = (800, 600))\n",
    "\n",
    "# increase line width\n",
    "plot!(linewidth = 10)\n",
    "\n"
   ]
  },
  {
   "cell_type": "code",
   "execution_count": null,
   "metadata": {},
   "outputs": [],
   "source": []
  },
  {
   "cell_type": "markdown",
   "metadata": {},
   "source": []
  },
  {
   "cell_type": "code",
   "execution_count": 564,
   "metadata": {},
   "outputs": [
    {
     "data": {
      "text/plain": [
       "optimal_choice (generic function with 2 methods)"
      ]
     },
     "execution_count": 564,
     "metadata": {},
     "output_type": "execute_result"
    }
   ],
   "source": [
    "# function optimal_choice(pool, utility, type, pos, banned)\n",
    "\n",
    "#     # transform the dataframe by removing champion name \n",
    "#     # and update the possible choices of the ban_matrix with the current pool\n",
    "#     utility = utility .* pool\n",
    "#     # sort the indices of bans\n",
    "#     banned = sort(banned, rev = true)\n",
    "#     # usable values of utility\n",
    "#     util_usable = utility[setdiff(1:size(utility,1), sort(utility, rev = true)),:]\n",
    "    \n",
    "#     # if type is \"ban\"\n",
    "#     if type == \"ban\"\n",
    "#         # find the top n champions\n",
    "#         opt = findmax(util_usable)\n",
    "#         # best utility\n",
    "#         u_opt = util_usable\n",
    "#         # retrieve the champion row\n",
    "#         champion_row = findall(x->x==maximum(utility), utility)[1]\n",
    "#         # retrieve the champion col\n",
    "#         champion_col = findall(x->x==maximum(utility), utility)[2]\n",
    "#         return u_opt, champion_row, champion_col\n",
    "#     # if type is \"pick\"\n",
    "#     elseif type == \"pick\"\n",
    "#         # find the top n champions\n",
    "#         opt = findmax(utility[:,pos])\n",
    "#         # best utility\n",
    "#         u_opt = opt[1]\n",
    "#         # retrieve the champion row\n",
    "#         champion_row = opt[2][1]\n",
    "#         # retrieve the champion col\n",
    "#         champion_col = pos\n",
    "#         return u_opt, champion_row, champion_col\n",
    "#     end\n",
    "# end"
   ]
  },
  {
   "cell_type": "code",
   "execution_count": null,
   "metadata": {},
   "outputs": [],
   "source": [
    "# function top_n_random(pool, df, type, n, pos)\n",
    "\n",
    "#     # transform the dataframe by removing champion name \n",
    "#     # and update the possible choices of the ban_matrix with the current pool\n",
    "#     df_proba = df[:,2:end] .* pool\n",
    "#     # sort the indices of bans\n",
    "#     banned = sort(banned, rev = true)\n",
    "#     # usable values of utility\n",
    "#     p_usable = df_proba[setdiff(1:size(df_proba,1), sort(df_proba, rev = true)),:]    \n",
    "\n",
    "#     # if type is \"ban\"\n",
    "#     if type == \"ban\"\n",
    "#         # find the top n champions\n",
    "#         top_n = sortperm(p_usable, rev=true)[1:n]\n",
    "#         # randomly choose one of the top n champions\n",
    "#         champion_choice = rand(top_n)\n",
    "#         # find position \n",
    "#         pos = findmax(Array(p_usable[champion_choice,:]))[2]\n",
    "#         # retrieve row in original dataset\n",
    "#         champion_row = findall(x->x==maximum(p_usable[champion_row,:]), df_proba[:,pos])\n",
    "#         # retrieve the champion name\n",
    "#         champion_name = df[champion_row,1]\n",
    "#         return champion_row, champion_name\n",
    "#     # if type is \"pick\"\n",
    "#     elseif type == \"pick\"\n",
    "#         # find the top 5 champions\n",
    "#         top_n = sortperm(pick_proba[:,pos],rev=true )[1:n]\n",
    "#         # randomly choose one of the top n champions\n",
    "#         champion_row = rand(top_n)\n",
    "#         # retrieve champion position\n",
    "#         champion_col = pos\n",
    "#         # retrieve the champion name\n",
    "#         champion_name = df[champion_row,1] \n",
    "#         return champion_row, champion_col, champion_name\n",
    "#     end\n",
    "# end"
   ]
  }
 ],
 "metadata": {
  "kernelspec": {
   "display_name": "Julia 1.8.3",
   "language": "julia",
   "name": "julia-1.8"
  },
  "language_info": {
   "file_extension": ".jl",
   "mimetype": "application/julia",
   "name": "julia",
   "version": "1.8.3"
  },
  "orig_nbformat": 4
 },
 "nbformat": 4,
 "nbformat_minor": 2
}
