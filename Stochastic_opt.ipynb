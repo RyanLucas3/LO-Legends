{
 "cells": [
  {
   "cell_type": "markdown",
   "metadata": {},
   "source": [
    "# Stochastic optimization model\n",
    "## Imports"
   ]
  },
  {
   "cell_type": "code",
   "execution_count": 1,
   "metadata": {},
   "outputs": [],
   "source": [
    "# Import packages\n",
    "using MLDataUtils, CSV, DataFrames,Plots, Statistics, StatsBase\n",
    "using Gurobi, JuMP\n",
    "using Random"
   ]
  },
  {
   "cell_type": "code",
   "execution_count": 2,
   "metadata": {},
   "outputs": [],
   "source": [
    "# Import data \n",
    "df = DataFrame(CSV.read(\"Game_data/2022_LoL_esports_match_data_from_OraclesElixir_20221016.csv\", DataFrame, pool = true))\n",
    "utility_B = DataFrame(CSV.read(\"Utility/U_B.csv\", DataFrame, pool = true))\n",
    "utility_R = DataFrame(CSV.read(\"Utility/U_R.csv\", DataFrame, pool = true))\n",
    "ban_vec = DataFrame(CSV.read(\"Utility/ban_vec.csv\", DataFrame, pool = true))\n",
    "ban_mat = DataFrame(CSV.read(\"Utility/ban_mat.csv\", DataFrame, pool = true))\n",
    "pick_mat = DataFrame(CSV.read(\"Utility/pick_mat.csv\", DataFrame, pool = true));"
   ]
  },
  {
   "cell_type": "code",
   "execution_count": 3,
   "metadata": {},
   "outputs": [],
   "source": [
    "n = size(utility_B)[1] # number of champions\n",
    "m = size(utility_B)[2] -1 # number of positions\n",
    "T = 1:20; # number of events"
   ]
  },
  {
   "cell_type": "code",
   "execution_count": 4,
   "metadata": {},
   "outputs": [
    {
     "data": {
      "text/html": [
       "<div><div style = \"float: left;\"><span>62×6 DataFrame</span></div><div style = \"float: right;\"><span style = \"font-style: italic;\">37 rows omitted</span></div><div style = \"clear: both;\"></div></div><div class = \"data-frame\" style = \"overflow-x: scroll;\"><table class = \"data-frame\" style = \"margin-bottom: 6px;\"><thead><tr class = \"header\"><th class = \"rowNumber\" style = \"font-weight: bold; text-align: right;\">Row</th><th style = \"text-align: left;\">champion</th><th style = \"text-align: left;\">bot</th><th style = \"text-align: left;\">jng</th><th style = \"text-align: left;\">mid</th><th style = \"text-align: left;\">sup</th><th style = \"text-align: left;\">top</th></tr><tr class = \"subheader headerLastRow\"><th class = \"rowNumber\" style = \"font-weight: bold; text-align: right;\"></th><th title = \"String15\" style = \"text-align: left;\">String15</th><th title = \"Float64\" style = \"text-align: left;\">Float64</th><th title = \"Float64\" style = \"text-align: left;\">Float64</th><th title = \"Float64\" style = \"text-align: left;\">Float64</th><th title = \"Float64\" style = \"text-align: left;\">Float64</th><th title = \"Float64\" style = \"text-align: left;\">Float64</th></tr></thead><tbody><tr><td class = \"rowNumber\" style = \"font-weight: bold; text-align: right;\">1</td><td style = \"text-align: left;\">Aatrox</td><td style = \"text-align: right;\">0.0</td><td style = \"text-align: right;\">0.0</td><td style = \"text-align: right;\">0.0</td><td style = \"text-align: right;\">0.0</td><td style = \"text-align: right;\">1.0</td></tr><tr><td class = \"rowNumber\" style = \"font-weight: bold; text-align: right;\">2</td><td style = \"text-align: left;\">Ahri</td><td style = \"text-align: right;\">0.0</td><td style = \"text-align: right;\">0.0</td><td style = \"text-align: right;\">3.16228</td><td style = \"text-align: right;\">0.0</td><td style = \"text-align: right;\">0.0</td></tr><tr><td class = \"rowNumber\" style = \"font-weight: bold; text-align: right;\">3</td><td style = \"text-align: left;\">Akali</td><td style = \"text-align: right;\">0.0</td><td style = \"text-align: right;\">0.0</td><td style = \"text-align: right;\">1.0</td><td style = \"text-align: right;\">0.0</td><td style = \"text-align: right;\">1.41421</td></tr><tr><td class = \"rowNumber\" style = \"font-weight: bold; text-align: right;\">4</td><td style = \"text-align: left;\">Alistar</td><td style = \"text-align: right;\">0.0</td><td style = \"text-align: right;\">0.0</td><td style = \"text-align: right;\">0.0</td><td style = \"text-align: right;\">1.0</td><td style = \"text-align: right;\">0.0</td></tr><tr><td class = \"rowNumber\" style = \"font-weight: bold; text-align: right;\">5</td><td style = \"text-align: left;\">Amumu</td><td style = \"text-align: right;\">0.0</td><td style = \"text-align: right;\">0.0</td><td style = \"text-align: right;\">0.0</td><td style = \"text-align: right;\">2.0</td><td style = \"text-align: right;\">0.0</td></tr><tr><td class = \"rowNumber\" style = \"font-weight: bold; text-align: right;\">6</td><td style = \"text-align: left;\">Aphelios</td><td style = \"text-align: right;\">3.0</td><td style = \"text-align: right;\">0.0</td><td style = \"text-align: right;\">0.0</td><td style = \"text-align: right;\">0.0</td><td style = \"text-align: right;\">0.0</td></tr><tr><td class = \"rowNumber\" style = \"font-weight: bold; text-align: right;\">7</td><td style = \"text-align: left;\">Azir</td><td style = \"text-align: right;\">0.0</td><td style = \"text-align: right;\">0.0</td><td style = \"text-align: right;\">1.41421</td><td style = \"text-align: right;\">0.0</td><td style = \"text-align: right;\">0.0</td></tr><tr><td class = \"rowNumber\" style = \"font-weight: bold; text-align: right;\">8</td><td style = \"text-align: left;\">Braum</td><td style = \"text-align: right;\">0.0</td><td style = \"text-align: right;\">0.0</td><td style = \"text-align: right;\">0.0</td><td style = \"text-align: right;\">1.0</td><td style = \"text-align: right;\">0.0</td></tr><tr><td class = \"rowNumber\" style = \"font-weight: bold; text-align: right;\">9</td><td style = \"text-align: left;\">Corki</td><td style = \"text-align: right;\">0.0</td><td style = \"text-align: right;\">0.0</td><td style = \"text-align: right;\">1.0</td><td style = \"text-align: right;\">0.0</td><td style = \"text-align: right;\">0.0</td></tr><tr><td class = \"rowNumber\" style = \"font-weight: bold; text-align: right;\">10</td><td style = \"text-align: left;\">Diana</td><td style = \"text-align: right;\">0.0</td><td style = \"text-align: right;\">1.73205</td><td style = \"text-align: right;\">0.0</td><td style = \"text-align: right;\">0.0</td><td style = \"text-align: right;\">0.0</td></tr><tr><td class = \"rowNumber\" style = \"font-weight: bold; text-align: right;\">11</td><td style = \"text-align: left;\">Draven</td><td style = \"text-align: right;\">1.41421</td><td style = \"text-align: right;\">0.0</td><td style = \"text-align: right;\">0.0</td><td style = \"text-align: right;\">0.0</td><td style = \"text-align: right;\">0.0</td></tr><tr><td class = \"rowNumber\" style = \"font-weight: bold; text-align: right;\">12</td><td style = \"text-align: left;\">Ezreal</td><td style = \"text-align: right;\">1.73205</td><td style = \"text-align: right;\">0.0</td><td style = \"text-align: right;\">0.0</td><td style = \"text-align: right;\">0.0</td><td style = \"text-align: right;\">0.0</td></tr><tr><td class = \"rowNumber\" style = \"font-weight: bold; text-align: right;\">13</td><td style = \"text-align: left;\">Gangplank</td><td style = \"text-align: right;\">0.0</td><td style = \"text-align: right;\">0.0</td><td style = \"text-align: right;\">0.0</td><td style = \"text-align: right;\">0.0</td><td style = \"text-align: right;\">2.64575</td></tr><tr><td style = \"text-align: right;\">&vellip;</td><td style = \"text-align: right;\">&vellip;</td><td style = \"text-align: right;\">&vellip;</td><td style = \"text-align: right;\">&vellip;</td><td style = \"text-align: right;\">&vellip;</td><td style = \"text-align: right;\">&vellip;</td><td style = \"text-align: right;\">&vellip;</td></tr><tr><td class = \"rowNumber\" style = \"font-weight: bold; text-align: right;\">51</td><td style = \"text-align: left;\">Twisted Fate</td><td style = \"text-align: right;\">0.0</td><td style = \"text-align: right;\">0.0</td><td style = \"text-align: right;\">1.41421</td><td style = \"text-align: right;\">0.0</td><td style = \"text-align: right;\">0.0</td></tr><tr><td class = \"rowNumber\" style = \"font-weight: bold; text-align: right;\">52</td><td style = \"text-align: left;\">Vex</td><td style = \"text-align: right;\">0.0</td><td style = \"text-align: right;\">0.0</td><td style = \"text-align: right;\">2.82843</td><td style = \"text-align: right;\">0.0</td><td style = \"text-align: right;\">0.0</td></tr><tr><td class = \"rowNumber\" style = \"font-weight: bold; text-align: right;\">53</td><td style = \"text-align: left;\">Vi</td><td style = \"text-align: right;\">0.0</td><td style = \"text-align: right;\">1.0</td><td style = \"text-align: right;\">0.0</td><td style = \"text-align: right;\">0.0</td><td style = \"text-align: right;\">0.0</td></tr><tr><td class = \"rowNumber\" style = \"font-weight: bold; text-align: right;\">54</td><td style = \"text-align: left;\">Viego</td><td style = \"text-align: right;\">0.0</td><td style = \"text-align: right;\">3.16228</td><td style = \"text-align: right;\">0.0</td><td style = \"text-align: right;\">0.0</td><td style = \"text-align: right;\">0.0</td></tr><tr><td class = \"rowNumber\" style = \"font-weight: bold; text-align: right;\">55</td><td style = \"text-align: left;\">Viktor</td><td style = \"text-align: right;\">0.0</td><td style = \"text-align: right;\">0.0</td><td style = \"text-align: right;\">2.44949</td><td style = \"text-align: right;\">0.0</td><td style = \"text-align: right;\">0.0</td></tr><tr><td class = \"rowNumber\" style = \"font-weight: bold; text-align: right;\">56</td><td style = \"text-align: left;\">Volibear</td><td style = \"text-align: right;\">0.0</td><td style = \"text-align: right;\">1.73205</td><td style = \"text-align: right;\">0.0</td><td style = \"text-align: right;\">0.0</td><td style = \"text-align: right;\">0.0</td></tr><tr><td class = \"rowNumber\" style = \"font-weight: bold; text-align: right;\">57</td><td style = \"text-align: left;\">Wukong</td><td style = \"text-align: right;\">0.0</td><td style = \"text-align: right;\">2.0</td><td style = \"text-align: right;\">0.0</td><td style = \"text-align: right;\">0.0</td><td style = \"text-align: right;\">0.0</td></tr><tr><td class = \"rowNumber\" style = \"font-weight: bold; text-align: right;\">58</td><td style = \"text-align: left;\">Xayah</td><td style = \"text-align: right;\">1.73205</td><td style = \"text-align: right;\">0.0</td><td style = \"text-align: right;\">0.0</td><td style = \"text-align: right;\">0.0</td><td style = \"text-align: right;\">0.0</td></tr><tr><td class = \"rowNumber\" style = \"font-weight: bold; text-align: right;\">59</td><td style = \"text-align: left;\">Xin Zhao</td><td style = \"text-align: right;\">0.0</td><td style = \"text-align: right;\">3.74166</td><td style = \"text-align: right;\">0.0</td><td style = \"text-align: right;\">0.0</td><td style = \"text-align: right;\">0.0</td></tr><tr><td class = \"rowNumber\" style = \"font-weight: bold; text-align: right;\">60</td><td style = \"text-align: left;\">Yuumi</td><td style = \"text-align: right;\">0.0</td><td style = \"text-align: right;\">0.0</td><td style = \"text-align: right;\">0.0</td><td style = \"text-align: right;\">1.41421</td><td style = \"text-align: right;\">0.0</td></tr><tr><td class = \"rowNumber\" style = \"font-weight: bold; text-align: right;\">61</td><td style = \"text-align: left;\">Zeri</td><td style = \"text-align: right;\">3.4641</td><td style = \"text-align: right;\">0.0</td><td style = \"text-align: right;\">0.0</td><td style = \"text-align: right;\">0.0</td><td style = \"text-align: right;\">0.0</td></tr><tr><td class = \"rowNumber\" style = \"font-weight: bold; text-align: right;\">62</td><td style = \"text-align: left;\">Zoe</td><td style = \"text-align: right;\">0.0</td><td style = \"text-align: right;\">0.0</td><td style = \"text-align: right;\">2.23607</td><td style = \"text-align: right;\">0.0</td><td style = \"text-align: right;\">0.0</td></tr></tbody></table></div>"
      ],
      "text/latex": [
       "\\begin{tabular}{r|cccccc}\n",
       "\t& champion & bot & jng & mid & sup & top\\\\\n",
       "\t\\hline\n",
       "\t& String15 & Float64 & Float64 & Float64 & Float64 & Float64\\\\\n",
       "\t\\hline\n",
       "\t1 & Aatrox & 0.0 & 0.0 & 0.0 & 0.0 & 1.0 \\\\\n",
       "\t2 & Ahri & 0.0 & 0.0 & 3.16228 & 0.0 & 0.0 \\\\\n",
       "\t3 & Akali & 0.0 & 0.0 & 1.0 & 0.0 & 1.41421 \\\\\n",
       "\t4 & Alistar & 0.0 & 0.0 & 0.0 & 1.0 & 0.0 \\\\\n",
       "\t5 & Amumu & 0.0 & 0.0 & 0.0 & 2.0 & 0.0 \\\\\n",
       "\t6 & Aphelios & 3.0 & 0.0 & 0.0 & 0.0 & 0.0 \\\\\n",
       "\t7 & Azir & 0.0 & 0.0 & 1.41421 & 0.0 & 0.0 \\\\\n",
       "\t8 & Braum & 0.0 & 0.0 & 0.0 & 1.0 & 0.0 \\\\\n",
       "\t9 & Corki & 0.0 & 0.0 & 1.0 & 0.0 & 0.0 \\\\\n",
       "\t10 & Diana & 0.0 & 1.73205 & 0.0 & 0.0 & 0.0 \\\\\n",
       "\t11 & Draven & 1.41421 & 0.0 & 0.0 & 0.0 & 0.0 \\\\\n",
       "\t12 & Ezreal & 1.73205 & 0.0 & 0.0 & 0.0 & 0.0 \\\\\n",
       "\t13 & Gangplank & 0.0 & 0.0 & 0.0 & 0.0 & 2.64575 \\\\\n",
       "\t14 & Gnar & 0.0 & 0.0 & 0.0 & 0.0 & 2.82843 \\\\\n",
       "\t15 & Gragas & 0.0 & 0.0 & 0.0 & 0.0 & 2.0 \\\\\n",
       "\t16 & Graves & 0.0 & 0.0 & 0.0 & 0.0 & 2.64575 \\\\\n",
       "\t17 & Gwen & 0.0 & 0.0 & 0.0 & 0.0 & 3.31662 \\\\\n",
       "\t18 & Hecarim & 0.0 & 2.0 & 0.0 & 0.0 & 0.0 \\\\\n",
       "\t19 & Jarvan IV & 0.0 & 1.73205 & 0.0 & 0.0 & 0.0 \\\\\n",
       "\t20 & Jax & 0.0 & 0.0 & 0.0 & 0.0 & 1.0 \\\\\n",
       "\t21 & Jayce & 0.0 & 0.0 & 0.0 & 0.0 & 1.73205 \\\\\n",
       "\t22 & Jhin & 1.73205 & 0.0 & 0.0 & 0.0 & 0.0 \\\\\n",
       "\t23 & Jinx & 3.74166 & 0.0 & 0.0 & 0.0 & 0.0 \\\\\n",
       "\t24 & Kai'Sa & 1.0 & 0.0 & 0.0 & 0.0 & 0.0 \\\\\n",
       "\t25 & Kalista & 2.0 & 0.0 & 0.0 & 0.0 & 0.0 \\\\\n",
       "\t26 & Karma & 0.0 & 0.0 & 0.0 & 1.73205 & 0.0 \\\\\n",
       "\t27 & LeBlanc & 0.0 & 0.0 & 1.0 & 0.0 & 0.0 \\\\\n",
       "\t28 & Lee Sin & 0.0 & 3.0 & 0.0 & 0.0 & 0.0 \\\\\n",
       "\t29 & Leona & 0.0 & 0.0 & 0.0 & 2.23607 & 0.0 \\\\\n",
       "\t30 & Lissandra & 0.0 & 0.0 & 1.73205 & 0.0 & 0.0 \\\\\n",
       "\t$\\dots$ & $\\dots$ & $\\dots$ & $\\dots$ & $\\dots$ & $\\dots$ & $\\dots$ \\\\\n",
       "\\end{tabular}\n"
      ],
      "text/plain": [
       "\u001b[1m62×6 DataFrame\n",
       "\u001b[1m Row │\u001b[1m champion     \u001b[1m bot     \u001b[1m jng     \u001b[1m mid     \u001b[1m sup     \u001b[1m top\n",
       "     │\u001b[90m String15     \u001b[90m Float64 \u001b[90m Float64 \u001b[90m Float64 \u001b[90m Float64 \u001b[90m Float64\n",
       "─────┼───────────────────────────────────────────────────────────\n",
       "   1 │ Aatrox        0.0      0.0      0.0      0.0      1.0\n",
       "   2 │ Ahri          0.0      0.0      3.16228  0.0      0.0\n",
       "   3 │ Akali         0.0      0.0      1.0      0.0      1.41421\n",
       "   4 │ Alistar       0.0      0.0      0.0      1.0      0.0\n",
       "   5 │ Amumu         0.0      0.0      0.0      2.0      0.0\n",
       "   6 │ Aphelios      3.0      0.0      0.0      0.0      0.0\n",
       "   7 │ Azir          0.0      0.0      1.41421  0.0      0.0\n",
       "   8 │ Braum         0.0      0.0      0.0      1.0      0.0\n",
       "   9 │ Corki         0.0      0.0      1.0      0.0      0.0\n",
       "  10 │ Diana         0.0      1.73205  0.0      0.0      0.0\n",
       "  11 │ Draven        1.41421  0.0      0.0      0.0      0.0\n",
       "  ⋮  │      ⋮           ⋮        ⋮        ⋮        ⋮        ⋮\n",
       "  53 │ Vi            0.0      1.0      0.0      0.0      0.0\n",
       "  54 │ Viego         0.0      3.16228  0.0      0.0      0.0\n",
       "  55 │ Viktor        0.0      0.0      2.44949  0.0      0.0\n",
       "  56 │ Volibear      0.0      1.73205  0.0      0.0      0.0\n",
       "  57 │ Wukong        0.0      2.0      0.0      0.0      0.0\n",
       "  58 │ Xayah         1.73205  0.0      0.0      0.0      0.0\n",
       "  59 │ Xin Zhao      0.0      3.74166  0.0      0.0      0.0\n",
       "  60 │ Yuumi         0.0      0.0      0.0      1.41421  0.0\n",
       "  61 │ Zeri          3.4641   0.0      0.0      0.0      0.0\n",
       "  62 │ Zoe           0.0      0.0      2.23607  0.0      0.0\n",
       "\u001b[36m                                                  41 rows omitted"
      ]
     },
     "execution_count": 4,
     "metadata": {},
     "output_type": "execute_result"
    }
   ],
   "source": [
    "utility_B"
   ]
  },
  {
   "cell_type": "markdown",
   "metadata": {},
   "source": [
    "Lets see how we can find the maximum utility of a given champion using the utility matrix."
   ]
  },
  {
   "cell_type": "code",
   "execution_count": 5,
   "metadata": {},
   "outputs": [
    {
     "data": {
      "text/plain": [
       "\"Zoe\""
      ]
     },
     "execution_count": 5,
     "metadata": {},
     "output_type": "execute_result"
    }
   ],
   "source": [
    "# champion with highest utility \n",
    "maximum(utility_B[:,1])"
   ]
  },
  {
   "cell_type": "code",
   "execution_count": 6,
   "metadata": {},
   "outputs": [
    {
     "data": {
      "text/html": [
       "<div><div style = \"float: left;\"><span>1×5 DataFrame</span></div><div style = \"clear: both;\"></div></div><div class = \"data-frame\" style = \"overflow-x: scroll;\"><table class = \"data-frame\" style = \"margin-bottom: 6px;\"><thead><tr class = \"header\"><th class = \"rowNumber\" style = \"font-weight: bold; text-align: right;\">Row</th><th style = \"text-align: left;\">bot</th><th style = \"text-align: left;\">jng</th><th style = \"text-align: left;\">mid</th><th style = \"text-align: left;\">sup</th><th style = \"text-align: left;\">top</th></tr><tr class = \"subheader headerLastRow\"><th class = \"rowNumber\" style = \"font-weight: bold; text-align: right;\"></th><th title = \"Float64\" style = \"text-align: left;\">Float64</th><th title = \"Float64\" style = \"text-align: left;\">Float64</th><th title = \"Float64\" style = \"text-align: left;\">Float64</th><th title = \"Float64\" style = \"text-align: left;\">Float64</th><th title = \"Float64\" style = \"text-align: left;\">Float64</th></tr></thead><tbody><tr><td class = \"rowNumber\" style = \"font-weight: bold; text-align: right;\">1</td><td style = \"text-align: right;\">0.0</td><td style = \"text-align: right;\">0.0</td><td style = \"text-align: right;\">2.23607</td><td style = \"text-align: right;\">0.0</td><td style = \"text-align: right;\">0.0</td></tr></tbody></table></div>"
      ],
      "text/latex": [
       "\\begin{tabular}{r|ccccc}\n",
       "\t& bot & jng & mid & sup & top\\\\\n",
       "\t\\hline\n",
       "\t& Float64 & Float64 & Float64 & Float64 & Float64\\\\\n",
       "\t\\hline\n",
       "\t1 & 0.0 & 0.0 & 2.23607 & 0.0 & 0.0 \\\\\n",
       "\\end{tabular}\n"
      ],
      "text/plain": [
       "\u001b[1m1×5 DataFrame\n",
       "\u001b[1m Row │\u001b[1m bot     \u001b[1m jng     \u001b[1m mid     \u001b[1m sup     \u001b[1m top\n",
       "     │\u001b[90m Float64 \u001b[90m Float64 \u001b[90m Float64 \u001b[90m Float64 \u001b[90m Float64\n",
       "─────┼─────────────────────────────────────────────\n",
       "   1 │     0.0      0.0  2.23607      0.0      0.0"
      ]
     },
     "execution_count": 6,
     "metadata": {},
     "output_type": "execute_result"
    }
   ],
   "source": [
    "# find utility of \"Zoe\"\n",
    "utility_B[utility_B[:,1] .== \"Zoe\",2:end]"
   ]
  },
  {
   "cell_type": "code",
   "execution_count": 7,
   "metadata": {},
   "outputs": [
    {
     "data": {
      "text/plain": [
       "2.23606797749979"
      ]
     },
     "execution_count": 7,
     "metadata": {},
     "output_type": "execute_result"
    }
   ],
   "source": [
    "# above as Array\n",
    "maximum(Array(utility_B[utility_B[:,1] .== \"Zoe\",2:end]))"
   ]
  },
  {
   "cell_type": "code",
   "execution_count": 8,
   "metadata": {},
   "outputs": [
    {
     "data": {
      "text/html": [
       "<div><div style = \"float: left;\"><span>62×5 DataFrame</span></div><div style = \"float: right;\"><span style = \"font-style: italic;\">37 rows omitted</span></div><div style = \"clear: both;\"></div></div><div class = \"data-frame\" style = \"overflow-x: scroll;\"><table class = \"data-frame\" style = \"margin-bottom: 6px;\"><thead><tr class = \"header\"><th class = \"rowNumber\" style = \"font-weight: bold; text-align: right;\">Row</th><th style = \"text-align: left;\">bot</th><th style = \"text-align: left;\">jng</th><th style = \"text-align: left;\">mid</th><th style = \"text-align: left;\">sup</th><th style = \"text-align: left;\">top</th></tr><tr class = \"subheader headerLastRow\"><th class = \"rowNumber\" style = \"font-weight: bold; text-align: right;\"></th><th title = \"Float64\" style = \"text-align: left;\">Float64</th><th title = \"Float64\" style = \"text-align: left;\">Float64</th><th title = \"Float64\" style = \"text-align: left;\">Float64</th><th title = \"Float64\" style = \"text-align: left;\">Float64</th><th title = \"Float64\" style = \"text-align: left;\">Float64</th></tr></thead><tbody><tr><td class = \"rowNumber\" style = \"font-weight: bold; text-align: right;\">1</td><td style = \"text-align: right;\">0.0</td><td style = \"text-align: right;\">0.0</td><td style = \"text-align: right;\">0.0</td><td style = \"text-align: right;\">0.0</td><td style = \"text-align: right;\">1.0</td></tr><tr><td class = \"rowNumber\" style = \"font-weight: bold; text-align: right;\">2</td><td style = \"text-align: right;\">0.0</td><td style = \"text-align: right;\">0.0</td><td style = \"text-align: right;\">3.16228</td><td style = \"text-align: right;\">0.0</td><td style = \"text-align: right;\">0.0</td></tr><tr><td class = \"rowNumber\" style = \"font-weight: bold; text-align: right;\">3</td><td style = \"text-align: right;\">0.0</td><td style = \"text-align: right;\">0.0</td><td style = \"text-align: right;\">1.0</td><td style = \"text-align: right;\">0.0</td><td style = \"text-align: right;\">1.41421</td></tr><tr><td class = \"rowNumber\" style = \"font-weight: bold; text-align: right;\">4</td><td style = \"text-align: right;\">0.0</td><td style = \"text-align: right;\">0.0</td><td style = \"text-align: right;\">0.0</td><td style = \"text-align: right;\">1.0</td><td style = \"text-align: right;\">0.0</td></tr><tr><td class = \"rowNumber\" style = \"font-weight: bold; text-align: right;\">5</td><td style = \"text-align: right;\">0.0</td><td style = \"text-align: right;\">0.0</td><td style = \"text-align: right;\">0.0</td><td style = \"text-align: right;\">2.0</td><td style = \"text-align: right;\">0.0</td></tr><tr><td class = \"rowNumber\" style = \"font-weight: bold; text-align: right;\">6</td><td style = \"text-align: right;\">3.0</td><td style = \"text-align: right;\">0.0</td><td style = \"text-align: right;\">0.0</td><td style = \"text-align: right;\">0.0</td><td style = \"text-align: right;\">0.0</td></tr><tr><td class = \"rowNumber\" style = \"font-weight: bold; text-align: right;\">7</td><td style = \"text-align: right;\">0.0</td><td style = \"text-align: right;\">0.0</td><td style = \"text-align: right;\">1.41421</td><td style = \"text-align: right;\">0.0</td><td style = \"text-align: right;\">0.0</td></tr><tr><td class = \"rowNumber\" style = \"font-weight: bold; text-align: right;\">8</td><td style = \"text-align: right;\">0.0</td><td style = \"text-align: right;\">0.0</td><td style = \"text-align: right;\">0.0</td><td style = \"text-align: right;\">1.0</td><td style = \"text-align: right;\">0.0</td></tr><tr><td class = \"rowNumber\" style = \"font-weight: bold; text-align: right;\">9</td><td style = \"text-align: right;\">0.0</td><td style = \"text-align: right;\">0.0</td><td style = \"text-align: right;\">1.0</td><td style = \"text-align: right;\">0.0</td><td style = \"text-align: right;\">0.0</td></tr><tr><td class = \"rowNumber\" style = \"font-weight: bold; text-align: right;\">10</td><td style = \"text-align: right;\">0.0</td><td style = \"text-align: right;\">1.73205</td><td style = \"text-align: right;\">0.0</td><td style = \"text-align: right;\">0.0</td><td style = \"text-align: right;\">0.0</td></tr><tr><td class = \"rowNumber\" style = \"font-weight: bold; text-align: right;\">11</td><td style = \"text-align: right;\">1.41421</td><td style = \"text-align: right;\">0.0</td><td style = \"text-align: right;\">0.0</td><td style = \"text-align: right;\">0.0</td><td style = \"text-align: right;\">0.0</td></tr><tr><td class = \"rowNumber\" style = \"font-weight: bold; text-align: right;\">12</td><td style = \"text-align: right;\">1.73205</td><td style = \"text-align: right;\">0.0</td><td style = \"text-align: right;\">0.0</td><td style = \"text-align: right;\">0.0</td><td style = \"text-align: right;\">0.0</td></tr><tr><td class = \"rowNumber\" style = \"font-weight: bold; text-align: right;\">13</td><td style = \"text-align: right;\">0.0</td><td style = \"text-align: right;\">0.0</td><td style = \"text-align: right;\">0.0</td><td style = \"text-align: right;\">0.0</td><td style = \"text-align: right;\">2.64575</td></tr><tr><td style = \"text-align: right;\">&vellip;</td><td style = \"text-align: right;\">&vellip;</td><td style = \"text-align: right;\">&vellip;</td><td style = \"text-align: right;\">&vellip;</td><td style = \"text-align: right;\">&vellip;</td><td style = \"text-align: right;\">&vellip;</td></tr><tr><td class = \"rowNumber\" style = \"font-weight: bold; text-align: right;\">51</td><td style = \"text-align: right;\">0.0</td><td style = \"text-align: right;\">0.0</td><td style = \"text-align: right;\">1.41421</td><td style = \"text-align: right;\">0.0</td><td style = \"text-align: right;\">0.0</td></tr><tr><td class = \"rowNumber\" style = \"font-weight: bold; text-align: right;\">52</td><td style = \"text-align: right;\">0.0</td><td style = \"text-align: right;\">0.0</td><td style = \"text-align: right;\">2.82843</td><td style = \"text-align: right;\">0.0</td><td style = \"text-align: right;\">0.0</td></tr><tr><td class = \"rowNumber\" style = \"font-weight: bold; text-align: right;\">53</td><td style = \"text-align: right;\">0.0</td><td style = \"text-align: right;\">1.0</td><td style = \"text-align: right;\">0.0</td><td style = \"text-align: right;\">0.0</td><td style = \"text-align: right;\">0.0</td></tr><tr><td class = \"rowNumber\" style = \"font-weight: bold; text-align: right;\">54</td><td style = \"text-align: right;\">0.0</td><td style = \"text-align: right;\">3.16228</td><td style = \"text-align: right;\">0.0</td><td style = \"text-align: right;\">0.0</td><td style = \"text-align: right;\">0.0</td></tr><tr><td class = \"rowNumber\" style = \"font-weight: bold; text-align: right;\">55</td><td style = \"text-align: right;\">0.0</td><td style = \"text-align: right;\">0.0</td><td style = \"text-align: right;\">2.44949</td><td style = \"text-align: right;\">0.0</td><td style = \"text-align: right;\">0.0</td></tr><tr><td class = \"rowNumber\" style = \"font-weight: bold; text-align: right;\">56</td><td style = \"text-align: right;\">0.0</td><td style = \"text-align: right;\">1.73205</td><td style = \"text-align: right;\">0.0</td><td style = \"text-align: right;\">0.0</td><td style = \"text-align: right;\">0.0</td></tr><tr><td class = \"rowNumber\" style = \"font-weight: bold; text-align: right;\">57</td><td style = \"text-align: right;\">0.0</td><td style = \"text-align: right;\">2.0</td><td style = \"text-align: right;\">0.0</td><td style = \"text-align: right;\">0.0</td><td style = \"text-align: right;\">0.0</td></tr><tr><td class = \"rowNumber\" style = \"font-weight: bold; text-align: right;\">58</td><td style = \"text-align: right;\">1.73205</td><td style = \"text-align: right;\">0.0</td><td style = \"text-align: right;\">0.0</td><td style = \"text-align: right;\">0.0</td><td style = \"text-align: right;\">0.0</td></tr><tr><td class = \"rowNumber\" style = \"font-weight: bold; text-align: right;\">59</td><td style = \"text-align: right;\">0.0</td><td style = \"text-align: right;\">3.74166</td><td style = \"text-align: right;\">0.0</td><td style = \"text-align: right;\">0.0</td><td style = \"text-align: right;\">0.0</td></tr><tr><td class = \"rowNumber\" style = \"font-weight: bold; text-align: right;\">60</td><td style = \"text-align: right;\">0.0</td><td style = \"text-align: right;\">0.0</td><td style = \"text-align: right;\">0.0</td><td style = \"text-align: right;\">1.41421</td><td style = \"text-align: right;\">0.0</td></tr><tr><td class = \"rowNumber\" style = \"font-weight: bold; text-align: right;\">61</td><td style = \"text-align: right;\">3.4641</td><td style = \"text-align: right;\">0.0</td><td style = \"text-align: right;\">0.0</td><td style = \"text-align: right;\">0.0</td><td style = \"text-align: right;\">0.0</td></tr><tr><td class = \"rowNumber\" style = \"font-weight: bold; text-align: right;\">62</td><td style = \"text-align: right;\">0.0</td><td style = \"text-align: right;\">0.0</td><td style = \"text-align: right;\">2.23607</td><td style = \"text-align: right;\">0.0</td><td style = \"text-align: right;\">0.0</td></tr></tbody></table></div>"
      ],
      "text/latex": [
       "\\begin{tabular}{r|ccccc}\n",
       "\t& bot & jng & mid & sup & top\\\\\n",
       "\t\\hline\n",
       "\t& Float64 & Float64 & Float64 & Float64 & Float64\\\\\n",
       "\t\\hline\n",
       "\t1 & 0.0 & 0.0 & 0.0 & 0.0 & 1.0 \\\\\n",
       "\t2 & 0.0 & 0.0 & 3.16228 & 0.0 & 0.0 \\\\\n",
       "\t3 & 0.0 & 0.0 & 1.0 & 0.0 & 1.41421 \\\\\n",
       "\t4 & 0.0 & 0.0 & 0.0 & 1.0 & 0.0 \\\\\n",
       "\t5 & 0.0 & 0.0 & 0.0 & 2.0 & 0.0 \\\\\n",
       "\t6 & 3.0 & 0.0 & 0.0 & 0.0 & 0.0 \\\\\n",
       "\t7 & 0.0 & 0.0 & 1.41421 & 0.0 & 0.0 \\\\\n",
       "\t8 & 0.0 & 0.0 & 0.0 & 1.0 & 0.0 \\\\\n",
       "\t9 & 0.0 & 0.0 & 1.0 & 0.0 & 0.0 \\\\\n",
       "\t10 & 0.0 & 1.73205 & 0.0 & 0.0 & 0.0 \\\\\n",
       "\t11 & 1.41421 & 0.0 & 0.0 & 0.0 & 0.0 \\\\\n",
       "\t12 & 1.73205 & 0.0 & 0.0 & 0.0 & 0.0 \\\\\n",
       "\t13 & 0.0 & 0.0 & 0.0 & 0.0 & 2.64575 \\\\\n",
       "\t14 & 0.0 & 0.0 & 0.0 & 0.0 & 2.82843 \\\\\n",
       "\t15 & 0.0 & 0.0 & 0.0 & 0.0 & 2.0 \\\\\n",
       "\t16 & 0.0 & 0.0 & 0.0 & 0.0 & 2.64575 \\\\\n",
       "\t17 & 0.0 & 0.0 & 0.0 & 0.0 & 3.31662 \\\\\n",
       "\t18 & 0.0 & 2.0 & 0.0 & 0.0 & 0.0 \\\\\n",
       "\t19 & 0.0 & 1.73205 & 0.0 & 0.0 & 0.0 \\\\\n",
       "\t20 & 0.0 & 0.0 & 0.0 & 0.0 & 1.0 \\\\\n",
       "\t21 & 0.0 & 0.0 & 0.0 & 0.0 & 1.73205 \\\\\n",
       "\t22 & 1.73205 & 0.0 & 0.0 & 0.0 & 0.0 \\\\\n",
       "\t23 & 3.74166 & 0.0 & 0.0 & 0.0 & 0.0 \\\\\n",
       "\t24 & 1.0 & 0.0 & 0.0 & 0.0 & 0.0 \\\\\n",
       "\t25 & 2.0 & 0.0 & 0.0 & 0.0 & 0.0 \\\\\n",
       "\t26 & 0.0 & 0.0 & 0.0 & 1.73205 & 0.0 \\\\\n",
       "\t27 & 0.0 & 0.0 & 1.0 & 0.0 & 0.0 \\\\\n",
       "\t28 & 0.0 & 3.0 & 0.0 & 0.0 & 0.0 \\\\\n",
       "\t29 & 0.0 & 0.0 & 0.0 & 2.23607 & 0.0 \\\\\n",
       "\t30 & 0.0 & 0.0 & 1.73205 & 0.0 & 0.0 \\\\\n",
       "\t$\\dots$ & $\\dots$ & $\\dots$ & $\\dots$ & $\\dots$ & $\\dots$ \\\\\n",
       "\\end{tabular}\n"
      ],
      "text/plain": [
       "\u001b[1m62×5 DataFrame\n",
       "\u001b[1m Row │\u001b[1m bot     \u001b[1m jng     \u001b[1m mid     \u001b[1m sup     \u001b[1m top\n",
       "     │\u001b[90m Float64 \u001b[90m Float64 \u001b[90m Float64 \u001b[90m Float64 \u001b[90m Float64\n",
       "─────┼─────────────────────────────────────────────\n",
       "   1 │ 0.0      0.0      0.0      0.0      1.0\n",
       "   2 │ 0.0      0.0      3.16228  0.0      0.0\n",
       "   3 │ 0.0      0.0      1.0      0.0      1.41421\n",
       "   4 │ 0.0      0.0      0.0      1.0      0.0\n",
       "   5 │ 0.0      0.0      0.0      2.0      0.0\n",
       "   6 │ 3.0      0.0      0.0      0.0      0.0\n",
       "   7 │ 0.0      0.0      1.41421  0.0      0.0\n",
       "   8 │ 0.0      0.0      0.0      1.0      0.0\n",
       "   9 │ 0.0      0.0      1.0      0.0      0.0\n",
       "  10 │ 0.0      1.73205  0.0      0.0      0.0\n",
       "  11 │ 1.41421  0.0      0.0      0.0      0.0\n",
       "  ⋮  │    ⋮        ⋮        ⋮        ⋮        ⋮\n",
       "  53 │ 0.0      1.0      0.0      0.0      0.0\n",
       "  54 │ 0.0      3.16228  0.0      0.0      0.0\n",
       "  55 │ 0.0      0.0      2.44949  0.0      0.0\n",
       "  56 │ 0.0      1.73205  0.0      0.0      0.0\n",
       "  57 │ 0.0      2.0      0.0      0.0      0.0\n",
       "  58 │ 1.73205  0.0      0.0      0.0      0.0\n",
       "  59 │ 0.0      3.74166  0.0      0.0      0.0\n",
       "  60 │ 0.0      0.0      0.0      1.41421  0.0\n",
       "  61 │ 3.4641   0.0      0.0      0.0      0.0\n",
       "  62 │ 0.0      0.0      2.23607  0.0      0.0\n",
       "\u001b[36m                                    41 rows omitted"
      ]
     },
     "execution_count": 8,
     "metadata": {},
     "output_type": "execute_result"
    }
   ],
   "source": [
    "utility_B[:,2:end]"
   ]
  },
  {
   "cell_type": "markdown",
   "metadata": {},
   "source": [
    "## Implementation of the model"
   ]
  },
  {
   "cell_type": "code",
   "execution_count": 135,
   "metadata": {},
   "outputs": [
    {
     "ename": "LoadError",
     "evalue": "LoadError: At In[135]:58: `@constraint(model, [t = trb], RB[i, j, :] = (findmax(UB))[2] == [1, 1, :])`: No constraint expression was given.\nin expression starting at In[135]:58",
     "output_type": "error",
     "traceback": [
      "LoadError: At In[135]:58: `@constraint(model, [t = trb], RB[i, j, :] = (findmax(UB))[2] == [1, 1, :])`: No constraint expression was given.\nin expression starting at In[135]:58",
      "",
      "Stacktrace:",
      " [1] error(::String, ::String)",
      "   @ Base ~/.julia/artifacts/f07fbd2303e6532c8af7c3ff00222979aaea8673/environments/Julia_v1_8_2__IAI_v3_1_1/Julia_v1_8_2__IAI_v3_1_1.dylib:-1",
      " [2] _macro_error(macroname::Symbol, args::Tuple{Symbol, Expr, Expr}, source::LineNumberNode, str::String)",
      "   @ JuMP /Users/iai/builds/InterpretableAI/SystemImage/SysImgBuilder/.julia/packages/JuMP/gVq7V/src/macros.jl:1585",
      " [3] (::JuMP.var\"#_error#100\"{Tuple{Symbol, Expr, Expr}, Symbol, LineNumberNode})(str::String)",
      "   @ JuMP /Users/iai/builds/InterpretableAI/SystemImage/SysImgBuilder/.julia/packages/JuMP/gVq7V/src/macros.jl:733",
      " [4] _constraint_macro(args::Tuple{Symbol, Expr, Expr}, macro_name::Symbol, parsefun::typeof(parse_constraint), source::LineNumberNode)",
      "   @ JuMP /Users/iai/builds/InterpretableAI/SystemImage/SysImgBuilder/.julia/packages/JuMP/gVq7V/src/macros.jl:763",
      " [5] var\"@constraint\"(__source__::LineNumberNode, __module__::Module, args::Vararg{Any})",
      "   @ JuMP /Users/iai/builds/InterpretableAI/SystemImage/SysImgBuilder/.julia/packages/JuMP/gVq7V/src/macros.jl:914",
      " [6] eval",
      "   @ ./boot.jl:368 [inlined]",
      " [7] include_string(mapexpr::typeof(REPL.softscope), mod::Module, code::String, filename::String)",
      "   @ Base ./loading.jl:1428"
     ]
    }
   ],
   "source": [
    "function stochastic(df, ban_mat, pick_mat)\n",
    "\n",
    "    # Define model\n",
    "    model = Model(Gurobi.Optimizer)\n",
    "\n",
    "    # Define the sets \n",
    "    n = size(utility_B)[1] # number of champions\n",
    "    m = size(utility_B)[2] -1 # number of positions\n",
    "    T = 1:20 # number of events\n",
    "    tbb = [1,3,5,14,16] # blue team ban events\n",
    "    trb = [2,4,6,13,15] # red team ban events\n",
    "    tbp = [7,10,11,18,19] # blue team pick events\n",
    "    trp = [8,9,12,17,20] # red team pick events\n",
    "\n",
    "    # Define the parameters\n",
    "    epsilon = 0.001 # small number\n",
    "\n",
    "    # Define the independant variables\n",
    "    UB = Array(utility_B[:,2:end]) # blue team utility\n",
    "    UR = Array(utility_R[:,2:end]) # red team utility\n",
    "    \n",
    "    global BU_T = 0 # total utility of blue team\n",
    "    global RU_T = 0 # total utility of red team\n",
    "\n",
    "    # Define the dependant variables\n",
    "    @variable(model, pool = zeros(n,m)) # matrix of champions in the pool\n",
    "    @variable(model, bans = zeros(n,m)) # matrix of champions banned to understand order of choices\n",
    "    @variable(model, picks = zeros(n,m)) # matrix of champions picked to understand order of choices\n",
    "\n",
    "    @variable(model, BB[1:n,1:m,1:T], Bin) # blue ban of champion i at position j at event t\n",
    "    # @variable(model, RB[1:n,1:m,1:T], Bin) # red ban of champion i at position j at event t --> obtained probabilistically\n",
    "    @variable(model, BP[1:n,1:m,1:T], Bin) # blue pick of champion i at position j at event t\n",
    "    # @variable(model, RP[1:n,1:m,1:T], Bin) # red pick of champion i at position j at event t --> obtained probabilistically\n",
    "\n",
    "    @variable(model, z[1:T], Bin) # binary variable to determine if event t is a ban or a pick\n",
    "\n",
    "    # Define the constraints\n",
    "    # 1. Each champion can only be picked/banned at most once\n",
    "    @constraint(model, [i=1:n], sum(sum((BB[i,j,t] + RB[i,j,t])*z[t] + (BP[i,jt] + RP[i,j,t])*(1-z[t]) for j = 1:m) for t=1:T) <= 1)\n",
    "\n",
    "    # 2. Each team must ban at most 5 champions\n",
    "    @constraint(model, [j=1:m], sum(sum(BB[i,j,t] for i = 1:n) for t in tbb) <= 5)\n",
    "    @constraint(model, [j=1:m], sum(sum(RB[i,j,t] for i = 1:n) for t in trb) <= 5)\n",
    "\n",
    "    # 3. Each team must pick 5 champions\n",
    "    @constraint(model, sum(sum(sum(BP[i,j,t] for i = 1:n) for j = 1:m) for t in tbp) == 5)\n",
    "    @constraint(model, sum(sum(sum(RP[i,j,t] for i = 1:n) for j = 1:m) for t in trp) == 5)\n",
    "\n",
    "    # 4. Each team must pick 1 champion per position\n",
    "    @constraint(model, [j=1:m], sum(sum(BP[i,j,t] for i = 1:n) for t in tbp)== 1)\n",
    "    @constraint(model, [j=1:m], sum(sum(RP[i,j,t] for i = 1:n) for t in trp) == 1)\n",
    "\n",
    "    # 5. The utility of a champion picked or banned must be greater than epsilon\n",
    "    @constraint(model, [i=1:n, j=1:m], UB[i,j] >= epsilon)\n",
    "    @constraint(model, [i=1:n, j=1:m], UR[i,j] >= epsilon)\n",
    "\n",
    "    # 6. The red ban will be the champion with the highest utility for the blue team \n",
    "    @constraint(model, [t=trb], RB[i,j,:] = findmax(UB)[2] == [1,1,:])\n",
    "\n",
    "    # 7. The red pick will be the champion with the highest utility for the red team at the position of the blue team's pick\n",
    "    # @constraint(model, [t=trp], RP[i,j,:] = findmax(UR)[2]) \n",
    "\n",
    "    # 8. Constraint on bans/picks for the objective function\n",
    "    @constraint(model, [t=tbb], z[t] == 1)\n",
    "    @constraint(model, [t=trb], z[t] == 1)\n",
    "    @constraint(model, [t=tbp], z[t] == 0)\n",
    "    @constraint(model, [t=trp], z[t] == 0)\n",
    "\n",
    "    for t in 1:T\n",
    "        if t in tbb\n",
    "            @constraint(model, [i=1:n, j=1:m], BB[i,j,t] <= bans[i,j])\n",
    "            @constraint(model, bans[i,j] <= pool[i,j])\n",
    "        elseif t in trb\n",
    "            @constraint(model, [i=1:n, j=1:m], RB[i,j,t] <= bans[i,j])\n",
    "            @constraint(model, bans[i,j] <= pool[i,j])\n",
    "        elseif t in tbp\n",
    "            @constraint(model, [i=1:n, j=1:m], BP[i,j,t] <= picks[i,j])\n",
    "            @constraint(model, picks[i,j] <= pool[i,j])\n",
    "        elseif t in trp\n",
    "            @constraint(model, [i=1:n, j=1:m], RP[i,j,t] <= picks[i,j])\n",
    "            @constraint(model, picks[i,j] <= pool[i,j])\n",
    "        end\n",
    "    end\n",
    "\n",
    "    # for t in 1:6\n",
    "    #     # The ban of red team will be the champion with the biggest utility in UB\n",
    "    #     RB[:,1,t] = maximum(Array(UB[UB[:,1] .== maximum(UB[:,1]),2:end]))\n",
    "\n",
    "    #     # Define specific objective for this series of events\n",
    "        @objective(model, Max, sum(sum(UB[i,j] * BB[i,j,t] for i = 1:n) for j = 1:m) + sum(sum(UB[i,j] * BP[i,j,t] for i = 1:n) for j = 1:m) + sum(sum(UR[i,j] * RB[i,j,t] for i = 1:n) for j = 1:m) + sum(sum(UR[i,j] * RP[i,j,t] for i = 1:n) for j = 1:m))\n",
    "\n",
    "    #     # Solve the model\n",
    "    #     optimize!(model)\n",
    "\n",
    "    #     # Get optimal value of UB\n",
    "    #     BU_T += objective_value(model)\n",
    "\n",
    "    #     # Update the pool\n",
    "    #     pool = pool + value.(BB[:,:,t]) + value.(BP[:,:,t]) + value.(RB[:,:,t]) + value.(RP[:,:,t])\n",
    "\n",
    "    #     # Update the bans\n",
    "    #     bans = bans + value.(BB[:,:,t]) + value.(RB[:,:,t])\n",
    "\n",
    "    #     # Update the picks  \n",
    "    #     picks = picks + value.(BP[:,:,t]) + value.(RP[:,:,t])\n",
    "\n",
    "\n",
    "end"
   ]
  },
  {
   "cell_type": "markdown",
   "metadata": {},
   "source": [
    "OTHERWISE DO TWO FUNCTIONS AND THEN A FOR LOOp WITH 20 STATEMENTS ??"
   ]
  },
  {
   "cell_type": "code",
   "execution_count": 130,
   "metadata": {},
   "outputs": [
    {
     "data": {
      "text/plain": [
       "CartesianIndex(34, 4)"
      ]
     },
     "execution_count": 130,
     "metadata": {},
     "output_type": "execute_result"
    }
   ],
   "source": [
    "findmax(UB)[2]"
   ]
  },
  {
   "cell_type": "code",
   "execution_count": 107,
   "metadata": {},
   "outputs": [
    {
     "data": {
      "text/plain": [
       "4.123105625617661"
      ]
     },
     "execution_count": 107,
     "metadata": {},
     "output_type": "execute_result"
    }
   ],
   "source": [
    "UB = Array(utility_B[:,2:end])\n",
    "\n",
    "# above as Array\n",
    "# maximum(Array(UB[UB[:,1] .== \"Zoe\",2:end]))\n",
    "maximum(UB)\n",
    "\n",
    "# index of maximum\n",
    "maximum(UB) == UB\n"
   ]
  },
  {
   "cell_type": "code",
   "execution_count": 124,
   "metadata": {},
   "outputs": [
    {
     "data": {
      "text/plain": [
       "(4.123105625617661, CartesianIndex(34, 4))"
      ]
     },
     "execution_count": 124,
     "metadata": {},
     "output_type": "execute_result"
    }
   ],
   "source": [
    "findmax(UB)"
   ]
  },
  {
   "cell_type": "code",
   "execution_count": 119,
   "metadata": {},
   "outputs": [
    {
     "data": {
      "text/plain": [
       "1×5 Matrix{Float64}:\n",
       " 3.74166  3.74166  3.16228  4.12311  3.31662"
      ]
     },
     "execution_count": 119,
     "metadata": {},
     "output_type": "execute_result"
    }
   ],
   "source": [
    "# maximum of UB for each column \n",
    "maximum(UB, dims=1)"
   ]
  },
  {
   "cell_type": "code",
   "execution_count": 108,
   "metadata": {},
   "outputs": [
    {
     "data": {
      "text/plain": [
       "62×5 Matrix{Float64}:\n",
       " 0.0      0.0      0.0      0.0      1.0\n",
       " 0.0      0.0      3.16228  0.0      0.0\n",
       " 0.0      0.0      1.0      0.0      1.41421\n",
       " 0.0      0.0      0.0      1.0      0.0\n",
       " 0.0      0.0      0.0      2.0      0.0\n",
       " 3.0      0.0      0.0      0.0      0.0\n",
       " 0.0      0.0      1.41421  0.0      0.0\n",
       " 0.0      0.0      0.0      1.0      0.0\n",
       " 0.0      0.0      1.0      0.0      0.0\n",
       " 0.0      1.73205  0.0      0.0      0.0\n",
       " 1.41421  0.0      0.0      0.0      0.0\n",
       " 1.73205  0.0      0.0      0.0      0.0\n",
       " 0.0      0.0      0.0      0.0      2.64575\n",
       " ⋮                                   \n",
       " 0.0      0.0      1.41421  0.0      0.0\n",
       " 0.0      0.0      2.82843  0.0      0.0\n",
       " 0.0      1.0      0.0      0.0      0.0\n",
       " 0.0      3.16228  0.0      0.0      0.0\n",
       " 0.0      0.0      2.44949  0.0      0.0\n",
       " 0.0      1.73205  0.0      0.0      0.0\n",
       " 0.0      2.0      0.0      0.0      0.0\n",
       " 1.73205  0.0      0.0      0.0      0.0\n",
       " 0.0      3.74166  0.0      0.0      0.0\n",
       " 0.0      0.0      0.0      1.41421  0.0\n",
       " 3.4641   0.0      0.0      0.0      0.0\n",
       " 0.0      0.0      2.23607  0.0      0.0"
      ]
     },
     "execution_count": 108,
     "metadata": {},
     "output_type": "execute_result"
    }
   ],
   "source": [
    "UB"
   ]
  },
  {
   "cell_type": "code",
   "execution_count": null,
   "metadata": {},
   "outputs": [],
   "source": [
    "# Champion with highest utility \n",
    "maximum(utility_B[:,1])\n",
    "\n",
    "# find utility of \"Zoe\"\n",
    "utility_B[utility_B[:,1] .== \"Zoe\",2:end]\n",
    "\n",
    "# above as Array\n",
    "maximum(Array(utility_B[utility_B[:,1] .== \"Zoe\",2:end]))"
   ]
  },
  {
   "cell_type": "code",
   "execution_count": 95,
   "metadata": {},
   "outputs": [
    {
     "data": {
      "text/plain": [
       "2.23606797749979"
      ]
     },
     "execution_count": 95,
     "metadata": {},
     "output_type": "execute_result"
    }
   ],
   "source": [
    "maximum(Array(utility_B[utility_B[:,1] .== maximum(utility_B[:,1]),2:end]))"
   ]
  },
  {
   "cell_type": "markdown",
   "metadata": {},
   "source": [
    "## Banning phase"
   ]
  },
  {
   "cell_type": "markdown",
   "metadata": {},
   "source": [
    "Introduce a binary variable for the different optimisations !!!"
   ]
  },
  {
   "cell_type": "code",
   "execution_count": null,
   "metadata": {},
   "outputs": [],
   "source": [
    "function stochastic(df, ban_mat, pick_mat)\n",
    "\n",
    "    # Define model\n",
    "    model = Model(Gurobi.Optimizer)\n",
    "\n",
    "    # Define the sets \n",
    "    n = size(utility_B)[1] # number of champions\n",
    "    m = size(utility_B)[2] -1 # number of positions\n",
    "    T = 1:20 # number of events\n",
    "    tbb = [1,3,5,14,16] # blue team ban events\n",
    "    trb = [2,4,6,13,15] # red team ban events\n",
    "    tbp = [7,10,11,18,19] # blue team pick events\n",
    "    trp = [8,9,12,17,20] # red team pick events\n",
    "\n",
    "    # Define the parameters\n",
    "    epsilon = 0.001 # small number\n",
    "\n",
    "    # Define the independant variables\n",
    "    UB = Array(utility_B[:,2:end]) # blue team utility\n",
    "    UR = Array(utility_R[:,2:end]) # red team utility\n",
    "    \n",
    "    global BU_T = 0 # total utility of blue team\n",
    "    global RU_T = 0 # total utility of red team\n",
    "\n",
    "    global pool = zeros(n,m) # binary matrix of champions in the pool\n",
    "    global bans = zeros(n,m) # binary matrix of champions banned to understand order of choices\n",
    "    global picks = zeros(n,m) # binary matrix of champions picked to understand order of choices\n",
    "\n",
    "    global RB ????\n",
    "    @variable(model, BB[1:n,1:m,t:T], Bin) # blue ban of champion i at position j at event t\n",
    "    # @variable(model, RB[1:n,1:m,t:T], Bin) # red ban of champion i at position j at event t --> obtained probabilistically\n",
    "    @variable(model, BP[1:n,1:m,t:T], Bin) # blue pick of champion i at position j at event t\n",
    "    # @variable(model, RP[1:n,1:m,t:T], Bin) # red pick of champion i at position j at event t --> obtained probabilistically\n",
    "\n",
    "    # Define the constraints\n",
    "    # 1. Each champion can only be picked/banned at most once\n",
    "    @constraint(model, [i=1:n], sum(sum(BB[i,j,t] + RB[i,j,t] + BP[i,jt] + RP[i,j,t] for j = 1:m ) for t=1:T) <= 1)\n",
    "\n",
    "    # 2. Each team must ban at most 5 champions\n",
    "    @constraint(model, [j=1:m], sum(sum(BB[i,j,t] for i = 1:n) for t in tbb) <= 5)\n",
    "    @constraint(model, [j=1:m], sum(sum(RB[i,j,t] for i = 1:n) for t in trb) <= 5)\n",
    "\n",
    "    # 3. Each team must pick 5 champions\n",
    "    @constraint(model, sum(sum(sum(BP[i,j,t] for i = 1:n) for j = 1:m) for t in tbp) == 5)\n",
    "    @constraint(model, sum(sum(sum(RP[i,j,t] for i = 1:n) for j = 1:m) for t in trp) == 5)\n",
    "\n",
    "    # 4. Each team must pick 1 champion per position\n",
    "    @constraint(model, [j=1:m], sum(sum(BP[i,j,t] for i = 1:n) for t in tbp)== 1)\n",
    "    @constraint(model, [j=1:m], sum(sum(RP[i,j,t] for i = 1:n) for t in trp) == 1)\n",
    "\n",
    "    # 5. The utility of a champion picked or banned must be greater than epsilon\n",
    "    @constraint(model, [i=1:n, j=1:m], UB[i,j] >= epsilon)\n",
    "    @constraint(model, [i=1:n, j=1:m], UR[i,j] >= epsilon)\n",
    "\n",
    "    # 6. The red ban will be the champion with the highest utility for the blue team \n",
    "    @constraint(model, [t=trb], RB[i,j,:] = findmax(UB)[2])\n",
    "\n",
    "    # 7. The red pick will be the champion with the highest utility for the red team at the position of the blue team's pick\n",
    "    @constraint(model, [t=trp], RP[i,j,:] = findmax(UR)[2]) \n",
    "\n",
    "    # for t in 1:6\n",
    "    #     # The ban of red team will be the champion with the biggest utility in UB\n",
    "    #     RB[:,1,t] = maximum(Array(UB[UB[:,1] .== maximum(UB[:,1]),2:end]))\n",
    "\n",
    "    #     # Define specific objective for this series of events\n",
    "    #     @objective(model, Max, sum(sum(UB[i,j] * BB[i,j,t] for i = 1:n) for j = 1:m) + sum(sum(UB[i,j] * BP[i,j,t] for i = 1:n) for j = 1:m) + sum(sum(UR[i,j] * RB[i,j,t] for i = 1:n) for j = 1:m) + sum(sum(UR[i,j] * RP[i,j,t] for i = 1:n) for j = 1:m))\n",
    "\n",
    "    #     # Solve the model\n",
    "    #     optimize!(model)\n",
    "\n",
    "    #     # Get optimal value of UB\n",
    "    #     BU_T += objective_value(model)\n",
    "\n",
    "    #     # Update the pool\n",
    "    #     pool = pool + value.(BB[:,:,t]) + value.(BP[:,:,t]) + value.(RB[:,:,t]) + value.(RP[:,:,t])\n",
    "\n",
    "    #     # Update the bans\n",
    "    #     bans = bans + value.(BB[:,:,t]) + value.(RB[:,:,t])\n",
    "\n",
    "    #     # Update the picks  \n",
    "    #     picks = picks + value.(BP[:,:,t]) + value.(RP[:,:,t])\n",
    "\n",
    "\n",
    "end"
   ]
  }
 ],
 "metadata": {
  "kernelspec": {
   "display_name": "Julia (IAI) 1.8.2",
   "language": "julia",
   "name": "julia-(iai)-1.8"
  },
  "language_info": {
   "file_extension": ".jl",
   "mimetype": "application/julia",
   "name": "julia",
   "version": "1.8.2"
  },
  "orig_nbformat": 4
 },
 "nbformat": 4,
 "nbformat_minor": 2
}
